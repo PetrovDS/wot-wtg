{
 "cells": [
  {
   "cell_type": "code",
   "execution_count": 1,
   "metadata": {},
   "outputs": [],
   "source": [
    "import pandas as pd\n"
   ]
  },
  {
   "cell_type": "code",
   "execution_count": 45,
   "metadata": {},
   "outputs": [],
   "source": [
    "tanks = pd.read_csv(\"../data/assets/tanks.csv\")\n"
   ]
  },
  {
   "cell_type": "code",
   "execution_count": 46,
   "metadata": {},
   "outputs": [
    {
     "data": {
      "text/html": [
       "<div>\n",
       "<style scoped>\n",
       "    .dataframe tbody tr th:only-of-type {\n",
       "        vertical-align: middle;\n",
       "    }\n",
       "\n",
       "    .dataframe tbody tr th {\n",
       "        vertical-align: top;\n",
       "    }\n",
       "\n",
       "    .dataframe thead th {\n",
       "        text-align: right;\n",
       "    }\n",
       "</style>\n",
       "<table border=\"1\" class=\"dataframe\">\n",
       "  <thead>\n",
       "    <tr style=\"text-align: right;\">\n",
       "      <th></th>\n",
       "      <th>wg_id</th>\n",
       "      <th>tag</th>\n",
       "      <th>lvl</th>\n",
       "      <th>type</th>\n",
       "      <th>name</th>\n",
       "      <th>short_name</th>\n",
       "      <th>damage</th>\n",
       "      <th>dpm</th>\n",
       "      <th>penetration</th>\n",
       "      <th>accuracy</th>\n",
       "      <th>aim_time</th>\n",
       "      <th>move_down_arc</th>\n",
       "      <th>speed</th>\n",
       "      <th>cp_power</th>\n",
       "      <th>hp</th>\n",
       "      <th>armor_hull</th>\n",
       "      <th>armor_turret</th>\n",
       "      <th>view_range</th>\n",
       "      <th>wr_id</th>\n",
       "      <th>nation</th>\n",
       "    </tr>\n",
       "  </thead>\n",
       "  <tbody>\n",
       "    <tr>\n",
       "      <th>0</th>\n",
       "      <td>1</td>\n",
       "      <td>R04_T-34</td>\n",
       "      <td>5</td>\n",
       "      <td>mediumTank</td>\n",
       "      <td>Т-34</td>\n",
       "      <td>Т-34</td>\n",
       "      <td>85</td>\n",
       "      <td>2217.65</td>\n",
       "      <td>112</td>\n",
       "      <td>0.34</td>\n",
       "      <td>2.3</td>\n",
       "      <td>8</td>\n",
       "      <td>56</td>\n",
       "      <td>17.40</td>\n",
       "      <td>590</td>\n",
       "      <td>45</td>\n",
       "      <td>52.0</td>\n",
       "      <td>350</td>\n",
       "      <td>467-795</td>\n",
       "      <td>1</td>\n",
       "    </tr>\n",
       "    <tr>\n",
       "      <th>1</th>\n",
       "      <td>3137</td>\n",
       "      <td>F08_AMX_50_100</td>\n",
       "      <td>8</td>\n",
       "      <td>heavyTank</td>\n",
       "      <td>AMX 50 100</td>\n",
       "      <td>AMX 50 100</td>\n",
       "      <td>240</td>\n",
       "      <td>1776.00</td>\n",
       "      <td>212</td>\n",
       "      <td>0.36</td>\n",
       "      <td>3.0</td>\n",
       "      <td>9</td>\n",
       "      <td>51</td>\n",
       "      <td>17.11</td>\n",
       "      <td>1400</td>\n",
       "      <td>90</td>\n",
       "      <td>90.0</td>\n",
       "      <td>380</td>\n",
       "      <td>378-858</td>\n",
       "      <td>5</td>\n",
       "    </tr>\n",
       "    <tr>\n",
       "      <th>2</th>\n",
       "      <td>2049</td>\n",
       "      <td>R12_A-20</td>\n",
       "      <td>5</td>\n",
       "      <td>lightTank</td>\n",
       "      <td>А-20</td>\n",
       "      <td>А-20</td>\n",
       "      <td>40</td>\n",
       "      <td>2168.80</td>\n",
       "      <td>46</td>\n",
       "      <td>0.45</td>\n",
       "      <td>2.3</td>\n",
       "      <td>7</td>\n",
       "      <td>72</td>\n",
       "      <td>28.39</td>\n",
       "      <td>560</td>\n",
       "      <td>20</td>\n",
       "      <td>37.0</td>\n",
       "      <td>360</td>\n",
       "      <td>486-1004</td>\n",
       "      <td>1</td>\n",
       "    </tr>\n",
       "    <tr>\n",
       "      <th>3</th>\n",
       "      <td>15617</td>\n",
       "      <td>R95_Object_907</td>\n",
       "      <td>10</td>\n",
       "      <td>mediumTank</td>\n",
       "      <td>Объект 907</td>\n",
       "      <td>Об. 907</td>\n",
       "      <td>320</td>\n",
       "      <td>2953.60</td>\n",
       "      <td>264</td>\n",
       "      <td>0.36</td>\n",
       "      <td>2.0</td>\n",
       "      <td>5</td>\n",
       "      <td>55</td>\n",
       "      <td>16.94</td>\n",
       "      <td>2000</td>\n",
       "      <td>110</td>\n",
       "      <td>228.0</td>\n",
       "      <td>400</td>\n",
       "      <td>669-1057</td>\n",
       "      <td>1</td>\n",
       "    </tr>\n",
       "    <tr>\n",
       "      <th>4</th>\n",
       "      <td>49169</td>\n",
       "      <td>G136_Tiger_131</td>\n",
       "      <td>6</td>\n",
       "      <td>heavyTank</td>\n",
       "      <td>Tiger 131</td>\n",
       "      <td>Tiger 131</td>\n",
       "      <td>220</td>\n",
       "      <td>1885.40</td>\n",
       "      <td>145</td>\n",
       "      <td>0.38</td>\n",
       "      <td>2.3</td>\n",
       "      <td>8</td>\n",
       "      <td>40</td>\n",
       "      <td>11.40</td>\n",
       "      <td>1060</td>\n",
       "      <td>100</td>\n",
       "      <td>100.0</td>\n",
       "      <td>370</td>\n",
       "      <td>1280</td>\n",
       "      <td>2</td>\n",
       "    </tr>\n",
       "    <tr>\n",
       "      <th>...</th>\n",
       "      <td>...</td>\n",
       "      <td>...</td>\n",
       "      <td>...</td>\n",
       "      <td>...</td>\n",
       "      <td>...</td>\n",
       "      <td>...</td>\n",
       "      <td>...</td>\n",
       "      <td>...</td>\n",
       "      <td>...</td>\n",
       "      <td>...</td>\n",
       "      <td>...</td>\n",
       "      <td>...</td>\n",
       "      <td>...</td>\n",
       "      <td>...</td>\n",
       "      <td>...</td>\n",
       "      <td>...</td>\n",
       "      <td>...</td>\n",
       "      <td>...</td>\n",
       "      <td>...</td>\n",
       "      <td>...</td>\n",
       "    </tr>\n",
       "    <tr>\n",
       "      <th>680</th>\n",
       "      <td>545</td>\n",
       "      <td>A01_T1_Cunningham</td>\n",
       "      <td>1</td>\n",
       "      <td>lightTank</td>\n",
       "      <td>T1 Cunningham</td>\n",
       "      <td>T1</td>\n",
       "      <td>30</td>\n",
       "      <td>900.00</td>\n",
       "      <td>33</td>\n",
       "      <td>0.51</td>\n",
       "      <td>2.5</td>\n",
       "      <td>7</td>\n",
       "      <td>41</td>\n",
       "      <td>17.47</td>\n",
       "      <td>245</td>\n",
       "      <td>10</td>\n",
       "      <td>10.0</td>\n",
       "      <td>280</td>\n",
       "      <td>536-1032</td>\n",
       "      <td>3</td>\n",
       "    </tr>\n",
       "    <tr>\n",
       "      <th>681</th>\n",
       "      <td>4705</td>\n",
       "      <td>J21_Type_91</td>\n",
       "      <td>3</td>\n",
       "      <td>heavyTank</td>\n",
       "      <td>Type 91 Heavy</td>\n",
       "      <td>Type 91</td>\n",
       "      <td>70</td>\n",
       "      <td>1999.90</td>\n",
       "      <td>81</td>\n",
       "      <td>0.40</td>\n",
       "      <td>2.1</td>\n",
       "      <td>12</td>\n",
       "      <td>25</td>\n",
       "      <td>12.44</td>\n",
       "      <td>445</td>\n",
       "      <td>20</td>\n",
       "      <td>20.0</td>\n",
       "      <td>330</td>\n",
       "      <td>892</td>\n",
       "      <td>7</td>\n",
       "    </tr>\n",
       "    <tr>\n",
       "      <th>682</th>\n",
       "      <td>47873</td>\n",
       "      <td>R143_T_29</td>\n",
       "      <td>3</td>\n",
       "      <td>mediumTank</td>\n",
       "      <td>Т-29</td>\n",
       "      <td>Т-29</td>\n",
       "      <td>110</td>\n",
       "      <td>1410.20</td>\n",
       "      <td>66</td>\n",
       "      <td>0.55</td>\n",
       "      <td>2.3</td>\n",
       "      <td>5</td>\n",
       "      <td>45</td>\n",
       "      <td>17.54</td>\n",
       "      <td>445</td>\n",
       "      <td>30</td>\n",
       "      <td>20.0</td>\n",
       "      <td>300</td>\n",
       "      <td>1281</td>\n",
       "      <td>1</td>\n",
       "    </tr>\n",
       "    <tr>\n",
       "      <th>683</th>\n",
       "      <td>1841</td>\n",
       "      <td>Ch18_WZ-120</td>\n",
       "      <td>9</td>\n",
       "      <td>mediumTank</td>\n",
       "      <td>WZ-120</td>\n",
       "      <td>WZ-120</td>\n",
       "      <td>440</td>\n",
       "      <td>2398.00</td>\n",
       "      <td>249</td>\n",
       "      <td>0.38</td>\n",
       "      <td>3.4</td>\n",
       "      <td>3</td>\n",
       "      <td>60</td>\n",
       "      <td>16.13</td>\n",
       "      <td>1750</td>\n",
       "      <td>100</td>\n",
       "      <td>220.0</td>\n",
       "      <td>390</td>\n",
       "      <td>617</td>\n",
       "      <td>4</td>\n",
       "    </tr>\n",
       "    <tr>\n",
       "      <th>684</th>\n",
       "      <td>5169</td>\n",
       "      <td>Ch20_Type58</td>\n",
       "      <td>6</td>\n",
       "      <td>mediumTank</td>\n",
       "      <td>Type 58</td>\n",
       "      <td>Type 58</td>\n",
       "      <td>160</td>\n",
       "      <td>1920.00</td>\n",
       "      <td>128</td>\n",
       "      <td>0.38</td>\n",
       "      <td>2.3</td>\n",
       "      <td>5</td>\n",
       "      <td>55</td>\n",
       "      <td>16.00</td>\n",
       "      <td>840</td>\n",
       "      <td>45</td>\n",
       "      <td>90.0</td>\n",
       "      <td>370</td>\n",
       "      <td>626</td>\n",
       "      <td>4</td>\n",
       "    </tr>\n",
       "  </tbody>\n",
       "</table>\n",
       "<p>685 rows × 20 columns</p>\n",
       "</div>"
      ],
      "text/plain": [
       "     wg_id                tag  lvl        type           name  short_name  \\\n",
       "0        1           R04_T-34    5  mediumTank           Т-34        Т-34   \n",
       "1     3137     F08_AMX_50_100    8   heavyTank     AMX 50 100  AMX 50 100   \n",
       "2     2049           R12_A-20    5   lightTank           А-20        А-20   \n",
       "3    15617     R95_Object_907   10  mediumTank     Объект 907     Об. 907   \n",
       "4    49169     G136_Tiger_131    6   heavyTank      Tiger 131   Tiger 131   \n",
       "..     ...                ...  ...         ...            ...         ...   \n",
       "680    545  A01_T1_Cunningham    1   lightTank  T1 Cunningham          T1   \n",
       "681   4705        J21_Type_91    3   heavyTank  Type 91 Heavy     Type 91   \n",
       "682  47873          R143_T_29    3  mediumTank           Т-29        Т-29   \n",
       "683   1841        Ch18_WZ-120    9  mediumTank         WZ-120      WZ-120   \n",
       "684   5169        Ch20_Type58    6  mediumTank        Type 58     Type 58   \n",
       "\n",
       "     damage      dpm  penetration  accuracy  aim_time  move_down_arc  speed  \\\n",
       "0        85  2217.65          112      0.34       2.3              8     56   \n",
       "1       240  1776.00          212      0.36       3.0              9     51   \n",
       "2        40  2168.80           46      0.45       2.3              7     72   \n",
       "3       320  2953.60          264      0.36       2.0              5     55   \n",
       "4       220  1885.40          145      0.38       2.3              8     40   \n",
       "..      ...      ...          ...       ...       ...            ...    ...   \n",
       "680      30   900.00           33      0.51       2.5              7     41   \n",
       "681      70  1999.90           81      0.40       2.1             12     25   \n",
       "682     110  1410.20           66      0.55       2.3              5     45   \n",
       "683     440  2398.00          249      0.38       3.4              3     60   \n",
       "684     160  1920.00          128      0.38       2.3              5     55   \n",
       "\n",
       "     cp_power    hp  armor_hull  armor_turret  view_range     wr_id  nation  \n",
       "0       17.40   590          45          52.0         350   467-795       1  \n",
       "1       17.11  1400          90          90.0         380   378-858       5  \n",
       "2       28.39   560          20          37.0         360  486-1004       1  \n",
       "3       16.94  2000         110         228.0         400  669-1057       1  \n",
       "4       11.40  1060         100         100.0         370      1280       2  \n",
       "..        ...   ...         ...           ...         ...       ...     ...  \n",
       "680     17.47   245          10          10.0         280  536-1032       3  \n",
       "681     12.44   445          20          20.0         330       892       7  \n",
       "682     17.54   445          30          20.0         300      1281       1  \n",
       "683     16.13  1750         100         220.0         390       617       4  \n",
       "684     16.00   840          45          90.0         370       626       4  \n",
       "\n",
       "[685 rows x 20 columns]"
      ]
     },
     "execution_count": 46,
     "metadata": {},
     "output_type": "execute_result"
    }
   ],
   "source": [
    "tanks"
   ]
  },
  {
   "cell_type": "code",
   "execution_count": 47,
   "metadata": {},
   "outputs": [
    {
     "data": {
      "text/html": [
       "<div>\n",
       "<style scoped>\n",
       "    .dataframe tbody tr th:only-of-type {\n",
       "        vertical-align: middle;\n",
       "    }\n",
       "\n",
       "    .dataframe tbody tr th {\n",
       "        vertical-align: top;\n",
       "    }\n",
       "\n",
       "    .dataframe thead th {\n",
       "        text-align: right;\n",
       "    }\n",
       "</style>\n",
       "<table border=\"1\" class=\"dataframe\">\n",
       "  <thead>\n",
       "    <tr style=\"text-align: right;\">\n",
       "      <th></th>\n",
       "      <th>wg_id</th>\n",
       "      <th>tag</th>\n",
       "      <th>lvl</th>\n",
       "      <th>type</th>\n",
       "      <th>name</th>\n",
       "      <th>short_name</th>\n",
       "      <th>damage</th>\n",
       "      <th>dpm</th>\n",
       "      <th>penetration</th>\n",
       "      <th>accuracy</th>\n",
       "      <th>...</th>\n",
       "      <th>move_down_arc</th>\n",
       "      <th>speed</th>\n",
       "      <th>cp_power</th>\n",
       "      <th>hp</th>\n",
       "      <th>armor_hull</th>\n",
       "      <th>armor_turret</th>\n",
       "      <th>view_range</th>\n",
       "      <th>wr_id</th>\n",
       "      <th>nation</th>\n",
       "      <th>type_le</th>\n",
       "    </tr>\n",
       "  </thead>\n",
       "  <tbody>\n",
       "    <tr>\n",
       "      <th>0</th>\n",
       "      <td>1</td>\n",
       "      <td>R04_T-34</td>\n",
       "      <td>5</td>\n",
       "      <td>mediumTank</td>\n",
       "      <td>Т-34</td>\n",
       "      <td>Т-34</td>\n",
       "      <td>85</td>\n",
       "      <td>2217.65</td>\n",
       "      <td>112</td>\n",
       "      <td>0.34</td>\n",
       "      <td>...</td>\n",
       "      <td>8</td>\n",
       "      <td>56</td>\n",
       "      <td>17.40</td>\n",
       "      <td>590</td>\n",
       "      <td>45</td>\n",
       "      <td>52.0</td>\n",
       "      <td>350</td>\n",
       "      <td>467-795</td>\n",
       "      <td>1</td>\n",
       "      <td>4</td>\n",
       "    </tr>\n",
       "    <tr>\n",
       "      <th>1</th>\n",
       "      <td>3137</td>\n",
       "      <td>F08_AMX_50_100</td>\n",
       "      <td>8</td>\n",
       "      <td>heavyTank</td>\n",
       "      <td>AMX 50 100</td>\n",
       "      <td>AMX 50 100</td>\n",
       "      <td>240</td>\n",
       "      <td>1776.00</td>\n",
       "      <td>212</td>\n",
       "      <td>0.36</td>\n",
       "      <td>...</td>\n",
       "      <td>9</td>\n",
       "      <td>51</td>\n",
       "      <td>17.11</td>\n",
       "      <td>1400</td>\n",
       "      <td>90</td>\n",
       "      <td>90.0</td>\n",
       "      <td>380</td>\n",
       "      <td>378-858</td>\n",
       "      <td>5</td>\n",
       "      <td>2</td>\n",
       "    </tr>\n",
       "    <tr>\n",
       "      <th>2</th>\n",
       "      <td>2049</td>\n",
       "      <td>R12_A-20</td>\n",
       "      <td>5</td>\n",
       "      <td>lightTank</td>\n",
       "      <td>А-20</td>\n",
       "      <td>А-20</td>\n",
       "      <td>40</td>\n",
       "      <td>2168.80</td>\n",
       "      <td>46</td>\n",
       "      <td>0.45</td>\n",
       "      <td>...</td>\n",
       "      <td>7</td>\n",
       "      <td>72</td>\n",
       "      <td>28.39</td>\n",
       "      <td>560</td>\n",
       "      <td>20</td>\n",
       "      <td>37.0</td>\n",
       "      <td>360</td>\n",
       "      <td>486-1004</td>\n",
       "      <td>1</td>\n",
       "      <td>3</td>\n",
       "    </tr>\n",
       "    <tr>\n",
       "      <th>3</th>\n",
       "      <td>15617</td>\n",
       "      <td>R95_Object_907</td>\n",
       "      <td>10</td>\n",
       "      <td>mediumTank</td>\n",
       "      <td>Объект 907</td>\n",
       "      <td>Об. 907</td>\n",
       "      <td>320</td>\n",
       "      <td>2953.60</td>\n",
       "      <td>264</td>\n",
       "      <td>0.36</td>\n",
       "      <td>...</td>\n",
       "      <td>5</td>\n",
       "      <td>55</td>\n",
       "      <td>16.94</td>\n",
       "      <td>2000</td>\n",
       "      <td>110</td>\n",
       "      <td>228.0</td>\n",
       "      <td>400</td>\n",
       "      <td>669-1057</td>\n",
       "      <td>1</td>\n",
       "      <td>4</td>\n",
       "    </tr>\n",
       "    <tr>\n",
       "      <th>4</th>\n",
       "      <td>49169</td>\n",
       "      <td>G136_Tiger_131</td>\n",
       "      <td>6</td>\n",
       "      <td>heavyTank</td>\n",
       "      <td>Tiger 131</td>\n",
       "      <td>Tiger 131</td>\n",
       "      <td>220</td>\n",
       "      <td>1885.40</td>\n",
       "      <td>145</td>\n",
       "      <td>0.38</td>\n",
       "      <td>...</td>\n",
       "      <td>8</td>\n",
       "      <td>40</td>\n",
       "      <td>11.40</td>\n",
       "      <td>1060</td>\n",
       "      <td>100</td>\n",
       "      <td>100.0</td>\n",
       "      <td>370</td>\n",
       "      <td>1280</td>\n",
       "      <td>2</td>\n",
       "      <td>2</td>\n",
       "    </tr>\n",
       "    <tr>\n",
       "      <th>...</th>\n",
       "      <td>...</td>\n",
       "      <td>...</td>\n",
       "      <td>...</td>\n",
       "      <td>...</td>\n",
       "      <td>...</td>\n",
       "      <td>...</td>\n",
       "      <td>...</td>\n",
       "      <td>...</td>\n",
       "      <td>...</td>\n",
       "      <td>...</td>\n",
       "      <td>...</td>\n",
       "      <td>...</td>\n",
       "      <td>...</td>\n",
       "      <td>...</td>\n",
       "      <td>...</td>\n",
       "      <td>...</td>\n",
       "      <td>...</td>\n",
       "      <td>...</td>\n",
       "      <td>...</td>\n",
       "      <td>...</td>\n",
       "      <td>...</td>\n",
       "    </tr>\n",
       "    <tr>\n",
       "      <th>680</th>\n",
       "      <td>545</td>\n",
       "      <td>A01_T1_Cunningham</td>\n",
       "      <td>1</td>\n",
       "      <td>lightTank</td>\n",
       "      <td>T1 Cunningham</td>\n",
       "      <td>T1</td>\n",
       "      <td>30</td>\n",
       "      <td>900.00</td>\n",
       "      <td>33</td>\n",
       "      <td>0.51</td>\n",
       "      <td>...</td>\n",
       "      <td>7</td>\n",
       "      <td>41</td>\n",
       "      <td>17.47</td>\n",
       "      <td>245</td>\n",
       "      <td>10</td>\n",
       "      <td>10.0</td>\n",
       "      <td>280</td>\n",
       "      <td>536-1032</td>\n",
       "      <td>3</td>\n",
       "      <td>3</td>\n",
       "    </tr>\n",
       "    <tr>\n",
       "      <th>681</th>\n",
       "      <td>4705</td>\n",
       "      <td>J21_Type_91</td>\n",
       "      <td>3</td>\n",
       "      <td>heavyTank</td>\n",
       "      <td>Type 91 Heavy</td>\n",
       "      <td>Type 91</td>\n",
       "      <td>70</td>\n",
       "      <td>1999.90</td>\n",
       "      <td>81</td>\n",
       "      <td>0.40</td>\n",
       "      <td>...</td>\n",
       "      <td>12</td>\n",
       "      <td>25</td>\n",
       "      <td>12.44</td>\n",
       "      <td>445</td>\n",
       "      <td>20</td>\n",
       "      <td>20.0</td>\n",
       "      <td>330</td>\n",
       "      <td>892</td>\n",
       "      <td>7</td>\n",
       "      <td>2</td>\n",
       "    </tr>\n",
       "    <tr>\n",
       "      <th>682</th>\n",
       "      <td>47873</td>\n",
       "      <td>R143_T_29</td>\n",
       "      <td>3</td>\n",
       "      <td>mediumTank</td>\n",
       "      <td>Т-29</td>\n",
       "      <td>Т-29</td>\n",
       "      <td>110</td>\n",
       "      <td>1410.20</td>\n",
       "      <td>66</td>\n",
       "      <td>0.55</td>\n",
       "      <td>...</td>\n",
       "      <td>5</td>\n",
       "      <td>45</td>\n",
       "      <td>17.54</td>\n",
       "      <td>445</td>\n",
       "      <td>30</td>\n",
       "      <td>20.0</td>\n",
       "      <td>300</td>\n",
       "      <td>1281</td>\n",
       "      <td>1</td>\n",
       "      <td>4</td>\n",
       "    </tr>\n",
       "    <tr>\n",
       "      <th>683</th>\n",
       "      <td>1841</td>\n",
       "      <td>Ch18_WZ-120</td>\n",
       "      <td>9</td>\n",
       "      <td>mediumTank</td>\n",
       "      <td>WZ-120</td>\n",
       "      <td>WZ-120</td>\n",
       "      <td>440</td>\n",
       "      <td>2398.00</td>\n",
       "      <td>249</td>\n",
       "      <td>0.38</td>\n",
       "      <td>...</td>\n",
       "      <td>3</td>\n",
       "      <td>60</td>\n",
       "      <td>16.13</td>\n",
       "      <td>1750</td>\n",
       "      <td>100</td>\n",
       "      <td>220.0</td>\n",
       "      <td>390</td>\n",
       "      <td>617</td>\n",
       "      <td>4</td>\n",
       "      <td>4</td>\n",
       "    </tr>\n",
       "    <tr>\n",
       "      <th>684</th>\n",
       "      <td>5169</td>\n",
       "      <td>Ch20_Type58</td>\n",
       "      <td>6</td>\n",
       "      <td>mediumTank</td>\n",
       "      <td>Type 58</td>\n",
       "      <td>Type 58</td>\n",
       "      <td>160</td>\n",
       "      <td>1920.00</td>\n",
       "      <td>128</td>\n",
       "      <td>0.38</td>\n",
       "      <td>...</td>\n",
       "      <td>5</td>\n",
       "      <td>55</td>\n",
       "      <td>16.00</td>\n",
       "      <td>840</td>\n",
       "      <td>45</td>\n",
       "      <td>90.0</td>\n",
       "      <td>370</td>\n",
       "      <td>626</td>\n",
       "      <td>4</td>\n",
       "      <td>4</td>\n",
       "    </tr>\n",
       "  </tbody>\n",
       "</table>\n",
       "<p>685 rows × 21 columns</p>\n",
       "</div>"
      ],
      "text/plain": [
       "     wg_id                tag  lvl        type           name  short_name  \\\n",
       "0        1           R04_T-34    5  mediumTank           Т-34        Т-34   \n",
       "1     3137     F08_AMX_50_100    8   heavyTank     AMX 50 100  AMX 50 100   \n",
       "2     2049           R12_A-20    5   lightTank           А-20        А-20   \n",
       "3    15617     R95_Object_907   10  mediumTank     Объект 907     Об. 907   \n",
       "4    49169     G136_Tiger_131    6   heavyTank      Tiger 131   Tiger 131   \n",
       "..     ...                ...  ...         ...            ...         ...   \n",
       "680    545  A01_T1_Cunningham    1   lightTank  T1 Cunningham          T1   \n",
       "681   4705        J21_Type_91    3   heavyTank  Type 91 Heavy     Type 91   \n",
       "682  47873          R143_T_29    3  mediumTank           Т-29        Т-29   \n",
       "683   1841        Ch18_WZ-120    9  mediumTank         WZ-120      WZ-120   \n",
       "684   5169        Ch20_Type58    6  mediumTank        Type 58     Type 58   \n",
       "\n",
       "     damage      dpm  penetration  accuracy  ...  move_down_arc  speed  \\\n",
       "0        85  2217.65          112      0.34  ...              8     56   \n",
       "1       240  1776.00          212      0.36  ...              9     51   \n",
       "2        40  2168.80           46      0.45  ...              7     72   \n",
       "3       320  2953.60          264      0.36  ...              5     55   \n",
       "4       220  1885.40          145      0.38  ...              8     40   \n",
       "..      ...      ...          ...       ...  ...            ...    ...   \n",
       "680      30   900.00           33      0.51  ...              7     41   \n",
       "681      70  1999.90           81      0.40  ...             12     25   \n",
       "682     110  1410.20           66      0.55  ...              5     45   \n",
       "683     440  2398.00          249      0.38  ...              3     60   \n",
       "684     160  1920.00          128      0.38  ...              5     55   \n",
       "\n",
       "     cp_power    hp  armor_hull  armor_turret  view_range     wr_id nation  \\\n",
       "0       17.40   590          45          52.0         350   467-795      1   \n",
       "1       17.11  1400          90          90.0         380   378-858      5   \n",
       "2       28.39   560          20          37.0         360  486-1004      1   \n",
       "3       16.94  2000         110         228.0         400  669-1057      1   \n",
       "4       11.40  1060         100         100.0         370      1280      2   \n",
       "..        ...   ...         ...           ...         ...       ...    ...   \n",
       "680     17.47   245          10          10.0         280  536-1032      3   \n",
       "681     12.44   445          20          20.0         330       892      7   \n",
       "682     17.54   445          30          20.0         300      1281      1   \n",
       "683     16.13  1750         100         220.0         390       617      4   \n",
       "684     16.00   840          45          90.0         370       626      4   \n",
       "\n",
       "     type_le  \n",
       "0          4  \n",
       "1          2  \n",
       "2          3  \n",
       "3          4  \n",
       "4          2  \n",
       "..       ...  \n",
       "680        3  \n",
       "681        2  \n",
       "682        4  \n",
       "683        4  \n",
       "684        4  \n",
       "\n",
       "[685 rows x 21 columns]"
      ]
     },
     "execution_count": 47,
     "metadata": {},
     "output_type": "execute_result"
    }
   ],
   "source": [
    "# Label encoding \"type\" column\n",
    "from sklearn import preprocessing\n",
    "le = preprocessing.LabelEncoder()\n",
    "le.fit(tanks.type.unique())\n",
    "tanks[\"type_le\"] = le.transform(tanks.type)\n",
    "tanks\n"
   ]
  },
  {
   "cell_type": "code",
   "execution_count": 55,
   "metadata": {},
   "outputs": [],
   "source": [
    "# If tank has no turret set hull armor as turret armor\n",
    "tanks.armor_turret = tanks.armor_turret.fillna(tanks.armor_hull)\n",
    "tanks = tanks.convert_dtypes()\n",
    "tanks_copy = tanks.copy()\n",
    "tanks = tanks[tanks.type != \"SPG\"]\n"
   ]
  },
  {
   "cell_type": "code",
   "execution_count": 57,
   "metadata": {},
   "outputs": [],
   "source": [
    "# Clustering function\n",
    "from sklearn.preprocessing import StandardScaler\n",
    "from sklearn.cluster import KMeans\n",
    "from sklearn.cluster import OPTICS\n",
    "from sklearn.mixture import GaussianMixture\n",
    "\n",
    "def cluster(df, n, lvl=None):\n",
    "    if lvl is None:\n",
    "        filter_ = [True] * len(tanks)\n",
    "    else:\n",
    "        filter_ = df.lvl == lvl\n",
    "#     model = KMeans(n_clusters=n, random_state=42)\n",
    "    model = GaussianMixture(n_components=n, random_state=42)\n",
    "#     model = OPTICS(min_samples=n, eps=0.5)\n",
    "    y_pred = model.fit_predict(\n",
    "        StandardScaler().fit_transform(\n",
    "            df[filter_].drop(\n",
    "                [\"wg_id\", \"wr_id\", \"tag\", \"name\", \"short_name\", \"type\"], axis=1)\n",
    "        )\n",
    "    )\n",
    "    return pd.Series(data=[i if lvl is None else f\"l{lvl}_{i}\" for i in y_pred], index=df[filter_].tag)\\\n",
    "        .reset_index().rename(columns={0:\"cluster\"})\n"
   ]
  },
  {
   "cell_type": "code",
   "execution_count": 109,
   "metadata": {},
   "outputs": [],
   "source": [
    "# pip install cmake==3.18.4\n",
    "# pip install MulticoreTSNE\n",
    "from MulticoreTSNE import MulticoreTSNE as TSNE\n",
    "import plotly.express as px\n",
    "\n",
    "def plot_clusters(df, n, lvl=None):\n",
    "    pred = cluster(df, n, lvl).cluster\n",
    "    if lvl is None:\n",
    "        filter_ = [True] * len(tanks)\n",
    "    else:\n",
    "        filter_ = df.lvl == lvl\n",
    "\n",
    "    vects = StandardScaler().fit_transform(\n",
    "        df[filter_].drop(\n",
    "            [\"wg_id\", \"wr_id\", \"tag\", \"name\", \"short_name\", \"type\"], axis=1)\n",
    "    )\n",
    "    tsne = TSNE(n_jobs=8, verbose=50, metric='cosine')\n",
    "    vects_tsne = tsne.fit_transform(vects)\n",
    "\n",
    "    fig = px.scatter(\n",
    "        x=vects_tsne[:, 0],\n",
    "        y=vects_tsne[:, 1],\n",
    "        color=list(pred),\n",
    "        hover_data={\n",
    "            \"Танк\":list(df[filter_].name), \n",
    "            \"Тег\":list(df[filter_].tag), \n",
    "            \"Уровень\": list(df[filter_].lvl),\n",
    "            \"Тип\": list(df[filter_].type)\n",
    "        }\n",
    "    )\n",
    "    fig.show()\n"
   ]
  },
  {
   "cell_type": "markdown",
   "metadata": {},
   "source": [
    "## Half auto clustering"
   ]
  },
  {
   "cell_type": "code",
   "execution_count": 69,
   "metadata": {},
   "outputs": [],
   "source": [
    "tanks_clusters = []"
   ]
  },
  {
   "cell_type": "markdown",
   "metadata": {},
   "source": [
    "### Level 1"
   ]
  },
  {
   "cell_type": "code",
   "execution_count": 62,
   "metadata": {},
   "outputs": [
    {
     "data": {
      "application/vnd.plotly.v1+json": {
       "config": {
        "plotlyServerURL": "https://plot.ly"
       },
       "data": [
        {
         "customdata": [
          [
           "Strv fm/21",
           1,
           "lightTank"
          ],
          [
           "Fiat 3000",
           1,
           "lightTank"
          ],
          [
           "Vickers Medium Mk. I",
           1,
           "mediumTank"
          ],
          [
           "Cruiser Mk. I",
           1,
           "lightTank"
          ],
          [
           "Kolohousenka",
           1,
           "lightTank"
          ]
         ],
         "hovertemplate": "color=l1_0<br>x=%{x}<br>y=%{y}<br>Танк=%{customdata[0]}<br>Уровень=%{customdata[1]}<br>Тип=%{customdata[2]}<extra></extra>",
         "legendgroup": "l1_0",
         "marker": {
          "color": "#636efa",
          "symbol": "circle"
         },
         "mode": "markers",
         "name": "l1_0",
         "orientation": "v",
         "showlegend": true,
         "type": "scatter",
         "x": [
          -12.117757659329481,
          -6.049257061927129,
          -26.3856140678575,
          -3.351246509102325,
          2.163468208419706
         ],
         "xaxis": "x",
         "y": [
          -15.64140408331112,
          -6.048262959780391,
          -11.864723469162946,
          28.397423106417367,
          -11.107743658159134
         ],
         "yaxis": "y"
        },
        {
         "customdata": [
          [
           "Renault Otsu",
           1,
           "lightTank"
          ],
          [
           "Leichttraktor",
           1,
           "lightTank"
          ],
          [
           "Renault FT",
           1,
           "lightTank"
          ],
          [
           "4TP",
           1,
           "lightTank"
          ],
          [
           "Renault NC-31",
           1,
           "lightTank"
          ],
          [
           "МС-1",
           1,
           "lightTank"
          ],
          [
           "T1 Cunningham",
           1,
           "lightTank"
          ]
         ],
         "hovertemplate": "color=l1_1<br>x=%{x}<br>y=%{y}<br>Танк=%{customdata[0]}<br>Уровень=%{customdata[1]}<br>Тип=%{customdata[2]}<extra></extra>",
         "legendgroup": "l1_1",
         "marker": {
          "color": "#EF553B",
          "symbol": "circle"
         },
         "mode": "markers",
         "name": "l1_1",
         "orientation": "v",
         "showlegend": true,
         "type": "scatter",
         "x": [
          42.083737324519056,
          -15.464365192936869,
          32.70073791301554,
          -22.352248645304666,
          11.242842910012993,
          10.125534365330035,
          -12.595831584839367
         ],
         "xaxis": "x",
         "y": [
          -7.120948330962117,
          -31.31905469814549,
          -4.881180058608996,
          21.37633142804006,
          -0.34415108310323694,
          12.278548869197394,
          26.275164937578612
         ],
         "yaxis": "y"
        }
       ],
       "layout": {
        "legend": {
         "title": {
          "text": "color"
         },
         "tracegroupgap": 0
        },
        "margin": {
         "t": 60
        },
        "template": {
         "data": {
          "bar": [
           {
            "error_x": {
             "color": "#2a3f5f"
            },
            "error_y": {
             "color": "#2a3f5f"
            },
            "marker": {
             "line": {
              "color": "#E5ECF6",
              "width": 0.5
             }
            },
            "type": "bar"
           }
          ],
          "barpolar": [
           {
            "marker": {
             "line": {
              "color": "#E5ECF6",
              "width": 0.5
             }
            },
            "type": "barpolar"
           }
          ],
          "carpet": [
           {
            "aaxis": {
             "endlinecolor": "#2a3f5f",
             "gridcolor": "white",
             "linecolor": "white",
             "minorgridcolor": "white",
             "startlinecolor": "#2a3f5f"
            },
            "baxis": {
             "endlinecolor": "#2a3f5f",
             "gridcolor": "white",
             "linecolor": "white",
             "minorgridcolor": "white",
             "startlinecolor": "#2a3f5f"
            },
            "type": "carpet"
           }
          ],
          "choropleth": [
           {
            "colorbar": {
             "outlinewidth": 0,
             "ticks": ""
            },
            "type": "choropleth"
           }
          ],
          "contour": [
           {
            "colorbar": {
             "outlinewidth": 0,
             "ticks": ""
            },
            "colorscale": [
             [
              0,
              "#0d0887"
             ],
             [
              0.1111111111111111,
              "#46039f"
             ],
             [
              0.2222222222222222,
              "#7201a8"
             ],
             [
              0.3333333333333333,
              "#9c179e"
             ],
             [
              0.4444444444444444,
              "#bd3786"
             ],
             [
              0.5555555555555556,
              "#d8576b"
             ],
             [
              0.6666666666666666,
              "#ed7953"
             ],
             [
              0.7777777777777778,
              "#fb9f3a"
             ],
             [
              0.8888888888888888,
              "#fdca26"
             ],
             [
              1,
              "#f0f921"
             ]
            ],
            "type": "contour"
           }
          ],
          "contourcarpet": [
           {
            "colorbar": {
             "outlinewidth": 0,
             "ticks": ""
            },
            "type": "contourcarpet"
           }
          ],
          "heatmap": [
           {
            "colorbar": {
             "outlinewidth": 0,
             "ticks": ""
            },
            "colorscale": [
             [
              0,
              "#0d0887"
             ],
             [
              0.1111111111111111,
              "#46039f"
             ],
             [
              0.2222222222222222,
              "#7201a8"
             ],
             [
              0.3333333333333333,
              "#9c179e"
             ],
             [
              0.4444444444444444,
              "#bd3786"
             ],
             [
              0.5555555555555556,
              "#d8576b"
             ],
             [
              0.6666666666666666,
              "#ed7953"
             ],
             [
              0.7777777777777778,
              "#fb9f3a"
             ],
             [
              0.8888888888888888,
              "#fdca26"
             ],
             [
              1,
              "#f0f921"
             ]
            ],
            "type": "heatmap"
           }
          ],
          "heatmapgl": [
           {
            "colorbar": {
             "outlinewidth": 0,
             "ticks": ""
            },
            "colorscale": [
             [
              0,
              "#0d0887"
             ],
             [
              0.1111111111111111,
              "#46039f"
             ],
             [
              0.2222222222222222,
              "#7201a8"
             ],
             [
              0.3333333333333333,
              "#9c179e"
             ],
             [
              0.4444444444444444,
              "#bd3786"
             ],
             [
              0.5555555555555556,
              "#d8576b"
             ],
             [
              0.6666666666666666,
              "#ed7953"
             ],
             [
              0.7777777777777778,
              "#fb9f3a"
             ],
             [
              0.8888888888888888,
              "#fdca26"
             ],
             [
              1,
              "#f0f921"
             ]
            ],
            "type": "heatmapgl"
           }
          ],
          "histogram": [
           {
            "marker": {
             "colorbar": {
              "outlinewidth": 0,
              "ticks": ""
             }
            },
            "type": "histogram"
           }
          ],
          "histogram2d": [
           {
            "colorbar": {
             "outlinewidth": 0,
             "ticks": ""
            },
            "colorscale": [
             [
              0,
              "#0d0887"
             ],
             [
              0.1111111111111111,
              "#46039f"
             ],
             [
              0.2222222222222222,
              "#7201a8"
             ],
             [
              0.3333333333333333,
              "#9c179e"
             ],
             [
              0.4444444444444444,
              "#bd3786"
             ],
             [
              0.5555555555555556,
              "#d8576b"
             ],
             [
              0.6666666666666666,
              "#ed7953"
             ],
             [
              0.7777777777777778,
              "#fb9f3a"
             ],
             [
              0.8888888888888888,
              "#fdca26"
             ],
             [
              1,
              "#f0f921"
             ]
            ],
            "type": "histogram2d"
           }
          ],
          "histogram2dcontour": [
           {
            "colorbar": {
             "outlinewidth": 0,
             "ticks": ""
            },
            "colorscale": [
             [
              0,
              "#0d0887"
             ],
             [
              0.1111111111111111,
              "#46039f"
             ],
             [
              0.2222222222222222,
              "#7201a8"
             ],
             [
              0.3333333333333333,
              "#9c179e"
             ],
             [
              0.4444444444444444,
              "#bd3786"
             ],
             [
              0.5555555555555556,
              "#d8576b"
             ],
             [
              0.6666666666666666,
              "#ed7953"
             ],
             [
              0.7777777777777778,
              "#fb9f3a"
             ],
             [
              0.8888888888888888,
              "#fdca26"
             ],
             [
              1,
              "#f0f921"
             ]
            ],
            "type": "histogram2dcontour"
           }
          ],
          "mesh3d": [
           {
            "colorbar": {
             "outlinewidth": 0,
             "ticks": ""
            },
            "type": "mesh3d"
           }
          ],
          "parcoords": [
           {
            "line": {
             "colorbar": {
              "outlinewidth": 0,
              "ticks": ""
             }
            },
            "type": "parcoords"
           }
          ],
          "pie": [
           {
            "automargin": true,
            "type": "pie"
           }
          ],
          "scatter": [
           {
            "marker": {
             "colorbar": {
              "outlinewidth": 0,
              "ticks": ""
             }
            },
            "type": "scatter"
           }
          ],
          "scatter3d": [
           {
            "line": {
             "colorbar": {
              "outlinewidth": 0,
              "ticks": ""
             }
            },
            "marker": {
             "colorbar": {
              "outlinewidth": 0,
              "ticks": ""
             }
            },
            "type": "scatter3d"
           }
          ],
          "scattercarpet": [
           {
            "marker": {
             "colorbar": {
              "outlinewidth": 0,
              "ticks": ""
             }
            },
            "type": "scattercarpet"
           }
          ],
          "scattergeo": [
           {
            "marker": {
             "colorbar": {
              "outlinewidth": 0,
              "ticks": ""
             }
            },
            "type": "scattergeo"
           }
          ],
          "scattergl": [
           {
            "marker": {
             "colorbar": {
              "outlinewidth": 0,
              "ticks": ""
             }
            },
            "type": "scattergl"
           }
          ],
          "scattermapbox": [
           {
            "marker": {
             "colorbar": {
              "outlinewidth": 0,
              "ticks": ""
             }
            },
            "type": "scattermapbox"
           }
          ],
          "scatterpolar": [
           {
            "marker": {
             "colorbar": {
              "outlinewidth": 0,
              "ticks": ""
             }
            },
            "type": "scatterpolar"
           }
          ],
          "scatterpolargl": [
           {
            "marker": {
             "colorbar": {
              "outlinewidth": 0,
              "ticks": ""
             }
            },
            "type": "scatterpolargl"
           }
          ],
          "scatterternary": [
           {
            "marker": {
             "colorbar": {
              "outlinewidth": 0,
              "ticks": ""
             }
            },
            "type": "scatterternary"
           }
          ],
          "surface": [
           {
            "colorbar": {
             "outlinewidth": 0,
             "ticks": ""
            },
            "colorscale": [
             [
              0,
              "#0d0887"
             ],
             [
              0.1111111111111111,
              "#46039f"
             ],
             [
              0.2222222222222222,
              "#7201a8"
             ],
             [
              0.3333333333333333,
              "#9c179e"
             ],
             [
              0.4444444444444444,
              "#bd3786"
             ],
             [
              0.5555555555555556,
              "#d8576b"
             ],
             [
              0.6666666666666666,
              "#ed7953"
             ],
             [
              0.7777777777777778,
              "#fb9f3a"
             ],
             [
              0.8888888888888888,
              "#fdca26"
             ],
             [
              1,
              "#f0f921"
             ]
            ],
            "type": "surface"
           }
          ],
          "table": [
           {
            "cells": {
             "fill": {
              "color": "#EBF0F8"
             },
             "line": {
              "color": "white"
             }
            },
            "header": {
             "fill": {
              "color": "#C8D4E3"
             },
             "line": {
              "color": "white"
             }
            },
            "type": "table"
           }
          ]
         },
         "layout": {
          "annotationdefaults": {
           "arrowcolor": "#2a3f5f",
           "arrowhead": 0,
           "arrowwidth": 1
          },
          "coloraxis": {
           "colorbar": {
            "outlinewidth": 0,
            "ticks": ""
           }
          },
          "colorscale": {
           "diverging": [
            [
             0,
             "#8e0152"
            ],
            [
             0.1,
             "#c51b7d"
            ],
            [
             0.2,
             "#de77ae"
            ],
            [
             0.3,
             "#f1b6da"
            ],
            [
             0.4,
             "#fde0ef"
            ],
            [
             0.5,
             "#f7f7f7"
            ],
            [
             0.6,
             "#e6f5d0"
            ],
            [
             0.7,
             "#b8e186"
            ],
            [
             0.8,
             "#7fbc41"
            ],
            [
             0.9,
             "#4d9221"
            ],
            [
             1,
             "#276419"
            ]
           ],
           "sequential": [
            [
             0,
             "#0d0887"
            ],
            [
             0.1111111111111111,
             "#46039f"
            ],
            [
             0.2222222222222222,
             "#7201a8"
            ],
            [
             0.3333333333333333,
             "#9c179e"
            ],
            [
             0.4444444444444444,
             "#bd3786"
            ],
            [
             0.5555555555555556,
             "#d8576b"
            ],
            [
             0.6666666666666666,
             "#ed7953"
            ],
            [
             0.7777777777777778,
             "#fb9f3a"
            ],
            [
             0.8888888888888888,
             "#fdca26"
            ],
            [
             1,
             "#f0f921"
            ]
           ],
           "sequentialminus": [
            [
             0,
             "#0d0887"
            ],
            [
             0.1111111111111111,
             "#46039f"
            ],
            [
             0.2222222222222222,
             "#7201a8"
            ],
            [
             0.3333333333333333,
             "#9c179e"
            ],
            [
             0.4444444444444444,
             "#bd3786"
            ],
            [
             0.5555555555555556,
             "#d8576b"
            ],
            [
             0.6666666666666666,
             "#ed7953"
            ],
            [
             0.7777777777777778,
             "#fb9f3a"
            ],
            [
             0.8888888888888888,
             "#fdca26"
            ],
            [
             1,
             "#f0f921"
            ]
           ]
          },
          "colorway": [
           "#636efa",
           "#EF553B",
           "#00cc96",
           "#ab63fa",
           "#FFA15A",
           "#19d3f3",
           "#FF6692",
           "#B6E880",
           "#FF97FF",
           "#FECB52"
          ],
          "font": {
           "color": "#2a3f5f"
          },
          "geo": {
           "bgcolor": "white",
           "lakecolor": "white",
           "landcolor": "#E5ECF6",
           "showlakes": true,
           "showland": true,
           "subunitcolor": "white"
          },
          "hoverlabel": {
           "align": "left"
          },
          "hovermode": "closest",
          "mapbox": {
           "style": "light"
          },
          "paper_bgcolor": "white",
          "plot_bgcolor": "#E5ECF6",
          "polar": {
           "angularaxis": {
            "gridcolor": "white",
            "linecolor": "white",
            "ticks": ""
           },
           "bgcolor": "#E5ECF6",
           "radialaxis": {
            "gridcolor": "white",
            "linecolor": "white",
            "ticks": ""
           }
          },
          "scene": {
           "xaxis": {
            "backgroundcolor": "#E5ECF6",
            "gridcolor": "white",
            "gridwidth": 2,
            "linecolor": "white",
            "showbackground": true,
            "ticks": "",
            "zerolinecolor": "white"
           },
           "yaxis": {
            "backgroundcolor": "#E5ECF6",
            "gridcolor": "white",
            "gridwidth": 2,
            "linecolor": "white",
            "showbackground": true,
            "ticks": "",
            "zerolinecolor": "white"
           },
           "zaxis": {
            "backgroundcolor": "#E5ECF6",
            "gridcolor": "white",
            "gridwidth": 2,
            "linecolor": "white",
            "showbackground": true,
            "ticks": "",
            "zerolinecolor": "white"
           }
          },
          "shapedefaults": {
           "line": {
            "color": "#2a3f5f"
           }
          },
          "ternary": {
           "aaxis": {
            "gridcolor": "white",
            "linecolor": "white",
            "ticks": ""
           },
           "baxis": {
            "gridcolor": "white",
            "linecolor": "white",
            "ticks": ""
           },
           "bgcolor": "#E5ECF6",
           "caxis": {
            "gridcolor": "white",
            "linecolor": "white",
            "ticks": ""
           }
          },
          "title": {
           "x": 0.05
          },
          "xaxis": {
           "automargin": true,
           "gridcolor": "white",
           "linecolor": "white",
           "ticks": "",
           "title": {
            "standoff": 15
           },
           "zerolinecolor": "white",
           "zerolinewidth": 2
          },
          "yaxis": {
           "automargin": true,
           "gridcolor": "white",
           "linecolor": "white",
           "ticks": "",
           "title": {
            "standoff": 15
           },
           "zerolinecolor": "white",
           "zerolinewidth": 2
          }
         }
        },
        "xaxis": {
         "anchor": "y",
         "domain": [
          0,
          1
         ],
         "title": {
          "text": "x"
         }
        },
        "yaxis": {
         "anchor": "x",
         "domain": [
          0,
          1
         ],
         "title": {
          "text": "y"
         }
        }
       }
      },
      "text/html": [
       "<div>\n",
       "        \n",
       "        \n",
       "            <div id=\"8fcfe4cf-710a-4d09-9939-0e570d5588e3\" class=\"plotly-graph-div\" style=\"height:525px; width:100%;\"></div>\n",
       "            <script type=\"text/javascript\">\n",
       "                require([\"plotly\"], function(Plotly) {\n",
       "                    window.PLOTLYENV=window.PLOTLYENV || {};\n",
       "                    \n",
       "                if (document.getElementById(\"8fcfe4cf-710a-4d09-9939-0e570d5588e3\")) {\n",
       "                    Plotly.newPlot(\n",
       "                        '8fcfe4cf-710a-4d09-9939-0e570d5588e3',\n",
       "                        [{\"customdata\": [[\"Strv fm/21\", 1, \"lightTank\"], [\"Fiat 3000\", 1, \"lightTank\"], [\"Vickers Medium Mk. I\", 1, \"mediumTank\"], [\"Cruiser Mk. I\", 1, \"lightTank\"], [\"Kolohousenka\", 1, \"lightTank\"]], \"hovertemplate\": \"color=l1_0<br>x=%{x}<br>y=%{y}<br>\\u0422\\u0430\\u043d\\u043a=%{customdata[0]}<br>\\u0423\\u0440\\u043e\\u0432\\u0435\\u043d\\u044c=%{customdata[1]}<br>\\u0422\\u0438\\u043f=%{customdata[2]}<extra></extra>\", \"legendgroup\": \"l1_0\", \"marker\": {\"color\": \"#636efa\", \"symbol\": \"circle\"}, \"mode\": \"markers\", \"name\": \"l1_0\", \"orientation\": \"v\", \"showlegend\": true, \"type\": \"scatter\", \"x\": [-12.117757659329481, -6.049257061927129, -26.3856140678575, -3.351246509102325, 2.163468208419706], \"xaxis\": \"x\", \"y\": [-15.64140408331112, -6.048262959780391, -11.864723469162946, 28.397423106417367, -11.107743658159134], \"yaxis\": \"y\"}, {\"customdata\": [[\"Renault Otsu\", 1, \"lightTank\"], [\"Leichttraktor\", 1, \"lightTank\"], [\"Renault FT\", 1, \"lightTank\"], [\"4TP\", 1, \"lightTank\"], [\"Renault NC-31\", 1, \"lightTank\"], [\"\\u041c\\u0421-1\", 1, \"lightTank\"], [\"T1 Cunningham\", 1, \"lightTank\"]], \"hovertemplate\": \"color=l1_1<br>x=%{x}<br>y=%{y}<br>\\u0422\\u0430\\u043d\\u043a=%{customdata[0]}<br>\\u0423\\u0440\\u043e\\u0432\\u0435\\u043d\\u044c=%{customdata[1]}<br>\\u0422\\u0438\\u043f=%{customdata[2]}<extra></extra>\", \"legendgroup\": \"l1_1\", \"marker\": {\"color\": \"#EF553B\", \"symbol\": \"circle\"}, \"mode\": \"markers\", \"name\": \"l1_1\", \"orientation\": \"v\", \"showlegend\": true, \"type\": \"scatter\", \"x\": [42.083737324519056, -15.464365192936869, 32.70073791301554, -22.352248645304666, 11.242842910012993, 10.125534365330035, -12.595831584839367], \"xaxis\": \"x\", \"y\": [-7.120948330962117, -31.31905469814549, -4.881180058608996, 21.37633142804006, -0.34415108310323694, 12.278548869197394, 26.275164937578612], \"yaxis\": \"y\"}],\n",
       "                        {\"legend\": {\"title\": {\"text\": \"color\"}, \"tracegroupgap\": 0}, \"margin\": {\"t\": 60}, \"template\": {\"data\": {\"bar\": [{\"error_x\": {\"color\": \"#2a3f5f\"}, \"error_y\": {\"color\": \"#2a3f5f\"}, \"marker\": {\"line\": {\"color\": \"#E5ECF6\", \"width\": 0.5}}, \"type\": \"bar\"}], \"barpolar\": [{\"marker\": {\"line\": {\"color\": \"#E5ECF6\", \"width\": 0.5}}, \"type\": \"barpolar\"}], \"carpet\": [{\"aaxis\": {\"endlinecolor\": \"#2a3f5f\", \"gridcolor\": \"white\", \"linecolor\": \"white\", \"minorgridcolor\": \"white\", \"startlinecolor\": \"#2a3f5f\"}, \"baxis\": {\"endlinecolor\": \"#2a3f5f\", \"gridcolor\": \"white\", \"linecolor\": \"white\", \"minorgridcolor\": \"white\", \"startlinecolor\": \"#2a3f5f\"}, \"type\": \"carpet\"}], \"choropleth\": [{\"colorbar\": {\"outlinewidth\": 0, \"ticks\": \"\"}, \"type\": \"choropleth\"}], \"contour\": [{\"colorbar\": {\"outlinewidth\": 0, \"ticks\": \"\"}, \"colorscale\": [[0.0, \"#0d0887\"], [0.1111111111111111, \"#46039f\"], [0.2222222222222222, \"#7201a8\"], [0.3333333333333333, \"#9c179e\"], [0.4444444444444444, \"#bd3786\"], [0.5555555555555556, \"#d8576b\"], [0.6666666666666666, \"#ed7953\"], [0.7777777777777778, \"#fb9f3a\"], [0.8888888888888888, \"#fdca26\"], [1.0, \"#f0f921\"]], \"type\": \"contour\"}], \"contourcarpet\": [{\"colorbar\": {\"outlinewidth\": 0, \"ticks\": \"\"}, \"type\": \"contourcarpet\"}], \"heatmap\": [{\"colorbar\": {\"outlinewidth\": 0, \"ticks\": \"\"}, \"colorscale\": [[0.0, \"#0d0887\"], [0.1111111111111111, \"#46039f\"], [0.2222222222222222, \"#7201a8\"], [0.3333333333333333, \"#9c179e\"], [0.4444444444444444, \"#bd3786\"], [0.5555555555555556, \"#d8576b\"], [0.6666666666666666, \"#ed7953\"], [0.7777777777777778, \"#fb9f3a\"], [0.8888888888888888, \"#fdca26\"], [1.0, \"#f0f921\"]], \"type\": \"heatmap\"}], \"heatmapgl\": [{\"colorbar\": {\"outlinewidth\": 0, \"ticks\": \"\"}, \"colorscale\": [[0.0, \"#0d0887\"], [0.1111111111111111, \"#46039f\"], [0.2222222222222222, \"#7201a8\"], [0.3333333333333333, \"#9c179e\"], [0.4444444444444444, \"#bd3786\"], [0.5555555555555556, \"#d8576b\"], [0.6666666666666666, \"#ed7953\"], [0.7777777777777778, \"#fb9f3a\"], [0.8888888888888888, \"#fdca26\"], [1.0, \"#f0f921\"]], \"type\": \"heatmapgl\"}], \"histogram\": [{\"marker\": {\"colorbar\": {\"outlinewidth\": 0, \"ticks\": \"\"}}, \"type\": \"histogram\"}], \"histogram2d\": [{\"colorbar\": {\"outlinewidth\": 0, \"ticks\": \"\"}, \"colorscale\": [[0.0, \"#0d0887\"], [0.1111111111111111, \"#46039f\"], [0.2222222222222222, \"#7201a8\"], [0.3333333333333333, \"#9c179e\"], [0.4444444444444444, \"#bd3786\"], [0.5555555555555556, \"#d8576b\"], [0.6666666666666666, \"#ed7953\"], [0.7777777777777778, \"#fb9f3a\"], [0.8888888888888888, \"#fdca26\"], [1.0, \"#f0f921\"]], \"type\": \"histogram2d\"}], \"histogram2dcontour\": [{\"colorbar\": {\"outlinewidth\": 0, \"ticks\": \"\"}, \"colorscale\": [[0.0, \"#0d0887\"], [0.1111111111111111, \"#46039f\"], [0.2222222222222222, \"#7201a8\"], [0.3333333333333333, \"#9c179e\"], [0.4444444444444444, \"#bd3786\"], [0.5555555555555556, \"#d8576b\"], [0.6666666666666666, \"#ed7953\"], [0.7777777777777778, \"#fb9f3a\"], [0.8888888888888888, \"#fdca26\"], [1.0, \"#f0f921\"]], \"type\": \"histogram2dcontour\"}], \"mesh3d\": [{\"colorbar\": {\"outlinewidth\": 0, \"ticks\": \"\"}, \"type\": \"mesh3d\"}], \"parcoords\": [{\"line\": {\"colorbar\": {\"outlinewidth\": 0, \"ticks\": \"\"}}, \"type\": \"parcoords\"}], \"pie\": [{\"automargin\": true, \"type\": \"pie\"}], \"scatter\": [{\"marker\": {\"colorbar\": {\"outlinewidth\": 0, \"ticks\": \"\"}}, \"type\": \"scatter\"}], \"scatter3d\": [{\"line\": {\"colorbar\": {\"outlinewidth\": 0, \"ticks\": \"\"}}, \"marker\": {\"colorbar\": {\"outlinewidth\": 0, \"ticks\": \"\"}}, \"type\": \"scatter3d\"}], \"scattercarpet\": [{\"marker\": {\"colorbar\": {\"outlinewidth\": 0, \"ticks\": \"\"}}, \"type\": \"scattercarpet\"}], \"scattergeo\": [{\"marker\": {\"colorbar\": {\"outlinewidth\": 0, \"ticks\": \"\"}}, \"type\": \"scattergeo\"}], \"scattergl\": [{\"marker\": {\"colorbar\": {\"outlinewidth\": 0, \"ticks\": \"\"}}, \"type\": \"scattergl\"}], \"scattermapbox\": [{\"marker\": {\"colorbar\": {\"outlinewidth\": 0, \"ticks\": \"\"}}, \"type\": \"scattermapbox\"}], \"scatterpolar\": [{\"marker\": {\"colorbar\": {\"outlinewidth\": 0, \"ticks\": \"\"}}, \"type\": \"scatterpolar\"}], \"scatterpolargl\": [{\"marker\": {\"colorbar\": {\"outlinewidth\": 0, \"ticks\": \"\"}}, \"type\": \"scatterpolargl\"}], \"scatterternary\": [{\"marker\": {\"colorbar\": {\"outlinewidth\": 0, \"ticks\": \"\"}}, \"type\": \"scatterternary\"}], \"surface\": [{\"colorbar\": {\"outlinewidth\": 0, \"ticks\": \"\"}, \"colorscale\": [[0.0, \"#0d0887\"], [0.1111111111111111, \"#46039f\"], [0.2222222222222222, \"#7201a8\"], [0.3333333333333333, \"#9c179e\"], [0.4444444444444444, \"#bd3786\"], [0.5555555555555556, \"#d8576b\"], [0.6666666666666666, \"#ed7953\"], [0.7777777777777778, \"#fb9f3a\"], [0.8888888888888888, \"#fdca26\"], [1.0, \"#f0f921\"]], \"type\": \"surface\"}], \"table\": [{\"cells\": {\"fill\": {\"color\": \"#EBF0F8\"}, \"line\": {\"color\": \"white\"}}, \"header\": {\"fill\": {\"color\": \"#C8D4E3\"}, \"line\": {\"color\": \"white\"}}, \"type\": \"table\"}]}, \"layout\": {\"annotationdefaults\": {\"arrowcolor\": \"#2a3f5f\", \"arrowhead\": 0, \"arrowwidth\": 1}, \"coloraxis\": {\"colorbar\": {\"outlinewidth\": 0, \"ticks\": \"\"}}, \"colorscale\": {\"diverging\": [[0, \"#8e0152\"], [0.1, \"#c51b7d\"], [0.2, \"#de77ae\"], [0.3, \"#f1b6da\"], [0.4, \"#fde0ef\"], [0.5, \"#f7f7f7\"], [0.6, \"#e6f5d0\"], [0.7, \"#b8e186\"], [0.8, \"#7fbc41\"], [0.9, \"#4d9221\"], [1, \"#276419\"]], \"sequential\": [[0.0, \"#0d0887\"], [0.1111111111111111, \"#46039f\"], [0.2222222222222222, \"#7201a8\"], [0.3333333333333333, \"#9c179e\"], [0.4444444444444444, \"#bd3786\"], [0.5555555555555556, \"#d8576b\"], [0.6666666666666666, \"#ed7953\"], [0.7777777777777778, \"#fb9f3a\"], [0.8888888888888888, \"#fdca26\"], [1.0, \"#f0f921\"]], \"sequentialminus\": [[0.0, \"#0d0887\"], [0.1111111111111111, \"#46039f\"], [0.2222222222222222, \"#7201a8\"], [0.3333333333333333, \"#9c179e\"], [0.4444444444444444, \"#bd3786\"], [0.5555555555555556, \"#d8576b\"], [0.6666666666666666, \"#ed7953\"], [0.7777777777777778, \"#fb9f3a\"], [0.8888888888888888, \"#fdca26\"], [1.0, \"#f0f921\"]]}, \"colorway\": [\"#636efa\", \"#EF553B\", \"#00cc96\", \"#ab63fa\", \"#FFA15A\", \"#19d3f3\", \"#FF6692\", \"#B6E880\", \"#FF97FF\", \"#FECB52\"], \"font\": {\"color\": \"#2a3f5f\"}, \"geo\": {\"bgcolor\": \"white\", \"lakecolor\": \"white\", \"landcolor\": \"#E5ECF6\", \"showlakes\": true, \"showland\": true, \"subunitcolor\": \"white\"}, \"hoverlabel\": {\"align\": \"left\"}, \"hovermode\": \"closest\", \"mapbox\": {\"style\": \"light\"}, \"paper_bgcolor\": \"white\", \"plot_bgcolor\": \"#E5ECF6\", \"polar\": {\"angularaxis\": {\"gridcolor\": \"white\", \"linecolor\": \"white\", \"ticks\": \"\"}, \"bgcolor\": \"#E5ECF6\", \"radialaxis\": {\"gridcolor\": \"white\", \"linecolor\": \"white\", \"ticks\": \"\"}}, \"scene\": {\"xaxis\": {\"backgroundcolor\": \"#E5ECF6\", \"gridcolor\": \"white\", \"gridwidth\": 2, \"linecolor\": \"white\", \"showbackground\": true, \"ticks\": \"\", \"zerolinecolor\": \"white\"}, \"yaxis\": {\"backgroundcolor\": \"#E5ECF6\", \"gridcolor\": \"white\", \"gridwidth\": 2, \"linecolor\": \"white\", \"showbackground\": true, \"ticks\": \"\", \"zerolinecolor\": \"white\"}, \"zaxis\": {\"backgroundcolor\": \"#E5ECF6\", \"gridcolor\": \"white\", \"gridwidth\": 2, \"linecolor\": \"white\", \"showbackground\": true, \"ticks\": \"\", \"zerolinecolor\": \"white\"}}, \"shapedefaults\": {\"line\": {\"color\": \"#2a3f5f\"}}, \"ternary\": {\"aaxis\": {\"gridcolor\": \"white\", \"linecolor\": \"white\", \"ticks\": \"\"}, \"baxis\": {\"gridcolor\": \"white\", \"linecolor\": \"white\", \"ticks\": \"\"}, \"bgcolor\": \"#E5ECF6\", \"caxis\": {\"gridcolor\": \"white\", \"linecolor\": \"white\", \"ticks\": \"\"}}, \"title\": {\"x\": 0.05}, \"xaxis\": {\"automargin\": true, \"gridcolor\": \"white\", \"linecolor\": \"white\", \"ticks\": \"\", \"title\": {\"standoff\": 15}, \"zerolinecolor\": \"white\", \"zerolinewidth\": 2}, \"yaxis\": {\"automargin\": true, \"gridcolor\": \"white\", \"linecolor\": \"white\", \"ticks\": \"\", \"title\": {\"standoff\": 15}, \"zerolinecolor\": \"white\", \"zerolinewidth\": 2}}}, \"xaxis\": {\"anchor\": \"y\", \"domain\": [0.0, 1.0], \"title\": {\"text\": \"x\"}}, \"yaxis\": {\"anchor\": \"x\", \"domain\": [0.0, 1.0], \"title\": {\"text\": \"y\"}}},\n",
       "                        {\"responsive\": true}\n",
       "                    ).then(function(){\n",
       "                            \n",
       "var gd = document.getElementById('8fcfe4cf-710a-4d09-9939-0e570d5588e3');\n",
       "var x = new MutationObserver(function (mutations, observer) {{\n",
       "        var display = window.getComputedStyle(gd).display;\n",
       "        if (!display || display === 'none') {{\n",
       "            console.log([gd, 'removed!']);\n",
       "            Plotly.purge(gd);\n",
       "            observer.disconnect();\n",
       "        }}\n",
       "}});\n",
       "\n",
       "// Listen for the removal of the full notebook cells\n",
       "var notebookContainer = gd.closest('#notebook-container');\n",
       "if (notebookContainer) {{\n",
       "    x.observe(notebookContainer, {childList: true});\n",
       "}}\n",
       "\n",
       "// Listen for the clearing of the current output cell\n",
       "var outputEl = gd.closest('.output');\n",
       "if (outputEl) {{\n",
       "    x.observe(outputEl, {childList: true});\n",
       "}}\n",
       "\n",
       "                        })\n",
       "                };\n",
       "                });\n",
       "            </script>\n",
       "        </div>"
      ]
     },
     "metadata": {},
     "output_type": "display_data"
    }
   ],
   "source": [
    "# Manual hyperparameters optimization\n",
    "plot_clusters(tanks, 2, 1)"
   ]
  },
  {
   "cell_type": "code",
   "execution_count": 65,
   "metadata": {},
   "outputs": [
    {
     "data": {
      "text/html": [
       "<div>\n",
       "<style scoped>\n",
       "    .dataframe tbody tr th:only-of-type {\n",
       "        vertical-align: middle;\n",
       "    }\n",
       "\n",
       "    .dataframe tbody tr th {\n",
       "        vertical-align: top;\n",
       "    }\n",
       "\n",
       "    .dataframe thead th {\n",
       "        text-align: right;\n",
       "    }\n",
       "</style>\n",
       "<table border=\"1\" class=\"dataframe\">\n",
       "  <thead>\n",
       "    <tr style=\"text-align: right;\">\n",
       "      <th></th>\n",
       "      <th>tag</th>\n",
       "      <th>cluster</th>\n",
       "    </tr>\n",
       "  </thead>\n",
       "  <tbody>\n",
       "    <tr>\n",
       "      <th>0</th>\n",
       "      <td>S05_Strv_M21_29</td>\n",
       "      <td>l1_0</td>\n",
       "    </tr>\n",
       "    <tr>\n",
       "      <th>1</th>\n",
       "      <td>It04_Fiat_3000</td>\n",
       "      <td>l1_0</td>\n",
       "    </tr>\n",
       "    <tr>\n",
       "      <th>2</th>\n",
       "      <td>GB01_Medium_Mark_I</td>\n",
       "      <td>l1_0</td>\n",
       "    </tr>\n",
       "    <tr>\n",
       "      <th>3</th>\n",
       "      <td>GB03_Cruiser_Mk_I</td>\n",
       "      <td>l1_0</td>\n",
       "    </tr>\n",
       "    <tr>\n",
       "      <th>4</th>\n",
       "      <td>J01_NC27</td>\n",
       "      <td>l1_1</td>\n",
       "    </tr>\n",
       "    <tr>\n",
       "      <th>5</th>\n",
       "      <td>G12_Ltraktor</td>\n",
       "      <td>l1_1</td>\n",
       "    </tr>\n",
       "    <tr>\n",
       "      <th>6</th>\n",
       "      <td>Cz06_Kolohousenka</td>\n",
       "      <td>l1_0</td>\n",
       "    </tr>\n",
       "    <tr>\n",
       "      <th>7</th>\n",
       "      <td>F01_RenaultFT</td>\n",
       "      <td>l1_1</td>\n",
       "    </tr>\n",
       "    <tr>\n",
       "      <th>8</th>\n",
       "      <td>Pl14_4TP</td>\n",
       "      <td>l1_1</td>\n",
       "    </tr>\n",
       "    <tr>\n",
       "      <th>9</th>\n",
       "      <td>Ch06_Renault_NC31</td>\n",
       "      <td>l1_1</td>\n",
       "    </tr>\n",
       "    <tr>\n",
       "      <th>10</th>\n",
       "      <td>R11_MS-1</td>\n",
       "      <td>l1_1</td>\n",
       "    </tr>\n",
       "    <tr>\n",
       "      <th>11</th>\n",
       "      <td>A01_T1_Cunningham</td>\n",
       "      <td>l1_1</td>\n",
       "    </tr>\n",
       "  </tbody>\n",
       "</table>\n",
       "</div>"
      ],
      "text/plain": [
       "                   tag cluster\n",
       "0      S05_Strv_M21_29    l1_0\n",
       "1       It04_Fiat_3000    l1_0\n",
       "2   GB01_Medium_Mark_I    l1_0\n",
       "3    GB03_Cruiser_Mk_I    l1_0\n",
       "4             J01_NC27    l1_1\n",
       "5         G12_Ltraktor    l1_1\n",
       "6    Cz06_Kolohousenka    l1_0\n",
       "7        F01_RenaultFT    l1_1\n",
       "8             Pl14_4TP    l1_1\n",
       "9    Ch06_Renault_NC31    l1_1\n",
       "10            R11_MS-1    l1_1\n",
       "11   A01_T1_Cunningham    l1_1"
      ]
     },
     "execution_count": 65,
     "metadata": {},
     "output_type": "execute_result"
    }
   ],
   "source": [
    "cluster(tanks, 2, 1)"
   ]
  },
  {
   "cell_type": "code",
   "execution_count": 70,
   "metadata": {},
   "outputs": [],
   "source": [
    "tanks_clusters.append(cluster(tanks, 2, 1))"
   ]
  },
  {
   "cell_type": "markdown",
   "metadata": {},
   "source": [
    "### Level 2"
   ]
  },
  {
   "cell_type": "code",
   "execution_count": 74,
   "metadata": {},
   "outputs": [
    {
     "data": {
      "application/vnd.plotly.v1+json": {
       "config": {
        "plotlyServerURL": "https://plot.ly"
       },
       "data": [
        {
         "customdata": [
          [
           "БТ-2",
           2,
           "lightTank"
          ],
          [
           "T1E6",
           2,
           "lightTank"
          ],
          [
           "T2 Medium Tank",
           2,
           "mediumTank"
          ],
          [
           "T2 Light Tank",
           2,
           "lightTank"
          ],
          [
           "Pvlvv fm/42",
           2,
           "AT-SPG"
          ],
          [
           "Type 97 Te-Ke",
           2,
           "lightTank"
          ],
          [
           "L-60",
           2,
           "lightTank"
          ],
          [
           "Light Mk. VIC",
           2,
           "lightTank"
          ],
          [
           "T7 Combat Car",
           2,
           "lightTank"
          ],
          [
           "Тетрарх",
           2,
           "lightTank"
          ],
          [
           "Vickers Medium Mk. II",
           2,
           "mediumTank"
          ],
          [
           "Strv m/38",
           2,
           "lightTank"
          ],
          [
           "TKS z n.k.m. 20 mm",
           2,
           "lightTank"
          ],
          [
           "Pz.Kpfw. II Ausf. D",
           2,
           "lightTank"
          ],
          [
           "AM 39 Gendron-Somua",
           2,
           "lightTank"
          ],
          [
           "Pz.Kpfw. I",
           2,
           "lightTank"
          ]
         ],
         "hovertemplate": "color=l2_1<br>x=%{x}<br>y=%{y}<br>Танк=%{customdata[0]}<br>Уровень=%{customdata[1]}<br>Тип=%{customdata[2]}<extra></extra>",
         "legendgroup": "l2_1",
         "marker": {
          "color": "#636efa",
          "symbol": "circle"
         },
         "mode": "markers",
         "name": "l2_1",
         "orientation": "v",
         "showlegend": true,
         "type": "scatter",
         "x": [
          4.768135705787033,
          3.1465494073250877,
          -1.9666647235454453,
          3.6960095392439327,
          2.9783583684765387,
          0.45606272622321553,
          1.5996375190591616,
          0.9196613806266738,
          1.9903876629334039,
          4.118369010563934,
          0.6427694754217446,
          1.517014213252093,
          0.5691244356781232,
          -2.2155942692773296,
          2.879876804448444,
          -1.046657189199887
         ],
         "xaxis": "x",
         "y": [
          1.9053377201025747,
          0.8302934686569933,
          1.6368953438718148,
          0.6728091093577041,
          4.213443345127529,
          -1.58648599135764,
          -0.21824739551002031,
          1.3890294009090103,
          1.5065019290161588,
          2.2046197776017,
          -4.876645016916044,
          -0.8928086818752708,
          -0.1630251483445856,
          3.1546170100231614,
          1.9160623220956614,
          1.7175842023865469
         ],
         "yaxis": "y"
        },
        {
         "customdata": [
          [
           "Panzerjäger I",
           2,
           "AT-SPG"
          ],
          [
           "АТ-1",
           2,
           "AT-SPG"
          ],
          [
           "Universal Carrier 2-pdr",
           2,
           "AT-SPG"
          ],
          [
           "T-26G FT",
           2,
           "AT-SPG"
          ],
          [
           "Renault FT AC",
           2,
           "AT-SPG"
          ],
          [
           "T3 HMC",
           2,
           "AT-SPG"
          ]
         ],
         "hovertemplate": "color=l2_2<br>x=%{x}<br>y=%{y}<br>Танк=%{customdata[0]}<br>Уровень=%{customdata[1]}<br>Тип=%{customdata[2]}<extra></extra>",
         "legendgroup": "l2_2",
         "marker": {
          "color": "#EF553B",
          "symbol": "circle"
         },
         "mode": "markers",
         "name": "l2_2",
         "orientation": "v",
         "showlegend": true,
         "type": "scatter",
         "x": [
          4.123321023411626,
          3.5722028763822005,
          3.643974641720816,
          3.6996857665640697,
          4.712620680831438,
          5.493671803467417
         ],
         "xaxis": "x",
         "y": [
          5.8202730661413735,
          6.881022140140485,
          5.097518250782231,
          6.545723576181526,
          6.3881470688513815,
          3.941664749368351
         ],
         "yaxis": "y"
        },
        {
         "customdata": [
          [
           "Pz.Kpfw. 38H 735 (f)",
           2,
           "lightTank"
          ],
          [
           "Т-45",
           2,
           "lightTank"
          ],
          [
           "LT vz. 35",
           2,
           "lightTank"
          ],
          [
           "Chi-Ni",
           2,
           "mediumTank"
          ],
          [
           "L6/40",
           2,
           "lightTank"
          ],
          [
           "Pz.Kpfw. II",
           2,
           "lightTank"
          ],
          [
           "M14/41",
           2,
           "mediumTank"
          ],
          [
           "Pz.Kpfw. 35 (t)",
           2,
           "lightTank"
          ],
          [
           "Type 95 Ha-Go",
           2,
           "lightTank"
          ],
          [
           "FCM 36",
           2,
           "lightTank"
          ],
          [
           "MKA",
           2,
           "lightTank"
          ],
          [
           "D1",
           2,
           "lightTank"
          ],
          [
           "M2",
           2,
           "lightTank"
          ],
          [
           "Т-60",
           2,
           "lightTank"
          ],
          [
           "Cruiser Mk. II",
           2,
           "lightTank"
          ],
          [
           "Т-26",
           2,
           "lightTank"
          ],
          [
           "7TP",
           2,
           "lightTank"
          ],
          [
           "Renault R35",
           2,
           "lightTank"
          ],
          [
           "Hotchkiss H35",
           2,
           "lightTank"
          ],
          [
           "M2 Light Tank",
           2,
           "lightTank"
          ],
          [
           "AMR 35",
           2,
           "lightTank"
          ],
          [
           "Vickers Mk. E Type B",
           2,
           "lightTank"
          ]
         ],
         "hovertemplate": "color=l2_3<br>x=%{x}<br>y=%{y}<br>Танк=%{customdata[0]}<br>Уровень=%{customdata[1]}<br>Тип=%{customdata[2]}<extra></extra>",
         "legendgroup": "l2_3",
         "marker": {
          "color": "#00cc96",
          "symbol": "circle"
         },
         "mode": "markers",
         "name": "l2_3",
         "orientation": "v",
         "showlegend": true,
         "type": "scatter",
         "x": [
          -4.712899614294842,
          -1.9912623576110255,
          -1.7492859827819063,
          1.655482903356675,
          -2.520394629560196,
          -2.772506575693233,
          -2.692132893115839,
          -2.2929774923667345,
          1.6389218169094708,
          -5.277848783617596,
          -1.4920069231512054,
          -4.307580251386752,
          -4.532317896939509,
          -2.8232637623872088,
          -2.2870258739976173,
          -0.451442651009062,
          -0.09632555144518137,
          -4.962076010923042,
          -4.922472365218846,
          -4.056628761791251,
          -0.8864045867101557,
          -0.45524642153457034
         ],
         "xaxis": "x",
         "y": [
          -1.1315807132610998,
          -5.166545425261157,
          -1.8986636176281517,
          -3.3731567558283073,
          -0.7461591597455347,
          0.9563950217816963,
          -2.694542705320528,
          1.0102645656072056,
          -3.0591785978916937,
          -3.9549351521661236,
          -4.145249931156291,
          -4.275873442248648,
          0.6202762357273328,
          2.4452121880923627,
          -1.8800545908308337,
          -4.495130276640052,
          -2.447064332665145,
          -3.802889551163322,
          -1.5055622856544366,
          1.3380145583332597,
          -1.498128601407392,
          -4.157493590660635
         ],
         "yaxis": "y"
        },
        {
         "customdata": [
          [
           "Type 89 I-Go/Chi-Ro",
           2,
           "mediumTank"
          ]
         ],
         "hovertemplate": "color=l2_0<br>x=%{x}<br>y=%{y}<br>Танк=%{customdata[0]}<br>Уровень=%{customdata[1]}<br>Тип=%{customdata[2]}<extra></extra>",
         "legendgroup": "l2_0",
         "marker": {
          "color": "#ab63fa",
          "symbol": "circle"
         },
         "mode": "markers",
         "name": "l2_0",
         "orientation": "v",
         "showlegend": true,
         "type": "scatter",
         "x": [
          2.6891778058753366
         ],
         "xaxis": "x",
         "y": [
          -4.222284086623144
         ],
         "yaxis": "y"
        }
       ],
       "layout": {
        "legend": {
         "title": {
          "text": "color"
         },
         "tracegroupgap": 0
        },
        "margin": {
         "t": 60
        },
        "template": {
         "data": {
          "bar": [
           {
            "error_x": {
             "color": "#2a3f5f"
            },
            "error_y": {
             "color": "#2a3f5f"
            },
            "marker": {
             "line": {
              "color": "#E5ECF6",
              "width": 0.5
             }
            },
            "type": "bar"
           }
          ],
          "barpolar": [
           {
            "marker": {
             "line": {
              "color": "#E5ECF6",
              "width": 0.5
             }
            },
            "type": "barpolar"
           }
          ],
          "carpet": [
           {
            "aaxis": {
             "endlinecolor": "#2a3f5f",
             "gridcolor": "white",
             "linecolor": "white",
             "minorgridcolor": "white",
             "startlinecolor": "#2a3f5f"
            },
            "baxis": {
             "endlinecolor": "#2a3f5f",
             "gridcolor": "white",
             "linecolor": "white",
             "minorgridcolor": "white",
             "startlinecolor": "#2a3f5f"
            },
            "type": "carpet"
           }
          ],
          "choropleth": [
           {
            "colorbar": {
             "outlinewidth": 0,
             "ticks": ""
            },
            "type": "choropleth"
           }
          ],
          "contour": [
           {
            "colorbar": {
             "outlinewidth": 0,
             "ticks": ""
            },
            "colorscale": [
             [
              0,
              "#0d0887"
             ],
             [
              0.1111111111111111,
              "#46039f"
             ],
             [
              0.2222222222222222,
              "#7201a8"
             ],
             [
              0.3333333333333333,
              "#9c179e"
             ],
             [
              0.4444444444444444,
              "#bd3786"
             ],
             [
              0.5555555555555556,
              "#d8576b"
             ],
             [
              0.6666666666666666,
              "#ed7953"
             ],
             [
              0.7777777777777778,
              "#fb9f3a"
             ],
             [
              0.8888888888888888,
              "#fdca26"
             ],
             [
              1,
              "#f0f921"
             ]
            ],
            "type": "contour"
           }
          ],
          "contourcarpet": [
           {
            "colorbar": {
             "outlinewidth": 0,
             "ticks": ""
            },
            "type": "contourcarpet"
           }
          ],
          "heatmap": [
           {
            "colorbar": {
             "outlinewidth": 0,
             "ticks": ""
            },
            "colorscale": [
             [
              0,
              "#0d0887"
             ],
             [
              0.1111111111111111,
              "#46039f"
             ],
             [
              0.2222222222222222,
              "#7201a8"
             ],
             [
              0.3333333333333333,
              "#9c179e"
             ],
             [
              0.4444444444444444,
              "#bd3786"
             ],
             [
              0.5555555555555556,
              "#d8576b"
             ],
             [
              0.6666666666666666,
              "#ed7953"
             ],
             [
              0.7777777777777778,
              "#fb9f3a"
             ],
             [
              0.8888888888888888,
              "#fdca26"
             ],
             [
              1,
              "#f0f921"
             ]
            ],
            "type": "heatmap"
           }
          ],
          "heatmapgl": [
           {
            "colorbar": {
             "outlinewidth": 0,
             "ticks": ""
            },
            "colorscale": [
             [
              0,
              "#0d0887"
             ],
             [
              0.1111111111111111,
              "#46039f"
             ],
             [
              0.2222222222222222,
              "#7201a8"
             ],
             [
              0.3333333333333333,
              "#9c179e"
             ],
             [
              0.4444444444444444,
              "#bd3786"
             ],
             [
              0.5555555555555556,
              "#d8576b"
             ],
             [
              0.6666666666666666,
              "#ed7953"
             ],
             [
              0.7777777777777778,
              "#fb9f3a"
             ],
             [
              0.8888888888888888,
              "#fdca26"
             ],
             [
              1,
              "#f0f921"
             ]
            ],
            "type": "heatmapgl"
           }
          ],
          "histogram": [
           {
            "marker": {
             "colorbar": {
              "outlinewidth": 0,
              "ticks": ""
             }
            },
            "type": "histogram"
           }
          ],
          "histogram2d": [
           {
            "colorbar": {
             "outlinewidth": 0,
             "ticks": ""
            },
            "colorscale": [
             [
              0,
              "#0d0887"
             ],
             [
              0.1111111111111111,
              "#46039f"
             ],
             [
              0.2222222222222222,
              "#7201a8"
             ],
             [
              0.3333333333333333,
              "#9c179e"
             ],
             [
              0.4444444444444444,
              "#bd3786"
             ],
             [
              0.5555555555555556,
              "#d8576b"
             ],
             [
              0.6666666666666666,
              "#ed7953"
             ],
             [
              0.7777777777777778,
              "#fb9f3a"
             ],
             [
              0.8888888888888888,
              "#fdca26"
             ],
             [
              1,
              "#f0f921"
             ]
            ],
            "type": "histogram2d"
           }
          ],
          "histogram2dcontour": [
           {
            "colorbar": {
             "outlinewidth": 0,
             "ticks": ""
            },
            "colorscale": [
             [
              0,
              "#0d0887"
             ],
             [
              0.1111111111111111,
              "#46039f"
             ],
             [
              0.2222222222222222,
              "#7201a8"
             ],
             [
              0.3333333333333333,
              "#9c179e"
             ],
             [
              0.4444444444444444,
              "#bd3786"
             ],
             [
              0.5555555555555556,
              "#d8576b"
             ],
             [
              0.6666666666666666,
              "#ed7953"
             ],
             [
              0.7777777777777778,
              "#fb9f3a"
             ],
             [
              0.8888888888888888,
              "#fdca26"
             ],
             [
              1,
              "#f0f921"
             ]
            ],
            "type": "histogram2dcontour"
           }
          ],
          "mesh3d": [
           {
            "colorbar": {
             "outlinewidth": 0,
             "ticks": ""
            },
            "type": "mesh3d"
           }
          ],
          "parcoords": [
           {
            "line": {
             "colorbar": {
              "outlinewidth": 0,
              "ticks": ""
             }
            },
            "type": "parcoords"
           }
          ],
          "pie": [
           {
            "automargin": true,
            "type": "pie"
           }
          ],
          "scatter": [
           {
            "marker": {
             "colorbar": {
              "outlinewidth": 0,
              "ticks": ""
             }
            },
            "type": "scatter"
           }
          ],
          "scatter3d": [
           {
            "line": {
             "colorbar": {
              "outlinewidth": 0,
              "ticks": ""
             }
            },
            "marker": {
             "colorbar": {
              "outlinewidth": 0,
              "ticks": ""
             }
            },
            "type": "scatter3d"
           }
          ],
          "scattercarpet": [
           {
            "marker": {
             "colorbar": {
              "outlinewidth": 0,
              "ticks": ""
             }
            },
            "type": "scattercarpet"
           }
          ],
          "scattergeo": [
           {
            "marker": {
             "colorbar": {
              "outlinewidth": 0,
              "ticks": ""
             }
            },
            "type": "scattergeo"
           }
          ],
          "scattergl": [
           {
            "marker": {
             "colorbar": {
              "outlinewidth": 0,
              "ticks": ""
             }
            },
            "type": "scattergl"
           }
          ],
          "scattermapbox": [
           {
            "marker": {
             "colorbar": {
              "outlinewidth": 0,
              "ticks": ""
             }
            },
            "type": "scattermapbox"
           }
          ],
          "scatterpolar": [
           {
            "marker": {
             "colorbar": {
              "outlinewidth": 0,
              "ticks": ""
             }
            },
            "type": "scatterpolar"
           }
          ],
          "scatterpolargl": [
           {
            "marker": {
             "colorbar": {
              "outlinewidth": 0,
              "ticks": ""
             }
            },
            "type": "scatterpolargl"
           }
          ],
          "scatterternary": [
           {
            "marker": {
             "colorbar": {
              "outlinewidth": 0,
              "ticks": ""
             }
            },
            "type": "scatterternary"
           }
          ],
          "surface": [
           {
            "colorbar": {
             "outlinewidth": 0,
             "ticks": ""
            },
            "colorscale": [
             [
              0,
              "#0d0887"
             ],
             [
              0.1111111111111111,
              "#46039f"
             ],
             [
              0.2222222222222222,
              "#7201a8"
             ],
             [
              0.3333333333333333,
              "#9c179e"
             ],
             [
              0.4444444444444444,
              "#bd3786"
             ],
             [
              0.5555555555555556,
              "#d8576b"
             ],
             [
              0.6666666666666666,
              "#ed7953"
             ],
             [
              0.7777777777777778,
              "#fb9f3a"
             ],
             [
              0.8888888888888888,
              "#fdca26"
             ],
             [
              1,
              "#f0f921"
             ]
            ],
            "type": "surface"
           }
          ],
          "table": [
           {
            "cells": {
             "fill": {
              "color": "#EBF0F8"
             },
             "line": {
              "color": "white"
             }
            },
            "header": {
             "fill": {
              "color": "#C8D4E3"
             },
             "line": {
              "color": "white"
             }
            },
            "type": "table"
           }
          ]
         },
         "layout": {
          "annotationdefaults": {
           "arrowcolor": "#2a3f5f",
           "arrowhead": 0,
           "arrowwidth": 1
          },
          "coloraxis": {
           "colorbar": {
            "outlinewidth": 0,
            "ticks": ""
           }
          },
          "colorscale": {
           "diverging": [
            [
             0,
             "#8e0152"
            ],
            [
             0.1,
             "#c51b7d"
            ],
            [
             0.2,
             "#de77ae"
            ],
            [
             0.3,
             "#f1b6da"
            ],
            [
             0.4,
             "#fde0ef"
            ],
            [
             0.5,
             "#f7f7f7"
            ],
            [
             0.6,
             "#e6f5d0"
            ],
            [
             0.7,
             "#b8e186"
            ],
            [
             0.8,
             "#7fbc41"
            ],
            [
             0.9,
             "#4d9221"
            ],
            [
             1,
             "#276419"
            ]
           ],
           "sequential": [
            [
             0,
             "#0d0887"
            ],
            [
             0.1111111111111111,
             "#46039f"
            ],
            [
             0.2222222222222222,
             "#7201a8"
            ],
            [
             0.3333333333333333,
             "#9c179e"
            ],
            [
             0.4444444444444444,
             "#bd3786"
            ],
            [
             0.5555555555555556,
             "#d8576b"
            ],
            [
             0.6666666666666666,
             "#ed7953"
            ],
            [
             0.7777777777777778,
             "#fb9f3a"
            ],
            [
             0.8888888888888888,
             "#fdca26"
            ],
            [
             1,
             "#f0f921"
            ]
           ],
           "sequentialminus": [
            [
             0,
             "#0d0887"
            ],
            [
             0.1111111111111111,
             "#46039f"
            ],
            [
             0.2222222222222222,
             "#7201a8"
            ],
            [
             0.3333333333333333,
             "#9c179e"
            ],
            [
             0.4444444444444444,
             "#bd3786"
            ],
            [
             0.5555555555555556,
             "#d8576b"
            ],
            [
             0.6666666666666666,
             "#ed7953"
            ],
            [
             0.7777777777777778,
             "#fb9f3a"
            ],
            [
             0.8888888888888888,
             "#fdca26"
            ],
            [
             1,
             "#f0f921"
            ]
           ]
          },
          "colorway": [
           "#636efa",
           "#EF553B",
           "#00cc96",
           "#ab63fa",
           "#FFA15A",
           "#19d3f3",
           "#FF6692",
           "#B6E880",
           "#FF97FF",
           "#FECB52"
          ],
          "font": {
           "color": "#2a3f5f"
          },
          "geo": {
           "bgcolor": "white",
           "lakecolor": "white",
           "landcolor": "#E5ECF6",
           "showlakes": true,
           "showland": true,
           "subunitcolor": "white"
          },
          "hoverlabel": {
           "align": "left"
          },
          "hovermode": "closest",
          "mapbox": {
           "style": "light"
          },
          "paper_bgcolor": "white",
          "plot_bgcolor": "#E5ECF6",
          "polar": {
           "angularaxis": {
            "gridcolor": "white",
            "linecolor": "white",
            "ticks": ""
           },
           "bgcolor": "#E5ECF6",
           "radialaxis": {
            "gridcolor": "white",
            "linecolor": "white",
            "ticks": ""
           }
          },
          "scene": {
           "xaxis": {
            "backgroundcolor": "#E5ECF6",
            "gridcolor": "white",
            "gridwidth": 2,
            "linecolor": "white",
            "showbackground": true,
            "ticks": "",
            "zerolinecolor": "white"
           },
           "yaxis": {
            "backgroundcolor": "#E5ECF6",
            "gridcolor": "white",
            "gridwidth": 2,
            "linecolor": "white",
            "showbackground": true,
            "ticks": "",
            "zerolinecolor": "white"
           },
           "zaxis": {
            "backgroundcolor": "#E5ECF6",
            "gridcolor": "white",
            "gridwidth": 2,
            "linecolor": "white",
            "showbackground": true,
            "ticks": "",
            "zerolinecolor": "white"
           }
          },
          "shapedefaults": {
           "line": {
            "color": "#2a3f5f"
           }
          },
          "ternary": {
           "aaxis": {
            "gridcolor": "white",
            "linecolor": "white",
            "ticks": ""
           },
           "baxis": {
            "gridcolor": "white",
            "linecolor": "white",
            "ticks": ""
           },
           "bgcolor": "#E5ECF6",
           "caxis": {
            "gridcolor": "white",
            "linecolor": "white",
            "ticks": ""
           }
          },
          "title": {
           "x": 0.05
          },
          "xaxis": {
           "automargin": true,
           "gridcolor": "white",
           "linecolor": "white",
           "ticks": "",
           "title": {
            "standoff": 15
           },
           "zerolinecolor": "white",
           "zerolinewidth": 2
          },
          "yaxis": {
           "automargin": true,
           "gridcolor": "white",
           "linecolor": "white",
           "ticks": "",
           "title": {
            "standoff": 15
           },
           "zerolinecolor": "white",
           "zerolinewidth": 2
          }
         }
        },
        "xaxis": {
         "anchor": "y",
         "domain": [
          0,
          1
         ],
         "title": {
          "text": "x"
         }
        },
        "yaxis": {
         "anchor": "x",
         "domain": [
          0,
          1
         ],
         "title": {
          "text": "y"
         }
        }
       }
      },
      "text/html": [
       "<div>\n",
       "        \n",
       "        \n",
       "            <div id=\"b932a301-2801-4abc-aac3-c9276f9ba859\" class=\"plotly-graph-div\" style=\"height:525px; width:100%;\"></div>\n",
       "            <script type=\"text/javascript\">\n",
       "                require([\"plotly\"], function(Plotly) {\n",
       "                    window.PLOTLYENV=window.PLOTLYENV || {};\n",
       "                    \n",
       "                if (document.getElementById(\"b932a301-2801-4abc-aac3-c9276f9ba859\")) {\n",
       "                    Plotly.newPlot(\n",
       "                        'b932a301-2801-4abc-aac3-c9276f9ba859',\n",
       "                        [{\"customdata\": [[\"\\u0411\\u0422-2\", 2, \"lightTank\"], [\"T1E6\", 2, \"lightTank\"], [\"T2 Medium Tank\", 2, \"mediumTank\"], [\"T2 Light Tank\", 2, \"lightTank\"], [\"Pvlvv fm/42\", 2, \"AT-SPG\"], [\"Type 97 Te-Ke\", 2, \"lightTank\"], [\"L-60\", 2, \"lightTank\"], [\"Light Mk. VIC\", 2, \"lightTank\"], [\"T7 Combat Car\", 2, \"lightTank\"], [\"\\u0422\\u0435\\u0442\\u0440\\u0430\\u0440\\u0445\", 2, \"lightTank\"], [\"Vickers Medium Mk. II\", 2, \"mediumTank\"], [\"Strv m/38\", 2, \"lightTank\"], [\"TKS z n.k.m. 20 mm\", 2, \"lightTank\"], [\"Pz.Kpfw. II Ausf. D\", 2, \"lightTank\"], [\"AM 39 Gendron-Somua\", 2, \"lightTank\"], [\"Pz.Kpfw. I\", 2, \"lightTank\"]], \"hovertemplate\": \"color=l2_1<br>x=%{x}<br>y=%{y}<br>\\u0422\\u0430\\u043d\\u043a=%{customdata[0]}<br>\\u0423\\u0440\\u043e\\u0432\\u0435\\u043d\\u044c=%{customdata[1]}<br>\\u0422\\u0438\\u043f=%{customdata[2]}<extra></extra>\", \"legendgroup\": \"l2_1\", \"marker\": {\"color\": \"#636efa\", \"symbol\": \"circle\"}, \"mode\": \"markers\", \"name\": \"l2_1\", \"orientation\": \"v\", \"showlegend\": true, \"type\": \"scatter\", \"x\": [4.768135705787033, 3.1465494073250877, -1.9666647235454453, 3.6960095392439327, 2.9783583684765387, 0.45606272622321553, 1.5996375190591616, 0.9196613806266738, 1.9903876629334039, 4.118369010563934, 0.6427694754217446, 1.517014213252093, 0.5691244356781232, -2.2155942692773296, 2.879876804448444, -1.046657189199887], \"xaxis\": \"x\", \"y\": [1.9053377201025747, 0.8302934686569933, 1.6368953438718148, 0.6728091093577041, 4.213443345127529, -1.58648599135764, -0.21824739551002031, 1.3890294009090103, 1.5065019290161588, 2.2046197776017, -4.876645016916044, -0.8928086818752708, -0.1630251483445856, 3.1546170100231614, 1.9160623220956614, 1.7175842023865469], \"yaxis\": \"y\"}, {\"customdata\": [[\"Panzerj\\u00e4ger I\", 2, \"AT-SPG\"], [\"\\u0410\\u0422-1\", 2, \"AT-SPG\"], [\"Universal Carrier 2-pdr\", 2, \"AT-SPG\"], [\"T-26G FT\", 2, \"AT-SPG\"], [\"Renault FT AC\", 2, \"AT-SPG\"], [\"T3 HMC\", 2, \"AT-SPG\"]], \"hovertemplate\": \"color=l2_2<br>x=%{x}<br>y=%{y}<br>\\u0422\\u0430\\u043d\\u043a=%{customdata[0]}<br>\\u0423\\u0440\\u043e\\u0432\\u0435\\u043d\\u044c=%{customdata[1]}<br>\\u0422\\u0438\\u043f=%{customdata[2]}<extra></extra>\", \"legendgroup\": \"l2_2\", \"marker\": {\"color\": \"#EF553B\", \"symbol\": \"circle\"}, \"mode\": \"markers\", \"name\": \"l2_2\", \"orientation\": \"v\", \"showlegend\": true, \"type\": \"scatter\", \"x\": [4.123321023411626, 3.5722028763822005, 3.643974641720816, 3.6996857665640697, 4.712620680831438, 5.493671803467417], \"xaxis\": \"x\", \"y\": [5.8202730661413735, 6.881022140140485, 5.097518250782231, 6.545723576181526, 6.3881470688513815, 3.941664749368351], \"yaxis\": \"y\"}, {\"customdata\": [[\"Pz.Kpfw. 38H 735 (f)\", 2, \"lightTank\"], [\"\\u0422-45\", 2, \"lightTank\"], [\"LT vz. 35\", 2, \"lightTank\"], [\"Chi-Ni\", 2, \"mediumTank\"], [\"L6/40\", 2, \"lightTank\"], [\"Pz.Kpfw. II\", 2, \"lightTank\"], [\"M14/41\", 2, \"mediumTank\"], [\"Pz.Kpfw. 35 (t)\", 2, \"lightTank\"], [\"Type 95 Ha-Go\", 2, \"lightTank\"], [\"FCM 36\", 2, \"lightTank\"], [\"MKA\", 2, \"lightTank\"], [\"D1\", 2, \"lightTank\"], [\"M2\", 2, \"lightTank\"], [\"\\u0422-60\", 2, \"lightTank\"], [\"Cruiser Mk. II\", 2, \"lightTank\"], [\"\\u0422-26\", 2, \"lightTank\"], [\"7TP\", 2, \"lightTank\"], [\"Renault R35\", 2, \"lightTank\"], [\"Hotchkiss H35\", 2, \"lightTank\"], [\"M2 Light Tank\", 2, \"lightTank\"], [\"AMR 35\", 2, \"lightTank\"], [\"Vickers Mk. E Type B\", 2, \"lightTank\"]], \"hovertemplate\": \"color=l2_3<br>x=%{x}<br>y=%{y}<br>\\u0422\\u0430\\u043d\\u043a=%{customdata[0]}<br>\\u0423\\u0440\\u043e\\u0432\\u0435\\u043d\\u044c=%{customdata[1]}<br>\\u0422\\u0438\\u043f=%{customdata[2]}<extra></extra>\", \"legendgroup\": \"l2_3\", \"marker\": {\"color\": \"#00cc96\", \"symbol\": \"circle\"}, \"mode\": \"markers\", \"name\": \"l2_3\", \"orientation\": \"v\", \"showlegend\": true, \"type\": \"scatter\", \"x\": [-4.712899614294842, -1.9912623576110255, -1.7492859827819063, 1.655482903356675, -2.520394629560196, -2.772506575693233, -2.692132893115839, -2.2929774923667345, 1.6389218169094708, -5.277848783617596, -1.4920069231512054, -4.307580251386752, -4.532317896939509, -2.8232637623872088, -2.2870258739976173, -0.451442651009062, -0.09632555144518137, -4.962076010923042, -4.922472365218846, -4.056628761791251, -0.8864045867101557, -0.45524642153457034], \"xaxis\": \"x\", \"y\": [-1.1315807132610998, -5.166545425261157, -1.8986636176281517, -3.3731567558283073, -0.7461591597455347, 0.9563950217816963, -2.694542705320528, 1.0102645656072056, -3.0591785978916937, -3.9549351521661236, -4.145249931156291, -4.275873442248648, 0.6202762357273328, 2.4452121880923627, -1.8800545908308337, -4.495130276640052, -2.447064332665145, -3.802889551163322, -1.5055622856544366, 1.3380145583332597, -1.498128601407392, -4.157493590660635], \"yaxis\": \"y\"}, {\"customdata\": [[\"Type 89 I-Go/Chi-Ro\", 2, \"mediumTank\"]], \"hovertemplate\": \"color=l2_0<br>x=%{x}<br>y=%{y}<br>\\u0422\\u0430\\u043d\\u043a=%{customdata[0]}<br>\\u0423\\u0440\\u043e\\u0432\\u0435\\u043d\\u044c=%{customdata[1]}<br>\\u0422\\u0438\\u043f=%{customdata[2]}<extra></extra>\", \"legendgroup\": \"l2_0\", \"marker\": {\"color\": \"#ab63fa\", \"symbol\": \"circle\"}, \"mode\": \"markers\", \"name\": \"l2_0\", \"orientation\": \"v\", \"showlegend\": true, \"type\": \"scatter\", \"x\": [2.6891778058753366], \"xaxis\": \"x\", \"y\": [-4.222284086623144], \"yaxis\": \"y\"}],\n",
       "                        {\"legend\": {\"title\": {\"text\": \"color\"}, \"tracegroupgap\": 0}, \"margin\": {\"t\": 60}, \"template\": {\"data\": {\"bar\": [{\"error_x\": {\"color\": \"#2a3f5f\"}, \"error_y\": {\"color\": \"#2a3f5f\"}, \"marker\": {\"line\": {\"color\": \"#E5ECF6\", \"width\": 0.5}}, \"type\": \"bar\"}], \"barpolar\": [{\"marker\": {\"line\": {\"color\": \"#E5ECF6\", \"width\": 0.5}}, \"type\": \"barpolar\"}], \"carpet\": [{\"aaxis\": {\"endlinecolor\": \"#2a3f5f\", \"gridcolor\": \"white\", \"linecolor\": \"white\", \"minorgridcolor\": \"white\", \"startlinecolor\": \"#2a3f5f\"}, \"baxis\": {\"endlinecolor\": \"#2a3f5f\", \"gridcolor\": \"white\", \"linecolor\": \"white\", \"minorgridcolor\": \"white\", \"startlinecolor\": \"#2a3f5f\"}, \"type\": \"carpet\"}], \"choropleth\": [{\"colorbar\": {\"outlinewidth\": 0, \"ticks\": \"\"}, \"type\": \"choropleth\"}], \"contour\": [{\"colorbar\": {\"outlinewidth\": 0, \"ticks\": \"\"}, \"colorscale\": [[0.0, \"#0d0887\"], [0.1111111111111111, \"#46039f\"], [0.2222222222222222, \"#7201a8\"], [0.3333333333333333, \"#9c179e\"], [0.4444444444444444, \"#bd3786\"], [0.5555555555555556, \"#d8576b\"], [0.6666666666666666, \"#ed7953\"], [0.7777777777777778, \"#fb9f3a\"], [0.8888888888888888, \"#fdca26\"], [1.0, \"#f0f921\"]], \"type\": \"contour\"}], \"contourcarpet\": [{\"colorbar\": {\"outlinewidth\": 0, \"ticks\": \"\"}, \"type\": \"contourcarpet\"}], \"heatmap\": [{\"colorbar\": {\"outlinewidth\": 0, \"ticks\": \"\"}, \"colorscale\": [[0.0, \"#0d0887\"], [0.1111111111111111, \"#46039f\"], [0.2222222222222222, \"#7201a8\"], [0.3333333333333333, \"#9c179e\"], [0.4444444444444444, \"#bd3786\"], [0.5555555555555556, \"#d8576b\"], [0.6666666666666666, \"#ed7953\"], [0.7777777777777778, \"#fb9f3a\"], [0.8888888888888888, \"#fdca26\"], [1.0, \"#f0f921\"]], \"type\": \"heatmap\"}], \"heatmapgl\": [{\"colorbar\": {\"outlinewidth\": 0, \"ticks\": \"\"}, \"colorscale\": [[0.0, \"#0d0887\"], [0.1111111111111111, \"#46039f\"], [0.2222222222222222, \"#7201a8\"], [0.3333333333333333, \"#9c179e\"], [0.4444444444444444, \"#bd3786\"], [0.5555555555555556, \"#d8576b\"], [0.6666666666666666, \"#ed7953\"], [0.7777777777777778, \"#fb9f3a\"], [0.8888888888888888, \"#fdca26\"], [1.0, \"#f0f921\"]], \"type\": \"heatmapgl\"}], \"histogram\": [{\"marker\": {\"colorbar\": {\"outlinewidth\": 0, \"ticks\": \"\"}}, \"type\": \"histogram\"}], \"histogram2d\": [{\"colorbar\": {\"outlinewidth\": 0, \"ticks\": \"\"}, \"colorscale\": [[0.0, \"#0d0887\"], [0.1111111111111111, \"#46039f\"], [0.2222222222222222, \"#7201a8\"], [0.3333333333333333, \"#9c179e\"], [0.4444444444444444, \"#bd3786\"], [0.5555555555555556, \"#d8576b\"], [0.6666666666666666, \"#ed7953\"], [0.7777777777777778, \"#fb9f3a\"], [0.8888888888888888, \"#fdca26\"], [1.0, \"#f0f921\"]], \"type\": \"histogram2d\"}], \"histogram2dcontour\": [{\"colorbar\": {\"outlinewidth\": 0, \"ticks\": \"\"}, \"colorscale\": [[0.0, \"#0d0887\"], [0.1111111111111111, \"#46039f\"], [0.2222222222222222, \"#7201a8\"], [0.3333333333333333, \"#9c179e\"], [0.4444444444444444, \"#bd3786\"], [0.5555555555555556, \"#d8576b\"], [0.6666666666666666, \"#ed7953\"], [0.7777777777777778, \"#fb9f3a\"], [0.8888888888888888, \"#fdca26\"], [1.0, \"#f0f921\"]], \"type\": \"histogram2dcontour\"}], \"mesh3d\": [{\"colorbar\": {\"outlinewidth\": 0, \"ticks\": \"\"}, \"type\": \"mesh3d\"}], \"parcoords\": [{\"line\": {\"colorbar\": {\"outlinewidth\": 0, \"ticks\": \"\"}}, \"type\": \"parcoords\"}], \"pie\": [{\"automargin\": true, \"type\": \"pie\"}], \"scatter\": [{\"marker\": {\"colorbar\": {\"outlinewidth\": 0, \"ticks\": \"\"}}, \"type\": \"scatter\"}], \"scatter3d\": [{\"line\": {\"colorbar\": {\"outlinewidth\": 0, \"ticks\": \"\"}}, \"marker\": {\"colorbar\": {\"outlinewidth\": 0, \"ticks\": \"\"}}, \"type\": \"scatter3d\"}], \"scattercarpet\": [{\"marker\": {\"colorbar\": {\"outlinewidth\": 0, \"ticks\": \"\"}}, \"type\": \"scattercarpet\"}], \"scattergeo\": [{\"marker\": {\"colorbar\": {\"outlinewidth\": 0, \"ticks\": \"\"}}, \"type\": \"scattergeo\"}], \"scattergl\": [{\"marker\": {\"colorbar\": {\"outlinewidth\": 0, \"ticks\": \"\"}}, \"type\": \"scattergl\"}], \"scattermapbox\": [{\"marker\": {\"colorbar\": {\"outlinewidth\": 0, \"ticks\": \"\"}}, \"type\": \"scattermapbox\"}], \"scatterpolar\": [{\"marker\": {\"colorbar\": {\"outlinewidth\": 0, \"ticks\": \"\"}}, \"type\": \"scatterpolar\"}], \"scatterpolargl\": [{\"marker\": {\"colorbar\": {\"outlinewidth\": 0, \"ticks\": \"\"}}, \"type\": \"scatterpolargl\"}], \"scatterternary\": [{\"marker\": {\"colorbar\": {\"outlinewidth\": 0, \"ticks\": \"\"}}, \"type\": \"scatterternary\"}], \"surface\": [{\"colorbar\": {\"outlinewidth\": 0, \"ticks\": \"\"}, \"colorscale\": [[0.0, \"#0d0887\"], [0.1111111111111111, \"#46039f\"], [0.2222222222222222, \"#7201a8\"], [0.3333333333333333, \"#9c179e\"], [0.4444444444444444, \"#bd3786\"], [0.5555555555555556, \"#d8576b\"], [0.6666666666666666, \"#ed7953\"], [0.7777777777777778, \"#fb9f3a\"], [0.8888888888888888, \"#fdca26\"], [1.0, \"#f0f921\"]], \"type\": \"surface\"}], \"table\": [{\"cells\": {\"fill\": {\"color\": \"#EBF0F8\"}, \"line\": {\"color\": \"white\"}}, \"header\": {\"fill\": {\"color\": \"#C8D4E3\"}, \"line\": {\"color\": \"white\"}}, \"type\": \"table\"}]}, \"layout\": {\"annotationdefaults\": {\"arrowcolor\": \"#2a3f5f\", \"arrowhead\": 0, \"arrowwidth\": 1}, \"coloraxis\": {\"colorbar\": {\"outlinewidth\": 0, \"ticks\": \"\"}}, \"colorscale\": {\"diverging\": [[0, \"#8e0152\"], [0.1, \"#c51b7d\"], [0.2, \"#de77ae\"], [0.3, \"#f1b6da\"], [0.4, \"#fde0ef\"], [0.5, \"#f7f7f7\"], [0.6, \"#e6f5d0\"], [0.7, \"#b8e186\"], [0.8, \"#7fbc41\"], [0.9, \"#4d9221\"], [1, \"#276419\"]], \"sequential\": [[0.0, \"#0d0887\"], [0.1111111111111111, \"#46039f\"], [0.2222222222222222, \"#7201a8\"], [0.3333333333333333, \"#9c179e\"], [0.4444444444444444, \"#bd3786\"], [0.5555555555555556, \"#d8576b\"], [0.6666666666666666, \"#ed7953\"], [0.7777777777777778, \"#fb9f3a\"], [0.8888888888888888, \"#fdca26\"], [1.0, \"#f0f921\"]], \"sequentialminus\": [[0.0, \"#0d0887\"], [0.1111111111111111, \"#46039f\"], [0.2222222222222222, \"#7201a8\"], [0.3333333333333333, \"#9c179e\"], [0.4444444444444444, \"#bd3786\"], [0.5555555555555556, \"#d8576b\"], [0.6666666666666666, \"#ed7953\"], [0.7777777777777778, \"#fb9f3a\"], [0.8888888888888888, \"#fdca26\"], [1.0, \"#f0f921\"]]}, \"colorway\": [\"#636efa\", \"#EF553B\", \"#00cc96\", \"#ab63fa\", \"#FFA15A\", \"#19d3f3\", \"#FF6692\", \"#B6E880\", \"#FF97FF\", \"#FECB52\"], \"font\": {\"color\": \"#2a3f5f\"}, \"geo\": {\"bgcolor\": \"white\", \"lakecolor\": \"white\", \"landcolor\": \"#E5ECF6\", \"showlakes\": true, \"showland\": true, \"subunitcolor\": \"white\"}, \"hoverlabel\": {\"align\": \"left\"}, \"hovermode\": \"closest\", \"mapbox\": {\"style\": \"light\"}, \"paper_bgcolor\": \"white\", \"plot_bgcolor\": \"#E5ECF6\", \"polar\": {\"angularaxis\": {\"gridcolor\": \"white\", \"linecolor\": \"white\", \"ticks\": \"\"}, \"bgcolor\": \"#E5ECF6\", \"radialaxis\": {\"gridcolor\": \"white\", \"linecolor\": \"white\", \"ticks\": \"\"}}, \"scene\": {\"xaxis\": {\"backgroundcolor\": \"#E5ECF6\", \"gridcolor\": \"white\", \"gridwidth\": 2, \"linecolor\": \"white\", \"showbackground\": true, \"ticks\": \"\", \"zerolinecolor\": \"white\"}, \"yaxis\": {\"backgroundcolor\": \"#E5ECF6\", \"gridcolor\": \"white\", \"gridwidth\": 2, \"linecolor\": \"white\", \"showbackground\": true, \"ticks\": \"\", \"zerolinecolor\": \"white\"}, \"zaxis\": {\"backgroundcolor\": \"#E5ECF6\", \"gridcolor\": \"white\", \"gridwidth\": 2, \"linecolor\": \"white\", \"showbackground\": true, \"ticks\": \"\", \"zerolinecolor\": \"white\"}}, \"shapedefaults\": {\"line\": {\"color\": \"#2a3f5f\"}}, \"ternary\": {\"aaxis\": {\"gridcolor\": \"white\", \"linecolor\": \"white\", \"ticks\": \"\"}, \"baxis\": {\"gridcolor\": \"white\", \"linecolor\": \"white\", \"ticks\": \"\"}, \"bgcolor\": \"#E5ECF6\", \"caxis\": {\"gridcolor\": \"white\", \"linecolor\": \"white\", \"ticks\": \"\"}}, \"title\": {\"x\": 0.05}, \"xaxis\": {\"automargin\": true, \"gridcolor\": \"white\", \"linecolor\": \"white\", \"ticks\": \"\", \"title\": {\"standoff\": 15}, \"zerolinecolor\": \"white\", \"zerolinewidth\": 2}, \"yaxis\": {\"automargin\": true, \"gridcolor\": \"white\", \"linecolor\": \"white\", \"ticks\": \"\", \"title\": {\"standoff\": 15}, \"zerolinecolor\": \"white\", \"zerolinewidth\": 2}}}, \"xaxis\": {\"anchor\": \"y\", \"domain\": [0.0, 1.0], \"title\": {\"text\": \"x\"}}, \"yaxis\": {\"anchor\": \"x\", \"domain\": [0.0, 1.0], \"title\": {\"text\": \"y\"}}},\n",
       "                        {\"responsive\": true}\n",
       "                    ).then(function(){\n",
       "                            \n",
       "var gd = document.getElementById('b932a301-2801-4abc-aac3-c9276f9ba859');\n",
       "var x = new MutationObserver(function (mutations, observer) {{\n",
       "        var display = window.getComputedStyle(gd).display;\n",
       "        if (!display || display === 'none') {{\n",
       "            console.log([gd, 'removed!']);\n",
       "            Plotly.purge(gd);\n",
       "            observer.disconnect();\n",
       "        }}\n",
       "}});\n",
       "\n",
       "// Listen for the removal of the full notebook cells\n",
       "var notebookContainer = gd.closest('#notebook-container');\n",
       "if (notebookContainer) {{\n",
       "    x.observe(notebookContainer, {childList: true});\n",
       "}}\n",
       "\n",
       "// Listen for the clearing of the current output cell\n",
       "var outputEl = gd.closest('.output');\n",
       "if (outputEl) {{\n",
       "    x.observe(outputEl, {childList: true});\n",
       "}}\n",
       "\n",
       "                        })\n",
       "                };\n",
       "                });\n",
       "            </script>\n",
       "        </div>"
      ]
     },
     "metadata": {},
     "output_type": "display_data"
    }
   ],
   "source": [
    "# Manual hyperparameters optimization\n",
    "plot_clusters(tanks, 4, 2)"
   ]
  },
  {
   "cell_type": "code",
   "execution_count": 76,
   "metadata": {
    "scrolled": false
   },
   "outputs": [
    {
     "data": {
      "text/html": [
       "<div>\n",
       "<style scoped>\n",
       "    .dataframe tbody tr th:only-of-type {\n",
       "        vertical-align: middle;\n",
       "    }\n",
       "\n",
       "    .dataframe tbody tr th {\n",
       "        vertical-align: top;\n",
       "    }\n",
       "\n",
       "    .dataframe thead th {\n",
       "        text-align: right;\n",
       "    }\n",
       "</style>\n",
       "<table border=\"1\" class=\"dataframe\">\n",
       "  <thead>\n",
       "    <tr style=\"text-align: right;\">\n",
       "      <th></th>\n",
       "      <th>tag</th>\n",
       "      <th>cluster</th>\n",
       "    </tr>\n",
       "  </thead>\n",
       "  <tbody>\n",
       "    <tr>\n",
       "      <th>0</th>\n",
       "      <td>R08_BT-2</td>\n",
       "      <td>l2_1</td>\n",
       "    </tr>\n",
       "    <tr>\n",
       "      <th>1</th>\n",
       "      <td>G21_PanzerJager_I</td>\n",
       "      <td>l2_2</td>\n",
       "    </tr>\n",
       "    <tr>\n",
       "      <th>2</th>\n",
       "      <td>G33_H39_captured</td>\n",
       "      <td>l2_3</td>\n",
       "    </tr>\n",
       "    <tr>\n",
       "      <th>3</th>\n",
       "      <td>R125_T_45</td>\n",
       "      <td>l2_3</td>\n",
       "    </tr>\n",
       "    <tr>\n",
       "      <th>4</th>\n",
       "      <td>A74_T1_E6</td>\n",
       "      <td>l2_1</td>\n",
       "    </tr>\n",
       "    <tr>\n",
       "      <th>5</th>\n",
       "      <td>A24_T2_med</td>\n",
       "      <td>l2_1</td>\n",
       "    </tr>\n",
       "    <tr>\n",
       "      <th>6</th>\n",
       "      <td>Cz03_LT_vz35</td>\n",
       "      <td>l2_3</td>\n",
       "    </tr>\n",
       "    <tr>\n",
       "      <th>7</th>\n",
       "      <td>R10_AT-1</td>\n",
       "      <td>l2_2</td>\n",
       "    </tr>\n",
       "    <tr>\n",
       "      <th>8</th>\n",
       "      <td>A19_T2_lt</td>\n",
       "      <td>l2_1</td>\n",
       "    </tr>\n",
       "    <tr>\n",
       "      <th>9</th>\n",
       "      <td>S09_L_120_TD</td>\n",
       "      <td>l2_1</td>\n",
       "    </tr>\n",
       "    <tr>\n",
       "      <th>10</th>\n",
       "      <td>J15_Chi_Ni</td>\n",
       "      <td>l2_3</td>\n",
       "    </tr>\n",
       "    <tr>\n",
       "      <th>11</th>\n",
       "      <td>It05_Carro_L6_40</td>\n",
       "      <td>l2_3</td>\n",
       "    </tr>\n",
       "    <tr>\n",
       "      <th>12</th>\n",
       "      <td>G06_PzII</td>\n",
       "      <td>l2_3</td>\n",
       "    </tr>\n",
       "    <tr>\n",
       "      <th>13</th>\n",
       "      <td>J02_Te_Ke</td>\n",
       "      <td>l2_1</td>\n",
       "    </tr>\n",
       "    <tr>\n",
       "      <th>14</th>\n",
       "      <td>S15_L_60</td>\n",
       "      <td>l2_1</td>\n",
       "    </tr>\n",
       "    <tr>\n",
       "      <th>15</th>\n",
       "      <td>GB39_Universal_CarrierQF2</td>\n",
       "      <td>l2_2</td>\n",
       "    </tr>\n",
       "    <tr>\n",
       "      <th>16</th>\n",
       "      <td>It06_M14_41</td>\n",
       "      <td>l2_3</td>\n",
       "    </tr>\n",
       "    <tr>\n",
       "      <th>17</th>\n",
       "      <td>G07_Pz35t</td>\n",
       "      <td>l2_3</td>\n",
       "    </tr>\n",
       "    <tr>\n",
       "      <th>18</th>\n",
       "      <td>J03_Ha_Go</td>\n",
       "      <td>l2_3</td>\n",
       "    </tr>\n",
       "    <tr>\n",
       "      <th>19</th>\n",
       "      <td>F50_FCM36_20t</td>\n",
       "      <td>l2_3</td>\n",
       "    </tr>\n",
       "    <tr>\n",
       "      <th>20</th>\n",
       "      <td>G139_MKA</td>\n",
       "      <td>l2_3</td>\n",
       "    </tr>\n",
       "    <tr>\n",
       "      <th>21</th>\n",
       "      <td>F02_D1</td>\n",
       "      <td>l2_3</td>\n",
       "    </tr>\n",
       "    <tr>\n",
       "      <th>22</th>\n",
       "      <td>GB14_M2</td>\n",
       "      <td>l2_3</td>\n",
       "    </tr>\n",
       "    <tr>\n",
       "      <th>23</th>\n",
       "      <td>R42_T-60</td>\n",
       "      <td>l2_3</td>\n",
       "    </tr>\n",
       "    <tr>\n",
       "      <th>24</th>\n",
       "      <td>GB76_Mk_VIC</td>\n",
       "      <td>l2_1</td>\n",
       "    </tr>\n",
       "    <tr>\n",
       "      <th>25</th>\n",
       "      <td>GB69_Cruiser_Mk_II</td>\n",
       "      <td>l2_3</td>\n",
       "    </tr>\n",
       "    <tr>\n",
       "      <th>26</th>\n",
       "      <td>Ch30_T-26G_FT</td>\n",
       "      <td>l2_2</td>\n",
       "    </tr>\n",
       "    <tr>\n",
       "      <th>27</th>\n",
       "      <td>F30_RenaultFT_AC</td>\n",
       "      <td>l2_2</td>\n",
       "    </tr>\n",
       "    <tr>\n",
       "      <th>28</th>\n",
       "      <td>A93_T7_Combat_Car</td>\n",
       "      <td>l2_1</td>\n",
       "    </tr>\n",
       "    <tr>\n",
       "      <th>29</th>\n",
       "      <td>A46_T3</td>\n",
       "      <td>l2_2</td>\n",
       "    </tr>\n",
       "    <tr>\n",
       "      <th>30</th>\n",
       "      <td>R09_T-26</td>\n",
       "      <td>l2_3</td>\n",
       "    </tr>\n",
       "    <tr>\n",
       "      <th>31</th>\n",
       "      <td>R84_Tetrarch_LL</td>\n",
       "      <td>l2_1</td>\n",
       "    </tr>\n",
       "    <tr>\n",
       "      <th>32</th>\n",
       "      <td>GB05_Vickers_Medium_Mk_II</td>\n",
       "      <td>l2_1</td>\n",
       "    </tr>\n",
       "    <tr>\n",
       "      <th>33</th>\n",
       "      <td>S03_Strv_M38</td>\n",
       "      <td>l2_1</td>\n",
       "    </tr>\n",
       "    <tr>\n",
       "      <th>34</th>\n",
       "      <td>Pl09_7TP</td>\n",
       "      <td>l2_3</td>\n",
       "    </tr>\n",
       "    <tr>\n",
       "      <th>35</th>\n",
       "      <td>F49_RenaultR35</td>\n",
       "      <td>l2_3</td>\n",
       "    </tr>\n",
       "    <tr>\n",
       "      <th>36</th>\n",
       "      <td>F12_Hotchkiss_H35</td>\n",
       "      <td>l2_3</td>\n",
       "    </tr>\n",
       "    <tr>\n",
       "      <th>37</th>\n",
       "      <td>A02_M2_lt</td>\n",
       "      <td>l2_3</td>\n",
       "    </tr>\n",
       "    <tr>\n",
       "      <th>38</th>\n",
       "      <td>J26_Type_89</td>\n",
       "      <td>l2_0</td>\n",
       "    </tr>\n",
       "    <tr>\n",
       "      <th>39</th>\n",
       "      <td>F42_AMR_35</td>\n",
       "      <td>l2_3</td>\n",
       "    </tr>\n",
       "    <tr>\n",
       "      <th>40</th>\n",
       "      <td>Pl01_TKS_20mm</td>\n",
       "      <td>l2_1</td>\n",
       "    </tr>\n",
       "    <tr>\n",
       "      <th>41</th>\n",
       "      <td>Ch07_Vickers_MkE_Type_BT26</td>\n",
       "      <td>l2_3</td>\n",
       "    </tr>\n",
       "    <tr>\n",
       "      <th>42</th>\n",
       "      <td>G108_PzKpfwII_AusfD</td>\n",
       "      <td>l2_1</td>\n",
       "    </tr>\n",
       "    <tr>\n",
       "      <th>43</th>\n",
       "      <td>F111_AM39_Gendron_Somua</td>\n",
       "      <td>l2_1</td>\n",
       "    </tr>\n",
       "    <tr>\n",
       "      <th>44</th>\n",
       "      <td>G53_PzI</td>\n",
       "      <td>l2_1</td>\n",
       "    </tr>\n",
       "  </tbody>\n",
       "</table>\n",
       "</div>"
      ],
      "text/plain": [
       "                           tag cluster\n",
       "0                     R08_BT-2    l2_1\n",
       "1            G21_PanzerJager_I    l2_2\n",
       "2             G33_H39_captured    l2_3\n",
       "3                    R125_T_45    l2_3\n",
       "4                    A74_T1_E6    l2_1\n",
       "5                   A24_T2_med    l2_1\n",
       "6                 Cz03_LT_vz35    l2_3\n",
       "7                     R10_AT-1    l2_2\n",
       "8                    A19_T2_lt    l2_1\n",
       "9                 S09_L_120_TD    l2_1\n",
       "10                  J15_Chi_Ni    l2_3\n",
       "11            It05_Carro_L6_40    l2_3\n",
       "12                    G06_PzII    l2_3\n",
       "13                   J02_Te_Ke    l2_1\n",
       "14                    S15_L_60    l2_1\n",
       "15   GB39_Universal_CarrierQF2    l2_2\n",
       "16                 It06_M14_41    l2_3\n",
       "17                   G07_Pz35t    l2_3\n",
       "18                   J03_Ha_Go    l2_3\n",
       "19               F50_FCM36_20t    l2_3\n",
       "20                    G139_MKA    l2_3\n",
       "21                      F02_D1    l2_3\n",
       "22                     GB14_M2    l2_3\n",
       "23                    R42_T-60    l2_3\n",
       "24                 GB76_Mk_VIC    l2_1\n",
       "25          GB69_Cruiser_Mk_II    l2_3\n",
       "26               Ch30_T-26G_FT    l2_2\n",
       "27            F30_RenaultFT_AC    l2_2\n",
       "28           A93_T7_Combat_Car    l2_1\n",
       "29                      A46_T3    l2_2\n",
       "30                    R09_T-26    l2_3\n",
       "31             R84_Tetrarch_LL    l2_1\n",
       "32   GB05_Vickers_Medium_Mk_II    l2_1\n",
       "33                S03_Strv_M38    l2_1\n",
       "34                    Pl09_7TP    l2_3\n",
       "35              F49_RenaultR35    l2_3\n",
       "36           F12_Hotchkiss_H35    l2_3\n",
       "37                   A02_M2_lt    l2_3\n",
       "38                 J26_Type_89    l2_0\n",
       "39                  F42_AMR_35    l2_3\n",
       "40               Pl01_TKS_20mm    l2_1\n",
       "41  Ch07_Vickers_MkE_Type_BT26    l2_3\n",
       "42         G108_PzKpfwII_AusfD    l2_1\n",
       "43     F111_AM39_Gendron_Somua    l2_1\n",
       "44                     G53_PzI    l2_1"
      ]
     },
     "execution_count": 76,
     "metadata": {},
     "output_type": "execute_result"
    }
   ],
   "source": [
    "cl = cluster(tanks, 4, 2)\n",
    "cl"
   ]
  },
  {
   "cell_type": "code",
   "execution_count": 77,
   "metadata": {},
   "outputs": [
    {
     "data": {
      "text/plain": [
       "cluster\n",
       "l2_0     1\n",
       "l2_1    16\n",
       "l2_2     6\n",
       "l2_3    22\n",
       "Name: tag, dtype: int64"
      ]
     },
     "execution_count": 77,
     "metadata": {},
     "output_type": "execute_result"
    }
   ],
   "source": [
    "# Check balance\n",
    "cl.groupby(\"cluster\").tag.count()"
   ]
  },
  {
   "cell_type": "code",
   "execution_count": 78,
   "metadata": {},
   "outputs": [
    {
     "data": {
      "text/html": [
       "<div>\n",
       "<style scoped>\n",
       "    .dataframe tbody tr th:only-of-type {\n",
       "        vertical-align: middle;\n",
       "    }\n",
       "\n",
       "    .dataframe tbody tr th {\n",
       "        vertical-align: top;\n",
       "    }\n",
       "\n",
       "    .dataframe thead th {\n",
       "        text-align: right;\n",
       "    }\n",
       "</style>\n",
       "<table border=\"1\" class=\"dataframe\">\n",
       "  <thead>\n",
       "    <tr style=\"text-align: right;\">\n",
       "      <th></th>\n",
       "      <th>tag</th>\n",
       "      <th>cluster</th>\n",
       "    </tr>\n",
       "  </thead>\n",
       "  <tbody>\n",
       "    <tr>\n",
       "      <th>38</th>\n",
       "      <td>J26_Type_89</td>\n",
       "      <td>l2_0</td>\n",
       "    </tr>\n",
       "  </tbody>\n",
       "</table>\n",
       "</div>"
      ],
      "text/plain": [
       "            tag cluster\n",
       "38  J26_Type_89    l2_0"
      ]
     },
     "execution_count": 78,
     "metadata": {},
     "output_type": "execute_result"
    }
   ],
   "source": [
    "cl[cl.cluster == \"l2_0\"]"
   ]
  },
  {
   "cell_type": "code",
   "execution_count": 81,
   "metadata": {},
   "outputs": [],
   "source": [
    "cl = cl.replace(\"l2_0\", \"l2_3\")"
   ]
  },
  {
   "cell_type": "code",
   "execution_count": 82,
   "metadata": {},
   "outputs": [],
   "source": [
    "tanks_clusters.append(cl)"
   ]
  },
  {
   "cell_type": "markdown",
   "metadata": {},
   "source": [
    "### Level 3"
   ]
  },
  {
   "cell_type": "code",
   "execution_count": 86,
   "metadata": {},
   "outputs": [
    {
     "data": {
      "application/vnd.plotly.v1+json": {
       "config": {
        "plotlyServerURL": "https://plot.ly"
       },
       "data": [
        {
         "customdata": [
          [
           "Type 97 Chi-Ha",
           3,
           "lightTank"
          ],
          [
           "Pz.Kpfw. 38 (t)",
           3,
           "lightTank"
          ],
          [
           "Т-46",
           3,
           "lightTank"
          ],
          [
           "43 M. Toldi III",
           3,
           "lightTank"
          ],
          [
           "Pz.Kpfw. I Ausf. C",
           3,
           "lightTank"
          ],
          [
           "Type 98 Ke-Ni",
           3,
           "lightTank"
          ],
          [
           "M3 Stuart",
           3,
           "lightTank"
          ],
          [
           "М3 лёгкий",
           3,
           "lightTank"
          ],
          [
           "Т-70",
           3,
           "lightTank"
          ],
          [
           "MTLS-1G14",
           3,
           "lightTank"
          ],
          [
           "Type 2597 Chi-Ha",
           3,
           "lightTank"
          ],
          [
           "Pz.Kpfw. III Ausf. E",
           3,
           "lightTank"
          ],
          [
           "Т-127",
           3,
           "lightTank"
          ],
          [
           "ЛТП",
           3,
           "lightTank"
          ],
          [
           "Pz.Kpfw. II Ausf. G",
           3,
           "lightTank"
          ],
          [
           "БТ-7 артиллерийский",
           3,
           "lightTank"
          ],
          [
           "Pz.Kpfw. IV Ausf. A",
           3,
           "mediumTank"
          ],
          [
           "M22 Locust",
           3,
           "lightTank"
          ],
          [
           "Stuart I-IV",
           3,
           "lightTank"
          ],
          [
           "Cruiser Mk. III",
           3,
           "lightTank"
          ],
          [
           "M2 Medium Tank",
           3,
           "mediumTank"
          ],
          [
           "БТ-СВ",
           3,
           "lightTank"
          ],
          [
           "БТ-5",
           3,
           "lightTank"
          ],
          [
           "Vickers Medium Mk. III",
           3,
           "mediumTank"
          ],
          [
           "Großtraktor - Krupp",
           3,
           "mediumTank"
          ],
          [
           "10TP",
           3,
           "lightTank"
          ],
          [
           "Т-116",
           3,
           "lightTank"
          ],
          [
           "Pz.Kpfw. T 15",
           3,
           "lightTank"
          ],
          [
           "Type 91 Heavy",
           3,
           "heavyTank"
          ],
          [
           "Т-29",
           3,
           "mediumTank"
          ]
         ],
         "hovertemplate": "color=l3_2<br>x=%{x}<br>y=%{y}<br>Танк=%{customdata[0]}<br>Уровень=%{customdata[1]}<br>Тип=%{customdata[2]}<extra></extra>",
         "legendgroup": "l3_2",
         "marker": {
          "color": "#636efa",
          "symbol": "circle"
         },
         "mode": "markers",
         "name": "l3_2",
         "orientation": "v",
         "showlegend": true,
         "type": "scatter",
         "x": [
          2.187397802667833,
          -0.5738825456641136,
          -2.381506170858221,
          -1.3426328120064281,
          -4.492308428925966,
          0.15194801074460842,
          -4.359921665212564,
          -1.842186102426743,
          -0.8742201179339719,
          -2.103883718830974,
          2.243774430261253,
          -2.325075752924846,
          -0.8862147135872419,
          -0.9353047816940947,
          -4.944627892868828,
          -3.84145552182821,
          0.9183814817145816,
          -2.913540354833811,
          -0.5745660635919698,
          1.1452039173842101,
          3.4263740004146435,
          -3.314501946256852,
          -3.0026737162453925,
          1.315182113925874,
          1.1662711461363104,
          1.1556521416577765,
          -3.2048594747303865,
          -3.1543604156691627,
          2.8103126120202457,
          0.17471858751799463
         ],
         "xaxis": "x",
         "y": [
          0.895302042991007,
          0.17263650003889727,
          0.7264056909898021,
          -2.730455870979218,
          -0.6721267161897239,
          1.6878568440850967,
          -0.34903527301544235,
          -2.661256329335764,
          -0.9803008204975079,
          -2.8268626121498417,
          0.7737325557515754,
          0.4545647698752053,
          -0.4787789664349765,
          -1.02566056922786,
          -0.25737332306787575,
          1.8772793759625934,
          -0.5691925260099153,
          -0.8123844255825761,
          1.2220826154200504,
          0.9979653440745396,
          1.272798487245695,
          -2.1668764651046626,
          1.0403603831430226,
          -0.6375805820195092,
          -1.7312669017996667,
          1.2430646937800225,
          -1.5166893589483232,
          -0.6276187813514893,
          -0.5377282971333482,
          -2.1304137975276896
         ],
         "yaxis": "y"
        },
        {
         "customdata": [
          [
           "Renault UE 57",
           3,
           "AT-SPG"
          ],
          [
           "Ikv 72",
           3,
           "AT-SPG"
          ],
          [
           "M3G FT",
           3,
           "AT-SPG"
          ],
          [
           "T56 GMC",
           3,
           "AT-SPG"
          ],
          [
           "FCM 36 Pak 40",
           3,
           "AT-SPG"
          ],
          [
           "СУ-76И",
           3,
           "AT-SPG"
          ],
          [
           "Marder II",
           3,
           "AT-SPG"
          ]
         ],
         "hovertemplate": "color=l3_1<br>x=%{x}<br>y=%{y}<br>Танк=%{customdata[0]}<br>Уровень=%{customdata[1]}<br>Тип=%{customdata[2]}<extra></extra>",
         "legendgroup": "l3_1",
         "marker": {
          "color": "#EF553B",
          "symbol": "circle"
         },
         "mode": "markers",
         "name": "l3_1",
         "orientation": "v",
         "showlegend": true,
         "type": "scatter",
         "x": [
          4.924081423295069,
          5.211223447189026,
          4.609393273747797,
          4.198063758458641,
          4.412041130108318,
          3.541773554494059,
          4.13688546666986
         ],
         "xaxis": "x",
         "y": [
          -2.9386355932326462,
          -3.540979421711735,
          -3.5485920991472457,
          -4.067165546811665,
          -1.047161443659296,
          -4.270557823956281,
          -3.7128023727101995
         ],
         "yaxis": "y"
        },
        {
         "customdata": [
          [
           "LT vz. 38",
           3,
           "lightTank"
          ],
          [
           "Somua S35",
           3,
           "mediumTank"
          ],
          [
           "AMX 38",
           3,
           "lightTank"
          ],
          [
           "Pz.Kpfw. S35 739 (f)",
           3,
           "mediumTank"
          ],
          [
           "Valentine",
           3,
           "lightTank"
          ],
          [
           "Pz.Kpfw. II Ausf. J",
           3,
           "lightTank"
          ],
          [
           "D2",
           3,
           "mediumTank"
          ],
          [
           "M15/42",
           3,
           "mediumTank"
          ],
          [
           "Strv m/40L",
           3,
           "lightTank"
          ]
         ],
         "hovertemplate": "color=l3_0<br>x=%{x}<br>y=%{y}<br>Танк=%{customdata[0]}<br>Уровень=%{customdata[1]}<br>Тип=%{customdata[2]}<extra></extra>",
         "legendgroup": "l3_0",
         "marker": {
          "color": "#00cc96",
          "symbol": "circle"
         },
         "mode": "markers",
         "name": "l3_0",
         "orientation": "v",
         "showlegend": true,
         "type": "scatter",
         "x": [
          1.3254027279977367,
          -0.7012855111249193,
          -0.05105079846296333,
          -1.1600271955361026,
          0.6720368058977442,
          -1.3948867647174956,
          -0.3460340355842139,
          0.6569205651713953,
          0.33796810404049443
         ],
         "xaxis": "x",
         "y": [
          3.349717712612016,
          2.741836999094899,
          4.923112243236762,
          2.9281294803512496,
          4.451593778886894,
          5.238407622782665,
          4.306140430552442,
          2.8518507199216963,
          2.6826576268083313
         ],
         "yaxis": "y"
        }
       ],
       "layout": {
        "legend": {
         "title": {
          "text": "color"
         },
         "tracegroupgap": 0
        },
        "margin": {
         "t": 60
        },
        "template": {
         "data": {
          "bar": [
           {
            "error_x": {
             "color": "#2a3f5f"
            },
            "error_y": {
             "color": "#2a3f5f"
            },
            "marker": {
             "line": {
              "color": "#E5ECF6",
              "width": 0.5
             }
            },
            "type": "bar"
           }
          ],
          "barpolar": [
           {
            "marker": {
             "line": {
              "color": "#E5ECF6",
              "width": 0.5
             }
            },
            "type": "barpolar"
           }
          ],
          "carpet": [
           {
            "aaxis": {
             "endlinecolor": "#2a3f5f",
             "gridcolor": "white",
             "linecolor": "white",
             "minorgridcolor": "white",
             "startlinecolor": "#2a3f5f"
            },
            "baxis": {
             "endlinecolor": "#2a3f5f",
             "gridcolor": "white",
             "linecolor": "white",
             "minorgridcolor": "white",
             "startlinecolor": "#2a3f5f"
            },
            "type": "carpet"
           }
          ],
          "choropleth": [
           {
            "colorbar": {
             "outlinewidth": 0,
             "ticks": ""
            },
            "type": "choropleth"
           }
          ],
          "contour": [
           {
            "colorbar": {
             "outlinewidth": 0,
             "ticks": ""
            },
            "colorscale": [
             [
              0,
              "#0d0887"
             ],
             [
              0.1111111111111111,
              "#46039f"
             ],
             [
              0.2222222222222222,
              "#7201a8"
             ],
             [
              0.3333333333333333,
              "#9c179e"
             ],
             [
              0.4444444444444444,
              "#bd3786"
             ],
             [
              0.5555555555555556,
              "#d8576b"
             ],
             [
              0.6666666666666666,
              "#ed7953"
             ],
             [
              0.7777777777777778,
              "#fb9f3a"
             ],
             [
              0.8888888888888888,
              "#fdca26"
             ],
             [
              1,
              "#f0f921"
             ]
            ],
            "type": "contour"
           }
          ],
          "contourcarpet": [
           {
            "colorbar": {
             "outlinewidth": 0,
             "ticks": ""
            },
            "type": "contourcarpet"
           }
          ],
          "heatmap": [
           {
            "colorbar": {
             "outlinewidth": 0,
             "ticks": ""
            },
            "colorscale": [
             [
              0,
              "#0d0887"
             ],
             [
              0.1111111111111111,
              "#46039f"
             ],
             [
              0.2222222222222222,
              "#7201a8"
             ],
             [
              0.3333333333333333,
              "#9c179e"
             ],
             [
              0.4444444444444444,
              "#bd3786"
             ],
             [
              0.5555555555555556,
              "#d8576b"
             ],
             [
              0.6666666666666666,
              "#ed7953"
             ],
             [
              0.7777777777777778,
              "#fb9f3a"
             ],
             [
              0.8888888888888888,
              "#fdca26"
             ],
             [
              1,
              "#f0f921"
             ]
            ],
            "type": "heatmap"
           }
          ],
          "heatmapgl": [
           {
            "colorbar": {
             "outlinewidth": 0,
             "ticks": ""
            },
            "colorscale": [
             [
              0,
              "#0d0887"
             ],
             [
              0.1111111111111111,
              "#46039f"
             ],
             [
              0.2222222222222222,
              "#7201a8"
             ],
             [
              0.3333333333333333,
              "#9c179e"
             ],
             [
              0.4444444444444444,
              "#bd3786"
             ],
             [
              0.5555555555555556,
              "#d8576b"
             ],
             [
              0.6666666666666666,
              "#ed7953"
             ],
             [
              0.7777777777777778,
              "#fb9f3a"
             ],
             [
              0.8888888888888888,
              "#fdca26"
             ],
             [
              1,
              "#f0f921"
             ]
            ],
            "type": "heatmapgl"
           }
          ],
          "histogram": [
           {
            "marker": {
             "colorbar": {
              "outlinewidth": 0,
              "ticks": ""
             }
            },
            "type": "histogram"
           }
          ],
          "histogram2d": [
           {
            "colorbar": {
             "outlinewidth": 0,
             "ticks": ""
            },
            "colorscale": [
             [
              0,
              "#0d0887"
             ],
             [
              0.1111111111111111,
              "#46039f"
             ],
             [
              0.2222222222222222,
              "#7201a8"
             ],
             [
              0.3333333333333333,
              "#9c179e"
             ],
             [
              0.4444444444444444,
              "#bd3786"
             ],
             [
              0.5555555555555556,
              "#d8576b"
             ],
             [
              0.6666666666666666,
              "#ed7953"
             ],
             [
              0.7777777777777778,
              "#fb9f3a"
             ],
             [
              0.8888888888888888,
              "#fdca26"
             ],
             [
              1,
              "#f0f921"
             ]
            ],
            "type": "histogram2d"
           }
          ],
          "histogram2dcontour": [
           {
            "colorbar": {
             "outlinewidth": 0,
             "ticks": ""
            },
            "colorscale": [
             [
              0,
              "#0d0887"
             ],
             [
              0.1111111111111111,
              "#46039f"
             ],
             [
              0.2222222222222222,
              "#7201a8"
             ],
             [
              0.3333333333333333,
              "#9c179e"
             ],
             [
              0.4444444444444444,
              "#bd3786"
             ],
             [
              0.5555555555555556,
              "#d8576b"
             ],
             [
              0.6666666666666666,
              "#ed7953"
             ],
             [
              0.7777777777777778,
              "#fb9f3a"
             ],
             [
              0.8888888888888888,
              "#fdca26"
             ],
             [
              1,
              "#f0f921"
             ]
            ],
            "type": "histogram2dcontour"
           }
          ],
          "mesh3d": [
           {
            "colorbar": {
             "outlinewidth": 0,
             "ticks": ""
            },
            "type": "mesh3d"
           }
          ],
          "parcoords": [
           {
            "line": {
             "colorbar": {
              "outlinewidth": 0,
              "ticks": ""
             }
            },
            "type": "parcoords"
           }
          ],
          "pie": [
           {
            "automargin": true,
            "type": "pie"
           }
          ],
          "scatter": [
           {
            "marker": {
             "colorbar": {
              "outlinewidth": 0,
              "ticks": ""
             }
            },
            "type": "scatter"
           }
          ],
          "scatter3d": [
           {
            "line": {
             "colorbar": {
              "outlinewidth": 0,
              "ticks": ""
             }
            },
            "marker": {
             "colorbar": {
              "outlinewidth": 0,
              "ticks": ""
             }
            },
            "type": "scatter3d"
           }
          ],
          "scattercarpet": [
           {
            "marker": {
             "colorbar": {
              "outlinewidth": 0,
              "ticks": ""
             }
            },
            "type": "scattercarpet"
           }
          ],
          "scattergeo": [
           {
            "marker": {
             "colorbar": {
              "outlinewidth": 0,
              "ticks": ""
             }
            },
            "type": "scattergeo"
           }
          ],
          "scattergl": [
           {
            "marker": {
             "colorbar": {
              "outlinewidth": 0,
              "ticks": ""
             }
            },
            "type": "scattergl"
           }
          ],
          "scattermapbox": [
           {
            "marker": {
             "colorbar": {
              "outlinewidth": 0,
              "ticks": ""
             }
            },
            "type": "scattermapbox"
           }
          ],
          "scatterpolar": [
           {
            "marker": {
             "colorbar": {
              "outlinewidth": 0,
              "ticks": ""
             }
            },
            "type": "scatterpolar"
           }
          ],
          "scatterpolargl": [
           {
            "marker": {
             "colorbar": {
              "outlinewidth": 0,
              "ticks": ""
             }
            },
            "type": "scatterpolargl"
           }
          ],
          "scatterternary": [
           {
            "marker": {
             "colorbar": {
              "outlinewidth": 0,
              "ticks": ""
             }
            },
            "type": "scatterternary"
           }
          ],
          "surface": [
           {
            "colorbar": {
             "outlinewidth": 0,
             "ticks": ""
            },
            "colorscale": [
             [
              0,
              "#0d0887"
             ],
             [
              0.1111111111111111,
              "#46039f"
             ],
             [
              0.2222222222222222,
              "#7201a8"
             ],
             [
              0.3333333333333333,
              "#9c179e"
             ],
             [
              0.4444444444444444,
              "#bd3786"
             ],
             [
              0.5555555555555556,
              "#d8576b"
             ],
             [
              0.6666666666666666,
              "#ed7953"
             ],
             [
              0.7777777777777778,
              "#fb9f3a"
             ],
             [
              0.8888888888888888,
              "#fdca26"
             ],
             [
              1,
              "#f0f921"
             ]
            ],
            "type": "surface"
           }
          ],
          "table": [
           {
            "cells": {
             "fill": {
              "color": "#EBF0F8"
             },
             "line": {
              "color": "white"
             }
            },
            "header": {
             "fill": {
              "color": "#C8D4E3"
             },
             "line": {
              "color": "white"
             }
            },
            "type": "table"
           }
          ]
         },
         "layout": {
          "annotationdefaults": {
           "arrowcolor": "#2a3f5f",
           "arrowhead": 0,
           "arrowwidth": 1
          },
          "coloraxis": {
           "colorbar": {
            "outlinewidth": 0,
            "ticks": ""
           }
          },
          "colorscale": {
           "diverging": [
            [
             0,
             "#8e0152"
            ],
            [
             0.1,
             "#c51b7d"
            ],
            [
             0.2,
             "#de77ae"
            ],
            [
             0.3,
             "#f1b6da"
            ],
            [
             0.4,
             "#fde0ef"
            ],
            [
             0.5,
             "#f7f7f7"
            ],
            [
             0.6,
             "#e6f5d0"
            ],
            [
             0.7,
             "#b8e186"
            ],
            [
             0.8,
             "#7fbc41"
            ],
            [
             0.9,
             "#4d9221"
            ],
            [
             1,
             "#276419"
            ]
           ],
           "sequential": [
            [
             0,
             "#0d0887"
            ],
            [
             0.1111111111111111,
             "#46039f"
            ],
            [
             0.2222222222222222,
             "#7201a8"
            ],
            [
             0.3333333333333333,
             "#9c179e"
            ],
            [
             0.4444444444444444,
             "#bd3786"
            ],
            [
             0.5555555555555556,
             "#d8576b"
            ],
            [
             0.6666666666666666,
             "#ed7953"
            ],
            [
             0.7777777777777778,
             "#fb9f3a"
            ],
            [
             0.8888888888888888,
             "#fdca26"
            ],
            [
             1,
             "#f0f921"
            ]
           ],
           "sequentialminus": [
            [
             0,
             "#0d0887"
            ],
            [
             0.1111111111111111,
             "#46039f"
            ],
            [
             0.2222222222222222,
             "#7201a8"
            ],
            [
             0.3333333333333333,
             "#9c179e"
            ],
            [
             0.4444444444444444,
             "#bd3786"
            ],
            [
             0.5555555555555556,
             "#d8576b"
            ],
            [
             0.6666666666666666,
             "#ed7953"
            ],
            [
             0.7777777777777778,
             "#fb9f3a"
            ],
            [
             0.8888888888888888,
             "#fdca26"
            ],
            [
             1,
             "#f0f921"
            ]
           ]
          },
          "colorway": [
           "#636efa",
           "#EF553B",
           "#00cc96",
           "#ab63fa",
           "#FFA15A",
           "#19d3f3",
           "#FF6692",
           "#B6E880",
           "#FF97FF",
           "#FECB52"
          ],
          "font": {
           "color": "#2a3f5f"
          },
          "geo": {
           "bgcolor": "white",
           "lakecolor": "white",
           "landcolor": "#E5ECF6",
           "showlakes": true,
           "showland": true,
           "subunitcolor": "white"
          },
          "hoverlabel": {
           "align": "left"
          },
          "hovermode": "closest",
          "mapbox": {
           "style": "light"
          },
          "paper_bgcolor": "white",
          "plot_bgcolor": "#E5ECF6",
          "polar": {
           "angularaxis": {
            "gridcolor": "white",
            "linecolor": "white",
            "ticks": ""
           },
           "bgcolor": "#E5ECF6",
           "radialaxis": {
            "gridcolor": "white",
            "linecolor": "white",
            "ticks": ""
           }
          },
          "scene": {
           "xaxis": {
            "backgroundcolor": "#E5ECF6",
            "gridcolor": "white",
            "gridwidth": 2,
            "linecolor": "white",
            "showbackground": true,
            "ticks": "",
            "zerolinecolor": "white"
           },
           "yaxis": {
            "backgroundcolor": "#E5ECF6",
            "gridcolor": "white",
            "gridwidth": 2,
            "linecolor": "white",
            "showbackground": true,
            "ticks": "",
            "zerolinecolor": "white"
           },
           "zaxis": {
            "backgroundcolor": "#E5ECF6",
            "gridcolor": "white",
            "gridwidth": 2,
            "linecolor": "white",
            "showbackground": true,
            "ticks": "",
            "zerolinecolor": "white"
           }
          },
          "shapedefaults": {
           "line": {
            "color": "#2a3f5f"
           }
          },
          "ternary": {
           "aaxis": {
            "gridcolor": "white",
            "linecolor": "white",
            "ticks": ""
           },
           "baxis": {
            "gridcolor": "white",
            "linecolor": "white",
            "ticks": ""
           },
           "bgcolor": "#E5ECF6",
           "caxis": {
            "gridcolor": "white",
            "linecolor": "white",
            "ticks": ""
           }
          },
          "title": {
           "x": 0.05
          },
          "xaxis": {
           "automargin": true,
           "gridcolor": "white",
           "linecolor": "white",
           "ticks": "",
           "title": {
            "standoff": 15
           },
           "zerolinecolor": "white",
           "zerolinewidth": 2
          },
          "yaxis": {
           "automargin": true,
           "gridcolor": "white",
           "linecolor": "white",
           "ticks": "",
           "title": {
            "standoff": 15
           },
           "zerolinecolor": "white",
           "zerolinewidth": 2
          }
         }
        },
        "xaxis": {
         "anchor": "y",
         "domain": [
          0,
          1
         ],
         "title": {
          "text": "x"
         }
        },
        "yaxis": {
         "anchor": "x",
         "domain": [
          0,
          1
         ],
         "title": {
          "text": "y"
         }
        }
       }
      },
      "text/html": [
       "<div>\n",
       "        \n",
       "        \n",
       "            <div id=\"26ee3765-e2c0-4fe7-84cc-6b21e40d79a2\" class=\"plotly-graph-div\" style=\"height:525px; width:100%;\"></div>\n",
       "            <script type=\"text/javascript\">\n",
       "                require([\"plotly\"], function(Plotly) {\n",
       "                    window.PLOTLYENV=window.PLOTLYENV || {};\n",
       "                    \n",
       "                if (document.getElementById(\"26ee3765-e2c0-4fe7-84cc-6b21e40d79a2\")) {\n",
       "                    Plotly.newPlot(\n",
       "                        '26ee3765-e2c0-4fe7-84cc-6b21e40d79a2',\n",
       "                        [{\"customdata\": [[\"Type 97 Chi-Ha\", 3, \"lightTank\"], [\"Pz.Kpfw. 38 (t)\", 3, \"lightTank\"], [\"\\u0422-46\", 3, \"lightTank\"], [\"43 M. Toldi III\", 3, \"lightTank\"], [\"Pz.Kpfw. I Ausf. C\", 3, \"lightTank\"], [\"Type 98 Ke-Ni\", 3, \"lightTank\"], [\"M3 Stuart\", 3, \"lightTank\"], [\"\\u041c3 \\u043b\\u0451\\u0433\\u043a\\u0438\\u0439\", 3, \"lightTank\"], [\"\\u0422-70\", 3, \"lightTank\"], [\"MTLS-1G14\", 3, \"lightTank\"], [\"Type 2597 Chi-Ha\", 3, \"lightTank\"], [\"Pz.Kpfw. III Ausf. E\", 3, \"lightTank\"], [\"\\u0422-127\", 3, \"lightTank\"], [\"\\u041b\\u0422\\u041f\", 3, \"lightTank\"], [\"Pz.Kpfw. II Ausf. G\", 3, \"lightTank\"], [\"\\u0411\\u0422-7 \\u0430\\u0440\\u0442\\u0438\\u043b\\u043b\\u0435\\u0440\\u0438\\u0439\\u0441\\u043a\\u0438\\u0439\", 3, \"lightTank\"], [\"Pz.Kpfw. IV Ausf. A\", 3, \"mediumTank\"], [\"M22 Locust\", 3, \"lightTank\"], [\"Stuart I-IV\", 3, \"lightTank\"], [\"Cruiser Mk. III\", 3, \"lightTank\"], [\"M2 Medium Tank\", 3, \"mediumTank\"], [\"\\u0411\\u0422-\\u0421\\u0412\", 3, \"lightTank\"], [\"\\u0411\\u0422-5\", 3, \"lightTank\"], [\"Vickers Medium Mk. III\", 3, \"mediumTank\"], [\"Gro\\u00dftraktor - Krupp\", 3, \"mediumTank\"], [\"10TP\", 3, \"lightTank\"], [\"\\u0422-116\", 3, \"lightTank\"], [\"Pz.Kpfw. T 15\", 3, \"lightTank\"], [\"Type 91 Heavy\", 3, \"heavyTank\"], [\"\\u0422-29\", 3, \"mediumTank\"]], \"hovertemplate\": \"color=l3_2<br>x=%{x}<br>y=%{y}<br>\\u0422\\u0430\\u043d\\u043a=%{customdata[0]}<br>\\u0423\\u0440\\u043e\\u0432\\u0435\\u043d\\u044c=%{customdata[1]}<br>\\u0422\\u0438\\u043f=%{customdata[2]}<extra></extra>\", \"legendgroup\": \"l3_2\", \"marker\": {\"color\": \"#636efa\", \"symbol\": \"circle\"}, \"mode\": \"markers\", \"name\": \"l3_2\", \"orientation\": \"v\", \"showlegend\": true, \"type\": \"scatter\", \"x\": [2.187397802667833, -0.5738825456641136, -2.381506170858221, -1.3426328120064281, -4.492308428925966, 0.15194801074460842, -4.359921665212564, -1.842186102426743, -0.8742201179339719, -2.103883718830974, 2.243774430261253, -2.325075752924846, -0.8862147135872419, -0.9353047816940947, -4.944627892868828, -3.84145552182821, 0.9183814817145816, -2.913540354833811, -0.5745660635919698, 1.1452039173842101, 3.4263740004146435, -3.314501946256852, -3.0026737162453925, 1.315182113925874, 1.1662711461363104, 1.1556521416577765, -3.2048594747303865, -3.1543604156691627, 2.8103126120202457, 0.17471858751799463], \"xaxis\": \"x\", \"y\": [0.895302042991007, 0.17263650003889727, 0.7264056909898021, -2.730455870979218, -0.6721267161897239, 1.6878568440850967, -0.34903527301544235, -2.661256329335764, -0.9803008204975079, -2.8268626121498417, 0.7737325557515754, 0.4545647698752053, -0.4787789664349765, -1.02566056922786, -0.25737332306787575, 1.8772793759625934, -0.5691925260099153, -0.8123844255825761, 1.2220826154200504, 0.9979653440745396, 1.272798487245695, -2.1668764651046626, 1.0403603831430226, -0.6375805820195092, -1.7312669017996667, 1.2430646937800225, -1.5166893589483232, -0.6276187813514893, -0.5377282971333482, -2.1304137975276896], \"yaxis\": \"y\"}, {\"customdata\": [[\"Renault UE 57\", 3, \"AT-SPG\"], [\"Ikv 72\", 3, \"AT-SPG\"], [\"M3G FT\", 3, \"AT-SPG\"], [\"T56 GMC\", 3, \"AT-SPG\"], [\"FCM 36 Pak 40\", 3, \"AT-SPG\"], [\"\\u0421\\u0423-76\\u0418\", 3, \"AT-SPG\"], [\"Marder II\", 3, \"AT-SPG\"]], \"hovertemplate\": \"color=l3_1<br>x=%{x}<br>y=%{y}<br>\\u0422\\u0430\\u043d\\u043a=%{customdata[0]}<br>\\u0423\\u0440\\u043e\\u0432\\u0435\\u043d\\u044c=%{customdata[1]}<br>\\u0422\\u0438\\u043f=%{customdata[2]}<extra></extra>\", \"legendgroup\": \"l3_1\", \"marker\": {\"color\": \"#EF553B\", \"symbol\": \"circle\"}, \"mode\": \"markers\", \"name\": \"l3_1\", \"orientation\": \"v\", \"showlegend\": true, \"type\": \"scatter\", \"x\": [4.924081423295069, 5.211223447189026, 4.609393273747797, 4.198063758458641, 4.412041130108318, 3.541773554494059, 4.13688546666986], \"xaxis\": \"x\", \"y\": [-2.9386355932326462, -3.540979421711735, -3.5485920991472457, -4.067165546811665, -1.047161443659296, -4.270557823956281, -3.7128023727101995], \"yaxis\": \"y\"}, {\"customdata\": [[\"LT vz. 38\", 3, \"lightTank\"], [\"Somua S35\", 3, \"mediumTank\"], [\"AMX 38\", 3, \"lightTank\"], [\"Pz.Kpfw. S35 739 (f)\", 3, \"mediumTank\"], [\"Valentine\", 3, \"lightTank\"], [\"Pz.Kpfw. II Ausf. J\", 3, \"lightTank\"], [\"D2\", 3, \"mediumTank\"], [\"M15/42\", 3, \"mediumTank\"], [\"Strv m/40L\", 3, \"lightTank\"]], \"hovertemplate\": \"color=l3_0<br>x=%{x}<br>y=%{y}<br>\\u0422\\u0430\\u043d\\u043a=%{customdata[0]}<br>\\u0423\\u0440\\u043e\\u0432\\u0435\\u043d\\u044c=%{customdata[1]}<br>\\u0422\\u0438\\u043f=%{customdata[2]}<extra></extra>\", \"legendgroup\": \"l3_0\", \"marker\": {\"color\": \"#00cc96\", \"symbol\": \"circle\"}, \"mode\": \"markers\", \"name\": \"l3_0\", \"orientation\": \"v\", \"showlegend\": true, \"type\": \"scatter\", \"x\": [1.3254027279977367, -0.7012855111249193, -0.05105079846296333, -1.1600271955361026, 0.6720368058977442, -1.3948867647174956, -0.3460340355842139, 0.6569205651713953, 0.33796810404049443], \"xaxis\": \"x\", \"y\": [3.349717712612016, 2.741836999094899, 4.923112243236762, 2.9281294803512496, 4.451593778886894, 5.238407622782665, 4.306140430552442, 2.8518507199216963, 2.6826576268083313], \"yaxis\": \"y\"}],\n",
       "                        {\"legend\": {\"title\": {\"text\": \"color\"}, \"tracegroupgap\": 0}, \"margin\": {\"t\": 60}, \"template\": {\"data\": {\"bar\": [{\"error_x\": {\"color\": \"#2a3f5f\"}, \"error_y\": {\"color\": \"#2a3f5f\"}, \"marker\": {\"line\": {\"color\": \"#E5ECF6\", \"width\": 0.5}}, \"type\": \"bar\"}], \"barpolar\": [{\"marker\": {\"line\": {\"color\": \"#E5ECF6\", \"width\": 0.5}}, \"type\": \"barpolar\"}], \"carpet\": [{\"aaxis\": {\"endlinecolor\": \"#2a3f5f\", \"gridcolor\": \"white\", \"linecolor\": \"white\", \"minorgridcolor\": \"white\", \"startlinecolor\": \"#2a3f5f\"}, \"baxis\": {\"endlinecolor\": \"#2a3f5f\", \"gridcolor\": \"white\", \"linecolor\": \"white\", \"minorgridcolor\": \"white\", \"startlinecolor\": \"#2a3f5f\"}, \"type\": \"carpet\"}], \"choropleth\": [{\"colorbar\": {\"outlinewidth\": 0, \"ticks\": \"\"}, \"type\": \"choropleth\"}], \"contour\": [{\"colorbar\": {\"outlinewidth\": 0, \"ticks\": \"\"}, \"colorscale\": [[0.0, \"#0d0887\"], [0.1111111111111111, \"#46039f\"], [0.2222222222222222, \"#7201a8\"], [0.3333333333333333, \"#9c179e\"], [0.4444444444444444, \"#bd3786\"], [0.5555555555555556, \"#d8576b\"], [0.6666666666666666, \"#ed7953\"], [0.7777777777777778, \"#fb9f3a\"], [0.8888888888888888, \"#fdca26\"], [1.0, \"#f0f921\"]], \"type\": \"contour\"}], \"contourcarpet\": [{\"colorbar\": {\"outlinewidth\": 0, \"ticks\": \"\"}, \"type\": \"contourcarpet\"}], \"heatmap\": [{\"colorbar\": {\"outlinewidth\": 0, \"ticks\": \"\"}, \"colorscale\": [[0.0, \"#0d0887\"], [0.1111111111111111, \"#46039f\"], [0.2222222222222222, \"#7201a8\"], [0.3333333333333333, \"#9c179e\"], [0.4444444444444444, \"#bd3786\"], [0.5555555555555556, \"#d8576b\"], [0.6666666666666666, \"#ed7953\"], [0.7777777777777778, \"#fb9f3a\"], [0.8888888888888888, \"#fdca26\"], [1.0, \"#f0f921\"]], \"type\": \"heatmap\"}], \"heatmapgl\": [{\"colorbar\": {\"outlinewidth\": 0, \"ticks\": \"\"}, \"colorscale\": [[0.0, \"#0d0887\"], [0.1111111111111111, \"#46039f\"], [0.2222222222222222, \"#7201a8\"], [0.3333333333333333, \"#9c179e\"], [0.4444444444444444, \"#bd3786\"], [0.5555555555555556, \"#d8576b\"], [0.6666666666666666, \"#ed7953\"], [0.7777777777777778, \"#fb9f3a\"], [0.8888888888888888, \"#fdca26\"], [1.0, \"#f0f921\"]], \"type\": \"heatmapgl\"}], \"histogram\": [{\"marker\": {\"colorbar\": {\"outlinewidth\": 0, \"ticks\": \"\"}}, \"type\": \"histogram\"}], \"histogram2d\": [{\"colorbar\": {\"outlinewidth\": 0, \"ticks\": \"\"}, \"colorscale\": [[0.0, \"#0d0887\"], [0.1111111111111111, \"#46039f\"], [0.2222222222222222, \"#7201a8\"], [0.3333333333333333, \"#9c179e\"], [0.4444444444444444, \"#bd3786\"], [0.5555555555555556, \"#d8576b\"], [0.6666666666666666, \"#ed7953\"], [0.7777777777777778, \"#fb9f3a\"], [0.8888888888888888, \"#fdca26\"], [1.0, \"#f0f921\"]], \"type\": \"histogram2d\"}], \"histogram2dcontour\": [{\"colorbar\": {\"outlinewidth\": 0, \"ticks\": \"\"}, \"colorscale\": [[0.0, \"#0d0887\"], [0.1111111111111111, \"#46039f\"], [0.2222222222222222, \"#7201a8\"], [0.3333333333333333, \"#9c179e\"], [0.4444444444444444, \"#bd3786\"], [0.5555555555555556, \"#d8576b\"], [0.6666666666666666, \"#ed7953\"], [0.7777777777777778, \"#fb9f3a\"], [0.8888888888888888, \"#fdca26\"], [1.0, \"#f0f921\"]], \"type\": \"histogram2dcontour\"}], \"mesh3d\": [{\"colorbar\": {\"outlinewidth\": 0, \"ticks\": \"\"}, \"type\": \"mesh3d\"}], \"parcoords\": [{\"line\": {\"colorbar\": {\"outlinewidth\": 0, \"ticks\": \"\"}}, \"type\": \"parcoords\"}], \"pie\": [{\"automargin\": true, \"type\": \"pie\"}], \"scatter\": [{\"marker\": {\"colorbar\": {\"outlinewidth\": 0, \"ticks\": \"\"}}, \"type\": \"scatter\"}], \"scatter3d\": [{\"line\": {\"colorbar\": {\"outlinewidth\": 0, \"ticks\": \"\"}}, \"marker\": {\"colorbar\": {\"outlinewidth\": 0, \"ticks\": \"\"}}, \"type\": \"scatter3d\"}], \"scattercarpet\": [{\"marker\": {\"colorbar\": {\"outlinewidth\": 0, \"ticks\": \"\"}}, \"type\": \"scattercarpet\"}], \"scattergeo\": [{\"marker\": {\"colorbar\": {\"outlinewidth\": 0, \"ticks\": \"\"}}, \"type\": \"scattergeo\"}], \"scattergl\": [{\"marker\": {\"colorbar\": {\"outlinewidth\": 0, \"ticks\": \"\"}}, \"type\": \"scattergl\"}], \"scattermapbox\": [{\"marker\": {\"colorbar\": {\"outlinewidth\": 0, \"ticks\": \"\"}}, \"type\": \"scattermapbox\"}], \"scatterpolar\": [{\"marker\": {\"colorbar\": {\"outlinewidth\": 0, \"ticks\": \"\"}}, \"type\": \"scatterpolar\"}], \"scatterpolargl\": [{\"marker\": {\"colorbar\": {\"outlinewidth\": 0, \"ticks\": \"\"}}, \"type\": \"scatterpolargl\"}], \"scatterternary\": [{\"marker\": {\"colorbar\": {\"outlinewidth\": 0, \"ticks\": \"\"}}, \"type\": \"scatterternary\"}], \"surface\": [{\"colorbar\": {\"outlinewidth\": 0, \"ticks\": \"\"}, \"colorscale\": [[0.0, \"#0d0887\"], [0.1111111111111111, \"#46039f\"], [0.2222222222222222, \"#7201a8\"], [0.3333333333333333, \"#9c179e\"], [0.4444444444444444, \"#bd3786\"], [0.5555555555555556, \"#d8576b\"], [0.6666666666666666, \"#ed7953\"], [0.7777777777777778, \"#fb9f3a\"], [0.8888888888888888, \"#fdca26\"], [1.0, \"#f0f921\"]], \"type\": \"surface\"}], \"table\": [{\"cells\": {\"fill\": {\"color\": \"#EBF0F8\"}, \"line\": {\"color\": \"white\"}}, \"header\": {\"fill\": {\"color\": \"#C8D4E3\"}, \"line\": {\"color\": \"white\"}}, \"type\": \"table\"}]}, \"layout\": {\"annotationdefaults\": {\"arrowcolor\": \"#2a3f5f\", \"arrowhead\": 0, \"arrowwidth\": 1}, \"coloraxis\": {\"colorbar\": {\"outlinewidth\": 0, \"ticks\": \"\"}}, \"colorscale\": {\"diverging\": [[0, \"#8e0152\"], [0.1, \"#c51b7d\"], [0.2, \"#de77ae\"], [0.3, \"#f1b6da\"], [0.4, \"#fde0ef\"], [0.5, \"#f7f7f7\"], [0.6, \"#e6f5d0\"], [0.7, \"#b8e186\"], [0.8, \"#7fbc41\"], [0.9, \"#4d9221\"], [1, \"#276419\"]], \"sequential\": [[0.0, \"#0d0887\"], [0.1111111111111111, \"#46039f\"], [0.2222222222222222, \"#7201a8\"], [0.3333333333333333, \"#9c179e\"], [0.4444444444444444, \"#bd3786\"], [0.5555555555555556, \"#d8576b\"], [0.6666666666666666, \"#ed7953\"], [0.7777777777777778, \"#fb9f3a\"], [0.8888888888888888, \"#fdca26\"], [1.0, \"#f0f921\"]], \"sequentialminus\": [[0.0, \"#0d0887\"], [0.1111111111111111, \"#46039f\"], [0.2222222222222222, \"#7201a8\"], [0.3333333333333333, \"#9c179e\"], [0.4444444444444444, \"#bd3786\"], [0.5555555555555556, \"#d8576b\"], [0.6666666666666666, \"#ed7953\"], [0.7777777777777778, \"#fb9f3a\"], [0.8888888888888888, \"#fdca26\"], [1.0, \"#f0f921\"]]}, \"colorway\": [\"#636efa\", \"#EF553B\", \"#00cc96\", \"#ab63fa\", \"#FFA15A\", \"#19d3f3\", \"#FF6692\", \"#B6E880\", \"#FF97FF\", \"#FECB52\"], \"font\": {\"color\": \"#2a3f5f\"}, \"geo\": {\"bgcolor\": \"white\", \"lakecolor\": \"white\", \"landcolor\": \"#E5ECF6\", \"showlakes\": true, \"showland\": true, \"subunitcolor\": \"white\"}, \"hoverlabel\": {\"align\": \"left\"}, \"hovermode\": \"closest\", \"mapbox\": {\"style\": \"light\"}, \"paper_bgcolor\": \"white\", \"plot_bgcolor\": \"#E5ECF6\", \"polar\": {\"angularaxis\": {\"gridcolor\": \"white\", \"linecolor\": \"white\", \"ticks\": \"\"}, \"bgcolor\": \"#E5ECF6\", \"radialaxis\": {\"gridcolor\": \"white\", \"linecolor\": \"white\", \"ticks\": \"\"}}, \"scene\": {\"xaxis\": {\"backgroundcolor\": \"#E5ECF6\", \"gridcolor\": \"white\", \"gridwidth\": 2, \"linecolor\": \"white\", \"showbackground\": true, \"ticks\": \"\", \"zerolinecolor\": \"white\"}, \"yaxis\": {\"backgroundcolor\": \"#E5ECF6\", \"gridcolor\": \"white\", \"gridwidth\": 2, \"linecolor\": \"white\", \"showbackground\": true, \"ticks\": \"\", \"zerolinecolor\": \"white\"}, \"zaxis\": {\"backgroundcolor\": \"#E5ECF6\", \"gridcolor\": \"white\", \"gridwidth\": 2, \"linecolor\": \"white\", \"showbackground\": true, \"ticks\": \"\", \"zerolinecolor\": \"white\"}}, \"shapedefaults\": {\"line\": {\"color\": \"#2a3f5f\"}}, \"ternary\": {\"aaxis\": {\"gridcolor\": \"white\", \"linecolor\": \"white\", \"ticks\": \"\"}, \"baxis\": {\"gridcolor\": \"white\", \"linecolor\": \"white\", \"ticks\": \"\"}, \"bgcolor\": \"#E5ECF6\", \"caxis\": {\"gridcolor\": \"white\", \"linecolor\": \"white\", \"ticks\": \"\"}}, \"title\": {\"x\": 0.05}, \"xaxis\": {\"automargin\": true, \"gridcolor\": \"white\", \"linecolor\": \"white\", \"ticks\": \"\", \"title\": {\"standoff\": 15}, \"zerolinecolor\": \"white\", \"zerolinewidth\": 2}, \"yaxis\": {\"automargin\": true, \"gridcolor\": \"white\", \"linecolor\": \"white\", \"ticks\": \"\", \"title\": {\"standoff\": 15}, \"zerolinecolor\": \"white\", \"zerolinewidth\": 2}}}, \"xaxis\": {\"anchor\": \"y\", \"domain\": [0.0, 1.0], \"title\": {\"text\": \"x\"}}, \"yaxis\": {\"anchor\": \"x\", \"domain\": [0.0, 1.0], \"title\": {\"text\": \"y\"}}},\n",
       "                        {\"responsive\": true}\n",
       "                    ).then(function(){\n",
       "                            \n",
       "var gd = document.getElementById('26ee3765-e2c0-4fe7-84cc-6b21e40d79a2');\n",
       "var x = new MutationObserver(function (mutations, observer) {{\n",
       "        var display = window.getComputedStyle(gd).display;\n",
       "        if (!display || display === 'none') {{\n",
       "            console.log([gd, 'removed!']);\n",
       "            Plotly.purge(gd);\n",
       "            observer.disconnect();\n",
       "        }}\n",
       "}});\n",
       "\n",
       "// Listen for the removal of the full notebook cells\n",
       "var notebookContainer = gd.closest('#notebook-container');\n",
       "if (notebookContainer) {{\n",
       "    x.observe(notebookContainer, {childList: true});\n",
       "}}\n",
       "\n",
       "// Listen for the clearing of the current output cell\n",
       "var outputEl = gd.closest('.output');\n",
       "if (outputEl) {{\n",
       "    x.observe(outputEl, {childList: true});\n",
       "}}\n",
       "\n",
       "                        })\n",
       "                };\n",
       "                });\n",
       "            </script>\n",
       "        </div>"
      ]
     },
     "metadata": {},
     "output_type": "display_data"
    }
   ],
   "source": [
    "# Manual hyperparameters optimization\n",
    "plot_clusters(tanks, 3, 3)"
   ]
  },
  {
   "cell_type": "code",
   "execution_count": 87,
   "metadata": {
    "scrolled": false
   },
   "outputs": [
    {
     "data": {
      "text/html": [
       "<div>\n",
       "<style scoped>\n",
       "    .dataframe tbody tr th:only-of-type {\n",
       "        vertical-align: middle;\n",
       "    }\n",
       "\n",
       "    .dataframe tbody tr th {\n",
       "        vertical-align: top;\n",
       "    }\n",
       "\n",
       "    .dataframe thead th {\n",
       "        text-align: right;\n",
       "    }\n",
       "</style>\n",
       "<table border=\"1\" class=\"dataframe\">\n",
       "  <thead>\n",
       "    <tr style=\"text-align: right;\">\n",
       "      <th></th>\n",
       "      <th>tag</th>\n",
       "      <th>cluster</th>\n",
       "    </tr>\n",
       "  </thead>\n",
       "  <tbody>\n",
       "    <tr>\n",
       "      <th>0</th>\n",
       "      <td>J07_Chi_Ha</td>\n",
       "      <td>l3_2</td>\n",
       "    </tr>\n",
       "    <tr>\n",
       "      <th>1</th>\n",
       "      <td>G08_Pz38t</td>\n",
       "      <td>l3_2</td>\n",
       "    </tr>\n",
       "    <tr>\n",
       "      <th>2</th>\n",
       "      <td>R22_T-46</td>\n",
       "      <td>l3_2</td>\n",
       "    </tr>\n",
       "    <tr>\n",
       "      <th>3</th>\n",
       "      <td>F52_RenaultUE57</td>\n",
       "      <td>l3_1</td>\n",
       "    </tr>\n",
       "    <tr>\n",
       "      <th>4</th>\n",
       "      <td>G117_Toldi_III</td>\n",
       "      <td>l3_2</td>\n",
       "    </tr>\n",
       "    <tr>\n",
       "      <th>5</th>\n",
       "      <td>S20_Ikv_72</td>\n",
       "      <td>l3_1</td>\n",
       "    </tr>\n",
       "    <tr>\n",
       "      <th>6</th>\n",
       "      <td>G63_PzI_ausf_C</td>\n",
       "      <td>l3_2</td>\n",
       "    </tr>\n",
       "    <tr>\n",
       "      <th>7</th>\n",
       "      <td>J04_Ke_Ni</td>\n",
       "      <td>l3_2</td>\n",
       "    </tr>\n",
       "    <tr>\n",
       "      <th>8</th>\n",
       "      <td>A03_M3_Stuart</td>\n",
       "      <td>l3_2</td>\n",
       "    </tr>\n",
       "    <tr>\n",
       "      <th>9</th>\n",
       "      <td>Cz10_LT_vz38</td>\n",
       "      <td>l3_0</td>\n",
       "    </tr>\n",
       "    <tr>\n",
       "      <th>10</th>\n",
       "      <td>R67_M3_LL</td>\n",
       "      <td>l3_2</td>\n",
       "    </tr>\n",
       "    <tr>\n",
       "      <th>11</th>\n",
       "      <td>Ch31_M3G_FT</td>\n",
       "      <td>l3_1</td>\n",
       "    </tr>\n",
       "    <tr>\n",
       "      <th>12</th>\n",
       "      <td>A109_T56_GMC</td>\n",
       "      <td>l3_1</td>\n",
       "    </tr>\n",
       "    <tr>\n",
       "      <th>13</th>\n",
       "      <td>F44_Somua_S35</td>\n",
       "      <td>l3_0</td>\n",
       "    </tr>\n",
       "    <tr>\n",
       "      <th>14</th>\n",
       "      <td>F13_AMX38</td>\n",
       "      <td>l3_0</td>\n",
       "    </tr>\n",
       "    <tr>\n",
       "      <th>15</th>\n",
       "      <td>R43_T-70</td>\n",
       "      <td>l3_2</td>\n",
       "    </tr>\n",
       "    <tr>\n",
       "      <th>16</th>\n",
       "      <td>G34_S35_captured</td>\n",
       "      <td>l3_0</td>\n",
       "    </tr>\n",
       "    <tr>\n",
       "      <th>17</th>\n",
       "      <td>GB04_Valentine</td>\n",
       "      <td>l3_0</td>\n",
       "    </tr>\n",
       "    <tr>\n",
       "      <th>18</th>\n",
       "      <td>A33_MTLS-1G14</td>\n",
       "      <td>l3_2</td>\n",
       "    </tr>\n",
       "    <tr>\n",
       "      <th>19</th>\n",
       "      <td>Ch08_Type97_Chi_Ha</td>\n",
       "      <td>l3_2</td>\n",
       "    </tr>\n",
       "    <tr>\n",
       "      <th>20</th>\n",
       "      <td>G36_PzII_J</td>\n",
       "      <td>l3_0</td>\n",
       "    </tr>\n",
       "    <tr>\n",
       "      <th>21</th>\n",
       "      <td>G102_Pz_III</td>\n",
       "      <td>l3_2</td>\n",
       "    </tr>\n",
       "    <tr>\n",
       "      <th>22</th>\n",
       "      <td>R56_T-127</td>\n",
       "      <td>l3_2</td>\n",
       "    </tr>\n",
       "    <tr>\n",
       "      <th>23</th>\n",
       "      <td>R86_LTP</td>\n",
       "      <td>l3_2</td>\n",
       "    </tr>\n",
       "    <tr>\n",
       "      <th>24</th>\n",
       "      <td>G82_Pz_II_AusfG</td>\n",
       "      <td>l3_2</td>\n",
       "    </tr>\n",
       "    <tr>\n",
       "      <th>25</th>\n",
       "      <td>F27_FCM_36Pak40</td>\n",
       "      <td>l3_1</td>\n",
       "    </tr>\n",
       "    <tr>\n",
       "      <th>26</th>\n",
       "      <td>F03_D2</td>\n",
       "      <td>l3_0</td>\n",
       "    </tr>\n",
       "    <tr>\n",
       "      <th>27</th>\n",
       "      <td>It03_M15_42</td>\n",
       "      <td>l3_0</td>\n",
       "    </tr>\n",
       "    <tr>\n",
       "      <th>28</th>\n",
       "      <td>R105_BT_7A</td>\n",
       "      <td>l3_2</td>\n",
       "    </tr>\n",
       "    <tr>\n",
       "      <th>29</th>\n",
       "      <td>G83_Pz_IV_AusfA</td>\n",
       "      <td>l3_2</td>\n",
       "    </tr>\n",
       "    <tr>\n",
       "      <th>30</th>\n",
       "      <td>A43_M22_Locust</td>\n",
       "      <td>l3_2</td>\n",
       "    </tr>\n",
       "    <tr>\n",
       "      <th>31</th>\n",
       "      <td>GB15_Stuart_I</td>\n",
       "      <td>l3_2</td>\n",
       "    </tr>\n",
       "    <tr>\n",
       "      <th>32</th>\n",
       "      <td>GB58_Cruiser_Mk_III</td>\n",
       "      <td>l3_2</td>\n",
       "    </tr>\n",
       "    <tr>\n",
       "      <th>33</th>\n",
       "      <td>A25_M2_med</td>\n",
       "      <td>l3_2</td>\n",
       "    </tr>\n",
       "    <tr>\n",
       "      <th>34</th>\n",
       "      <td>R34_BT-SV</td>\n",
       "      <td>l3_2</td>\n",
       "    </tr>\n",
       "    <tr>\n",
       "      <th>35</th>\n",
       "      <td>R50_SU76I</td>\n",
       "      <td>l3_1</td>\n",
       "    </tr>\n",
       "    <tr>\n",
       "      <th>36</th>\n",
       "      <td>G20_Marder_II</td>\n",
       "      <td>l3_1</td>\n",
       "    </tr>\n",
       "    <tr>\n",
       "      <th>37</th>\n",
       "      <td>R174_BT-5</td>\n",
       "      <td>l3_2</td>\n",
       "    </tr>\n",
       "    <tr>\n",
       "      <th>38</th>\n",
       "      <td>S12_Strv_M40</td>\n",
       "      <td>l3_0</td>\n",
       "    </tr>\n",
       "    <tr>\n",
       "      <th>39</th>\n",
       "      <td>GB06_Vickers_Medium_Mk_III</td>\n",
       "      <td>l3_2</td>\n",
       "    </tr>\n",
       "    <tr>\n",
       "      <th>40</th>\n",
       "      <td>G100_Gtraktor_Krupp</td>\n",
       "      <td>l3_2</td>\n",
       "    </tr>\n",
       "    <tr>\n",
       "      <th>41</th>\n",
       "      <td>Pl06_10TP</td>\n",
       "      <td>l3_2</td>\n",
       "    </tr>\n",
       "    <tr>\n",
       "      <th>42</th>\n",
       "      <td>R161_T_116</td>\n",
       "      <td>l3_2</td>\n",
       "    </tr>\n",
       "    <tr>\n",
       "      <th>43</th>\n",
       "      <td>G50_T-15</td>\n",
       "      <td>l3_2</td>\n",
       "    </tr>\n",
       "    <tr>\n",
       "      <th>44</th>\n",
       "      <td>J21_Type_91</td>\n",
       "      <td>l3_2</td>\n",
       "    </tr>\n",
       "    <tr>\n",
       "      <th>45</th>\n",
       "      <td>R143_T_29</td>\n",
       "      <td>l3_2</td>\n",
       "    </tr>\n",
       "  </tbody>\n",
       "</table>\n",
       "</div>"
      ],
      "text/plain": [
       "                           tag cluster\n",
       "0                   J07_Chi_Ha    l3_2\n",
       "1                    G08_Pz38t    l3_2\n",
       "2                     R22_T-46    l3_2\n",
       "3              F52_RenaultUE57    l3_1\n",
       "4               G117_Toldi_III    l3_2\n",
       "5                   S20_Ikv_72    l3_1\n",
       "6               G63_PzI_ausf_C    l3_2\n",
       "7                    J04_Ke_Ni    l3_2\n",
       "8                A03_M3_Stuart    l3_2\n",
       "9                 Cz10_LT_vz38    l3_0\n",
       "10                   R67_M3_LL    l3_2\n",
       "11                 Ch31_M3G_FT    l3_1\n",
       "12                A109_T56_GMC    l3_1\n",
       "13               F44_Somua_S35    l3_0\n",
       "14                   F13_AMX38    l3_0\n",
       "15                    R43_T-70    l3_2\n",
       "16            G34_S35_captured    l3_0\n",
       "17              GB04_Valentine    l3_0\n",
       "18               A33_MTLS-1G14    l3_2\n",
       "19          Ch08_Type97_Chi_Ha    l3_2\n",
       "20                  G36_PzII_J    l3_0\n",
       "21                 G102_Pz_III    l3_2\n",
       "22                   R56_T-127    l3_2\n",
       "23                     R86_LTP    l3_2\n",
       "24             G82_Pz_II_AusfG    l3_2\n",
       "25             F27_FCM_36Pak40    l3_1\n",
       "26                      F03_D2    l3_0\n",
       "27                 It03_M15_42    l3_0\n",
       "28                  R105_BT_7A    l3_2\n",
       "29             G83_Pz_IV_AusfA    l3_2\n",
       "30              A43_M22_Locust    l3_2\n",
       "31               GB15_Stuart_I    l3_2\n",
       "32         GB58_Cruiser_Mk_III    l3_2\n",
       "33                  A25_M2_med    l3_2\n",
       "34                   R34_BT-SV    l3_2\n",
       "35                   R50_SU76I    l3_1\n",
       "36               G20_Marder_II    l3_1\n",
       "37                   R174_BT-5    l3_2\n",
       "38                S12_Strv_M40    l3_0\n",
       "39  GB06_Vickers_Medium_Mk_III    l3_2\n",
       "40         G100_Gtraktor_Krupp    l3_2\n",
       "41                   Pl06_10TP    l3_2\n",
       "42                  R161_T_116    l3_2\n",
       "43                    G50_T-15    l3_2\n",
       "44                 J21_Type_91    l3_2\n",
       "45                   R143_T_29    l3_2"
      ]
     },
     "execution_count": 87,
     "metadata": {},
     "output_type": "execute_result"
    }
   ],
   "source": [
    "cl = cluster(tanks, 3, 3)\n",
    "cl"
   ]
  },
  {
   "cell_type": "code",
   "execution_count": 88,
   "metadata": {},
   "outputs": [
    {
     "data": {
      "text/plain": [
       "cluster\n",
       "l3_0     9\n",
       "l3_1     7\n",
       "l3_2    30\n",
       "Name: tag, dtype: int64"
      ]
     },
     "execution_count": 88,
     "metadata": {},
     "output_type": "execute_result"
    }
   ],
   "source": [
    "# Check balance\n",
    "cl.groupby(\"cluster\").tag.count()"
   ]
  },
  {
   "cell_type": "code",
   "execution_count": 89,
   "metadata": {},
   "outputs": [],
   "source": [
    "tanks_clusters.append(cl)"
   ]
  },
  {
   "cell_type": "markdown",
   "metadata": {},
   "source": [
    "### Level 4"
   ]
  },
  {
   "cell_type": "code",
   "execution_count": 93,
   "metadata": {},
   "outputs": [
    {
     "data": {
      "application/vnd.plotly.v1+json": {
       "config": {
        "plotlyServerURL": "https://plot.ly"
       },
       "data": [
        {
         "customdata": [
          [
           "Т-34 с Л-11",
           4,
           "mediumTank"
          ],
          [
           "А-32",
           4,
           "mediumTank"
          ],
          [
           "БТ-7",
           4,
           "lightTank"
          ],
          [
           "Pz.Kpfw. II Luchs",
           4,
           "lightTank"
          ],
          [
           "Pz.Kpfw. 38 (t) n.A.",
           4,
           "lightTank"
          ],
          [
           "Pz.Kpfw. IV Ausf. D",
           4,
           "mediumTank"
          ],
          [
           "M5A1 Stuart",
           4,
           "lightTank"
          ],
          [
           "M5 Stuart",
           4,
           "lightTank"
          ],
          [
           "Т-28",
           4,
           "mediumTank"
          ],
          [
           "Pz.Kpfw. III Ausf. J",
           4,
           "mediumTank"
          ],
          [
           "Т-80",
           4,
           "lightTank"
          ]
         ],
         "hovertemplate": "color=l4_2<br>x=%{x}<br>y=%{y}<br>Танк=%{customdata[0]}<br>Уровень=%{customdata[1]}<br>Тип=%{customdata[2]}<extra></extra>",
         "legendgroup": "l4_2",
         "marker": {
          "color": "#636efa",
          "symbol": "circle"
         },
         "mode": "markers",
         "name": "l4_2",
         "orientation": "v",
         "showlegend": true,
         "type": "scatter",
         "x": [
          2.698715410037174,
          1.6806885761527333,
          0.8214013484613287,
          0.10573539001154322,
          0.13825396382352131,
          0.7494382680348184,
          -0.357656916878474,
          -0.04980910980243873,
          -1.7707382212052558,
          0.9031607023806136,
          1.1395316546899465
         ],
         "xaxis": "x",
         "y": [
          -2.7097356715855807,
          -3.3910275221918513,
          -4.6676865361571345,
          -4.144298615087907,
          -4.431029147947745,
          -1.9812474796571518,
          -2.7685143451039536,
          -3.6354485398849095,
          -3.1098264607181276,
          -3.5426145803189932,
          -1.8447685692443987
         ],
         "yaxis": "y"
        },
        {
         "customdata": [
          [
           "Somua SAu 40",
           4,
           "AT-SPG"
          ],
          [
           "Valentine AT",
           4,
           "AT-SPG"
          ],
          [
           "Alecto",
           4,
           "AT-SPG"
          ],
          [
           "M8A1",
           4,
           "AT-SPG"
          ],
          [
           "Sav m/43",
           4,
           "AT-SPG"
          ]
         ],
         "hovertemplate": "color=l4_4<br>x=%{x}<br>y=%{y}<br>Танк=%{customdata[0]}<br>Уровень=%{customdata[1]}<br>Тип=%{customdata[2]}<extra></extra>",
         "legendgroup": "l4_4",
         "marker": {
          "color": "#EF553B",
          "symbol": "circle"
         },
         "mode": "markers",
         "name": "l4_4",
         "orientation": "v",
         "showlegend": true,
         "type": "scatter",
         "x": [
          -2.8067817686708976,
          -3.0084923388449236,
          -3.5072424129804087,
          -3.4360059076421274,
          -1.7563189202013467
         ],
         "xaxis": "x",
         "y": [
          4.0909527232726965,
          4.869474557313987,
          2.6147156394510573,
          3.2227600634972235,
          4.310237547467125
         ],
         "yaxis": "y"
        },
        {
         "customdata": [
          [
           "T6 Medium",
           4,
           "mediumTank"
          ],
          [
           "VK 20.01 (D)",
           4,
           "mediumTank"
          ],
          [
           "AMX 40",
           4,
           "lightTank"
          ],
          [
           "P26/40",
           4,
           "mediumTank"
          ],
          [
           "14TP",
           4,
           "lightTank"
          ],
          [
           "Lago",
           4,
           "mediumTank"
          ],
          [
           "M3 Lee",
           4,
           "mediumTank"
          ],
          [
           "Grant",
           4,
           "mediumTank"
          ],
          [
           "ST vz. 39",
           4,
           "mediumTank"
          ],
          [
           "Cruiser Mk. IV",
           4,
           "lightTank"
          ],
          [
           "Type 5 Ke-Ho",
           4,
           "lightTank"
          ],
          [
           "AC 1 Sentinel",
           4,
           "mediumTank"
          ],
          [
           "Type 1 Chi-He",
           4,
           "mediumTank"
          ],
          [
           "Т-28Э с Ф-30",
           4,
           "mediumTank"
          ]
         ],
         "hovertemplate": "color=l4_0<br>x=%{x}<br>y=%{y}<br>Танк=%{customdata[0]}<br>Уровень=%{customdata[1]}<br>Тип=%{customdata[2]}<extra></extra>",
         "legendgroup": "l4_0",
         "marker": {
          "color": "#00cc96",
          "symbol": "circle"
         },
         "mode": "markers",
         "name": "l4_0",
         "orientation": "v",
         "showlegend": true,
         "type": "scatter",
         "x": [
          1.7986408645242942,
          1.698209310766198,
          3.1791882315096833,
          0.08862373944531375,
          -1.1424979518362324,
          -0.4835796549719585,
          1.2183265923231137,
          1.0296284796030615,
          0.1314069038887681,
          -0.7089721458949032,
          -0.8512852637532777,
          1.7733389610891674,
          0.624159027467833,
          3.089256871717175
         ],
         "xaxis": "x",
         "y": [
          3.33590467361086,
          -0.4506138640836691,
          2.122139261070813,
          1.155964593316093,
          0.4645289088197803,
          0.2978992993871028,
          -0.11906475258514931,
          0.24772651026092263,
          0.7342622125578798,
          -1.1623850288683666,
          -0.19602601879137052,
          1.0875631545582052,
          1.4570288220084895,
          -1.7048255971463364
         ],
         "yaxis": "y"
        },
        {
         "customdata": [
          [
           "Pz.Kpfw. B2 740 (f)",
           4,
           "heavyTank"
          ],
          [
           "Durchbruchswagen 2",
           4,
           "heavyTank"
          ],
          [
           "Type 95 Heavy",
           4,
           "heavyTank"
          ],
          [
           "Matilda",
           4,
           "mediumTank"
          ],
          [
           "Валентайн II",
           4,
           "lightTank"
          ],
          [
           "SARL 42",
           4,
           "mediumTank"
          ],
          [
           "B1",
           4,
           "heavyTank"
          ]
         ],
         "hovertemplate": "color=l4_5<br>x=%{x}<br>y=%{y}<br>Танк=%{customdata[0]}<br>Уровень=%{customdata[1]}<br>Тип=%{customdata[2]}<extra></extra>",
         "legendgroup": "l4_5",
         "marker": {
          "color": "#ab63fa",
          "symbol": "circle"
         },
         "mode": "markers",
         "name": "l4_5",
         "orientation": "v",
         "showlegend": true,
         "type": "scatter",
         "x": [
          4.179219956673689,
          4.320325990381929,
          5.071548204367419,
          2.9960913095687642,
          3.881218504708393,
          3.221456422638657,
          4.534498511442534
         ],
         "xaxis": "x",
         "y": [
          0.557765712910287,
          -0.10369186581342504,
          -0.6437274014859391,
          2.93426978933517,
          1.2861244163556864,
          0.09207931427950727,
          0.2495040977321844
         ],
         "yaxis": "y"
        },
        {
         "customdata": [
          [
           "SU-76G FT",
           4,
           "AT-SPG"
          ],
          [
           "СУ-85Б",
           4,
           "AT-SPG"
          ],
          [
           "Marder 38T",
           4,
           "AT-SPG"
          ],
          [
           "Pz.Sfl. IC",
           4,
           "AT-SPG"
          ],
          [
           "СУ-76М",
           4,
           "AT-SPG"
          ]
         ],
         "hovertemplate": "color=l4_3<br>x=%{x}<br>y=%{y}<br>Танк=%{customdata[0]}<br>Уровень=%{customdata[1]}<br>Тип=%{customdata[2]}<extra></extra>",
         "legendgroup": "l4_3",
         "marker": {
          "color": "#FFA15A",
          "symbol": "circle"
         },
         "mode": "markers",
         "name": "l4_3",
         "orientation": "v",
         "showlegend": true,
         "type": "scatter",
         "x": [
          -3.6117391104784957,
          -3.987034397073781,
          -3.7883565822364447,
          -3.755365963889709,
          -4.129987786052005
         ],
         "xaxis": "x",
         "y": [
          -2.4785607633406066,
          -2.213995987495684,
          -0.8603282650460977,
          -0.6423053511641367,
          -2.0406974005052616
         ],
         "yaxis": "y"
        },
        {
         "customdata": [
          [
           "T40",
           4,
           "AT-SPG"
          ],
          [
           "Jagdpanzer 38(t) Hetzer",
           4,
           "AT-SPG"
          ],
          [
           "StuG III Ausf. B",
           4,
           "AT-SPG"
          ]
         ],
         "hovertemplate": "color=l4_1<br>x=%{x}<br>y=%{y}<br>Танк=%{customdata[0]}<br>Уровень=%{customdata[1]}<br>Тип=%{customdata[2]}<extra></extra>",
         "legendgroup": "l4_1",
         "marker": {
          "color": "#19d3f3",
          "symbol": "circle"
         },
         "mode": "markers",
         "name": "l4_1",
         "orientation": "v",
         "showlegend": true,
         "type": "scatter",
         "x": [
          -3.7571235875545033,
          -4.431856708483614,
          -3.7312184472568766
         ],
         "xaxis": "x",
         "y": [
          4.480697192593519,
          4.878778688176972,
          4.352042586248235
         ],
         "yaxis": "y"
        }
       ],
       "layout": {
        "legend": {
         "title": {
          "text": "color"
         },
         "tracegroupgap": 0
        },
        "margin": {
         "t": 60
        },
        "template": {
         "data": {
          "bar": [
           {
            "error_x": {
             "color": "#2a3f5f"
            },
            "error_y": {
             "color": "#2a3f5f"
            },
            "marker": {
             "line": {
              "color": "#E5ECF6",
              "width": 0.5
             }
            },
            "type": "bar"
           }
          ],
          "barpolar": [
           {
            "marker": {
             "line": {
              "color": "#E5ECF6",
              "width": 0.5
             }
            },
            "type": "barpolar"
           }
          ],
          "carpet": [
           {
            "aaxis": {
             "endlinecolor": "#2a3f5f",
             "gridcolor": "white",
             "linecolor": "white",
             "minorgridcolor": "white",
             "startlinecolor": "#2a3f5f"
            },
            "baxis": {
             "endlinecolor": "#2a3f5f",
             "gridcolor": "white",
             "linecolor": "white",
             "minorgridcolor": "white",
             "startlinecolor": "#2a3f5f"
            },
            "type": "carpet"
           }
          ],
          "choropleth": [
           {
            "colorbar": {
             "outlinewidth": 0,
             "ticks": ""
            },
            "type": "choropleth"
           }
          ],
          "contour": [
           {
            "colorbar": {
             "outlinewidth": 0,
             "ticks": ""
            },
            "colorscale": [
             [
              0,
              "#0d0887"
             ],
             [
              0.1111111111111111,
              "#46039f"
             ],
             [
              0.2222222222222222,
              "#7201a8"
             ],
             [
              0.3333333333333333,
              "#9c179e"
             ],
             [
              0.4444444444444444,
              "#bd3786"
             ],
             [
              0.5555555555555556,
              "#d8576b"
             ],
             [
              0.6666666666666666,
              "#ed7953"
             ],
             [
              0.7777777777777778,
              "#fb9f3a"
             ],
             [
              0.8888888888888888,
              "#fdca26"
             ],
             [
              1,
              "#f0f921"
             ]
            ],
            "type": "contour"
           }
          ],
          "contourcarpet": [
           {
            "colorbar": {
             "outlinewidth": 0,
             "ticks": ""
            },
            "type": "contourcarpet"
           }
          ],
          "heatmap": [
           {
            "colorbar": {
             "outlinewidth": 0,
             "ticks": ""
            },
            "colorscale": [
             [
              0,
              "#0d0887"
             ],
             [
              0.1111111111111111,
              "#46039f"
             ],
             [
              0.2222222222222222,
              "#7201a8"
             ],
             [
              0.3333333333333333,
              "#9c179e"
             ],
             [
              0.4444444444444444,
              "#bd3786"
             ],
             [
              0.5555555555555556,
              "#d8576b"
             ],
             [
              0.6666666666666666,
              "#ed7953"
             ],
             [
              0.7777777777777778,
              "#fb9f3a"
             ],
             [
              0.8888888888888888,
              "#fdca26"
             ],
             [
              1,
              "#f0f921"
             ]
            ],
            "type": "heatmap"
           }
          ],
          "heatmapgl": [
           {
            "colorbar": {
             "outlinewidth": 0,
             "ticks": ""
            },
            "colorscale": [
             [
              0,
              "#0d0887"
             ],
             [
              0.1111111111111111,
              "#46039f"
             ],
             [
              0.2222222222222222,
              "#7201a8"
             ],
             [
              0.3333333333333333,
              "#9c179e"
             ],
             [
              0.4444444444444444,
              "#bd3786"
             ],
             [
              0.5555555555555556,
              "#d8576b"
             ],
             [
              0.6666666666666666,
              "#ed7953"
             ],
             [
              0.7777777777777778,
              "#fb9f3a"
             ],
             [
              0.8888888888888888,
              "#fdca26"
             ],
             [
              1,
              "#f0f921"
             ]
            ],
            "type": "heatmapgl"
           }
          ],
          "histogram": [
           {
            "marker": {
             "colorbar": {
              "outlinewidth": 0,
              "ticks": ""
             }
            },
            "type": "histogram"
           }
          ],
          "histogram2d": [
           {
            "colorbar": {
             "outlinewidth": 0,
             "ticks": ""
            },
            "colorscale": [
             [
              0,
              "#0d0887"
             ],
             [
              0.1111111111111111,
              "#46039f"
             ],
             [
              0.2222222222222222,
              "#7201a8"
             ],
             [
              0.3333333333333333,
              "#9c179e"
             ],
             [
              0.4444444444444444,
              "#bd3786"
             ],
             [
              0.5555555555555556,
              "#d8576b"
             ],
             [
              0.6666666666666666,
              "#ed7953"
             ],
             [
              0.7777777777777778,
              "#fb9f3a"
             ],
             [
              0.8888888888888888,
              "#fdca26"
             ],
             [
              1,
              "#f0f921"
             ]
            ],
            "type": "histogram2d"
           }
          ],
          "histogram2dcontour": [
           {
            "colorbar": {
             "outlinewidth": 0,
             "ticks": ""
            },
            "colorscale": [
             [
              0,
              "#0d0887"
             ],
             [
              0.1111111111111111,
              "#46039f"
             ],
             [
              0.2222222222222222,
              "#7201a8"
             ],
             [
              0.3333333333333333,
              "#9c179e"
             ],
             [
              0.4444444444444444,
              "#bd3786"
             ],
             [
              0.5555555555555556,
              "#d8576b"
             ],
             [
              0.6666666666666666,
              "#ed7953"
             ],
             [
              0.7777777777777778,
              "#fb9f3a"
             ],
             [
              0.8888888888888888,
              "#fdca26"
             ],
             [
              1,
              "#f0f921"
             ]
            ],
            "type": "histogram2dcontour"
           }
          ],
          "mesh3d": [
           {
            "colorbar": {
             "outlinewidth": 0,
             "ticks": ""
            },
            "type": "mesh3d"
           }
          ],
          "parcoords": [
           {
            "line": {
             "colorbar": {
              "outlinewidth": 0,
              "ticks": ""
             }
            },
            "type": "parcoords"
           }
          ],
          "pie": [
           {
            "automargin": true,
            "type": "pie"
           }
          ],
          "scatter": [
           {
            "marker": {
             "colorbar": {
              "outlinewidth": 0,
              "ticks": ""
             }
            },
            "type": "scatter"
           }
          ],
          "scatter3d": [
           {
            "line": {
             "colorbar": {
              "outlinewidth": 0,
              "ticks": ""
             }
            },
            "marker": {
             "colorbar": {
              "outlinewidth": 0,
              "ticks": ""
             }
            },
            "type": "scatter3d"
           }
          ],
          "scattercarpet": [
           {
            "marker": {
             "colorbar": {
              "outlinewidth": 0,
              "ticks": ""
             }
            },
            "type": "scattercarpet"
           }
          ],
          "scattergeo": [
           {
            "marker": {
             "colorbar": {
              "outlinewidth": 0,
              "ticks": ""
             }
            },
            "type": "scattergeo"
           }
          ],
          "scattergl": [
           {
            "marker": {
             "colorbar": {
              "outlinewidth": 0,
              "ticks": ""
             }
            },
            "type": "scattergl"
           }
          ],
          "scattermapbox": [
           {
            "marker": {
             "colorbar": {
              "outlinewidth": 0,
              "ticks": ""
             }
            },
            "type": "scattermapbox"
           }
          ],
          "scatterpolar": [
           {
            "marker": {
             "colorbar": {
              "outlinewidth": 0,
              "ticks": ""
             }
            },
            "type": "scatterpolar"
           }
          ],
          "scatterpolargl": [
           {
            "marker": {
             "colorbar": {
              "outlinewidth": 0,
              "ticks": ""
             }
            },
            "type": "scatterpolargl"
           }
          ],
          "scatterternary": [
           {
            "marker": {
             "colorbar": {
              "outlinewidth": 0,
              "ticks": ""
             }
            },
            "type": "scatterternary"
           }
          ],
          "surface": [
           {
            "colorbar": {
             "outlinewidth": 0,
             "ticks": ""
            },
            "colorscale": [
             [
              0,
              "#0d0887"
             ],
             [
              0.1111111111111111,
              "#46039f"
             ],
             [
              0.2222222222222222,
              "#7201a8"
             ],
             [
              0.3333333333333333,
              "#9c179e"
             ],
             [
              0.4444444444444444,
              "#bd3786"
             ],
             [
              0.5555555555555556,
              "#d8576b"
             ],
             [
              0.6666666666666666,
              "#ed7953"
             ],
             [
              0.7777777777777778,
              "#fb9f3a"
             ],
             [
              0.8888888888888888,
              "#fdca26"
             ],
             [
              1,
              "#f0f921"
             ]
            ],
            "type": "surface"
           }
          ],
          "table": [
           {
            "cells": {
             "fill": {
              "color": "#EBF0F8"
             },
             "line": {
              "color": "white"
             }
            },
            "header": {
             "fill": {
              "color": "#C8D4E3"
             },
             "line": {
              "color": "white"
             }
            },
            "type": "table"
           }
          ]
         },
         "layout": {
          "annotationdefaults": {
           "arrowcolor": "#2a3f5f",
           "arrowhead": 0,
           "arrowwidth": 1
          },
          "coloraxis": {
           "colorbar": {
            "outlinewidth": 0,
            "ticks": ""
           }
          },
          "colorscale": {
           "diverging": [
            [
             0,
             "#8e0152"
            ],
            [
             0.1,
             "#c51b7d"
            ],
            [
             0.2,
             "#de77ae"
            ],
            [
             0.3,
             "#f1b6da"
            ],
            [
             0.4,
             "#fde0ef"
            ],
            [
             0.5,
             "#f7f7f7"
            ],
            [
             0.6,
             "#e6f5d0"
            ],
            [
             0.7,
             "#b8e186"
            ],
            [
             0.8,
             "#7fbc41"
            ],
            [
             0.9,
             "#4d9221"
            ],
            [
             1,
             "#276419"
            ]
           ],
           "sequential": [
            [
             0,
             "#0d0887"
            ],
            [
             0.1111111111111111,
             "#46039f"
            ],
            [
             0.2222222222222222,
             "#7201a8"
            ],
            [
             0.3333333333333333,
             "#9c179e"
            ],
            [
             0.4444444444444444,
             "#bd3786"
            ],
            [
             0.5555555555555556,
             "#d8576b"
            ],
            [
             0.6666666666666666,
             "#ed7953"
            ],
            [
             0.7777777777777778,
             "#fb9f3a"
            ],
            [
             0.8888888888888888,
             "#fdca26"
            ],
            [
             1,
             "#f0f921"
            ]
           ],
           "sequentialminus": [
            [
             0,
             "#0d0887"
            ],
            [
             0.1111111111111111,
             "#46039f"
            ],
            [
             0.2222222222222222,
             "#7201a8"
            ],
            [
             0.3333333333333333,
             "#9c179e"
            ],
            [
             0.4444444444444444,
             "#bd3786"
            ],
            [
             0.5555555555555556,
             "#d8576b"
            ],
            [
             0.6666666666666666,
             "#ed7953"
            ],
            [
             0.7777777777777778,
             "#fb9f3a"
            ],
            [
             0.8888888888888888,
             "#fdca26"
            ],
            [
             1,
             "#f0f921"
            ]
           ]
          },
          "colorway": [
           "#636efa",
           "#EF553B",
           "#00cc96",
           "#ab63fa",
           "#FFA15A",
           "#19d3f3",
           "#FF6692",
           "#B6E880",
           "#FF97FF",
           "#FECB52"
          ],
          "font": {
           "color": "#2a3f5f"
          },
          "geo": {
           "bgcolor": "white",
           "lakecolor": "white",
           "landcolor": "#E5ECF6",
           "showlakes": true,
           "showland": true,
           "subunitcolor": "white"
          },
          "hoverlabel": {
           "align": "left"
          },
          "hovermode": "closest",
          "mapbox": {
           "style": "light"
          },
          "paper_bgcolor": "white",
          "plot_bgcolor": "#E5ECF6",
          "polar": {
           "angularaxis": {
            "gridcolor": "white",
            "linecolor": "white",
            "ticks": ""
           },
           "bgcolor": "#E5ECF6",
           "radialaxis": {
            "gridcolor": "white",
            "linecolor": "white",
            "ticks": ""
           }
          },
          "scene": {
           "xaxis": {
            "backgroundcolor": "#E5ECF6",
            "gridcolor": "white",
            "gridwidth": 2,
            "linecolor": "white",
            "showbackground": true,
            "ticks": "",
            "zerolinecolor": "white"
           },
           "yaxis": {
            "backgroundcolor": "#E5ECF6",
            "gridcolor": "white",
            "gridwidth": 2,
            "linecolor": "white",
            "showbackground": true,
            "ticks": "",
            "zerolinecolor": "white"
           },
           "zaxis": {
            "backgroundcolor": "#E5ECF6",
            "gridcolor": "white",
            "gridwidth": 2,
            "linecolor": "white",
            "showbackground": true,
            "ticks": "",
            "zerolinecolor": "white"
           }
          },
          "shapedefaults": {
           "line": {
            "color": "#2a3f5f"
           }
          },
          "ternary": {
           "aaxis": {
            "gridcolor": "white",
            "linecolor": "white",
            "ticks": ""
           },
           "baxis": {
            "gridcolor": "white",
            "linecolor": "white",
            "ticks": ""
           },
           "bgcolor": "#E5ECF6",
           "caxis": {
            "gridcolor": "white",
            "linecolor": "white",
            "ticks": ""
           }
          },
          "title": {
           "x": 0.05
          },
          "xaxis": {
           "automargin": true,
           "gridcolor": "white",
           "linecolor": "white",
           "ticks": "",
           "title": {
            "standoff": 15
           },
           "zerolinecolor": "white",
           "zerolinewidth": 2
          },
          "yaxis": {
           "automargin": true,
           "gridcolor": "white",
           "linecolor": "white",
           "ticks": "",
           "title": {
            "standoff": 15
           },
           "zerolinecolor": "white",
           "zerolinewidth": 2
          }
         }
        },
        "xaxis": {
         "anchor": "y",
         "domain": [
          0,
          1
         ],
         "title": {
          "text": "x"
         }
        },
        "yaxis": {
         "anchor": "x",
         "domain": [
          0,
          1
         ],
         "title": {
          "text": "y"
         }
        }
       }
      },
      "text/html": [
       "<div>\n",
       "        \n",
       "        \n",
       "            <div id=\"d5b2d630-f70c-4db7-8443-bd135efc991b\" class=\"plotly-graph-div\" style=\"height:525px; width:100%;\"></div>\n",
       "            <script type=\"text/javascript\">\n",
       "                require([\"plotly\"], function(Plotly) {\n",
       "                    window.PLOTLYENV=window.PLOTLYENV || {};\n",
       "                    \n",
       "                if (document.getElementById(\"d5b2d630-f70c-4db7-8443-bd135efc991b\")) {\n",
       "                    Plotly.newPlot(\n",
       "                        'd5b2d630-f70c-4db7-8443-bd135efc991b',\n",
       "                        [{\"customdata\": [[\"\\u0422-34 \\u0441 \\u041b-11\", 4, \"mediumTank\"], [\"\\u0410-32\", 4, \"mediumTank\"], [\"\\u0411\\u0422-7\", 4, \"lightTank\"], [\"Pz.Kpfw. II Luchs\", 4, \"lightTank\"], [\"Pz.Kpfw. 38 (t) n.A.\", 4, \"lightTank\"], [\"Pz.Kpfw. IV Ausf. D\", 4, \"mediumTank\"], [\"M5A1 Stuart\", 4, \"lightTank\"], [\"M5 Stuart\", 4, \"lightTank\"], [\"\\u0422-28\", 4, \"mediumTank\"], [\"Pz.Kpfw. III Ausf. J\", 4, \"mediumTank\"], [\"\\u0422-80\", 4, \"lightTank\"]], \"hovertemplate\": \"color=l4_2<br>x=%{x}<br>y=%{y}<br>\\u0422\\u0430\\u043d\\u043a=%{customdata[0]}<br>\\u0423\\u0440\\u043e\\u0432\\u0435\\u043d\\u044c=%{customdata[1]}<br>\\u0422\\u0438\\u043f=%{customdata[2]}<extra></extra>\", \"legendgroup\": \"l4_2\", \"marker\": {\"color\": \"#636efa\", \"symbol\": \"circle\"}, \"mode\": \"markers\", \"name\": \"l4_2\", \"orientation\": \"v\", \"showlegend\": true, \"type\": \"scatter\", \"x\": [2.698715410037174, 1.6806885761527333, 0.8214013484613287, 0.10573539001154322, 0.13825396382352131, 0.7494382680348184, -0.357656916878474, -0.04980910980243873, -1.7707382212052558, 0.9031607023806136, 1.1395316546899465], \"xaxis\": \"x\", \"y\": [-2.7097356715855807, -3.3910275221918513, -4.6676865361571345, -4.144298615087907, -4.431029147947745, -1.9812474796571518, -2.7685143451039536, -3.6354485398849095, -3.1098264607181276, -3.5426145803189932, -1.8447685692443987], \"yaxis\": \"y\"}, {\"customdata\": [[\"Somua SAu 40\", 4, \"AT-SPG\"], [\"Valentine AT\", 4, \"AT-SPG\"], [\"Alecto\", 4, \"AT-SPG\"], [\"M8A1\", 4, \"AT-SPG\"], [\"Sav m/43\", 4, \"AT-SPG\"]], \"hovertemplate\": \"color=l4_4<br>x=%{x}<br>y=%{y}<br>\\u0422\\u0430\\u043d\\u043a=%{customdata[0]}<br>\\u0423\\u0440\\u043e\\u0432\\u0435\\u043d\\u044c=%{customdata[1]}<br>\\u0422\\u0438\\u043f=%{customdata[2]}<extra></extra>\", \"legendgroup\": \"l4_4\", \"marker\": {\"color\": \"#EF553B\", \"symbol\": \"circle\"}, \"mode\": \"markers\", \"name\": \"l4_4\", \"orientation\": \"v\", \"showlegend\": true, \"type\": \"scatter\", \"x\": [-2.8067817686708976, -3.0084923388449236, -3.5072424129804087, -3.4360059076421274, -1.7563189202013467], \"xaxis\": \"x\", \"y\": [4.0909527232726965, 4.869474557313987, 2.6147156394510573, 3.2227600634972235, 4.310237547467125], \"yaxis\": \"y\"}, {\"customdata\": [[\"T6 Medium\", 4, \"mediumTank\"], [\"VK 20.01 (D)\", 4, \"mediumTank\"], [\"AMX 40\", 4, \"lightTank\"], [\"P26/40\", 4, \"mediumTank\"], [\"14TP\", 4, \"lightTank\"], [\"Lago\", 4, \"mediumTank\"], [\"M3 Lee\", 4, \"mediumTank\"], [\"Grant\", 4, \"mediumTank\"], [\"ST vz. 39\", 4, \"mediumTank\"], [\"Cruiser Mk. IV\", 4, \"lightTank\"], [\"Type 5 Ke-Ho\", 4, \"lightTank\"], [\"AC 1 Sentinel\", 4, \"mediumTank\"], [\"Type 1 Chi-He\", 4, \"mediumTank\"], [\"\\u0422-28\\u042d \\u0441 \\u0424-30\", 4, \"mediumTank\"]], \"hovertemplate\": \"color=l4_0<br>x=%{x}<br>y=%{y}<br>\\u0422\\u0430\\u043d\\u043a=%{customdata[0]}<br>\\u0423\\u0440\\u043e\\u0432\\u0435\\u043d\\u044c=%{customdata[1]}<br>\\u0422\\u0438\\u043f=%{customdata[2]}<extra></extra>\", \"legendgroup\": \"l4_0\", \"marker\": {\"color\": \"#00cc96\", \"symbol\": \"circle\"}, \"mode\": \"markers\", \"name\": \"l4_0\", \"orientation\": \"v\", \"showlegend\": true, \"type\": \"scatter\", \"x\": [1.7986408645242942, 1.698209310766198, 3.1791882315096833, 0.08862373944531375, -1.1424979518362324, -0.4835796549719585, 1.2183265923231137, 1.0296284796030615, 0.1314069038887681, -0.7089721458949032, -0.8512852637532777, 1.7733389610891674, 0.624159027467833, 3.089256871717175], \"xaxis\": \"x\", \"y\": [3.33590467361086, -0.4506138640836691, 2.122139261070813, 1.155964593316093, 0.4645289088197803, 0.2978992993871028, -0.11906475258514931, 0.24772651026092263, 0.7342622125578798, -1.1623850288683666, -0.19602601879137052, 1.0875631545582052, 1.4570288220084895, -1.7048255971463364], \"yaxis\": \"y\"}, {\"customdata\": [[\"Pz.Kpfw. B2 740 (f)\", 4, \"heavyTank\"], [\"Durchbruchswagen 2\", 4, \"heavyTank\"], [\"Type 95 Heavy\", 4, \"heavyTank\"], [\"Matilda\", 4, \"mediumTank\"], [\"\\u0412\\u0430\\u043b\\u0435\\u043d\\u0442\\u0430\\u0439\\u043d II\", 4, \"lightTank\"], [\"SARL 42\", 4, \"mediumTank\"], [\"B1\", 4, \"heavyTank\"]], \"hovertemplate\": \"color=l4_5<br>x=%{x}<br>y=%{y}<br>\\u0422\\u0430\\u043d\\u043a=%{customdata[0]}<br>\\u0423\\u0440\\u043e\\u0432\\u0435\\u043d\\u044c=%{customdata[1]}<br>\\u0422\\u0438\\u043f=%{customdata[2]}<extra></extra>\", \"legendgroup\": \"l4_5\", \"marker\": {\"color\": \"#ab63fa\", \"symbol\": \"circle\"}, \"mode\": \"markers\", \"name\": \"l4_5\", \"orientation\": \"v\", \"showlegend\": true, \"type\": \"scatter\", \"x\": [4.179219956673689, 4.320325990381929, 5.071548204367419, 2.9960913095687642, 3.881218504708393, 3.221456422638657, 4.534498511442534], \"xaxis\": \"x\", \"y\": [0.557765712910287, -0.10369186581342504, -0.6437274014859391, 2.93426978933517, 1.2861244163556864, 0.09207931427950727, 0.2495040977321844], \"yaxis\": \"y\"}, {\"customdata\": [[\"SU-76G FT\", 4, \"AT-SPG\"], [\"\\u0421\\u0423-85\\u0411\", 4, \"AT-SPG\"], [\"Marder 38T\", 4, \"AT-SPG\"], [\"Pz.Sfl. IC\", 4, \"AT-SPG\"], [\"\\u0421\\u0423-76\\u041c\", 4, \"AT-SPG\"]], \"hovertemplate\": \"color=l4_3<br>x=%{x}<br>y=%{y}<br>\\u0422\\u0430\\u043d\\u043a=%{customdata[0]}<br>\\u0423\\u0440\\u043e\\u0432\\u0435\\u043d\\u044c=%{customdata[1]}<br>\\u0422\\u0438\\u043f=%{customdata[2]}<extra></extra>\", \"legendgroup\": \"l4_3\", \"marker\": {\"color\": \"#FFA15A\", \"symbol\": \"circle\"}, \"mode\": \"markers\", \"name\": \"l4_3\", \"orientation\": \"v\", \"showlegend\": true, \"type\": \"scatter\", \"x\": [-3.6117391104784957, -3.987034397073781, -3.7883565822364447, -3.755365963889709, -4.129987786052005], \"xaxis\": \"x\", \"y\": [-2.4785607633406066, -2.213995987495684, -0.8603282650460977, -0.6423053511641367, -2.0406974005052616], \"yaxis\": \"y\"}, {\"customdata\": [[\"T40\", 4, \"AT-SPG\"], [\"Jagdpanzer 38(t) Hetzer\", 4, \"AT-SPG\"], [\"StuG III Ausf. B\", 4, \"AT-SPG\"]], \"hovertemplate\": \"color=l4_1<br>x=%{x}<br>y=%{y}<br>\\u0422\\u0430\\u043d\\u043a=%{customdata[0]}<br>\\u0423\\u0440\\u043e\\u0432\\u0435\\u043d\\u044c=%{customdata[1]}<br>\\u0422\\u0438\\u043f=%{customdata[2]}<extra></extra>\", \"legendgroup\": \"l4_1\", \"marker\": {\"color\": \"#19d3f3\", \"symbol\": \"circle\"}, \"mode\": \"markers\", \"name\": \"l4_1\", \"orientation\": \"v\", \"showlegend\": true, \"type\": \"scatter\", \"x\": [-3.7571235875545033, -4.431856708483614, -3.7312184472568766], \"xaxis\": \"x\", \"y\": [4.480697192593519, 4.878778688176972, 4.352042586248235], \"yaxis\": \"y\"}],\n",
       "                        {\"legend\": {\"title\": {\"text\": \"color\"}, \"tracegroupgap\": 0}, \"margin\": {\"t\": 60}, \"template\": {\"data\": {\"bar\": [{\"error_x\": {\"color\": \"#2a3f5f\"}, \"error_y\": {\"color\": \"#2a3f5f\"}, \"marker\": {\"line\": {\"color\": \"#E5ECF6\", \"width\": 0.5}}, \"type\": \"bar\"}], \"barpolar\": [{\"marker\": {\"line\": {\"color\": \"#E5ECF6\", \"width\": 0.5}}, \"type\": \"barpolar\"}], \"carpet\": [{\"aaxis\": {\"endlinecolor\": \"#2a3f5f\", \"gridcolor\": \"white\", \"linecolor\": \"white\", \"minorgridcolor\": \"white\", \"startlinecolor\": \"#2a3f5f\"}, \"baxis\": {\"endlinecolor\": \"#2a3f5f\", \"gridcolor\": \"white\", \"linecolor\": \"white\", \"minorgridcolor\": \"white\", \"startlinecolor\": \"#2a3f5f\"}, \"type\": \"carpet\"}], \"choropleth\": [{\"colorbar\": {\"outlinewidth\": 0, \"ticks\": \"\"}, \"type\": \"choropleth\"}], \"contour\": [{\"colorbar\": {\"outlinewidth\": 0, \"ticks\": \"\"}, \"colorscale\": [[0.0, \"#0d0887\"], [0.1111111111111111, \"#46039f\"], [0.2222222222222222, \"#7201a8\"], [0.3333333333333333, \"#9c179e\"], [0.4444444444444444, \"#bd3786\"], [0.5555555555555556, \"#d8576b\"], [0.6666666666666666, \"#ed7953\"], [0.7777777777777778, \"#fb9f3a\"], [0.8888888888888888, \"#fdca26\"], [1.0, \"#f0f921\"]], \"type\": \"contour\"}], \"contourcarpet\": [{\"colorbar\": {\"outlinewidth\": 0, \"ticks\": \"\"}, \"type\": \"contourcarpet\"}], \"heatmap\": [{\"colorbar\": {\"outlinewidth\": 0, \"ticks\": \"\"}, \"colorscale\": [[0.0, \"#0d0887\"], [0.1111111111111111, \"#46039f\"], [0.2222222222222222, \"#7201a8\"], [0.3333333333333333, \"#9c179e\"], [0.4444444444444444, \"#bd3786\"], [0.5555555555555556, \"#d8576b\"], [0.6666666666666666, \"#ed7953\"], [0.7777777777777778, \"#fb9f3a\"], [0.8888888888888888, \"#fdca26\"], [1.0, \"#f0f921\"]], \"type\": \"heatmap\"}], \"heatmapgl\": [{\"colorbar\": {\"outlinewidth\": 0, \"ticks\": \"\"}, \"colorscale\": [[0.0, \"#0d0887\"], [0.1111111111111111, \"#46039f\"], [0.2222222222222222, \"#7201a8\"], [0.3333333333333333, \"#9c179e\"], [0.4444444444444444, \"#bd3786\"], [0.5555555555555556, \"#d8576b\"], [0.6666666666666666, \"#ed7953\"], [0.7777777777777778, \"#fb9f3a\"], [0.8888888888888888, \"#fdca26\"], [1.0, \"#f0f921\"]], \"type\": \"heatmapgl\"}], \"histogram\": [{\"marker\": {\"colorbar\": {\"outlinewidth\": 0, \"ticks\": \"\"}}, \"type\": \"histogram\"}], \"histogram2d\": [{\"colorbar\": {\"outlinewidth\": 0, \"ticks\": \"\"}, \"colorscale\": [[0.0, \"#0d0887\"], [0.1111111111111111, \"#46039f\"], [0.2222222222222222, \"#7201a8\"], [0.3333333333333333, \"#9c179e\"], [0.4444444444444444, \"#bd3786\"], [0.5555555555555556, \"#d8576b\"], [0.6666666666666666, \"#ed7953\"], [0.7777777777777778, \"#fb9f3a\"], [0.8888888888888888, \"#fdca26\"], [1.0, \"#f0f921\"]], \"type\": \"histogram2d\"}], \"histogram2dcontour\": [{\"colorbar\": {\"outlinewidth\": 0, \"ticks\": \"\"}, \"colorscale\": [[0.0, \"#0d0887\"], [0.1111111111111111, \"#46039f\"], [0.2222222222222222, \"#7201a8\"], [0.3333333333333333, \"#9c179e\"], [0.4444444444444444, \"#bd3786\"], [0.5555555555555556, \"#d8576b\"], [0.6666666666666666, \"#ed7953\"], [0.7777777777777778, \"#fb9f3a\"], [0.8888888888888888, \"#fdca26\"], [1.0, \"#f0f921\"]], \"type\": \"histogram2dcontour\"}], \"mesh3d\": [{\"colorbar\": {\"outlinewidth\": 0, \"ticks\": \"\"}, \"type\": \"mesh3d\"}], \"parcoords\": [{\"line\": {\"colorbar\": {\"outlinewidth\": 0, \"ticks\": \"\"}}, \"type\": \"parcoords\"}], \"pie\": [{\"automargin\": true, \"type\": \"pie\"}], \"scatter\": [{\"marker\": {\"colorbar\": {\"outlinewidth\": 0, \"ticks\": \"\"}}, \"type\": \"scatter\"}], \"scatter3d\": [{\"line\": {\"colorbar\": {\"outlinewidth\": 0, \"ticks\": \"\"}}, \"marker\": {\"colorbar\": {\"outlinewidth\": 0, \"ticks\": \"\"}}, \"type\": \"scatter3d\"}], \"scattercarpet\": [{\"marker\": {\"colorbar\": {\"outlinewidth\": 0, \"ticks\": \"\"}}, \"type\": \"scattercarpet\"}], \"scattergeo\": [{\"marker\": {\"colorbar\": {\"outlinewidth\": 0, \"ticks\": \"\"}}, \"type\": \"scattergeo\"}], \"scattergl\": [{\"marker\": {\"colorbar\": {\"outlinewidth\": 0, \"ticks\": \"\"}}, \"type\": \"scattergl\"}], \"scattermapbox\": [{\"marker\": {\"colorbar\": {\"outlinewidth\": 0, \"ticks\": \"\"}}, \"type\": \"scattermapbox\"}], \"scatterpolar\": [{\"marker\": {\"colorbar\": {\"outlinewidth\": 0, \"ticks\": \"\"}}, \"type\": \"scatterpolar\"}], \"scatterpolargl\": [{\"marker\": {\"colorbar\": {\"outlinewidth\": 0, \"ticks\": \"\"}}, \"type\": \"scatterpolargl\"}], \"scatterternary\": [{\"marker\": {\"colorbar\": {\"outlinewidth\": 0, \"ticks\": \"\"}}, \"type\": \"scatterternary\"}], \"surface\": [{\"colorbar\": {\"outlinewidth\": 0, \"ticks\": \"\"}, \"colorscale\": [[0.0, \"#0d0887\"], [0.1111111111111111, \"#46039f\"], [0.2222222222222222, \"#7201a8\"], [0.3333333333333333, \"#9c179e\"], [0.4444444444444444, \"#bd3786\"], [0.5555555555555556, \"#d8576b\"], [0.6666666666666666, \"#ed7953\"], [0.7777777777777778, \"#fb9f3a\"], [0.8888888888888888, \"#fdca26\"], [1.0, \"#f0f921\"]], \"type\": \"surface\"}], \"table\": [{\"cells\": {\"fill\": {\"color\": \"#EBF0F8\"}, \"line\": {\"color\": \"white\"}}, \"header\": {\"fill\": {\"color\": \"#C8D4E3\"}, \"line\": {\"color\": \"white\"}}, \"type\": \"table\"}]}, \"layout\": {\"annotationdefaults\": {\"arrowcolor\": \"#2a3f5f\", \"arrowhead\": 0, \"arrowwidth\": 1}, \"coloraxis\": {\"colorbar\": {\"outlinewidth\": 0, \"ticks\": \"\"}}, \"colorscale\": {\"diverging\": [[0, \"#8e0152\"], [0.1, \"#c51b7d\"], [0.2, \"#de77ae\"], [0.3, \"#f1b6da\"], [0.4, \"#fde0ef\"], [0.5, \"#f7f7f7\"], [0.6, \"#e6f5d0\"], [0.7, \"#b8e186\"], [0.8, \"#7fbc41\"], [0.9, \"#4d9221\"], [1, \"#276419\"]], \"sequential\": [[0.0, \"#0d0887\"], [0.1111111111111111, \"#46039f\"], [0.2222222222222222, \"#7201a8\"], [0.3333333333333333, \"#9c179e\"], [0.4444444444444444, \"#bd3786\"], [0.5555555555555556, \"#d8576b\"], [0.6666666666666666, \"#ed7953\"], [0.7777777777777778, \"#fb9f3a\"], [0.8888888888888888, \"#fdca26\"], [1.0, \"#f0f921\"]], \"sequentialminus\": [[0.0, \"#0d0887\"], [0.1111111111111111, \"#46039f\"], [0.2222222222222222, \"#7201a8\"], [0.3333333333333333, \"#9c179e\"], [0.4444444444444444, \"#bd3786\"], [0.5555555555555556, \"#d8576b\"], [0.6666666666666666, \"#ed7953\"], [0.7777777777777778, \"#fb9f3a\"], [0.8888888888888888, \"#fdca26\"], [1.0, \"#f0f921\"]]}, \"colorway\": [\"#636efa\", \"#EF553B\", \"#00cc96\", \"#ab63fa\", \"#FFA15A\", \"#19d3f3\", \"#FF6692\", \"#B6E880\", \"#FF97FF\", \"#FECB52\"], \"font\": {\"color\": \"#2a3f5f\"}, \"geo\": {\"bgcolor\": \"white\", \"lakecolor\": \"white\", \"landcolor\": \"#E5ECF6\", \"showlakes\": true, \"showland\": true, \"subunitcolor\": \"white\"}, \"hoverlabel\": {\"align\": \"left\"}, \"hovermode\": \"closest\", \"mapbox\": {\"style\": \"light\"}, \"paper_bgcolor\": \"white\", \"plot_bgcolor\": \"#E5ECF6\", \"polar\": {\"angularaxis\": {\"gridcolor\": \"white\", \"linecolor\": \"white\", \"ticks\": \"\"}, \"bgcolor\": \"#E5ECF6\", \"radialaxis\": {\"gridcolor\": \"white\", \"linecolor\": \"white\", \"ticks\": \"\"}}, \"scene\": {\"xaxis\": {\"backgroundcolor\": \"#E5ECF6\", \"gridcolor\": \"white\", \"gridwidth\": 2, \"linecolor\": \"white\", \"showbackground\": true, \"ticks\": \"\", \"zerolinecolor\": \"white\"}, \"yaxis\": {\"backgroundcolor\": \"#E5ECF6\", \"gridcolor\": \"white\", \"gridwidth\": 2, \"linecolor\": \"white\", \"showbackground\": true, \"ticks\": \"\", \"zerolinecolor\": \"white\"}, \"zaxis\": {\"backgroundcolor\": \"#E5ECF6\", \"gridcolor\": \"white\", \"gridwidth\": 2, \"linecolor\": \"white\", \"showbackground\": true, \"ticks\": \"\", \"zerolinecolor\": \"white\"}}, \"shapedefaults\": {\"line\": {\"color\": \"#2a3f5f\"}}, \"ternary\": {\"aaxis\": {\"gridcolor\": \"white\", \"linecolor\": \"white\", \"ticks\": \"\"}, \"baxis\": {\"gridcolor\": \"white\", \"linecolor\": \"white\", \"ticks\": \"\"}, \"bgcolor\": \"#E5ECF6\", \"caxis\": {\"gridcolor\": \"white\", \"linecolor\": \"white\", \"ticks\": \"\"}}, \"title\": {\"x\": 0.05}, \"xaxis\": {\"automargin\": true, \"gridcolor\": \"white\", \"linecolor\": \"white\", \"ticks\": \"\", \"title\": {\"standoff\": 15}, \"zerolinecolor\": \"white\", \"zerolinewidth\": 2}, \"yaxis\": {\"automargin\": true, \"gridcolor\": \"white\", \"linecolor\": \"white\", \"ticks\": \"\", \"title\": {\"standoff\": 15}, \"zerolinecolor\": \"white\", \"zerolinewidth\": 2}}}, \"xaxis\": {\"anchor\": \"y\", \"domain\": [0.0, 1.0], \"title\": {\"text\": \"x\"}}, \"yaxis\": {\"anchor\": \"x\", \"domain\": [0.0, 1.0], \"title\": {\"text\": \"y\"}}},\n",
       "                        {\"responsive\": true}\n",
       "                    ).then(function(){\n",
       "                            \n",
       "var gd = document.getElementById('d5b2d630-f70c-4db7-8443-bd135efc991b');\n",
       "var x = new MutationObserver(function (mutations, observer) {{\n",
       "        var display = window.getComputedStyle(gd).display;\n",
       "        if (!display || display === 'none') {{\n",
       "            console.log([gd, 'removed!']);\n",
       "            Plotly.purge(gd);\n",
       "            observer.disconnect();\n",
       "        }}\n",
       "}});\n",
       "\n",
       "// Listen for the removal of the full notebook cells\n",
       "var notebookContainer = gd.closest('#notebook-container');\n",
       "if (notebookContainer) {{\n",
       "    x.observe(notebookContainer, {childList: true});\n",
       "}}\n",
       "\n",
       "// Listen for the clearing of the current output cell\n",
       "var outputEl = gd.closest('.output');\n",
       "if (outputEl) {{\n",
       "    x.observe(outputEl, {childList: true});\n",
       "}}\n",
       "\n",
       "                        })\n",
       "                };\n",
       "                });\n",
       "            </script>\n",
       "        </div>"
      ]
     },
     "metadata": {},
     "output_type": "display_data"
    }
   ],
   "source": [
    "# Manual hyperparameters optimization\n",
    "plot_clusters(tanks, 6, 4)"
   ]
  },
  {
   "cell_type": "code",
   "execution_count": 94,
   "metadata": {
    "scrolled": false
   },
   "outputs": [
    {
     "data": {
      "text/html": [
       "<div>\n",
       "<style scoped>\n",
       "    .dataframe tbody tr th:only-of-type {\n",
       "        vertical-align: middle;\n",
       "    }\n",
       "\n",
       "    .dataframe tbody tr th {\n",
       "        vertical-align: top;\n",
       "    }\n",
       "\n",
       "    .dataframe thead th {\n",
       "        text-align: right;\n",
       "    }\n",
       "</style>\n",
       "<table border=\"1\" class=\"dataframe\">\n",
       "  <thead>\n",
       "    <tr style=\"text-align: right;\">\n",
       "      <th></th>\n",
       "      <th>tag</th>\n",
       "      <th>cluster</th>\n",
       "    </tr>\n",
       "  </thead>\n",
       "  <tbody>\n",
       "    <tr>\n",
       "      <th>0</th>\n",
       "      <td>R185_T_34_L_11_1941</td>\n",
       "      <td>l4_2</td>\n",
       "    </tr>\n",
       "    <tr>\n",
       "      <th>1</th>\n",
       "      <td>F32_Somua_Sau_40</td>\n",
       "      <td>l4_4</td>\n",
       "    </tr>\n",
       "    <tr>\n",
       "      <th>2</th>\n",
       "      <td>A129_T6_medium</td>\n",
       "      <td>l4_0</td>\n",
       "    </tr>\n",
       "    <tr>\n",
       "      <th>3</th>\n",
       "      <td>G35_B-1bis_captured</td>\n",
       "      <td>l4_5</td>\n",
       "    </tr>\n",
       "    <tr>\n",
       "      <th>4</th>\n",
       "      <td>G90_DW_II</td>\n",
       "      <td>l4_5</td>\n",
       "    </tr>\n",
       "    <tr>\n",
       "      <th>5</th>\n",
       "      <td>R68_A-32</td>\n",
       "      <td>l4_2</td>\n",
       "    </tr>\n",
       "    <tr>\n",
       "      <th>6</th>\n",
       "      <td>Ch32_SU-76G_FT</td>\n",
       "      <td>l4_3</td>\n",
       "    </tr>\n",
       "    <tr>\n",
       "      <th>7</th>\n",
       "      <td>A29_T40</td>\n",
       "      <td>l4_1</td>\n",
       "    </tr>\n",
       "    <tr>\n",
       "      <th>8</th>\n",
       "      <td>G86_VK2001DB</td>\n",
       "      <td>l4_0</td>\n",
       "    </tr>\n",
       "    <tr>\n",
       "      <th>9</th>\n",
       "      <td>J22_Type_95</td>\n",
       "      <td>l4_5</td>\n",
       "    </tr>\n",
       "    <tr>\n",
       "      <th>10</th>\n",
       "      <td>F14_AMX40</td>\n",
       "      <td>l4_0</td>\n",
       "    </tr>\n",
       "    <tr>\n",
       "      <th>11</th>\n",
       "      <td>R03_BT-7</td>\n",
       "      <td>l4_2</td>\n",
       "    </tr>\n",
       "    <tr>\n",
       "      <th>12</th>\n",
       "      <td>G25_PzII_Luchs</td>\n",
       "      <td>l4_2</td>\n",
       "    </tr>\n",
       "    <tr>\n",
       "      <th>13</th>\n",
       "      <td>R25_GAZ-74b</td>\n",
       "      <td>l4_3</td>\n",
       "    </tr>\n",
       "    <tr>\n",
       "      <th>14</th>\n",
       "      <td>G52_Pz38_NA</td>\n",
       "      <td>l4_2</td>\n",
       "    </tr>\n",
       "    <tr>\n",
       "      <th>15</th>\n",
       "      <td>It07_P26_40</td>\n",
       "      <td>l4_0</td>\n",
       "    </tr>\n",
       "    <tr>\n",
       "      <th>16</th>\n",
       "      <td>Pl07_14TP</td>\n",
       "      <td>l4_0</td>\n",
       "    </tr>\n",
       "    <tr>\n",
       "      <th>17</th>\n",
       "      <td>GB07_Matilda</td>\n",
       "      <td>l4_5</td>\n",
       "    </tr>\n",
       "    <tr>\n",
       "      <th>18</th>\n",
       "      <td>G39_Marder_III</td>\n",
       "      <td>l4_3</td>\n",
       "    </tr>\n",
       "    <tr>\n",
       "      <th>19</th>\n",
       "      <td>S04_Lago_I</td>\n",
       "      <td>l4_0</td>\n",
       "    </tr>\n",
       "    <tr>\n",
       "      <th>20</th>\n",
       "      <td>A04_M3_Grant</td>\n",
       "      <td>l4_0</td>\n",
       "    </tr>\n",
       "    <tr>\n",
       "      <th>21</th>\n",
       "      <td>G80_Pz_IV_AusfD</td>\n",
       "      <td>l4_2</td>\n",
       "    </tr>\n",
       "    <tr>\n",
       "      <th>22</th>\n",
       "      <td>Ch09_M5</td>\n",
       "      <td>l4_2</td>\n",
       "    </tr>\n",
       "    <tr>\n",
       "      <th>23</th>\n",
       "      <td>G09_Hetzer</td>\n",
       "      <td>l4_1</td>\n",
       "    </tr>\n",
       "    <tr>\n",
       "      <th>24</th>\n",
       "      <td>GB42_Valentine_AT</td>\n",
       "      <td>l4_4</td>\n",
       "    </tr>\n",
       "    <tr>\n",
       "      <th>25</th>\n",
       "      <td>A22_M5_Stuart</td>\n",
       "      <td>l4_2</td>\n",
       "    </tr>\n",
       "    <tr>\n",
       "      <th>26</th>\n",
       "      <td>R31_Valentine_LL</td>\n",
       "      <td>l4_5</td>\n",
       "    </tr>\n",
       "    <tr>\n",
       "      <th>27</th>\n",
       "      <td>GB17_Grant_I</td>\n",
       "      <td>l4_0</td>\n",
       "    </tr>\n",
       "    <tr>\n",
       "      <th>28</th>\n",
       "      <td>GB57_Alecto</td>\n",
       "      <td>l4_4</td>\n",
       "    </tr>\n",
       "    <tr>\n",
       "      <th>29</th>\n",
       "      <td>Cz11_V_8_H</td>\n",
       "      <td>l4_0</td>\n",
       "    </tr>\n",
       "    <tr>\n",
       "      <th>30</th>\n",
       "      <td>A57_M8A1</td>\n",
       "      <td>l4_4</td>\n",
       "    </tr>\n",
       "    <tr>\n",
       "      <th>31</th>\n",
       "      <td>GB59_Cruiser_Mk_IV</td>\n",
       "      <td>l4_0</td>\n",
       "    </tr>\n",
       "    <tr>\n",
       "      <th>32</th>\n",
       "      <td>F70_SARL42</td>\n",
       "      <td>l4_5</td>\n",
       "    </tr>\n",
       "    <tr>\n",
       "      <th>33</th>\n",
       "      <td>R06_T-28</td>\n",
       "      <td>l4_2</td>\n",
       "    </tr>\n",
       "    <tr>\n",
       "      <th>34</th>\n",
       "      <td>J06_Ke_Ho</td>\n",
       "      <td>l4_0</td>\n",
       "    </tr>\n",
       "    <tr>\n",
       "      <th>35</th>\n",
       "      <td>G10_PzIII_AusfJ</td>\n",
       "      <td>l4_2</td>\n",
       "    </tr>\n",
       "    <tr>\n",
       "      <th>36</th>\n",
       "      <td>G101_StuG_III</td>\n",
       "      <td>l4_1</td>\n",
       "    </tr>\n",
       "    <tr>\n",
       "      <th>37</th>\n",
       "      <td>GB33_Sentinel_AC_I</td>\n",
       "      <td>l4_0</td>\n",
       "    </tr>\n",
       "    <tr>\n",
       "      <th>38</th>\n",
       "      <td>J09_Chi_He</td>\n",
       "      <td>l4_0</td>\n",
       "    </tr>\n",
       "    <tr>\n",
       "      <th>39</th>\n",
       "      <td>G151_Pz_Sfl_IC</td>\n",
       "      <td>l4_3</td>\n",
       "    </tr>\n",
       "    <tr>\n",
       "      <th>40</th>\n",
       "      <td>R44_T80</td>\n",
       "      <td>l4_2</td>\n",
       "    </tr>\n",
       "    <tr>\n",
       "      <th>41</th>\n",
       "      <td>R24_SU-76</td>\n",
       "      <td>l4_3</td>\n",
       "    </tr>\n",
       "    <tr>\n",
       "      <th>42</th>\n",
       "      <td>S19_Sav_M43</td>\n",
       "      <td>l4_4</td>\n",
       "    </tr>\n",
       "    <tr>\n",
       "      <th>43</th>\n",
       "      <td>R118_T28_F30</td>\n",
       "      <td>l4_0</td>\n",
       "    </tr>\n",
       "    <tr>\n",
       "      <th>44</th>\n",
       "      <td>F04_B1</td>\n",
       "      <td>l4_5</td>\n",
       "    </tr>\n",
       "  </tbody>\n",
       "</table>\n",
       "</div>"
      ],
      "text/plain": [
       "                    tag cluster\n",
       "0   R185_T_34_L_11_1941    l4_2\n",
       "1      F32_Somua_Sau_40    l4_4\n",
       "2        A129_T6_medium    l4_0\n",
       "3   G35_B-1bis_captured    l4_5\n",
       "4             G90_DW_II    l4_5\n",
       "5              R68_A-32    l4_2\n",
       "6        Ch32_SU-76G_FT    l4_3\n",
       "7               A29_T40    l4_1\n",
       "8          G86_VK2001DB    l4_0\n",
       "9           J22_Type_95    l4_5\n",
       "10            F14_AMX40    l4_0\n",
       "11             R03_BT-7    l4_2\n",
       "12       G25_PzII_Luchs    l4_2\n",
       "13          R25_GAZ-74b    l4_3\n",
       "14          G52_Pz38_NA    l4_2\n",
       "15          It07_P26_40    l4_0\n",
       "16            Pl07_14TP    l4_0\n",
       "17         GB07_Matilda    l4_5\n",
       "18       G39_Marder_III    l4_3\n",
       "19           S04_Lago_I    l4_0\n",
       "20         A04_M3_Grant    l4_0\n",
       "21      G80_Pz_IV_AusfD    l4_2\n",
       "22              Ch09_M5    l4_2\n",
       "23           G09_Hetzer    l4_1\n",
       "24    GB42_Valentine_AT    l4_4\n",
       "25        A22_M5_Stuart    l4_2\n",
       "26     R31_Valentine_LL    l4_5\n",
       "27         GB17_Grant_I    l4_0\n",
       "28          GB57_Alecto    l4_4\n",
       "29           Cz11_V_8_H    l4_0\n",
       "30             A57_M8A1    l4_4\n",
       "31   GB59_Cruiser_Mk_IV    l4_0\n",
       "32           F70_SARL42    l4_5\n",
       "33             R06_T-28    l4_2\n",
       "34            J06_Ke_Ho    l4_0\n",
       "35      G10_PzIII_AusfJ    l4_2\n",
       "36        G101_StuG_III    l4_1\n",
       "37   GB33_Sentinel_AC_I    l4_0\n",
       "38           J09_Chi_He    l4_0\n",
       "39       G151_Pz_Sfl_IC    l4_3\n",
       "40              R44_T80    l4_2\n",
       "41            R24_SU-76    l4_3\n",
       "42          S19_Sav_M43    l4_4\n",
       "43         R118_T28_F30    l4_0\n",
       "44               F04_B1    l4_5"
      ]
     },
     "execution_count": 94,
     "metadata": {},
     "output_type": "execute_result"
    }
   ],
   "source": [
    "cl = cluster(tanks, 6, 4)\n",
    "cl"
   ]
  },
  {
   "cell_type": "code",
   "execution_count": 95,
   "metadata": {},
   "outputs": [
    {
     "data": {
      "text/plain": [
       "cluster\n",
       "l4_0    14\n",
       "l4_1     3\n",
       "l4_2    11\n",
       "l4_3     5\n",
       "l4_4     5\n",
       "l4_5     7\n",
       "Name: tag, dtype: int64"
      ]
     },
     "execution_count": 95,
     "metadata": {},
     "output_type": "execute_result"
    }
   ],
   "source": [
    "# Check balance\n",
    "cl.groupby(\"cluster\").tag.count()"
   ]
  },
  {
   "cell_type": "code",
   "execution_count": 96,
   "metadata": {},
   "outputs": [],
   "source": [
    "tanks_clusters.append(cl)"
   ]
  },
  {
   "cell_type": "markdown",
   "metadata": {},
   "source": [
    "### Level 5"
   ]
  },
  {
   "cell_type": "code",
   "execution_count": 110,
   "metadata": {},
   "outputs": [
    {
     "data": {
      "application/vnd.plotly.v1+json": {
       "config": {
        "plotlyServerURL": "https://plot.ly"
       },
       "data": [
        {
         "customdata": [
          [
           "Т-34",
           "R04_T-34",
           5,
           "mediumTank"
          ],
          [
           "Pz.Kpfw. III/IV",
           "G28_PzIII_IV",
           5,
           "mediumTank"
          ],
          [
           "M4A2E4 Sherman",
           "A44_M4A2E4",
           5,
           "mediumTank"
          ],
          [
           "M4 Improved",
           "A78_M4_Improved",
           5,
           "mediumTank"
          ],
          [
           "Pz.Kpfw. IV Ausf. H Ankou",
           "G81_Pz_IV_AusfH_GuP",
           5,
           "mediumTank"
          ],
          [
           "Turán III prototípus",
           "G116_Turan_III_prot",
           5,
           "mediumTank"
          ],
          [
           "Type T-34",
           "Ch21_T34",
           5,
           "mediumTank"
          ],
          [
           "Pz.Kpfw. V/IV Alpha",
           "G32_PzV_PzIV_ausf_Alfa",
           5,
           "mediumTank"
          ],
          [
           "Pz.Kpfw. IV hydrostat.",
           "G70_PzIV_Hydro",
           5,
           "mediumTank"
          ],
          [
           "Т-34 экранированный",
           "R154_T_34E_1943",
           5,
           "mediumTank"
          ],
          [
           "Pz.Kpfw. V/IV",
           "G32_PzV_PzIV",
           5,
           "mediumTank"
          ],
          [
           "Pz.Kpfw. T 25",
           "G46_T-25",
           5,
           "mediumTank"
          ],
          [
           "Pz.Kpfw. III Ausf. K",
           "G107_PzKpfwIII_AusfK",
           5,
           "mediumTank"
          ]
         ],
         "hovertemplate": "color=l5_0<br>x=%{x}<br>y=%{y}<br>Танк=%{customdata[0]}<br>Тег=%{customdata[1]}<br>Уровень=%{customdata[2]}<br>Тип=%{customdata[3]}<extra></extra>",
         "legendgroup": "l5_0",
         "marker": {
          "color": "#636efa",
          "symbol": "circle"
         },
         "mode": "markers",
         "name": "l5_0",
         "orientation": "v",
         "showlegend": true,
         "type": "scatter",
         "x": [
          -2.1116134185626954,
          -2.392706249195498,
          -1.1025144589663882,
          -1.3859809857844265,
          -0.7751937629971425,
          0.5887027161592024,
          -2.384209536046415,
          -1.8530404411289256,
          -0.077272351737517,
          -1.0456878924597763,
          -1.6300936700719468,
          -0.5880518713279868,
          0.011415706162317425
         ],
         "xaxis": "x",
         "y": [
          0.0067245508680483235,
          1.3730973897572136,
          1.9306153317878305,
          1.9270127200029654,
          1.075853280427934,
          0.9230304281856299,
          -0.23865298990574998,
          1.2008501429411271,
          0.5950531064748079,
          0.182272118657807,
          1.0837060561729503,
          -0.5352019334896262,
          1.074767124037963
         ],
         "yaxis": "y"
        },
        {
         "customdata": [
          [
           "А-20",
           "R12_A-20",
           5,
           "lightTank"
          ],
          [
           "VK 16.02 Leopard",
           "G26_VK1602",
           5,
           "lightTank"
          ],
          [
           "M24 Chaffee",
           "A34_M24_Chaffee",
           5,
           "lightTank"
          ],
          [
           "M7",
           "A23_M7_med",
           5,
           "lightTank"
          ],
          [
           "Т-50",
           "R41_T-50",
           5,
           "lightTank"
          ],
          [
           "AMX ELC bis",
           "F62_ELC_AMX",
           5,
           "lightTank"
          ]
         ],
         "hovertemplate": "color=l5_7<br>x=%{x}<br>y=%{y}<br>Танк=%{customdata[0]}<br>Тег=%{customdata[1]}<br>Уровень=%{customdata[2]}<br>Тип=%{customdata[3]}<extra></extra>",
         "legendgroup": "l5_7",
         "marker": {
          "color": "#EF553B",
          "symbol": "circle"
         },
         "mode": "markers",
         "name": "l5_7",
         "orientation": "v",
         "showlegend": true,
         "type": "scatter",
         "x": [
          -4.941279078338643,
          -3.871219878762234,
          -4.333733035710951,
          -3.591100458006809,
          -4.344579105375884,
          -4.242665627081416
         ],
         "xaxis": "x",
         "y": [
          2.5197656098762713,
          1.1851417199866134,
          1.2640858963849375,
          2.192852294330201,
          1.9255907802534065,
          2.80436860944637
         ],
         "yaxis": "y"
        },
        {
         "customdata": [
          [
           "Excelsior",
           "GB51_Excelsior",
           5,
           "heavyTank"
          ],
          [
           "Valiant",
           "GB37_Valliant",
           5,
           "mediumTank"
          ],
          [
           "Матильда IV",
           "R32_Matilda_II_LL",
           5,
           "mediumTank"
          ],
          [
           "Matilda Black Prince",
           "GB68_Matilda_Black_Prince",
           5,
           "mediumTank"
          ]
         ],
         "hovertemplate": "color=l5_6<br>x=%{x}<br>y=%{y}<br>Танк=%{customdata[0]}<br>Тег=%{customdata[1]}<br>Уровень=%{customdata[2]}<br>Тип=%{customdata[3]}<extra></extra>",
         "legendgroup": "l5_6",
         "marker": {
          "color": "#00cc96",
          "symbol": "circle"
         },
         "mode": "markers",
         "name": "l5_6",
         "orientation": "v",
         "showlegend": true,
         "type": "scatter",
         "x": [
          3.0026838748785596,
          2.577183380159058,
          1.1852132072599126,
          1.9719582550318924
         ],
         "xaxis": "x",
         "y": [
          0.21268659703090742,
          -0.2776851828009395,
          -0.5503519085997538,
          -0.3043064378399747
         ],
         "yaxis": "y"
        },
        {
         "customdata": [
          [
           "Type 3 Chi-Nu",
           "J08_Chi_Nu",
           5,
           "mediumTank"
          ],
          [
           "25TP KSUST II",
           "Pl12_25TP_KSUST_II",
           5,
           "mediumTank"
          ],
          [
           "Strv m/42",
           "S02_Strv_M42",
           5,
           "mediumTank"
          ],
          [
           "P.43",
           "It11_P43",
           5,
           "mediumTank"
          ],
          [
           "DS PZInż",
           "Pl17_DS_PZlnz",
           5,
           "mediumTank"
          ],
          [
           "Škoda T 24",
           "Cz09_T_24",
           5,
           "mediumTank"
          ],
          [
           "Type 3 Chi-Nu Kai",
           "J12_Chi_Nu_Kai",
           5,
           "mediumTank"
          ]
         ],
         "hovertemplate": "color=l5_5<br>x=%{x}<br>y=%{y}<br>Танк=%{customdata[0]}<br>Тег=%{customdata[1]}<br>Уровень=%{customdata[2]}<br>Тип=%{customdata[3]}<extra></extra>",
         "legendgroup": "l5_5",
         "marker": {
          "color": "#ab63fa",
          "symbol": "circle"
         },
         "mode": "markers",
         "name": "l5_5",
         "orientation": "v",
         "showlegend": true,
         "type": "scatter",
         "x": [
          -0.7104300725830285,
          -1.4059508280440363,
          -0.9158431985330795,
          -0.45066338051484706,
          -1.658025291462156,
          -2.2084506320777186,
          0.10409059526771428
         ],
         "xaxis": "x",
         "y": [
          3.1244635394445184,
          4.776330421875141,
          4.226067022058048,
          3.7892959172480483,
          3.6711279553144123,
          3.491434385980315,
          2.954383467640283
         ],
         "yaxis": "y"
        },
        {
         "customdata": [
          [
           "КВ-220-2",
           "R38_KV-220",
           5,
           "heavyTank"
          ],
          [
           "T1 Heavy Tank",
           "A09_T1_hvy",
           5,
           "heavyTank"
          ],
          [
           "T14",
           "A21_T14",
           5,
           "heavyTank"
          ],
          [
           "BDR G1 B",
           "F05_BDR_G1B",
           5,
           "heavyTank"
          ],
          [
           "Ram II",
           "A62_Ram-II",
           5,
           "mediumTank"
          ],
          [
           "КВ-220-2 Бета-Тест",
           "R38_KV-220_beta",
           5,
           "heavyTank"
          ]
         ],
         "hovertemplate": "color=l5_2<br>x=%{x}<br>y=%{y}<br>Танк=%{customdata[0]}<br>Тег=%{customdata[1]}<br>Уровень=%{customdata[2]}<br>Тип=%{customdata[3]}<extra></extra>",
         "legendgroup": "l5_2",
         "marker": {
          "color": "#FFA15A",
          "symbol": "circle"
         },
         "mode": "markers",
         "name": "l5_2",
         "orientation": "v",
         "showlegend": true,
         "type": "scatter",
         "x": [
          3.380803121166378,
          2.695421021496677,
          2.226098851178736,
          2.2090758644178674,
          1.2916729864334855,
          3.1926261483670113
         ],
         "xaxis": "x",
         "y": [
          1.7341734498068233,
          1.186710139794777,
          1.2298023334448664,
          1.7281194023195794,
          1.4941921744424758,
          2.108893880489022
         ],
         "yaxis": "y"
        },
        {
         "customdata": [
          [
           "M10 RBFM",
           "F112_M10_RBFM",
           5,
           "AT-SPG"
          ],
          [
           "СУ-85И",
           "R78_SU_85I",
           5,
           "AT-SPG"
          ],
          [
           "T67",
           "A58_T67",
           5,
           "AT-SPG"
          ],
          [
           "Pz.Sfl. IVc",
           "G76_Pz_Sfl_IVc",
           5,
           "AT-SPG"
          ],
          [
           "60G FT",
           "Ch33_60G_FT",
           5,
           "AT-SPG"
          ],
          [
           "StuG IV",
           "G104_Stug_IV",
           5,
           "AT-SPG"
          ]
         ],
         "hovertemplate": "color=l5_4<br>x=%{x}<br>y=%{y}<br>Танк=%{customdata[0]}<br>Тег=%{customdata[1]}<br>Уровень=%{customdata[2]}<br>Тип=%{customdata[3]}<extra></extra>",
         "legendgroup": "l5_4",
         "marker": {
          "color": "#19d3f3",
          "symbol": "circle"
         },
         "mode": "markers",
         "name": "l5_4",
         "orientation": "v",
         "showlegend": true,
         "type": "scatter",
         "x": [
          -4.647359554750941,
          -4.302779937507309,
          -5.291776993968115,
          -5.267312962844685,
          -5.014559180588844,
          -4.9558487969817655
         ],
         "xaxis": "x",
         "y": [
          -0.9954504861524068,
          -2.3356665087276665,
          -0.09036573393044267,
          -1.30728775083249,
          -1.1171392321512146,
          -2.611510608781274
         ],
         "yaxis": "y"
        },
        {
         "customdata": [
          [
           "Renault G1",
           "F11_Renault_G1R",
           5,
           "mediumTank"
          ],
          [
           "M4A1 Sherman",
           "A05_M4_Sherman",
           5,
           "mediumTank"
          ],
          [
           "Cavalier",
           "GB107_Cavalier",
           5,
           "mediumTank"
          ],
          [
           "Pz.Kpfw. IV Ausf. H",
           "G81_Pz_IV_AusfH",
           5,
           "mediumTank"
          ],
          [
           "VK 30.01 (H)",
           "G13_VK3001H",
           5,
           "mediumTank"
          ],
          [
           "Sherman III",
           "GB50_Sherman_III",
           5,
           "mediumTank"
          ],
          [
           "Covenanter",
           "GB60_Covenanter",
           5,
           "lightTank"
          ]
         ],
         "hovertemplate": "color=l5_3<br>x=%{x}<br>y=%{y}<br>Танк=%{customdata[0]}<br>Тег=%{customdata[1]}<br>Уровень=%{customdata[2]}<br>Тип=%{customdata[3]}<extra></extra>",
         "legendgroup": "l5_3",
         "marker": {
          "color": "#FF6692",
          "symbol": "circle"
         },
         "mode": "markers",
         "name": "l5_3",
         "orientation": "v",
         "showlegend": true,
         "type": "scatter",
         "x": [
          3.7185753711421965,
          3.651617873013543,
          3.461335234745272,
          4.045653406345654,
          3.8764901249692043,
          3.4439146959238798,
          2.646259521424109
         ],
         "xaxis": "x",
         "y": [
          -3.566012071151885,
          -4.38904966124795,
          -4.624385660567212,
          -4.028569365678505,
          -3.3932754679040875,
          -4.128553406999704,
          -5.115115144142394
         ],
         "yaxis": "y"
        },
        {
         "customdata": [
          [
           "Черчилль III",
           "R33_Churchill_LL",
           5,
           "heavyTank"
          ],
          [
           "Churchill I",
           "GB08_Churchill_I",
           5,
           "heavyTank"
          ]
         ],
         "hovertemplate": "color=l5_1<br>x=%{x}<br>y=%{y}<br>Танк=%{customdata[0]}<br>Тег=%{customdata[1]}<br>Уровень=%{customdata[2]}<br>Тип=%{customdata[3]}<extra></extra>",
         "legendgroup": "l5_1",
         "marker": {
          "color": "#B6E880",
          "symbol": "circle"
         },
         "mode": "markers",
         "name": "l5_1",
         "orientation": "v",
         "showlegend": true,
         "type": "scatter",
         "x": [
          4.219669975355907,
          4.745249210025443
         ],
         "xaxis": "x",
         "y": [
          1.7307679079494647,
          0.27409707774095904
         ],
         "yaxis": "y"
        },
        {
         "customdata": [
          [
           "Archer",
           "GB44_Archer",
           5,
           "AT-SPG"
          ],
          [
           "S35 CA",
           "F33_S_35CA",
           5,
           "AT-SPG"
          ]
         ],
         "hovertemplate": "color=l5_10<br>x=%{x}<br>y=%{y}<br>Танк=%{customdata[0]}<br>Тег=%{customdata[1]}<br>Уровень=%{customdata[2]}<br>Тип=%{customdata[3]}<extra></extra>",
         "legendgroup": "l5_10",
         "marker": {
          "color": "#FF97FF",
          "symbol": "circle"
         },
         "mode": "markers",
         "name": "l5_10",
         "orientation": "v",
         "showlegend": true,
         "type": "scatter",
         "x": [
          -3.144020323448427,
          -3.57383917515646
         ],
         "xaxis": "x",
         "y": [
          -2.4497487433545295,
          -2.436970538139375
         ],
         "yaxis": "y"
        },
        {
         "customdata": [
          [
           "StuG III Ausf. G",
           "G05_StuG_40_AusfG",
           5,
           "AT-SPG"
          ],
          [
           "СУ-85",
           "R02_SU-85",
           5,
           "AT-SPG"
          ],
          [
           "AT 2",
           "GB73_AT2",
           5,
           "AT-SPG"
          ],
          [
           "M10 Wolverine",
           "A30_M10_Wolverine",
           5,
           "AT-SPG"
          ]
         ],
         "hovertemplate": "color=l5_11<br>x=%{x}<br>y=%{y}<br>Танк=%{customdata[0]}<br>Тег=%{customdata[1]}<br>Уровень=%{customdata[2]}<br>Тип=%{customdata[3]}<extra></extra>",
         "legendgroup": "l5_11",
         "marker": {
          "color": "#FECB52",
          "symbol": "circle"
         },
         "mode": "markers",
         "name": "l5_11",
         "orientation": "v",
         "showlegend": true,
         "type": "scatter",
         "x": [
          6.0067441501761465,
          6.232894182285776,
          5.693367550929908,
          5.040820801748464
         ],
         "xaxis": "x",
         "y": [
          -3.9399049737948304,
          -3.798293240319356,
          -1.0255640528091363,
          -4.7640809252771446
         ],
         "yaxis": "y"
        },
        {
         "customdata": [
          [
           "Ikv 103",
           "S14_Ikv_103",
           5,
           "AT-SPG"
          ]
         ],
         "hovertemplate": "color=l5_9<br>x=%{x}<br>y=%{y}<br>Танк=%{customdata[0]}<br>Тег=%{customdata[1]}<br>Уровень=%{customdata[2]}<br>Тип=%{customdata[3]}<extra></extra>",
         "legendgroup": "l5_9",
         "marker": {
          "color": "#636efa",
          "symbol": "circle"
         },
         "mode": "markers",
         "name": "l5_9",
         "orientation": "v",
         "showlegend": true,
         "type": "scatter",
         "x": [
          -5.993425344991247
         ],
         "xaxis": "x",
         "y": [
          0.012634308243563869
         ],
         "yaxis": "y"
        },
        {
         "customdata": [
          [
           "КВ-1",
           "R80_KV1",
           5,
           "heavyTank"
          ],
          [
           "O-I Experimental",
           "J23_Mi_To",
           5,
           "heavyTank"
          ]
         ],
         "hovertemplate": "color=l5_8<br>x=%{x}<br>y=%{y}<br>Танк=%{customdata[0]}<br>Тег=%{customdata[1]}<br>Уровень=%{customdata[2]}<br>Тип=%{customdata[3]}<extra></extra>",
         "legendgroup": "l5_8",
         "marker": {
          "color": "#EF553B",
          "symbol": "circle"
         },
         "mode": "markers",
         "name": "l5_8",
         "orientation": "v",
         "showlegend": true,
         "type": "scatter",
         "x": [
          4.7658826388708135,
          4.225807030072193
         ],
         "xaxis": "x",
         "y": [
          -1.9300350400434212,
          -1.0567900757742135
         ],
         "yaxis": "y"
        }
       ],
       "layout": {
        "legend": {
         "title": {
          "text": "color"
         },
         "tracegroupgap": 0
        },
        "margin": {
         "t": 60
        },
        "template": {
         "data": {
          "bar": [
           {
            "error_x": {
             "color": "#2a3f5f"
            },
            "error_y": {
             "color": "#2a3f5f"
            },
            "marker": {
             "line": {
              "color": "#E5ECF6",
              "width": 0.5
             }
            },
            "type": "bar"
           }
          ],
          "barpolar": [
           {
            "marker": {
             "line": {
              "color": "#E5ECF6",
              "width": 0.5
             }
            },
            "type": "barpolar"
           }
          ],
          "carpet": [
           {
            "aaxis": {
             "endlinecolor": "#2a3f5f",
             "gridcolor": "white",
             "linecolor": "white",
             "minorgridcolor": "white",
             "startlinecolor": "#2a3f5f"
            },
            "baxis": {
             "endlinecolor": "#2a3f5f",
             "gridcolor": "white",
             "linecolor": "white",
             "minorgridcolor": "white",
             "startlinecolor": "#2a3f5f"
            },
            "type": "carpet"
           }
          ],
          "choropleth": [
           {
            "colorbar": {
             "outlinewidth": 0,
             "ticks": ""
            },
            "type": "choropleth"
           }
          ],
          "contour": [
           {
            "colorbar": {
             "outlinewidth": 0,
             "ticks": ""
            },
            "colorscale": [
             [
              0,
              "#0d0887"
             ],
             [
              0.1111111111111111,
              "#46039f"
             ],
             [
              0.2222222222222222,
              "#7201a8"
             ],
             [
              0.3333333333333333,
              "#9c179e"
             ],
             [
              0.4444444444444444,
              "#bd3786"
             ],
             [
              0.5555555555555556,
              "#d8576b"
             ],
             [
              0.6666666666666666,
              "#ed7953"
             ],
             [
              0.7777777777777778,
              "#fb9f3a"
             ],
             [
              0.8888888888888888,
              "#fdca26"
             ],
             [
              1,
              "#f0f921"
             ]
            ],
            "type": "contour"
           }
          ],
          "contourcarpet": [
           {
            "colorbar": {
             "outlinewidth": 0,
             "ticks": ""
            },
            "type": "contourcarpet"
           }
          ],
          "heatmap": [
           {
            "colorbar": {
             "outlinewidth": 0,
             "ticks": ""
            },
            "colorscale": [
             [
              0,
              "#0d0887"
             ],
             [
              0.1111111111111111,
              "#46039f"
             ],
             [
              0.2222222222222222,
              "#7201a8"
             ],
             [
              0.3333333333333333,
              "#9c179e"
             ],
             [
              0.4444444444444444,
              "#bd3786"
             ],
             [
              0.5555555555555556,
              "#d8576b"
             ],
             [
              0.6666666666666666,
              "#ed7953"
             ],
             [
              0.7777777777777778,
              "#fb9f3a"
             ],
             [
              0.8888888888888888,
              "#fdca26"
             ],
             [
              1,
              "#f0f921"
             ]
            ],
            "type": "heatmap"
           }
          ],
          "heatmapgl": [
           {
            "colorbar": {
             "outlinewidth": 0,
             "ticks": ""
            },
            "colorscale": [
             [
              0,
              "#0d0887"
             ],
             [
              0.1111111111111111,
              "#46039f"
             ],
             [
              0.2222222222222222,
              "#7201a8"
             ],
             [
              0.3333333333333333,
              "#9c179e"
             ],
             [
              0.4444444444444444,
              "#bd3786"
             ],
             [
              0.5555555555555556,
              "#d8576b"
             ],
             [
              0.6666666666666666,
              "#ed7953"
             ],
             [
              0.7777777777777778,
              "#fb9f3a"
             ],
             [
              0.8888888888888888,
              "#fdca26"
             ],
             [
              1,
              "#f0f921"
             ]
            ],
            "type": "heatmapgl"
           }
          ],
          "histogram": [
           {
            "marker": {
             "colorbar": {
              "outlinewidth": 0,
              "ticks": ""
             }
            },
            "type": "histogram"
           }
          ],
          "histogram2d": [
           {
            "colorbar": {
             "outlinewidth": 0,
             "ticks": ""
            },
            "colorscale": [
             [
              0,
              "#0d0887"
             ],
             [
              0.1111111111111111,
              "#46039f"
             ],
             [
              0.2222222222222222,
              "#7201a8"
             ],
             [
              0.3333333333333333,
              "#9c179e"
             ],
             [
              0.4444444444444444,
              "#bd3786"
             ],
             [
              0.5555555555555556,
              "#d8576b"
             ],
             [
              0.6666666666666666,
              "#ed7953"
             ],
             [
              0.7777777777777778,
              "#fb9f3a"
             ],
             [
              0.8888888888888888,
              "#fdca26"
             ],
             [
              1,
              "#f0f921"
             ]
            ],
            "type": "histogram2d"
           }
          ],
          "histogram2dcontour": [
           {
            "colorbar": {
             "outlinewidth": 0,
             "ticks": ""
            },
            "colorscale": [
             [
              0,
              "#0d0887"
             ],
             [
              0.1111111111111111,
              "#46039f"
             ],
             [
              0.2222222222222222,
              "#7201a8"
             ],
             [
              0.3333333333333333,
              "#9c179e"
             ],
             [
              0.4444444444444444,
              "#bd3786"
             ],
             [
              0.5555555555555556,
              "#d8576b"
             ],
             [
              0.6666666666666666,
              "#ed7953"
             ],
             [
              0.7777777777777778,
              "#fb9f3a"
             ],
             [
              0.8888888888888888,
              "#fdca26"
             ],
             [
              1,
              "#f0f921"
             ]
            ],
            "type": "histogram2dcontour"
           }
          ],
          "mesh3d": [
           {
            "colorbar": {
             "outlinewidth": 0,
             "ticks": ""
            },
            "type": "mesh3d"
           }
          ],
          "parcoords": [
           {
            "line": {
             "colorbar": {
              "outlinewidth": 0,
              "ticks": ""
             }
            },
            "type": "parcoords"
           }
          ],
          "pie": [
           {
            "automargin": true,
            "type": "pie"
           }
          ],
          "scatter": [
           {
            "marker": {
             "colorbar": {
              "outlinewidth": 0,
              "ticks": ""
             }
            },
            "type": "scatter"
           }
          ],
          "scatter3d": [
           {
            "line": {
             "colorbar": {
              "outlinewidth": 0,
              "ticks": ""
             }
            },
            "marker": {
             "colorbar": {
              "outlinewidth": 0,
              "ticks": ""
             }
            },
            "type": "scatter3d"
           }
          ],
          "scattercarpet": [
           {
            "marker": {
             "colorbar": {
              "outlinewidth": 0,
              "ticks": ""
             }
            },
            "type": "scattercarpet"
           }
          ],
          "scattergeo": [
           {
            "marker": {
             "colorbar": {
              "outlinewidth": 0,
              "ticks": ""
             }
            },
            "type": "scattergeo"
           }
          ],
          "scattergl": [
           {
            "marker": {
             "colorbar": {
              "outlinewidth": 0,
              "ticks": ""
             }
            },
            "type": "scattergl"
           }
          ],
          "scattermapbox": [
           {
            "marker": {
             "colorbar": {
              "outlinewidth": 0,
              "ticks": ""
             }
            },
            "type": "scattermapbox"
           }
          ],
          "scatterpolar": [
           {
            "marker": {
             "colorbar": {
              "outlinewidth": 0,
              "ticks": ""
             }
            },
            "type": "scatterpolar"
           }
          ],
          "scatterpolargl": [
           {
            "marker": {
             "colorbar": {
              "outlinewidth": 0,
              "ticks": ""
             }
            },
            "type": "scatterpolargl"
           }
          ],
          "scatterternary": [
           {
            "marker": {
             "colorbar": {
              "outlinewidth": 0,
              "ticks": ""
             }
            },
            "type": "scatterternary"
           }
          ],
          "surface": [
           {
            "colorbar": {
             "outlinewidth": 0,
             "ticks": ""
            },
            "colorscale": [
             [
              0,
              "#0d0887"
             ],
             [
              0.1111111111111111,
              "#46039f"
             ],
             [
              0.2222222222222222,
              "#7201a8"
             ],
             [
              0.3333333333333333,
              "#9c179e"
             ],
             [
              0.4444444444444444,
              "#bd3786"
             ],
             [
              0.5555555555555556,
              "#d8576b"
             ],
             [
              0.6666666666666666,
              "#ed7953"
             ],
             [
              0.7777777777777778,
              "#fb9f3a"
             ],
             [
              0.8888888888888888,
              "#fdca26"
             ],
             [
              1,
              "#f0f921"
             ]
            ],
            "type": "surface"
           }
          ],
          "table": [
           {
            "cells": {
             "fill": {
              "color": "#EBF0F8"
             },
             "line": {
              "color": "white"
             }
            },
            "header": {
             "fill": {
              "color": "#C8D4E3"
             },
             "line": {
              "color": "white"
             }
            },
            "type": "table"
           }
          ]
         },
         "layout": {
          "annotationdefaults": {
           "arrowcolor": "#2a3f5f",
           "arrowhead": 0,
           "arrowwidth": 1
          },
          "coloraxis": {
           "colorbar": {
            "outlinewidth": 0,
            "ticks": ""
           }
          },
          "colorscale": {
           "diverging": [
            [
             0,
             "#8e0152"
            ],
            [
             0.1,
             "#c51b7d"
            ],
            [
             0.2,
             "#de77ae"
            ],
            [
             0.3,
             "#f1b6da"
            ],
            [
             0.4,
             "#fde0ef"
            ],
            [
             0.5,
             "#f7f7f7"
            ],
            [
             0.6,
             "#e6f5d0"
            ],
            [
             0.7,
             "#b8e186"
            ],
            [
             0.8,
             "#7fbc41"
            ],
            [
             0.9,
             "#4d9221"
            ],
            [
             1,
             "#276419"
            ]
           ],
           "sequential": [
            [
             0,
             "#0d0887"
            ],
            [
             0.1111111111111111,
             "#46039f"
            ],
            [
             0.2222222222222222,
             "#7201a8"
            ],
            [
             0.3333333333333333,
             "#9c179e"
            ],
            [
             0.4444444444444444,
             "#bd3786"
            ],
            [
             0.5555555555555556,
             "#d8576b"
            ],
            [
             0.6666666666666666,
             "#ed7953"
            ],
            [
             0.7777777777777778,
             "#fb9f3a"
            ],
            [
             0.8888888888888888,
             "#fdca26"
            ],
            [
             1,
             "#f0f921"
            ]
           ],
           "sequentialminus": [
            [
             0,
             "#0d0887"
            ],
            [
             0.1111111111111111,
             "#46039f"
            ],
            [
             0.2222222222222222,
             "#7201a8"
            ],
            [
             0.3333333333333333,
             "#9c179e"
            ],
            [
             0.4444444444444444,
             "#bd3786"
            ],
            [
             0.5555555555555556,
             "#d8576b"
            ],
            [
             0.6666666666666666,
             "#ed7953"
            ],
            [
             0.7777777777777778,
             "#fb9f3a"
            ],
            [
             0.8888888888888888,
             "#fdca26"
            ],
            [
             1,
             "#f0f921"
            ]
           ]
          },
          "colorway": [
           "#636efa",
           "#EF553B",
           "#00cc96",
           "#ab63fa",
           "#FFA15A",
           "#19d3f3",
           "#FF6692",
           "#B6E880",
           "#FF97FF",
           "#FECB52"
          ],
          "font": {
           "color": "#2a3f5f"
          },
          "geo": {
           "bgcolor": "white",
           "lakecolor": "white",
           "landcolor": "#E5ECF6",
           "showlakes": true,
           "showland": true,
           "subunitcolor": "white"
          },
          "hoverlabel": {
           "align": "left"
          },
          "hovermode": "closest",
          "mapbox": {
           "style": "light"
          },
          "paper_bgcolor": "white",
          "plot_bgcolor": "#E5ECF6",
          "polar": {
           "angularaxis": {
            "gridcolor": "white",
            "linecolor": "white",
            "ticks": ""
           },
           "bgcolor": "#E5ECF6",
           "radialaxis": {
            "gridcolor": "white",
            "linecolor": "white",
            "ticks": ""
           }
          },
          "scene": {
           "xaxis": {
            "backgroundcolor": "#E5ECF6",
            "gridcolor": "white",
            "gridwidth": 2,
            "linecolor": "white",
            "showbackground": true,
            "ticks": "",
            "zerolinecolor": "white"
           },
           "yaxis": {
            "backgroundcolor": "#E5ECF6",
            "gridcolor": "white",
            "gridwidth": 2,
            "linecolor": "white",
            "showbackground": true,
            "ticks": "",
            "zerolinecolor": "white"
           },
           "zaxis": {
            "backgroundcolor": "#E5ECF6",
            "gridcolor": "white",
            "gridwidth": 2,
            "linecolor": "white",
            "showbackground": true,
            "ticks": "",
            "zerolinecolor": "white"
           }
          },
          "shapedefaults": {
           "line": {
            "color": "#2a3f5f"
           }
          },
          "ternary": {
           "aaxis": {
            "gridcolor": "white",
            "linecolor": "white",
            "ticks": ""
           },
           "baxis": {
            "gridcolor": "white",
            "linecolor": "white",
            "ticks": ""
           },
           "bgcolor": "#E5ECF6",
           "caxis": {
            "gridcolor": "white",
            "linecolor": "white",
            "ticks": ""
           }
          },
          "title": {
           "x": 0.05
          },
          "xaxis": {
           "automargin": true,
           "gridcolor": "white",
           "linecolor": "white",
           "ticks": "",
           "title": {
            "standoff": 15
           },
           "zerolinecolor": "white",
           "zerolinewidth": 2
          },
          "yaxis": {
           "automargin": true,
           "gridcolor": "white",
           "linecolor": "white",
           "ticks": "",
           "title": {
            "standoff": 15
           },
           "zerolinecolor": "white",
           "zerolinewidth": 2
          }
         }
        },
        "xaxis": {
         "anchor": "y",
         "domain": [
          0,
          1
         ],
         "title": {
          "text": "x"
         }
        },
        "yaxis": {
         "anchor": "x",
         "domain": [
          0,
          1
         ],
         "title": {
          "text": "y"
         }
        }
       }
      },
      "text/html": [
       "<div>\n",
       "        \n",
       "        \n",
       "            <div id=\"89e0f3f5-02ff-43c3-b3ac-86a14251cb12\" class=\"plotly-graph-div\" style=\"height:525px; width:100%;\"></div>\n",
       "            <script type=\"text/javascript\">\n",
       "                require([\"plotly\"], function(Plotly) {\n",
       "                    window.PLOTLYENV=window.PLOTLYENV || {};\n",
       "                    \n",
       "                if (document.getElementById(\"89e0f3f5-02ff-43c3-b3ac-86a14251cb12\")) {\n",
       "                    Plotly.newPlot(\n",
       "                        '89e0f3f5-02ff-43c3-b3ac-86a14251cb12',\n",
       "                        [{\"customdata\": [[\"\\u0422-34\", \"R04_T-34\", 5, \"mediumTank\"], [\"Pz.Kpfw. III/IV\", \"G28_PzIII_IV\", 5, \"mediumTank\"], [\"M4A2E4 Sherman\", \"A44_M4A2E4\", 5, \"mediumTank\"], [\"M4 Improved\", \"A78_M4_Improved\", 5, \"mediumTank\"], [\"Pz.Kpfw. IV Ausf. H Ankou\", \"G81_Pz_IV_AusfH_GuP\", 5, \"mediumTank\"], [\"Tur\\u00e1n III protot\\u00edpus\", \"G116_Turan_III_prot\", 5, \"mediumTank\"], [\"Type T-34\", \"Ch21_T34\", 5, \"mediumTank\"], [\"Pz.Kpfw. V/IV Alpha\", \"G32_PzV_PzIV_ausf_Alfa\", 5, \"mediumTank\"], [\"Pz.Kpfw. IV hydrostat.\", \"G70_PzIV_Hydro\", 5, \"mediumTank\"], [\"\\u0422-34 \\u044d\\u043a\\u0440\\u0430\\u043d\\u0438\\u0440\\u043e\\u0432\\u0430\\u043d\\u043d\\u044b\\u0439\", \"R154_T_34E_1943\", 5, \"mediumTank\"], [\"Pz.Kpfw. V/IV\", \"G32_PzV_PzIV\", 5, \"mediumTank\"], [\"Pz.Kpfw. T 25\", \"G46_T-25\", 5, \"mediumTank\"], [\"Pz.Kpfw. III Ausf. K\", \"G107_PzKpfwIII_AusfK\", 5, \"mediumTank\"]], \"hovertemplate\": \"color=l5_0<br>x=%{x}<br>y=%{y}<br>\\u0422\\u0430\\u043d\\u043a=%{customdata[0]}<br>\\u0422\\u0435\\u0433=%{customdata[1]}<br>\\u0423\\u0440\\u043e\\u0432\\u0435\\u043d\\u044c=%{customdata[2]}<br>\\u0422\\u0438\\u043f=%{customdata[3]}<extra></extra>\", \"legendgroup\": \"l5_0\", \"marker\": {\"color\": \"#636efa\", \"symbol\": \"circle\"}, \"mode\": \"markers\", \"name\": \"l5_0\", \"orientation\": \"v\", \"showlegend\": true, \"type\": \"scatter\", \"x\": [-2.1116134185626954, -2.392706249195498, -1.1025144589663882, -1.3859809857844265, -0.7751937629971425, 0.5887027161592024, -2.384209536046415, -1.8530404411289256, -0.077272351737517, -1.0456878924597763, -1.6300936700719468, -0.5880518713279868, 0.011415706162317425], \"xaxis\": \"x\", \"y\": [0.0067245508680483235, 1.3730973897572136, 1.9306153317878305, 1.9270127200029654, 1.075853280427934, 0.9230304281856299, -0.23865298990574998, 1.2008501429411271, 0.5950531064748079, 0.182272118657807, 1.0837060561729503, -0.5352019334896262, 1.074767124037963], \"yaxis\": \"y\"}, {\"customdata\": [[\"\\u0410-20\", \"R12_A-20\", 5, \"lightTank\"], [\"VK 16.02 Leopard\", \"G26_VK1602\", 5, \"lightTank\"], [\"M24 Chaffee\", \"A34_M24_Chaffee\", 5, \"lightTank\"], [\"M7\", \"A23_M7_med\", 5, \"lightTank\"], [\"\\u0422-50\", \"R41_T-50\", 5, \"lightTank\"], [\"AMX ELC bis\", \"F62_ELC_AMX\", 5, \"lightTank\"]], \"hovertemplate\": \"color=l5_7<br>x=%{x}<br>y=%{y}<br>\\u0422\\u0430\\u043d\\u043a=%{customdata[0]}<br>\\u0422\\u0435\\u0433=%{customdata[1]}<br>\\u0423\\u0440\\u043e\\u0432\\u0435\\u043d\\u044c=%{customdata[2]}<br>\\u0422\\u0438\\u043f=%{customdata[3]}<extra></extra>\", \"legendgroup\": \"l5_7\", \"marker\": {\"color\": \"#EF553B\", \"symbol\": \"circle\"}, \"mode\": \"markers\", \"name\": \"l5_7\", \"orientation\": \"v\", \"showlegend\": true, \"type\": \"scatter\", \"x\": [-4.941279078338643, -3.871219878762234, -4.333733035710951, -3.591100458006809, -4.344579105375884, -4.242665627081416], \"xaxis\": \"x\", \"y\": [2.5197656098762713, 1.1851417199866134, 1.2640858963849375, 2.192852294330201, 1.9255907802534065, 2.80436860944637], \"yaxis\": \"y\"}, {\"customdata\": [[\"Excelsior\", \"GB51_Excelsior\", 5, \"heavyTank\"], [\"Valiant\", \"GB37_Valliant\", 5, \"mediumTank\"], [\"\\u041c\\u0430\\u0442\\u0438\\u043b\\u044c\\u0434\\u0430 IV\", \"R32_Matilda_II_LL\", 5, \"mediumTank\"], [\"Matilda Black Prince\", \"GB68_Matilda_Black_Prince\", 5, \"mediumTank\"]], \"hovertemplate\": \"color=l5_6<br>x=%{x}<br>y=%{y}<br>\\u0422\\u0430\\u043d\\u043a=%{customdata[0]}<br>\\u0422\\u0435\\u0433=%{customdata[1]}<br>\\u0423\\u0440\\u043e\\u0432\\u0435\\u043d\\u044c=%{customdata[2]}<br>\\u0422\\u0438\\u043f=%{customdata[3]}<extra></extra>\", \"legendgroup\": \"l5_6\", \"marker\": {\"color\": \"#00cc96\", \"symbol\": \"circle\"}, \"mode\": \"markers\", \"name\": \"l5_6\", \"orientation\": \"v\", \"showlegend\": true, \"type\": \"scatter\", \"x\": [3.0026838748785596, 2.577183380159058, 1.1852132072599126, 1.9719582550318924], \"xaxis\": \"x\", \"y\": [0.21268659703090742, -0.2776851828009395, -0.5503519085997538, -0.3043064378399747], \"yaxis\": \"y\"}, {\"customdata\": [[\"Type 3 Chi-Nu\", \"J08_Chi_Nu\", 5, \"mediumTank\"], [\"25TP KSUST II\", \"Pl12_25TP_KSUST_II\", 5, \"mediumTank\"], [\"Strv m/42\", \"S02_Strv_M42\", 5, \"mediumTank\"], [\"P.43\", \"It11_P43\", 5, \"mediumTank\"], [\"DS PZIn\\u017c\", \"Pl17_DS_PZlnz\", 5, \"mediumTank\"], [\"\\u0160koda T 24\", \"Cz09_T_24\", 5, \"mediumTank\"], [\"Type 3 Chi-Nu Kai\", \"J12_Chi_Nu_Kai\", 5, \"mediumTank\"]], \"hovertemplate\": \"color=l5_5<br>x=%{x}<br>y=%{y}<br>\\u0422\\u0430\\u043d\\u043a=%{customdata[0]}<br>\\u0422\\u0435\\u0433=%{customdata[1]}<br>\\u0423\\u0440\\u043e\\u0432\\u0435\\u043d\\u044c=%{customdata[2]}<br>\\u0422\\u0438\\u043f=%{customdata[3]}<extra></extra>\", \"legendgroup\": \"l5_5\", \"marker\": {\"color\": \"#ab63fa\", \"symbol\": \"circle\"}, \"mode\": \"markers\", \"name\": \"l5_5\", \"orientation\": \"v\", \"showlegend\": true, \"type\": \"scatter\", \"x\": [-0.7104300725830285, -1.4059508280440363, -0.9158431985330795, -0.45066338051484706, -1.658025291462156, -2.2084506320777186, 0.10409059526771428], \"xaxis\": \"x\", \"y\": [3.1244635394445184, 4.776330421875141, 4.226067022058048, 3.7892959172480483, 3.6711279553144123, 3.491434385980315, 2.954383467640283], \"yaxis\": \"y\"}, {\"customdata\": [[\"\\u041a\\u0412-220-2\", \"R38_KV-220\", 5, \"heavyTank\"], [\"T1 Heavy Tank\", \"A09_T1_hvy\", 5, \"heavyTank\"], [\"T14\", \"A21_T14\", 5, \"heavyTank\"], [\"BDR G1 B\", \"F05_BDR_G1B\", 5, \"heavyTank\"], [\"Ram II\", \"A62_Ram-II\", 5, \"mediumTank\"], [\"\\u041a\\u0412-220-2 \\u0411\\u0435\\u0442\\u0430-\\u0422\\u0435\\u0441\\u0442\", \"R38_KV-220_beta\", 5, \"heavyTank\"]], \"hovertemplate\": \"color=l5_2<br>x=%{x}<br>y=%{y}<br>\\u0422\\u0430\\u043d\\u043a=%{customdata[0]}<br>\\u0422\\u0435\\u0433=%{customdata[1]}<br>\\u0423\\u0440\\u043e\\u0432\\u0435\\u043d\\u044c=%{customdata[2]}<br>\\u0422\\u0438\\u043f=%{customdata[3]}<extra></extra>\", \"legendgroup\": \"l5_2\", \"marker\": {\"color\": \"#FFA15A\", \"symbol\": \"circle\"}, \"mode\": \"markers\", \"name\": \"l5_2\", \"orientation\": \"v\", \"showlegend\": true, \"type\": \"scatter\", \"x\": [3.380803121166378, 2.695421021496677, 2.226098851178736, 2.2090758644178674, 1.2916729864334855, 3.1926261483670113], \"xaxis\": \"x\", \"y\": [1.7341734498068233, 1.186710139794777, 1.2298023334448664, 1.7281194023195794, 1.4941921744424758, 2.108893880489022], \"yaxis\": \"y\"}, {\"customdata\": [[\"M10 RBFM\", \"F112_M10_RBFM\", 5, \"AT-SPG\"], [\"\\u0421\\u0423-85\\u0418\", \"R78_SU_85I\", 5, \"AT-SPG\"], [\"T67\", \"A58_T67\", 5, \"AT-SPG\"], [\"Pz.Sfl. IVc\", \"G76_Pz_Sfl_IVc\", 5, \"AT-SPG\"], [\"60G FT\", \"Ch33_60G_FT\", 5, \"AT-SPG\"], [\"StuG IV\", \"G104_Stug_IV\", 5, \"AT-SPG\"]], \"hovertemplate\": \"color=l5_4<br>x=%{x}<br>y=%{y}<br>\\u0422\\u0430\\u043d\\u043a=%{customdata[0]}<br>\\u0422\\u0435\\u0433=%{customdata[1]}<br>\\u0423\\u0440\\u043e\\u0432\\u0435\\u043d\\u044c=%{customdata[2]}<br>\\u0422\\u0438\\u043f=%{customdata[3]}<extra></extra>\", \"legendgroup\": \"l5_4\", \"marker\": {\"color\": \"#19d3f3\", \"symbol\": \"circle\"}, \"mode\": \"markers\", \"name\": \"l5_4\", \"orientation\": \"v\", \"showlegend\": true, \"type\": \"scatter\", \"x\": [-4.647359554750941, -4.302779937507309, -5.291776993968115, -5.267312962844685, -5.014559180588844, -4.9558487969817655], \"xaxis\": \"x\", \"y\": [-0.9954504861524068, -2.3356665087276665, -0.09036573393044267, -1.30728775083249, -1.1171392321512146, -2.611510608781274], \"yaxis\": \"y\"}, {\"customdata\": [[\"Renault G1\", \"F11_Renault_G1R\", 5, \"mediumTank\"], [\"M4A1 Sherman\", \"A05_M4_Sherman\", 5, \"mediumTank\"], [\"Cavalier\", \"GB107_Cavalier\", 5, \"mediumTank\"], [\"Pz.Kpfw. IV Ausf. H\", \"G81_Pz_IV_AusfH\", 5, \"mediumTank\"], [\"VK 30.01 (H)\", \"G13_VK3001H\", 5, \"mediumTank\"], [\"Sherman III\", \"GB50_Sherman_III\", 5, \"mediumTank\"], [\"Covenanter\", \"GB60_Covenanter\", 5, \"lightTank\"]], \"hovertemplate\": \"color=l5_3<br>x=%{x}<br>y=%{y}<br>\\u0422\\u0430\\u043d\\u043a=%{customdata[0]}<br>\\u0422\\u0435\\u0433=%{customdata[1]}<br>\\u0423\\u0440\\u043e\\u0432\\u0435\\u043d\\u044c=%{customdata[2]}<br>\\u0422\\u0438\\u043f=%{customdata[3]}<extra></extra>\", \"legendgroup\": \"l5_3\", \"marker\": {\"color\": \"#FF6692\", \"symbol\": \"circle\"}, \"mode\": \"markers\", \"name\": \"l5_3\", \"orientation\": \"v\", \"showlegend\": true, \"type\": \"scatter\", \"x\": [3.7185753711421965, 3.651617873013543, 3.461335234745272, 4.045653406345654, 3.8764901249692043, 3.4439146959238798, 2.646259521424109], \"xaxis\": \"x\", \"y\": [-3.566012071151885, -4.38904966124795, -4.624385660567212, -4.028569365678505, -3.3932754679040875, -4.128553406999704, -5.115115144142394], \"yaxis\": \"y\"}, {\"customdata\": [[\"\\u0427\\u0435\\u0440\\u0447\\u0438\\u043b\\u043b\\u044c III\", \"R33_Churchill_LL\", 5, \"heavyTank\"], [\"Churchill I\", \"GB08_Churchill_I\", 5, \"heavyTank\"]], \"hovertemplate\": \"color=l5_1<br>x=%{x}<br>y=%{y}<br>\\u0422\\u0430\\u043d\\u043a=%{customdata[0]}<br>\\u0422\\u0435\\u0433=%{customdata[1]}<br>\\u0423\\u0440\\u043e\\u0432\\u0435\\u043d\\u044c=%{customdata[2]}<br>\\u0422\\u0438\\u043f=%{customdata[3]}<extra></extra>\", \"legendgroup\": \"l5_1\", \"marker\": {\"color\": \"#B6E880\", \"symbol\": \"circle\"}, \"mode\": \"markers\", \"name\": \"l5_1\", \"orientation\": \"v\", \"showlegend\": true, \"type\": \"scatter\", \"x\": [4.219669975355907, 4.745249210025443], \"xaxis\": \"x\", \"y\": [1.7307679079494647, 0.27409707774095904], \"yaxis\": \"y\"}, {\"customdata\": [[\"Archer\", \"GB44_Archer\", 5, \"AT-SPG\"], [\"S35 CA\", \"F33_S_35CA\", 5, \"AT-SPG\"]], \"hovertemplate\": \"color=l5_10<br>x=%{x}<br>y=%{y}<br>\\u0422\\u0430\\u043d\\u043a=%{customdata[0]}<br>\\u0422\\u0435\\u0433=%{customdata[1]}<br>\\u0423\\u0440\\u043e\\u0432\\u0435\\u043d\\u044c=%{customdata[2]}<br>\\u0422\\u0438\\u043f=%{customdata[3]}<extra></extra>\", \"legendgroup\": \"l5_10\", \"marker\": {\"color\": \"#FF97FF\", \"symbol\": \"circle\"}, \"mode\": \"markers\", \"name\": \"l5_10\", \"orientation\": \"v\", \"showlegend\": true, \"type\": \"scatter\", \"x\": [-3.144020323448427, -3.57383917515646], \"xaxis\": \"x\", \"y\": [-2.4497487433545295, -2.436970538139375], \"yaxis\": \"y\"}, {\"customdata\": [[\"StuG III Ausf. G\", \"G05_StuG_40_AusfG\", 5, \"AT-SPG\"], [\"\\u0421\\u0423-85\", \"R02_SU-85\", 5, \"AT-SPG\"], [\"AT 2\", \"GB73_AT2\", 5, \"AT-SPG\"], [\"M10 Wolverine\", \"A30_M10_Wolverine\", 5, \"AT-SPG\"]], \"hovertemplate\": \"color=l5_11<br>x=%{x}<br>y=%{y}<br>\\u0422\\u0430\\u043d\\u043a=%{customdata[0]}<br>\\u0422\\u0435\\u0433=%{customdata[1]}<br>\\u0423\\u0440\\u043e\\u0432\\u0435\\u043d\\u044c=%{customdata[2]}<br>\\u0422\\u0438\\u043f=%{customdata[3]}<extra></extra>\", \"legendgroup\": \"l5_11\", \"marker\": {\"color\": \"#FECB52\", \"symbol\": \"circle\"}, \"mode\": \"markers\", \"name\": \"l5_11\", \"orientation\": \"v\", \"showlegend\": true, \"type\": \"scatter\", \"x\": [6.0067441501761465, 6.232894182285776, 5.693367550929908, 5.040820801748464], \"xaxis\": \"x\", \"y\": [-3.9399049737948304, -3.798293240319356, -1.0255640528091363, -4.7640809252771446], \"yaxis\": \"y\"}, {\"customdata\": [[\"Ikv 103\", \"S14_Ikv_103\", 5, \"AT-SPG\"]], \"hovertemplate\": \"color=l5_9<br>x=%{x}<br>y=%{y}<br>\\u0422\\u0430\\u043d\\u043a=%{customdata[0]}<br>\\u0422\\u0435\\u0433=%{customdata[1]}<br>\\u0423\\u0440\\u043e\\u0432\\u0435\\u043d\\u044c=%{customdata[2]}<br>\\u0422\\u0438\\u043f=%{customdata[3]}<extra></extra>\", \"legendgroup\": \"l5_9\", \"marker\": {\"color\": \"#636efa\", \"symbol\": \"circle\"}, \"mode\": \"markers\", \"name\": \"l5_9\", \"orientation\": \"v\", \"showlegend\": true, \"type\": \"scatter\", \"x\": [-5.993425344991247], \"xaxis\": \"x\", \"y\": [0.012634308243563869], \"yaxis\": \"y\"}, {\"customdata\": [[\"\\u041a\\u0412-1\", \"R80_KV1\", 5, \"heavyTank\"], [\"O-I Experimental\", \"J23_Mi_To\", 5, \"heavyTank\"]], \"hovertemplate\": \"color=l5_8<br>x=%{x}<br>y=%{y}<br>\\u0422\\u0430\\u043d\\u043a=%{customdata[0]}<br>\\u0422\\u0435\\u0433=%{customdata[1]}<br>\\u0423\\u0440\\u043e\\u0432\\u0435\\u043d\\u044c=%{customdata[2]}<br>\\u0422\\u0438\\u043f=%{customdata[3]}<extra></extra>\", \"legendgroup\": \"l5_8\", \"marker\": {\"color\": \"#EF553B\", \"symbol\": \"circle\"}, \"mode\": \"markers\", \"name\": \"l5_8\", \"orientation\": \"v\", \"showlegend\": true, \"type\": \"scatter\", \"x\": [4.7658826388708135, 4.225807030072193], \"xaxis\": \"x\", \"y\": [-1.9300350400434212, -1.0567900757742135], \"yaxis\": \"y\"}],\n",
       "                        {\"legend\": {\"title\": {\"text\": \"color\"}, \"tracegroupgap\": 0}, \"margin\": {\"t\": 60}, \"template\": {\"data\": {\"bar\": [{\"error_x\": {\"color\": \"#2a3f5f\"}, \"error_y\": {\"color\": \"#2a3f5f\"}, \"marker\": {\"line\": {\"color\": \"#E5ECF6\", \"width\": 0.5}}, \"type\": \"bar\"}], \"barpolar\": [{\"marker\": {\"line\": {\"color\": \"#E5ECF6\", \"width\": 0.5}}, \"type\": \"barpolar\"}], \"carpet\": [{\"aaxis\": {\"endlinecolor\": \"#2a3f5f\", \"gridcolor\": \"white\", \"linecolor\": \"white\", \"minorgridcolor\": \"white\", \"startlinecolor\": \"#2a3f5f\"}, \"baxis\": {\"endlinecolor\": \"#2a3f5f\", \"gridcolor\": \"white\", \"linecolor\": \"white\", \"minorgridcolor\": \"white\", \"startlinecolor\": \"#2a3f5f\"}, \"type\": \"carpet\"}], \"choropleth\": [{\"colorbar\": {\"outlinewidth\": 0, \"ticks\": \"\"}, \"type\": \"choropleth\"}], \"contour\": [{\"colorbar\": {\"outlinewidth\": 0, \"ticks\": \"\"}, \"colorscale\": [[0.0, \"#0d0887\"], [0.1111111111111111, \"#46039f\"], [0.2222222222222222, \"#7201a8\"], [0.3333333333333333, \"#9c179e\"], [0.4444444444444444, \"#bd3786\"], [0.5555555555555556, \"#d8576b\"], [0.6666666666666666, \"#ed7953\"], [0.7777777777777778, \"#fb9f3a\"], [0.8888888888888888, \"#fdca26\"], [1.0, \"#f0f921\"]], \"type\": \"contour\"}], \"contourcarpet\": [{\"colorbar\": {\"outlinewidth\": 0, \"ticks\": \"\"}, \"type\": \"contourcarpet\"}], \"heatmap\": [{\"colorbar\": {\"outlinewidth\": 0, \"ticks\": \"\"}, \"colorscale\": [[0.0, \"#0d0887\"], [0.1111111111111111, \"#46039f\"], [0.2222222222222222, \"#7201a8\"], [0.3333333333333333, \"#9c179e\"], [0.4444444444444444, \"#bd3786\"], [0.5555555555555556, \"#d8576b\"], [0.6666666666666666, \"#ed7953\"], [0.7777777777777778, \"#fb9f3a\"], [0.8888888888888888, \"#fdca26\"], [1.0, \"#f0f921\"]], \"type\": \"heatmap\"}], \"heatmapgl\": [{\"colorbar\": {\"outlinewidth\": 0, \"ticks\": \"\"}, \"colorscale\": [[0.0, \"#0d0887\"], [0.1111111111111111, \"#46039f\"], [0.2222222222222222, \"#7201a8\"], [0.3333333333333333, \"#9c179e\"], [0.4444444444444444, \"#bd3786\"], [0.5555555555555556, \"#d8576b\"], [0.6666666666666666, \"#ed7953\"], [0.7777777777777778, \"#fb9f3a\"], [0.8888888888888888, \"#fdca26\"], [1.0, \"#f0f921\"]], \"type\": \"heatmapgl\"}], \"histogram\": [{\"marker\": {\"colorbar\": {\"outlinewidth\": 0, \"ticks\": \"\"}}, \"type\": \"histogram\"}], \"histogram2d\": [{\"colorbar\": {\"outlinewidth\": 0, \"ticks\": \"\"}, \"colorscale\": [[0.0, \"#0d0887\"], [0.1111111111111111, \"#46039f\"], [0.2222222222222222, \"#7201a8\"], [0.3333333333333333, \"#9c179e\"], [0.4444444444444444, \"#bd3786\"], [0.5555555555555556, \"#d8576b\"], [0.6666666666666666, \"#ed7953\"], [0.7777777777777778, \"#fb9f3a\"], [0.8888888888888888, \"#fdca26\"], [1.0, \"#f0f921\"]], \"type\": \"histogram2d\"}], \"histogram2dcontour\": [{\"colorbar\": {\"outlinewidth\": 0, \"ticks\": \"\"}, \"colorscale\": [[0.0, \"#0d0887\"], [0.1111111111111111, \"#46039f\"], [0.2222222222222222, \"#7201a8\"], [0.3333333333333333, \"#9c179e\"], [0.4444444444444444, \"#bd3786\"], [0.5555555555555556, \"#d8576b\"], [0.6666666666666666, \"#ed7953\"], [0.7777777777777778, \"#fb9f3a\"], [0.8888888888888888, \"#fdca26\"], [1.0, \"#f0f921\"]], \"type\": \"histogram2dcontour\"}], \"mesh3d\": [{\"colorbar\": {\"outlinewidth\": 0, \"ticks\": \"\"}, \"type\": \"mesh3d\"}], \"parcoords\": [{\"line\": {\"colorbar\": {\"outlinewidth\": 0, \"ticks\": \"\"}}, \"type\": \"parcoords\"}], \"pie\": [{\"automargin\": true, \"type\": \"pie\"}], \"scatter\": [{\"marker\": {\"colorbar\": {\"outlinewidth\": 0, \"ticks\": \"\"}}, \"type\": \"scatter\"}], \"scatter3d\": [{\"line\": {\"colorbar\": {\"outlinewidth\": 0, \"ticks\": \"\"}}, \"marker\": {\"colorbar\": {\"outlinewidth\": 0, \"ticks\": \"\"}}, \"type\": \"scatter3d\"}], \"scattercarpet\": [{\"marker\": {\"colorbar\": {\"outlinewidth\": 0, \"ticks\": \"\"}}, \"type\": \"scattercarpet\"}], \"scattergeo\": [{\"marker\": {\"colorbar\": {\"outlinewidth\": 0, \"ticks\": \"\"}}, \"type\": \"scattergeo\"}], \"scattergl\": [{\"marker\": {\"colorbar\": {\"outlinewidth\": 0, \"ticks\": \"\"}}, \"type\": \"scattergl\"}], \"scattermapbox\": [{\"marker\": {\"colorbar\": {\"outlinewidth\": 0, \"ticks\": \"\"}}, \"type\": \"scattermapbox\"}], \"scatterpolar\": [{\"marker\": {\"colorbar\": {\"outlinewidth\": 0, \"ticks\": \"\"}}, \"type\": \"scatterpolar\"}], \"scatterpolargl\": [{\"marker\": {\"colorbar\": {\"outlinewidth\": 0, \"ticks\": \"\"}}, \"type\": \"scatterpolargl\"}], \"scatterternary\": [{\"marker\": {\"colorbar\": {\"outlinewidth\": 0, \"ticks\": \"\"}}, \"type\": \"scatterternary\"}], \"surface\": [{\"colorbar\": {\"outlinewidth\": 0, \"ticks\": \"\"}, \"colorscale\": [[0.0, \"#0d0887\"], [0.1111111111111111, \"#46039f\"], [0.2222222222222222, \"#7201a8\"], [0.3333333333333333, \"#9c179e\"], [0.4444444444444444, \"#bd3786\"], [0.5555555555555556, \"#d8576b\"], [0.6666666666666666, \"#ed7953\"], [0.7777777777777778, \"#fb9f3a\"], [0.8888888888888888, \"#fdca26\"], [1.0, \"#f0f921\"]], \"type\": \"surface\"}], \"table\": [{\"cells\": {\"fill\": {\"color\": \"#EBF0F8\"}, \"line\": {\"color\": \"white\"}}, \"header\": {\"fill\": {\"color\": \"#C8D4E3\"}, \"line\": {\"color\": \"white\"}}, \"type\": \"table\"}]}, \"layout\": {\"annotationdefaults\": {\"arrowcolor\": \"#2a3f5f\", \"arrowhead\": 0, \"arrowwidth\": 1}, \"coloraxis\": {\"colorbar\": {\"outlinewidth\": 0, \"ticks\": \"\"}}, \"colorscale\": {\"diverging\": [[0, \"#8e0152\"], [0.1, \"#c51b7d\"], [0.2, \"#de77ae\"], [0.3, \"#f1b6da\"], [0.4, \"#fde0ef\"], [0.5, \"#f7f7f7\"], [0.6, \"#e6f5d0\"], [0.7, \"#b8e186\"], [0.8, \"#7fbc41\"], [0.9, \"#4d9221\"], [1, \"#276419\"]], \"sequential\": [[0.0, \"#0d0887\"], [0.1111111111111111, \"#46039f\"], [0.2222222222222222, \"#7201a8\"], [0.3333333333333333, \"#9c179e\"], [0.4444444444444444, \"#bd3786\"], [0.5555555555555556, \"#d8576b\"], [0.6666666666666666, \"#ed7953\"], [0.7777777777777778, \"#fb9f3a\"], [0.8888888888888888, \"#fdca26\"], [1.0, \"#f0f921\"]], \"sequentialminus\": [[0.0, \"#0d0887\"], [0.1111111111111111, \"#46039f\"], [0.2222222222222222, \"#7201a8\"], [0.3333333333333333, \"#9c179e\"], [0.4444444444444444, \"#bd3786\"], [0.5555555555555556, \"#d8576b\"], [0.6666666666666666, \"#ed7953\"], [0.7777777777777778, \"#fb9f3a\"], [0.8888888888888888, \"#fdca26\"], [1.0, \"#f0f921\"]]}, \"colorway\": [\"#636efa\", \"#EF553B\", \"#00cc96\", \"#ab63fa\", \"#FFA15A\", \"#19d3f3\", \"#FF6692\", \"#B6E880\", \"#FF97FF\", \"#FECB52\"], \"font\": {\"color\": \"#2a3f5f\"}, \"geo\": {\"bgcolor\": \"white\", \"lakecolor\": \"white\", \"landcolor\": \"#E5ECF6\", \"showlakes\": true, \"showland\": true, \"subunitcolor\": \"white\"}, \"hoverlabel\": {\"align\": \"left\"}, \"hovermode\": \"closest\", \"mapbox\": {\"style\": \"light\"}, \"paper_bgcolor\": \"white\", \"plot_bgcolor\": \"#E5ECF6\", \"polar\": {\"angularaxis\": {\"gridcolor\": \"white\", \"linecolor\": \"white\", \"ticks\": \"\"}, \"bgcolor\": \"#E5ECF6\", \"radialaxis\": {\"gridcolor\": \"white\", \"linecolor\": \"white\", \"ticks\": \"\"}}, \"scene\": {\"xaxis\": {\"backgroundcolor\": \"#E5ECF6\", \"gridcolor\": \"white\", \"gridwidth\": 2, \"linecolor\": \"white\", \"showbackground\": true, \"ticks\": \"\", \"zerolinecolor\": \"white\"}, \"yaxis\": {\"backgroundcolor\": \"#E5ECF6\", \"gridcolor\": \"white\", \"gridwidth\": 2, \"linecolor\": \"white\", \"showbackground\": true, \"ticks\": \"\", \"zerolinecolor\": \"white\"}, \"zaxis\": {\"backgroundcolor\": \"#E5ECF6\", \"gridcolor\": \"white\", \"gridwidth\": 2, \"linecolor\": \"white\", \"showbackground\": true, \"ticks\": \"\", \"zerolinecolor\": \"white\"}}, \"shapedefaults\": {\"line\": {\"color\": \"#2a3f5f\"}}, \"ternary\": {\"aaxis\": {\"gridcolor\": \"white\", \"linecolor\": \"white\", \"ticks\": \"\"}, \"baxis\": {\"gridcolor\": \"white\", \"linecolor\": \"white\", \"ticks\": \"\"}, \"bgcolor\": \"#E5ECF6\", \"caxis\": {\"gridcolor\": \"white\", \"linecolor\": \"white\", \"ticks\": \"\"}}, \"title\": {\"x\": 0.05}, \"xaxis\": {\"automargin\": true, \"gridcolor\": \"white\", \"linecolor\": \"white\", \"ticks\": \"\", \"title\": {\"standoff\": 15}, \"zerolinecolor\": \"white\", \"zerolinewidth\": 2}, \"yaxis\": {\"automargin\": true, \"gridcolor\": \"white\", \"linecolor\": \"white\", \"ticks\": \"\", \"title\": {\"standoff\": 15}, \"zerolinecolor\": \"white\", \"zerolinewidth\": 2}}}, \"xaxis\": {\"anchor\": \"y\", \"domain\": [0.0, 1.0], \"title\": {\"text\": \"x\"}}, \"yaxis\": {\"anchor\": \"x\", \"domain\": [0.0, 1.0], \"title\": {\"text\": \"y\"}}},\n",
       "                        {\"responsive\": true}\n",
       "                    ).then(function(){\n",
       "                            \n",
       "var gd = document.getElementById('89e0f3f5-02ff-43c3-b3ac-86a14251cb12');\n",
       "var x = new MutationObserver(function (mutations, observer) {{\n",
       "        var display = window.getComputedStyle(gd).display;\n",
       "        if (!display || display === 'none') {{\n",
       "            console.log([gd, 'removed!']);\n",
       "            Plotly.purge(gd);\n",
       "            observer.disconnect();\n",
       "        }}\n",
       "}});\n",
       "\n",
       "// Listen for the removal of the full notebook cells\n",
       "var notebookContainer = gd.closest('#notebook-container');\n",
       "if (notebookContainer) {{\n",
       "    x.observe(notebookContainer, {childList: true});\n",
       "}}\n",
       "\n",
       "// Listen for the clearing of the current output cell\n",
       "var outputEl = gd.closest('.output');\n",
       "if (outputEl) {{\n",
       "    x.observe(outputEl, {childList: true});\n",
       "}}\n",
       "\n",
       "                        })\n",
       "                };\n",
       "                });\n",
       "            </script>\n",
       "        </div>"
      ]
     },
     "metadata": {},
     "output_type": "display_data"
    }
   ],
   "source": [
    "# Manual hyperparameters optimization\n",
    "plot_clusters(tanks, 12, 5)"
   ]
  },
  {
   "cell_type": "code",
   "execution_count": 111,
   "metadata": {
    "scrolled": false
   },
   "outputs": [
    {
     "data": {
      "text/html": [
       "<div>\n",
       "<style scoped>\n",
       "    .dataframe tbody tr th:only-of-type {\n",
       "        vertical-align: middle;\n",
       "    }\n",
       "\n",
       "    .dataframe tbody tr th {\n",
       "        vertical-align: top;\n",
       "    }\n",
       "\n",
       "    .dataframe thead th {\n",
       "        text-align: right;\n",
       "    }\n",
       "</style>\n",
       "<table border=\"1\" class=\"dataframe\">\n",
       "  <thead>\n",
       "    <tr style=\"text-align: right;\">\n",
       "      <th></th>\n",
       "      <th>tag</th>\n",
       "      <th>cluster</th>\n",
       "    </tr>\n",
       "  </thead>\n",
       "  <tbody>\n",
       "    <tr>\n",
       "      <th>0</th>\n",
       "      <td>R04_T-34</td>\n",
       "      <td>l5_0</td>\n",
       "    </tr>\n",
       "    <tr>\n",
       "      <th>1</th>\n",
       "      <td>R12_A-20</td>\n",
       "      <td>l5_7</td>\n",
       "    </tr>\n",
       "    <tr>\n",
       "      <th>2</th>\n",
       "      <td>GB51_Excelsior</td>\n",
       "      <td>l5_6</td>\n",
       "    </tr>\n",
       "    <tr>\n",
       "      <th>3</th>\n",
       "      <td>J08_Chi_Nu</td>\n",
       "      <td>l5_5</td>\n",
       "    </tr>\n",
       "    <tr>\n",
       "      <th>4</th>\n",
       "      <td>Pl12_25TP_KSUST_II</td>\n",
       "      <td>l5_5</td>\n",
       "    </tr>\n",
       "    <tr>\n",
       "      <th>5</th>\n",
       "      <td>G26_VK1602</td>\n",
       "      <td>l5_7</td>\n",
       "    </tr>\n",
       "    <tr>\n",
       "      <th>6</th>\n",
       "      <td>R38_KV-220</td>\n",
       "      <td>l5_2</td>\n",
       "    </tr>\n",
       "    <tr>\n",
       "      <th>7</th>\n",
       "      <td>G28_PzIII_IV</td>\n",
       "      <td>l5_0</td>\n",
       "    </tr>\n",
       "    <tr>\n",
       "      <th>8</th>\n",
       "      <td>A34_M24_Chaffee</td>\n",
       "      <td>l5_7</td>\n",
       "    </tr>\n",
       "    <tr>\n",
       "      <th>9</th>\n",
       "      <td>F112_M10_RBFM</td>\n",
       "      <td>l5_4</td>\n",
       "    </tr>\n",
       "    <tr>\n",
       "      <th>10</th>\n",
       "      <td>F11_Renault_G1R</td>\n",
       "      <td>l5_3</td>\n",
       "    </tr>\n",
       "    <tr>\n",
       "      <th>11</th>\n",
       "      <td>A44_M4A2E4</td>\n",
       "      <td>l5_0</td>\n",
       "    </tr>\n",
       "    <tr>\n",
       "      <th>12</th>\n",
       "      <td>A09_T1_hvy</td>\n",
       "      <td>l5_2</td>\n",
       "    </tr>\n",
       "    <tr>\n",
       "      <th>13</th>\n",
       "      <td>R33_Churchill_LL</td>\n",
       "      <td>l5_1</td>\n",
       "    </tr>\n",
       "    <tr>\n",
       "      <th>14</th>\n",
       "      <td>A23_M7_med</td>\n",
       "      <td>l5_7</td>\n",
       "    </tr>\n",
       "    <tr>\n",
       "      <th>15</th>\n",
       "      <td>R78_SU_85I</td>\n",
       "      <td>l5_4</td>\n",
       "    </tr>\n",
       "    <tr>\n",
       "      <th>16</th>\n",
       "      <td>GB37_Valliant</td>\n",
       "      <td>l5_6</td>\n",
       "    </tr>\n",
       "    <tr>\n",
       "      <th>17</th>\n",
       "      <td>GB44_Archer</td>\n",
       "      <td>l5_10</td>\n",
       "    </tr>\n",
       "    <tr>\n",
       "      <th>18</th>\n",
       "      <td>A58_T67</td>\n",
       "      <td>l5_4</td>\n",
       "    </tr>\n",
       "    <tr>\n",
       "      <th>19</th>\n",
       "      <td>GB08_Churchill_I</td>\n",
       "      <td>l5_1</td>\n",
       "    </tr>\n",
       "    <tr>\n",
       "      <th>20</th>\n",
       "      <td>A78_M4_Improved</td>\n",
       "      <td>l5_0</td>\n",
       "    </tr>\n",
       "    <tr>\n",
       "      <th>21</th>\n",
       "      <td>F33_S_35CA</td>\n",
       "      <td>l5_10</td>\n",
       "    </tr>\n",
       "    <tr>\n",
       "      <th>22</th>\n",
       "      <td>G81_Pz_IV_AusfH_GuP</td>\n",
       "      <td>l5_0</td>\n",
       "    </tr>\n",
       "    <tr>\n",
       "      <th>23</th>\n",
       "      <td>G116_Turan_III_prot</td>\n",
       "      <td>l5_0</td>\n",
       "    </tr>\n",
       "    <tr>\n",
       "      <th>24</th>\n",
       "      <td>A21_T14</td>\n",
       "      <td>l5_2</td>\n",
       "    </tr>\n",
       "    <tr>\n",
       "      <th>25</th>\n",
       "      <td>A05_M4_Sherman</td>\n",
       "      <td>l5_3</td>\n",
       "    </tr>\n",
       "    <tr>\n",
       "      <th>26</th>\n",
       "      <td>G05_StuG_40_AusfG</td>\n",
       "      <td>l5_11</td>\n",
       "    </tr>\n",
       "    <tr>\n",
       "      <th>27</th>\n",
       "      <td>R32_Matilda_II_LL</td>\n",
       "      <td>l5_6</td>\n",
       "    </tr>\n",
       "    <tr>\n",
       "      <th>28</th>\n",
       "      <td>F05_BDR_G1B</td>\n",
       "      <td>l5_2</td>\n",
       "    </tr>\n",
       "    <tr>\n",
       "      <th>29</th>\n",
       "      <td>S02_Strv_M42</td>\n",
       "      <td>l5_5</td>\n",
       "    </tr>\n",
       "    <tr>\n",
       "      <th>30</th>\n",
       "      <td>R41_T-50</td>\n",
       "      <td>l5_7</td>\n",
       "    </tr>\n",
       "    <tr>\n",
       "      <th>31</th>\n",
       "      <td>Ch21_T34</td>\n",
       "      <td>l5_0</td>\n",
       "    </tr>\n",
       "    <tr>\n",
       "      <th>32</th>\n",
       "      <td>G32_PzV_PzIV_ausf_Alfa</td>\n",
       "      <td>l5_0</td>\n",
       "    </tr>\n",
       "    <tr>\n",
       "      <th>33</th>\n",
       "      <td>GB107_Cavalier</td>\n",
       "      <td>l5_3</td>\n",
       "    </tr>\n",
       "    <tr>\n",
       "      <th>34</th>\n",
       "      <td>S14_Ikv_103</td>\n",
       "      <td>l5_9</td>\n",
       "    </tr>\n",
       "    <tr>\n",
       "      <th>35</th>\n",
       "      <td>R80_KV1</td>\n",
       "      <td>l5_8</td>\n",
       "    </tr>\n",
       "    <tr>\n",
       "      <th>36</th>\n",
       "      <td>It11_P43</td>\n",
       "      <td>l5_5</td>\n",
       "    </tr>\n",
       "    <tr>\n",
       "      <th>37</th>\n",
       "      <td>G70_PzIV_Hydro</td>\n",
       "      <td>l5_0</td>\n",
       "    </tr>\n",
       "    <tr>\n",
       "      <th>38</th>\n",
       "      <td>R154_T_34E_1943</td>\n",
       "      <td>l5_0</td>\n",
       "    </tr>\n",
       "    <tr>\n",
       "      <th>39</th>\n",
       "      <td>G76_Pz_Sfl_IVc</td>\n",
       "      <td>l5_4</td>\n",
       "    </tr>\n",
       "    <tr>\n",
       "      <th>40</th>\n",
       "      <td>R02_SU-85</td>\n",
       "      <td>l5_11</td>\n",
       "    </tr>\n",
       "    <tr>\n",
       "      <th>41</th>\n",
       "      <td>A62_Ram-II</td>\n",
       "      <td>l5_2</td>\n",
       "    </tr>\n",
       "    <tr>\n",
       "      <th>42</th>\n",
       "      <td>G81_Pz_IV_AusfH</td>\n",
       "      <td>l5_3</td>\n",
       "    </tr>\n",
       "    <tr>\n",
       "      <th>43</th>\n",
       "      <td>J23_Mi_To</td>\n",
       "      <td>l5_8</td>\n",
       "    </tr>\n",
       "    <tr>\n",
       "      <th>44</th>\n",
       "      <td>G32_PzV_PzIV</td>\n",
       "      <td>l5_0</td>\n",
       "    </tr>\n",
       "    <tr>\n",
       "      <th>45</th>\n",
       "      <td>G13_VK3001H</td>\n",
       "      <td>l5_3</td>\n",
       "    </tr>\n",
       "    <tr>\n",
       "      <th>46</th>\n",
       "      <td>R38_KV-220_beta</td>\n",
       "      <td>l5_2</td>\n",
       "    </tr>\n",
       "    <tr>\n",
       "      <th>47</th>\n",
       "      <td>GB68_Matilda_Black_Prince</td>\n",
       "      <td>l5_6</td>\n",
       "    </tr>\n",
       "    <tr>\n",
       "      <th>48</th>\n",
       "      <td>Pl17_DS_PZlnz</td>\n",
       "      <td>l5_5</td>\n",
       "    </tr>\n",
       "    <tr>\n",
       "      <th>49</th>\n",
       "      <td>GB73_AT2</td>\n",
       "      <td>l5_11</td>\n",
       "    </tr>\n",
       "    <tr>\n",
       "      <th>50</th>\n",
       "      <td>Ch33_60G_FT</td>\n",
       "      <td>l5_4</td>\n",
       "    </tr>\n",
       "    <tr>\n",
       "      <th>51</th>\n",
       "      <td>G46_T-25</td>\n",
       "      <td>l5_0</td>\n",
       "    </tr>\n",
       "    <tr>\n",
       "      <th>52</th>\n",
       "      <td>A30_M10_Wolverine</td>\n",
       "      <td>l5_11</td>\n",
       "    </tr>\n",
       "    <tr>\n",
       "      <th>53</th>\n",
       "      <td>GB50_Sherman_III</td>\n",
       "      <td>l5_3</td>\n",
       "    </tr>\n",
       "    <tr>\n",
       "      <th>54</th>\n",
       "      <td>Cz09_T_24</td>\n",
       "      <td>l5_5</td>\n",
       "    </tr>\n",
       "    <tr>\n",
       "      <th>55</th>\n",
       "      <td>F62_ELC_AMX</td>\n",
       "      <td>l5_7</td>\n",
       "    </tr>\n",
       "    <tr>\n",
       "      <th>56</th>\n",
       "      <td>G104_Stug_IV</td>\n",
       "      <td>l5_4</td>\n",
       "    </tr>\n",
       "    <tr>\n",
       "      <th>57</th>\n",
       "      <td>J12_Chi_Nu_Kai</td>\n",
       "      <td>l5_5</td>\n",
       "    </tr>\n",
       "    <tr>\n",
       "      <th>58</th>\n",
       "      <td>G107_PzKpfwIII_AusfK</td>\n",
       "      <td>l5_0</td>\n",
       "    </tr>\n",
       "    <tr>\n",
       "      <th>59</th>\n",
       "      <td>GB60_Covenanter</td>\n",
       "      <td>l5_3</td>\n",
       "    </tr>\n",
       "  </tbody>\n",
       "</table>\n",
       "</div>"
      ],
      "text/plain": [
       "                          tag cluster\n",
       "0                    R04_T-34    l5_0\n",
       "1                    R12_A-20    l5_7\n",
       "2              GB51_Excelsior    l5_6\n",
       "3                  J08_Chi_Nu    l5_5\n",
       "4          Pl12_25TP_KSUST_II    l5_5\n",
       "5                  G26_VK1602    l5_7\n",
       "6                  R38_KV-220    l5_2\n",
       "7                G28_PzIII_IV    l5_0\n",
       "8             A34_M24_Chaffee    l5_7\n",
       "9               F112_M10_RBFM    l5_4\n",
       "10            F11_Renault_G1R    l5_3\n",
       "11                 A44_M4A2E4    l5_0\n",
       "12                 A09_T1_hvy    l5_2\n",
       "13           R33_Churchill_LL    l5_1\n",
       "14                 A23_M7_med    l5_7\n",
       "15                 R78_SU_85I    l5_4\n",
       "16              GB37_Valliant    l5_6\n",
       "17                GB44_Archer   l5_10\n",
       "18                    A58_T67    l5_4\n",
       "19           GB08_Churchill_I    l5_1\n",
       "20            A78_M4_Improved    l5_0\n",
       "21                 F33_S_35CA   l5_10\n",
       "22        G81_Pz_IV_AusfH_GuP    l5_0\n",
       "23        G116_Turan_III_prot    l5_0\n",
       "24                    A21_T14    l5_2\n",
       "25             A05_M4_Sherman    l5_3\n",
       "26          G05_StuG_40_AusfG   l5_11\n",
       "27          R32_Matilda_II_LL    l5_6\n",
       "28                F05_BDR_G1B    l5_2\n",
       "29               S02_Strv_M42    l5_5\n",
       "30                   R41_T-50    l5_7\n",
       "31                   Ch21_T34    l5_0\n",
       "32     G32_PzV_PzIV_ausf_Alfa    l5_0\n",
       "33             GB107_Cavalier    l5_3\n",
       "34                S14_Ikv_103    l5_9\n",
       "35                    R80_KV1    l5_8\n",
       "36                   It11_P43    l5_5\n",
       "37             G70_PzIV_Hydro    l5_0\n",
       "38            R154_T_34E_1943    l5_0\n",
       "39             G76_Pz_Sfl_IVc    l5_4\n",
       "40                  R02_SU-85   l5_11\n",
       "41                 A62_Ram-II    l5_2\n",
       "42            G81_Pz_IV_AusfH    l5_3\n",
       "43                  J23_Mi_To    l5_8\n",
       "44               G32_PzV_PzIV    l5_0\n",
       "45                G13_VK3001H    l5_3\n",
       "46            R38_KV-220_beta    l5_2\n",
       "47  GB68_Matilda_Black_Prince    l5_6\n",
       "48              Pl17_DS_PZlnz    l5_5\n",
       "49                   GB73_AT2   l5_11\n",
       "50                Ch33_60G_FT    l5_4\n",
       "51                   G46_T-25    l5_0\n",
       "52          A30_M10_Wolverine   l5_11\n",
       "53           GB50_Sherman_III    l5_3\n",
       "54                  Cz09_T_24    l5_5\n",
       "55                F62_ELC_AMX    l5_7\n",
       "56               G104_Stug_IV    l5_4\n",
       "57             J12_Chi_Nu_Kai    l5_5\n",
       "58       G107_PzKpfwIII_AusfK    l5_0\n",
       "59            GB60_Covenanter    l5_3"
      ]
     },
     "execution_count": 111,
     "metadata": {},
     "output_type": "execute_result"
    }
   ],
   "source": [
    "cl = cluster(tanks, 12, 5)\n",
    "cl"
   ]
  },
  {
   "cell_type": "code",
   "execution_count": 113,
   "metadata": {},
   "outputs": [],
   "source": [
    "def setCluster(x, tag, cl):\n",
    "    if x.tag == tag:\n",
    "        x.cluster = cl\n",
    "    return x\n",
    "\n",
    "cl = cl.replace(\"l5_6\", \"l5_2\")\n",
    "cl = cl.replace(\"l5_1\", \"l5_2\")\n",
    "cl = cl.replace(\"l5_8\", \"l5_2\")\n",
    "cl = cl.apply(lambda x: setCluster(x, \"GB73_AT2\", \"l5_2\"), axis=1)\n",
    "\n",
    "cl = cl.replace(\"l5_10\", \"l5_4\")\n",
    "cl = cl.replace(\"l5_11\", \"l5_4\")\n",
    "cl = cl.apply(lambda x: setCluster(x, \"S14_Ikv_103\", \"l5_4\"), axis=1)"
   ]
  },
  {
   "cell_type": "code",
   "execution_count": 114,
   "metadata": {},
   "outputs": [
    {
     "data": {
      "text/plain": [
       "cluster\n",
       "l5_0    13\n",
       "l5_2    15\n",
       "l5_3     7\n",
       "l5_4    12\n",
       "l5_5     7\n",
       "l5_7     6\n",
       "Name: tag, dtype: int64"
      ]
     },
     "execution_count": 114,
     "metadata": {},
     "output_type": "execute_result"
    }
   ],
   "source": [
    "# Check balance\n",
    "cl.groupby(\"cluster\").tag.count()"
   ]
  },
  {
   "cell_type": "code",
   "execution_count": 115,
   "metadata": {},
   "outputs": [],
   "source": [
    "tanks_clusters.append(cl)"
   ]
  },
  {
   "cell_type": "markdown",
   "metadata": {},
   "source": [
    "### Level 6"
   ]
  },
  {
   "cell_type": "code",
   "execution_count": 116,
   "metadata": {},
   "outputs": [
    {
     "data": {
      "application/vnd.plotly.v1+json": {
       "config": {
        "plotlyServerURL": "https://plot.ly"
       },
       "data": [
        {
         "customdata": [
          [
           "Tiger 131",
           "G136_Tiger_131",
           6,
           "heavyTank"
          ],
          [
           "Объект 244",
           "R114_Object_244",
           6,
           "heavyTank"
          ],
          [
           "КВ-85",
           "R106_KV85",
           6,
           "heavyTank"
          ],
          [
           "A43 BP prototype",
           "GB105_Black_Prince_2019",
           6,
           "heavyTank"
          ],
          [
           "ARL 44",
           "F06_ARL_44",
           6,
           "heavyTank"
          ],
          [
           "TOG II*",
           "GB63_TOG_II",
           6,
           "heavyTank"
          ],
          [
           "Heavy Tank No. VI",
           "J19_Tiger_I_Jpn",
           6,
           "heavyTank"
          ],
          [
           "M6",
           "A10_M6",
           6,
           "heavyTank"
          ]
         ],
         "hovertemplate": "color=l6_0<br>x=%{x}<br>y=%{y}<br>Танк=%{customdata[0]}<br>Тег=%{customdata[1]}<br>Уровень=%{customdata[2]}<br>Тип=%{customdata[3]}<extra></extra>",
         "legendgroup": "l6_0",
         "marker": {
          "color": "#636efa",
          "symbol": "circle"
         },
         "mode": "markers",
         "name": "l6_0",
         "orientation": "v",
         "showlegend": true,
         "type": "scatter",
         "x": [
          1.4205131207063637,
          1.5176716137180948,
          1.4462572676779024,
          2.409464948092015,
          1.520394230263066,
          2.4694857805023323,
          1.6562703221930672,
          1.3630493213556008
         ],
         "xaxis": "x",
         "y": [
          0.5976611559982669,
          2.502916393812111,
          3.0828727677638557,
          1.1910491929046614,
          1.3268554755035857,
          -0.021749431948817073,
          0.0301200930209432,
          1.341375510407699
         ],
         "yaxis": "y"
        },
        {
         "customdata": [
          [
           "AMX 12 t",
           "F15_AMX_12t",
           6,
           "lightTank"
          ],
          [
           "A46",
           "GB108_A46",
           6,
           "lightTank"
          ],
          [
           "M18 Hellcat",
           "A41_M18_Hellcat",
           6,
           "AT-SPG"
          ],
          [
           "МТ-25",
           "R101_MT25",
           6,
           "lightTank"
          ],
          [
           "59-16",
           "Ch15_59_16",
           6,
           "lightTank"
          ],
          [
           "Т-50-2",
           "R160_T_50_2",
           6,
           "lightTank"
          ],
          [
           "T37",
           "A94_T37",
           6,
           "lightTank"
          ],
          [
           "M24E2 Super Chaffee",
           "A134_M24E2_SuperChaffee",
           6,
           "lightTank"
          ],
          [
           "Type 64",
           "Ch24_Type64",
           6,
           "lightTank"
          ],
          [
           "VK 28.01",
           "G66_VK2801",
           6,
           "lightTank"
          ],
          [
           "T21",
           "A71_T21",
           6,
           "lightTank"
          ]
         ],
         "hovertemplate": "color=l6_2<br>x=%{x}<br>y=%{y}<br>Танк=%{customdata[0]}<br>Тег=%{customdata[1]}<br>Уровень=%{customdata[2]}<br>Тип=%{customdata[3]}<extra></extra>",
         "legendgroup": "l6_2",
         "marker": {
          "color": "#EF553B",
          "symbol": "circle"
         },
         "mode": "markers",
         "name": "l6_2",
         "orientation": "v",
         "showlegend": true,
         "type": "scatter",
         "x": [
          -3.5880058456191577,
          -4.014582511842533,
          -4.37133819496861,
          -4.628906715555794,
          -3.815112573094413,
          -4.823923698702408,
          -4.555081788003833,
          -4.841667984293189,
          -5.147433001226222,
          -5.121826428466492,
          -4.628634605468688
         ],
         "xaxis": "x",
         "y": [
          -1.8127764389966345,
          -0.6198918617667417,
          1.1968824534768112,
          -1.670505747488337,
          -1.5461250584818786,
          -1.5155465878472898,
          -0.6578736450692773,
          -0.5826385362627678,
          0.09962160544759364,
          -0.6856544152024654,
          -0.24006432513258713
         ],
         "yaxis": "y"
        },
        {
         "customdata": [
          [
           "VK 36.01 (H)",
           "G15_VK3601H",
           6,
           "heavyTank"
          ],
          [
           "Churchill VII",
           "GB09_Churchill_VII",
           6,
           "heavyTank"
          ],
          [
           "VK 30.01 (P)",
           "G27_VK3001P",
           6,
           "heavyTank"
          ]
         ],
         "hovertemplate": "color=l6_8<br>x=%{x}<br>y=%{y}<br>Танк=%{customdata[0]}<br>Тег=%{customdata[1]}<br>Уровень=%{customdata[2]}<br>Тип=%{customdata[3]}<extra></extra>",
         "legendgroup": "l6_8",
         "marker": {
          "color": "#00cc96",
          "symbol": "circle"
         },
         "mode": "markers",
         "name": "l6_8",
         "orientation": "v",
         "showlegend": true,
         "type": "scatter",
         "x": [
          5.09265966359032,
          4.4558822493577335,
          5.219460660842328
         ],
         "xaxis": "x",
         "y": [
          -0.14034582228134396,
          1.0508668922641033,
          -0.24510314850585135
         ],
         "yaxis": "y"
        },
        {
         "customdata": [
          [
           "AT 8",
           "GB74_AT8",
           6,
           "AT-SPG"
          ]
         ],
         "hovertemplate": "color=l6_10<br>x=%{x}<br>y=%{y}<br>Танк=%{customdata[0]}<br>Тег=%{customdata[1]}<br>Уровень=%{customdata[2]}<br>Тип=%{customdata[3]}<extra></extra>",
         "legendgroup": "l6_10",
         "marker": {
          "color": "#ab63fa",
          "symbol": "circle"
         },
         "mode": "markers",
         "name": "l6_10",
         "orientation": "v",
         "showlegend": true,
         "type": "scatter",
         "x": [
          3.6627846861775604
         ],
         "xaxis": "x",
         "y": [
          1.7356465057516335
         ],
         "yaxis": "y"
        },
        {
         "customdata": [
          [
           "Crusader",
           "GB20_Crusader",
           6,
           "lightTank"
          ],
          [
           "Cromwell",
           "GB21_Cromwell",
           6,
           "mediumTank"
          ],
          [
           "B.U.G.I.",
           "Pl18_BUGI",
           6,
           "mediumTank"
          ],
          [
           "Т-34-85",
           "R07_T-34-85",
           6,
           "mediumTank"
          ],
          [
           "M4A3E8 Sherman",
           "A06_M4A3E8_Sherman",
           6,
           "mediumTank"
          ],
          [
           "Sherman Firefly",
           "GB19_Sherman_Firefly",
           6,
           "mediumTank"
          ],
          [
           "M4A3E2 Sherman Jumbo",
           "A36_Sherman_Jumbo",
           6,
           "mediumTank"
          ]
         ],
         "hovertemplate": "color=l6_4<br>x=%{x}<br>y=%{y}<br>Танк=%{customdata[0]}<br>Тег=%{customdata[1]}<br>Уровень=%{customdata[2]}<br>Тип=%{customdata[3]}<extra></extra>",
         "legendgroup": "l6_4",
         "marker": {
          "color": "#FFA15A",
          "symbol": "circle"
         },
         "mode": "markers",
         "name": "l6_4",
         "orientation": "v",
         "showlegend": true,
         "type": "scatter",
         "x": [
          4.8503842197135,
          5.563576138873862,
          6.037310802208615,
          6.345282065806382,
          5.45667696581573,
          5.739903354601715,
          5.516650121388296
         ],
         "xaxis": "x",
         "y": [
          -2.777136477852148,
          -2.334740542184665,
          -2.251116987633989,
          -0.48733181998554925,
          -1.6944899139433394,
          -1.6178383201669717,
          -1.2845089969262433
         ],
         "yaxis": "y"
        },
        {
         "customdata": [
          [
           "M4A3E8 Thunderbolt VII",
           "A118_M4_Thunderbolt",
           6,
           "mediumTank"
          ],
          [
           "Т-34-85М",
           "R108_T34_85M",
           6,
           "mediumTank"
          ],
          [
           "А-43",
           "R57_A43",
           6,
           "mediumTank"
          ],
          [
           "Sherman VC Firefly",
           "GB95_Ekins_Firefly_M4A4",
           6,
           "mediumTank"
          ],
          [
           "M4A3E8 Fury",
           "A104_M4A3E8A",
           6,
           "mediumTank"
          ],
          [
           "Bretagne Panther",
           "F113_Bretagne_Panther",
           6,
           "mediumTank"
          ],
          [
           "Pz.Kpfw. IV Schmalturm",
           "G77_PzIV_Schmalturm",
           6,
           "mediumTank"
          ],
          [
           "VK 30.01 (D)",
           "G87_VK3002DB_V1",
           6,
           "mediumTank"
          ],
          [
           "Cromwell B",
           "GB85_Cromwell_Berlin",
           6,
           "mediumTank"
          ],
          [
           "М4-А2 Шерман Лозы",
           "R140_M4_Loza",
           6,
           "mediumTank"
          ],
          [
           "M4A1 FL 10",
           "F85_M4A1_FL10",
           6,
           "mediumTank"
          ],
          [
           "VK 30.02 (M)",
           "G96_VK3002M",
           6,
           "mediumTank"
          ],
          [
           "Т-34-85 Rudy",
           "R117_T34_85_Rudy",
           6,
           "mediumTank"
          ],
          [
           "Type 58",
           "Ch20_Type58",
           6,
           "mediumTank"
          ]
         ],
         "hovertemplate": "color=l6_5<br>x=%{x}<br>y=%{y}<br>Танк=%{customdata[0]}<br>Тег=%{customdata[1]}<br>Уровень=%{customdata[2]}<br>Тип=%{customdata[3]}<extra></extra>",
         "legendgroup": "l6_5",
         "marker": {
          "color": "#19d3f3",
          "symbol": "circle"
         },
         "mode": "markers",
         "name": "l6_5",
         "orientation": "v",
         "showlegend": true,
         "type": "scatter",
         "x": [
          0.24395662054415646,
          -1.008779510579509,
          -2.4506909463427577,
          -0.5707420752101925,
          -0.36056057862307556,
          0.03934437786543482,
          0.211227626637291,
          -1.557816642726058,
          -1.5169705818468824,
          -0.5424475402831136,
          -2.1827107579665888,
          -0.4315615449114979,
          -1.2934029194674914,
          -1.23780372109978
         ],
         "xaxis": "x",
         "y": [
          0.774390865738506,
          -0.040308244072180435,
          -0.5765546044628016,
          -1.7829361360942098,
          0.53217730803791,
          -0.8253773121918726,
          -0.12086959450319038,
          -0.6162109496339315,
          -1.9669101519320875,
          0.6724056436793514,
          -1.8589612950718628,
          -0.26531102609254353,
          -0.254003334514459,
          -1.0759367807028712
         ],
         "yaxis": "y"
        },
        {
         "customdata": [
          [
           "Strv m/42-57 Alt A.2",
           "S01_Strv_74_A2",
           6,
           "mediumTank"
          ],
          [
           "Škoda T 40",
           "Cz01_Skoda_T40",
           6,
           "mediumTank"
          ],
          [
           "40TP Habicha",
           "Pl10_40TP_Habicha",
           6,
           "mediumTank"
          ],
          [
           "AC 4 Experimental",
           "GB35_Sentinel_AC_IV",
           6,
           "mediumTank"
          ],
          [
           "Pudel",
           "Pl03_PzV_Poland",
           6,
           "mediumTank"
          ],
          [
           "Strv 74",
           "S07_Strv_74",
           6,
           "mediumTank"
          ],
          [
           "Škoda T 25",
           "Cz08_T_25",
           6,
           "mediumTank"
          ],
          [
           "T-34-85 Rudy",
           "Pl16_T34_85_Rudy",
           6,
           "mediumTank"
          ],
          [
           "Type 4 Chi-To",
           "J10_Chi_To",
           6,
           "mediumTank"
          ],
          [
           "P.43 bis",
           "It10_P43_bis",
           6,
           "mediumTank"
          ]
         ],
         "hovertemplate": "color=l6_1<br>x=%{x}<br>y=%{y}<br>Танк=%{customdata[0]}<br>Тег=%{customdata[1]}<br>Уровень=%{customdata[2]}<br>Тип=%{customdata[3]}<extra></extra>",
         "legendgroup": "l6_1",
         "marker": {
          "color": "#FF6692",
          "symbol": "circle"
         },
         "mode": "markers",
         "name": "l6_1",
         "orientation": "v",
         "showlegend": true,
         "type": "scatter",
         "x": [
          -0.5968764086695397,
          -0.6642700946542778,
          1.0720161693938948,
          0.0037254231288949037,
          0.68796995048724,
          -2.1632363609801697,
          -1.8045803141882624,
          -0.07158024555122716,
          0.5819728560150228,
          0.33719135910631803
         ],
         "xaxis": "x",
         "y": [
          -3.2449686347278046,
          -2.5212735179381784,
          -2.4496229097483884,
          -1.62413121147074,
          -2.379991277551141,
          -3.9203585135450862,
          -2.6379488940883116,
          -2.803623474276038,
          -1.3471582769921706,
          -2.9942752373085115
         ],
         "yaxis": "y"
        },
        {
         "customdata": [
          [
           "Т-150",
           "R72_T150",
           6,
           "heavyTank"
          ],
          [
           "КВ-2",
           "R77_KV2",
           6,
           "heavyTank"
          ],
          [
           "КВ-1С",
           "R13_KV-1s",
           6,
           "heavyTank"
          ],
          [
           "КВ-2 (Р)",
           "R152_KV2_W",
           6,
           "heavyTank"
          ]
         ],
         "hovertemplate": "color=l6_3<br>x=%{x}<br>y=%{y}<br>Танк=%{customdata[0]}<br>Тег=%{customdata[1]}<br>Уровень=%{customdata[2]}<br>Тип=%{customdata[3]}<extra></extra>",
         "legendgroup": "l6_3",
         "marker": {
          "color": "#B6E880",
          "symbol": "circle"
         },
         "mode": "markers",
         "name": "l6_3",
         "orientation": "v",
         "showlegend": true,
         "type": "scatter",
         "x": [
          6.208353190469111,
          6.296763863212563,
          6.166042650824443,
          6.677878299455477
         ],
         "xaxis": "x",
         "y": [
          0.6555556709054916,
          0.5901132103961058,
          0.4688757366257652,
          1.451254149365673
         ],
         "yaxis": "y"
        },
        {
         "customdata": [
          [
           "Achilles",
           "GB45_Achilles_IIC",
           6,
           "AT-SPG"
          ],
          [
           "M36 Jackson",
           "A31_M36_Slagger",
           6,
           "AT-SPG"
          ],
          [
           "Excalibur",
           "GB96_Excalibur",
           6,
           "AT-SPG"
          ],
          [
           "Churchill Gun Carrier",
           "GB40_Gun_Carrier_Churchill",
           6,
           "AT-SPG"
          ],
          [
           "Dicker Max",
           "G41_DickerMax",
           6,
           "AT-SPG"
          ]
         ],
         "hovertemplate": "color=l6_7<br>x=%{x}<br>y=%{y}<br>Танк=%{customdata[0]}<br>Тег=%{customdata[1]}<br>Уровень=%{customdata[2]}<br>Тип=%{customdata[3]}<extra></extra>",
         "legendgroup": "l6_7",
         "marker": {
          "color": "#FF97FF",
          "symbol": "circle"
         },
         "mode": "markers",
         "name": "l6_7",
         "orientation": "v",
         "showlegend": true,
         "type": "scatter",
         "x": [
          -3.400342361462481,
          -1.552771617857479,
          -3.3586311542614067,
          -0.7634087888005431,
          -5.202170482557677
         ],
         "xaxis": "x",
         "y": [
          2.0356370610922903,
          2.6018005884298865,
          2.2682138939493686,
          2.893648220920086,
          2.2936743602347103
         ],
         "yaxis": "y"
        },
        {
         "customdata": [
          [
           "O-I",
           "J24_Mi_To_130_tons",
           6,
           "heavyTank"
          ]
         ],
         "hovertemplate": "color=l6_11<br>x=%{x}<br>y=%{y}<br>Танк=%{customdata[0]}<br>Тег=%{customdata[1]}<br>Уровень=%{customdata[2]}<br>Тип=%{customdata[3]}<extra></extra>",
         "legendgroup": "l6_11",
         "marker": {
          "color": "#FECB52",
          "symbol": "circle"
         },
         "mode": "markers",
         "name": "l6_11",
         "orientation": "v",
         "showlegend": true,
         "type": "scatter",
         "x": [
          6.560287685731746
         ],
         "xaxis": "x",
         "y": [
          2.026550562879564
         ],
         "yaxis": "y"
        },
        {
         "customdata": [
          [
           "СУ-100Y",
           "R49_SU100Y",
           6,
           "AT-SPG"
          ],
          [
           "СУ-100",
           "R17_SU-100",
           6,
           "AT-SPG"
          ],
          [
           "WZ-131G FT",
           "Ch34_WZ131G_FT",
           6,
           "AT-SPG"
          ],
          [
           "T78",
           "A123_T78",
           6,
           "AT-SPG"
          ],
          [
           "Jagdpanzer IV",
           "G17_JagdPzIV",
           6,
           "AT-SPG"
          ],
          [
           "ARL V39",
           "F34_ARL_V39",
           6,
           "AT-SPG"
          ],
          [
           "Nashorn",
           "G40_Nashorn",
           6,
           "AT-SPG"
          ]
         ],
         "hovertemplate": "color=l6_6<br>x=%{x}<br>y=%{y}<br>Танк=%{customdata[0]}<br>Тег=%{customdata[1]}<br>Уровень=%{customdata[2]}<br>Тип=%{customdata[3]}<extra></extra>",
         "legendgroup": "l6_6",
         "marker": {
          "color": "#636efa",
          "symbol": "circle"
         },
         "mode": "markers",
         "name": "l6_6",
         "orientation": "v",
         "showlegend": true,
         "type": "scatter",
         "x": [
          1.1348643929116728,
          -1.6504323737276978,
          -2.847244082320533,
          -4.068249675774708,
          -1.9243266901889513,
          -2.3676185330921697,
          -2.5884826980755147
         ],
         "xaxis": "x",
         "y": [
          3.6850955920976003,
          3.6547833036493027,
          3.4155620293726807,
          1.7344633903168172,
          3.4140358009247262,
          3.294094322294303,
          3.7716646929285322
         ],
         "yaxis": "y"
        },
        {
         "customdata": [
          [
           "Panhard AMD 178B",
           "F109_AMD_Panhard_178B",
           6,
           "lightTank"
          ],
          [
           "Ikv 65 Alt II",
           "S08_Ikv_65_Alt_2",
           6,
           "AT-SPG"
          ]
         ],
         "hovertemplate": "color=l6_9<br>x=%{x}<br>y=%{y}<br>Танк=%{customdata[0]}<br>Тег=%{customdata[1]}<br>Уровень=%{customdata[2]}<br>Тип=%{customdata[3]}<extra></extra>",
         "legendgroup": "l6_9",
         "marker": {
          "color": "#EF553B",
          "symbol": "circle"
         },
         "mode": "markers",
         "name": "l6_9",
         "orientation": "v",
         "showlegend": true,
         "type": "scatter",
         "x": [
          -6.059323124862,
          -4.1917268253448325
         ],
         "xaxis": "x",
         "y": [
          -1.9935448770918283,
          3.0958498814971738
         ],
         "yaxis": "y"
        }
       ],
       "layout": {
        "legend": {
         "title": {
          "text": "color"
         },
         "tracegroupgap": 0
        },
        "margin": {
         "t": 60
        },
        "template": {
         "data": {
          "bar": [
           {
            "error_x": {
             "color": "#2a3f5f"
            },
            "error_y": {
             "color": "#2a3f5f"
            },
            "marker": {
             "line": {
              "color": "#E5ECF6",
              "width": 0.5
             }
            },
            "type": "bar"
           }
          ],
          "barpolar": [
           {
            "marker": {
             "line": {
              "color": "#E5ECF6",
              "width": 0.5
             }
            },
            "type": "barpolar"
           }
          ],
          "carpet": [
           {
            "aaxis": {
             "endlinecolor": "#2a3f5f",
             "gridcolor": "white",
             "linecolor": "white",
             "minorgridcolor": "white",
             "startlinecolor": "#2a3f5f"
            },
            "baxis": {
             "endlinecolor": "#2a3f5f",
             "gridcolor": "white",
             "linecolor": "white",
             "minorgridcolor": "white",
             "startlinecolor": "#2a3f5f"
            },
            "type": "carpet"
           }
          ],
          "choropleth": [
           {
            "colorbar": {
             "outlinewidth": 0,
             "ticks": ""
            },
            "type": "choropleth"
           }
          ],
          "contour": [
           {
            "colorbar": {
             "outlinewidth": 0,
             "ticks": ""
            },
            "colorscale": [
             [
              0,
              "#0d0887"
             ],
             [
              0.1111111111111111,
              "#46039f"
             ],
             [
              0.2222222222222222,
              "#7201a8"
             ],
             [
              0.3333333333333333,
              "#9c179e"
             ],
             [
              0.4444444444444444,
              "#bd3786"
             ],
             [
              0.5555555555555556,
              "#d8576b"
             ],
             [
              0.6666666666666666,
              "#ed7953"
             ],
             [
              0.7777777777777778,
              "#fb9f3a"
             ],
             [
              0.8888888888888888,
              "#fdca26"
             ],
             [
              1,
              "#f0f921"
             ]
            ],
            "type": "contour"
           }
          ],
          "contourcarpet": [
           {
            "colorbar": {
             "outlinewidth": 0,
             "ticks": ""
            },
            "type": "contourcarpet"
           }
          ],
          "heatmap": [
           {
            "colorbar": {
             "outlinewidth": 0,
             "ticks": ""
            },
            "colorscale": [
             [
              0,
              "#0d0887"
             ],
             [
              0.1111111111111111,
              "#46039f"
             ],
             [
              0.2222222222222222,
              "#7201a8"
             ],
             [
              0.3333333333333333,
              "#9c179e"
             ],
             [
              0.4444444444444444,
              "#bd3786"
             ],
             [
              0.5555555555555556,
              "#d8576b"
             ],
             [
              0.6666666666666666,
              "#ed7953"
             ],
             [
              0.7777777777777778,
              "#fb9f3a"
             ],
             [
              0.8888888888888888,
              "#fdca26"
             ],
             [
              1,
              "#f0f921"
             ]
            ],
            "type": "heatmap"
           }
          ],
          "heatmapgl": [
           {
            "colorbar": {
             "outlinewidth": 0,
             "ticks": ""
            },
            "colorscale": [
             [
              0,
              "#0d0887"
             ],
             [
              0.1111111111111111,
              "#46039f"
             ],
             [
              0.2222222222222222,
              "#7201a8"
             ],
             [
              0.3333333333333333,
              "#9c179e"
             ],
             [
              0.4444444444444444,
              "#bd3786"
             ],
             [
              0.5555555555555556,
              "#d8576b"
             ],
             [
              0.6666666666666666,
              "#ed7953"
             ],
             [
              0.7777777777777778,
              "#fb9f3a"
             ],
             [
              0.8888888888888888,
              "#fdca26"
             ],
             [
              1,
              "#f0f921"
             ]
            ],
            "type": "heatmapgl"
           }
          ],
          "histogram": [
           {
            "marker": {
             "colorbar": {
              "outlinewidth": 0,
              "ticks": ""
             }
            },
            "type": "histogram"
           }
          ],
          "histogram2d": [
           {
            "colorbar": {
             "outlinewidth": 0,
             "ticks": ""
            },
            "colorscale": [
             [
              0,
              "#0d0887"
             ],
             [
              0.1111111111111111,
              "#46039f"
             ],
             [
              0.2222222222222222,
              "#7201a8"
             ],
             [
              0.3333333333333333,
              "#9c179e"
             ],
             [
              0.4444444444444444,
              "#bd3786"
             ],
             [
              0.5555555555555556,
              "#d8576b"
             ],
             [
              0.6666666666666666,
              "#ed7953"
             ],
             [
              0.7777777777777778,
              "#fb9f3a"
             ],
             [
              0.8888888888888888,
              "#fdca26"
             ],
             [
              1,
              "#f0f921"
             ]
            ],
            "type": "histogram2d"
           }
          ],
          "histogram2dcontour": [
           {
            "colorbar": {
             "outlinewidth": 0,
             "ticks": ""
            },
            "colorscale": [
             [
              0,
              "#0d0887"
             ],
             [
              0.1111111111111111,
              "#46039f"
             ],
             [
              0.2222222222222222,
              "#7201a8"
             ],
             [
              0.3333333333333333,
              "#9c179e"
             ],
             [
              0.4444444444444444,
              "#bd3786"
             ],
             [
              0.5555555555555556,
              "#d8576b"
             ],
             [
              0.6666666666666666,
              "#ed7953"
             ],
             [
              0.7777777777777778,
              "#fb9f3a"
             ],
             [
              0.8888888888888888,
              "#fdca26"
             ],
             [
              1,
              "#f0f921"
             ]
            ],
            "type": "histogram2dcontour"
           }
          ],
          "mesh3d": [
           {
            "colorbar": {
             "outlinewidth": 0,
             "ticks": ""
            },
            "type": "mesh3d"
           }
          ],
          "parcoords": [
           {
            "line": {
             "colorbar": {
              "outlinewidth": 0,
              "ticks": ""
             }
            },
            "type": "parcoords"
           }
          ],
          "pie": [
           {
            "automargin": true,
            "type": "pie"
           }
          ],
          "scatter": [
           {
            "marker": {
             "colorbar": {
              "outlinewidth": 0,
              "ticks": ""
             }
            },
            "type": "scatter"
           }
          ],
          "scatter3d": [
           {
            "line": {
             "colorbar": {
              "outlinewidth": 0,
              "ticks": ""
             }
            },
            "marker": {
             "colorbar": {
              "outlinewidth": 0,
              "ticks": ""
             }
            },
            "type": "scatter3d"
           }
          ],
          "scattercarpet": [
           {
            "marker": {
             "colorbar": {
              "outlinewidth": 0,
              "ticks": ""
             }
            },
            "type": "scattercarpet"
           }
          ],
          "scattergeo": [
           {
            "marker": {
             "colorbar": {
              "outlinewidth": 0,
              "ticks": ""
             }
            },
            "type": "scattergeo"
           }
          ],
          "scattergl": [
           {
            "marker": {
             "colorbar": {
              "outlinewidth": 0,
              "ticks": ""
             }
            },
            "type": "scattergl"
           }
          ],
          "scattermapbox": [
           {
            "marker": {
             "colorbar": {
              "outlinewidth": 0,
              "ticks": ""
             }
            },
            "type": "scattermapbox"
           }
          ],
          "scatterpolar": [
           {
            "marker": {
             "colorbar": {
              "outlinewidth": 0,
              "ticks": ""
             }
            },
            "type": "scatterpolar"
           }
          ],
          "scatterpolargl": [
           {
            "marker": {
             "colorbar": {
              "outlinewidth": 0,
              "ticks": ""
             }
            },
            "type": "scatterpolargl"
           }
          ],
          "scatterternary": [
           {
            "marker": {
             "colorbar": {
              "outlinewidth": 0,
              "ticks": ""
             }
            },
            "type": "scatterternary"
           }
          ],
          "surface": [
           {
            "colorbar": {
             "outlinewidth": 0,
             "ticks": ""
            },
            "colorscale": [
             [
              0,
              "#0d0887"
             ],
             [
              0.1111111111111111,
              "#46039f"
             ],
             [
              0.2222222222222222,
              "#7201a8"
             ],
             [
              0.3333333333333333,
              "#9c179e"
             ],
             [
              0.4444444444444444,
              "#bd3786"
             ],
             [
              0.5555555555555556,
              "#d8576b"
             ],
             [
              0.6666666666666666,
              "#ed7953"
             ],
             [
              0.7777777777777778,
              "#fb9f3a"
             ],
             [
              0.8888888888888888,
              "#fdca26"
             ],
             [
              1,
              "#f0f921"
             ]
            ],
            "type": "surface"
           }
          ],
          "table": [
           {
            "cells": {
             "fill": {
              "color": "#EBF0F8"
             },
             "line": {
              "color": "white"
             }
            },
            "header": {
             "fill": {
              "color": "#C8D4E3"
             },
             "line": {
              "color": "white"
             }
            },
            "type": "table"
           }
          ]
         },
         "layout": {
          "annotationdefaults": {
           "arrowcolor": "#2a3f5f",
           "arrowhead": 0,
           "arrowwidth": 1
          },
          "coloraxis": {
           "colorbar": {
            "outlinewidth": 0,
            "ticks": ""
           }
          },
          "colorscale": {
           "diverging": [
            [
             0,
             "#8e0152"
            ],
            [
             0.1,
             "#c51b7d"
            ],
            [
             0.2,
             "#de77ae"
            ],
            [
             0.3,
             "#f1b6da"
            ],
            [
             0.4,
             "#fde0ef"
            ],
            [
             0.5,
             "#f7f7f7"
            ],
            [
             0.6,
             "#e6f5d0"
            ],
            [
             0.7,
             "#b8e186"
            ],
            [
             0.8,
             "#7fbc41"
            ],
            [
             0.9,
             "#4d9221"
            ],
            [
             1,
             "#276419"
            ]
           ],
           "sequential": [
            [
             0,
             "#0d0887"
            ],
            [
             0.1111111111111111,
             "#46039f"
            ],
            [
             0.2222222222222222,
             "#7201a8"
            ],
            [
             0.3333333333333333,
             "#9c179e"
            ],
            [
             0.4444444444444444,
             "#bd3786"
            ],
            [
             0.5555555555555556,
             "#d8576b"
            ],
            [
             0.6666666666666666,
             "#ed7953"
            ],
            [
             0.7777777777777778,
             "#fb9f3a"
            ],
            [
             0.8888888888888888,
             "#fdca26"
            ],
            [
             1,
             "#f0f921"
            ]
           ],
           "sequentialminus": [
            [
             0,
             "#0d0887"
            ],
            [
             0.1111111111111111,
             "#46039f"
            ],
            [
             0.2222222222222222,
             "#7201a8"
            ],
            [
             0.3333333333333333,
             "#9c179e"
            ],
            [
             0.4444444444444444,
             "#bd3786"
            ],
            [
             0.5555555555555556,
             "#d8576b"
            ],
            [
             0.6666666666666666,
             "#ed7953"
            ],
            [
             0.7777777777777778,
             "#fb9f3a"
            ],
            [
             0.8888888888888888,
             "#fdca26"
            ],
            [
             1,
             "#f0f921"
            ]
           ]
          },
          "colorway": [
           "#636efa",
           "#EF553B",
           "#00cc96",
           "#ab63fa",
           "#FFA15A",
           "#19d3f3",
           "#FF6692",
           "#B6E880",
           "#FF97FF",
           "#FECB52"
          ],
          "font": {
           "color": "#2a3f5f"
          },
          "geo": {
           "bgcolor": "white",
           "lakecolor": "white",
           "landcolor": "#E5ECF6",
           "showlakes": true,
           "showland": true,
           "subunitcolor": "white"
          },
          "hoverlabel": {
           "align": "left"
          },
          "hovermode": "closest",
          "mapbox": {
           "style": "light"
          },
          "paper_bgcolor": "white",
          "plot_bgcolor": "#E5ECF6",
          "polar": {
           "angularaxis": {
            "gridcolor": "white",
            "linecolor": "white",
            "ticks": ""
           },
           "bgcolor": "#E5ECF6",
           "radialaxis": {
            "gridcolor": "white",
            "linecolor": "white",
            "ticks": ""
           }
          },
          "scene": {
           "xaxis": {
            "backgroundcolor": "#E5ECF6",
            "gridcolor": "white",
            "gridwidth": 2,
            "linecolor": "white",
            "showbackground": true,
            "ticks": "",
            "zerolinecolor": "white"
           },
           "yaxis": {
            "backgroundcolor": "#E5ECF6",
            "gridcolor": "white",
            "gridwidth": 2,
            "linecolor": "white",
            "showbackground": true,
            "ticks": "",
            "zerolinecolor": "white"
           },
           "zaxis": {
            "backgroundcolor": "#E5ECF6",
            "gridcolor": "white",
            "gridwidth": 2,
            "linecolor": "white",
            "showbackground": true,
            "ticks": "",
            "zerolinecolor": "white"
           }
          },
          "shapedefaults": {
           "line": {
            "color": "#2a3f5f"
           }
          },
          "ternary": {
           "aaxis": {
            "gridcolor": "white",
            "linecolor": "white",
            "ticks": ""
           },
           "baxis": {
            "gridcolor": "white",
            "linecolor": "white",
            "ticks": ""
           },
           "bgcolor": "#E5ECF6",
           "caxis": {
            "gridcolor": "white",
            "linecolor": "white",
            "ticks": ""
           }
          },
          "title": {
           "x": 0.05
          },
          "xaxis": {
           "automargin": true,
           "gridcolor": "white",
           "linecolor": "white",
           "ticks": "",
           "title": {
            "standoff": 15
           },
           "zerolinecolor": "white",
           "zerolinewidth": 2
          },
          "yaxis": {
           "automargin": true,
           "gridcolor": "white",
           "linecolor": "white",
           "ticks": "",
           "title": {
            "standoff": 15
           },
           "zerolinecolor": "white",
           "zerolinewidth": 2
          }
         }
        },
        "xaxis": {
         "anchor": "y",
         "domain": [
          0,
          1
         ],
         "title": {
          "text": "x"
         }
        },
        "yaxis": {
         "anchor": "x",
         "domain": [
          0,
          1
         ],
         "title": {
          "text": "y"
         }
        }
       }
      },
      "text/html": [
       "<div>\n",
       "        \n",
       "        \n",
       "            <div id=\"96775827-6b54-48f7-b731-3a2666cd1fab\" class=\"plotly-graph-div\" style=\"height:525px; width:100%;\"></div>\n",
       "            <script type=\"text/javascript\">\n",
       "                require([\"plotly\"], function(Plotly) {\n",
       "                    window.PLOTLYENV=window.PLOTLYENV || {};\n",
       "                    \n",
       "                if (document.getElementById(\"96775827-6b54-48f7-b731-3a2666cd1fab\")) {\n",
       "                    Plotly.newPlot(\n",
       "                        '96775827-6b54-48f7-b731-3a2666cd1fab',\n",
       "                        [{\"customdata\": [[\"Tiger 131\", \"G136_Tiger_131\", 6, \"heavyTank\"], [\"\\u041e\\u0431\\u044a\\u0435\\u043a\\u0442 244\", \"R114_Object_244\", 6, \"heavyTank\"], [\"\\u041a\\u0412-85\", \"R106_KV85\", 6, \"heavyTank\"], [\"A43 BP prototype\", \"GB105_Black_Prince_2019\", 6, \"heavyTank\"], [\"ARL 44\", \"F06_ARL_44\", 6, \"heavyTank\"], [\"TOG II*\", \"GB63_TOG_II\", 6, \"heavyTank\"], [\"Heavy Tank No. VI\", \"J19_Tiger_I_Jpn\", 6, \"heavyTank\"], [\"M6\", \"A10_M6\", 6, \"heavyTank\"]], \"hovertemplate\": \"color=l6_0<br>x=%{x}<br>y=%{y}<br>\\u0422\\u0430\\u043d\\u043a=%{customdata[0]}<br>\\u0422\\u0435\\u0433=%{customdata[1]}<br>\\u0423\\u0440\\u043e\\u0432\\u0435\\u043d\\u044c=%{customdata[2]}<br>\\u0422\\u0438\\u043f=%{customdata[3]}<extra></extra>\", \"legendgroup\": \"l6_0\", \"marker\": {\"color\": \"#636efa\", \"symbol\": \"circle\"}, \"mode\": \"markers\", \"name\": \"l6_0\", \"orientation\": \"v\", \"showlegend\": true, \"type\": \"scatter\", \"x\": [1.4205131207063637, 1.5176716137180948, 1.4462572676779024, 2.409464948092015, 1.520394230263066, 2.4694857805023323, 1.6562703221930672, 1.3630493213556008], \"xaxis\": \"x\", \"y\": [0.5976611559982669, 2.502916393812111, 3.0828727677638557, 1.1910491929046614, 1.3268554755035857, -0.021749431948817073, 0.0301200930209432, 1.341375510407699], \"yaxis\": \"y\"}, {\"customdata\": [[\"AMX 12 t\", \"F15_AMX_12t\", 6, \"lightTank\"], [\"A46\", \"GB108_A46\", 6, \"lightTank\"], [\"M18 Hellcat\", \"A41_M18_Hellcat\", 6, \"AT-SPG\"], [\"\\u041c\\u0422-25\", \"R101_MT25\", 6, \"lightTank\"], [\"59-16\", \"Ch15_59_16\", 6, \"lightTank\"], [\"\\u0422-50-2\", \"R160_T_50_2\", 6, \"lightTank\"], [\"T37\", \"A94_T37\", 6, \"lightTank\"], [\"M24E2 Super Chaffee\", \"A134_M24E2_SuperChaffee\", 6, \"lightTank\"], [\"Type 64\", \"Ch24_Type64\", 6, \"lightTank\"], [\"VK 28.01\", \"G66_VK2801\", 6, \"lightTank\"], [\"T21\", \"A71_T21\", 6, \"lightTank\"]], \"hovertemplate\": \"color=l6_2<br>x=%{x}<br>y=%{y}<br>\\u0422\\u0430\\u043d\\u043a=%{customdata[0]}<br>\\u0422\\u0435\\u0433=%{customdata[1]}<br>\\u0423\\u0440\\u043e\\u0432\\u0435\\u043d\\u044c=%{customdata[2]}<br>\\u0422\\u0438\\u043f=%{customdata[3]}<extra></extra>\", \"legendgroup\": \"l6_2\", \"marker\": {\"color\": \"#EF553B\", \"symbol\": \"circle\"}, \"mode\": \"markers\", \"name\": \"l6_2\", \"orientation\": \"v\", \"showlegend\": true, \"type\": \"scatter\", \"x\": [-3.5880058456191577, -4.014582511842533, -4.37133819496861, -4.628906715555794, -3.815112573094413, -4.823923698702408, -4.555081788003833, -4.841667984293189, -5.147433001226222, -5.121826428466492, -4.628634605468688], \"xaxis\": \"x\", \"y\": [-1.8127764389966345, -0.6198918617667417, 1.1968824534768112, -1.670505747488337, -1.5461250584818786, -1.5155465878472898, -0.6578736450692773, -0.5826385362627678, 0.09962160544759364, -0.6856544152024654, -0.24006432513258713], \"yaxis\": \"y\"}, {\"customdata\": [[\"VK 36.01 (H)\", \"G15_VK3601H\", 6, \"heavyTank\"], [\"Churchill VII\", \"GB09_Churchill_VII\", 6, \"heavyTank\"], [\"VK 30.01 (P)\", \"G27_VK3001P\", 6, \"heavyTank\"]], \"hovertemplate\": \"color=l6_8<br>x=%{x}<br>y=%{y}<br>\\u0422\\u0430\\u043d\\u043a=%{customdata[0]}<br>\\u0422\\u0435\\u0433=%{customdata[1]}<br>\\u0423\\u0440\\u043e\\u0432\\u0435\\u043d\\u044c=%{customdata[2]}<br>\\u0422\\u0438\\u043f=%{customdata[3]}<extra></extra>\", \"legendgroup\": \"l6_8\", \"marker\": {\"color\": \"#00cc96\", \"symbol\": \"circle\"}, \"mode\": \"markers\", \"name\": \"l6_8\", \"orientation\": \"v\", \"showlegend\": true, \"type\": \"scatter\", \"x\": [5.09265966359032, 4.4558822493577335, 5.219460660842328], \"xaxis\": \"x\", \"y\": [-0.14034582228134396, 1.0508668922641033, -0.24510314850585135], \"yaxis\": \"y\"}, {\"customdata\": [[\"AT 8\", \"GB74_AT8\", 6, \"AT-SPG\"]], \"hovertemplate\": \"color=l6_10<br>x=%{x}<br>y=%{y}<br>\\u0422\\u0430\\u043d\\u043a=%{customdata[0]}<br>\\u0422\\u0435\\u0433=%{customdata[1]}<br>\\u0423\\u0440\\u043e\\u0432\\u0435\\u043d\\u044c=%{customdata[2]}<br>\\u0422\\u0438\\u043f=%{customdata[3]}<extra></extra>\", \"legendgroup\": \"l6_10\", \"marker\": {\"color\": \"#ab63fa\", \"symbol\": \"circle\"}, \"mode\": \"markers\", \"name\": \"l6_10\", \"orientation\": \"v\", \"showlegend\": true, \"type\": \"scatter\", \"x\": [3.6627846861775604], \"xaxis\": \"x\", \"y\": [1.7356465057516335], \"yaxis\": \"y\"}, {\"customdata\": [[\"Crusader\", \"GB20_Crusader\", 6, \"lightTank\"], [\"Cromwell\", \"GB21_Cromwell\", 6, \"mediumTank\"], [\"B.U.G.I.\", \"Pl18_BUGI\", 6, \"mediumTank\"], [\"\\u0422-34-85\", \"R07_T-34-85\", 6, \"mediumTank\"], [\"M4A3E8 Sherman\", \"A06_M4A3E8_Sherman\", 6, \"mediumTank\"], [\"Sherman Firefly\", \"GB19_Sherman_Firefly\", 6, \"mediumTank\"], [\"M4A3E2 Sherman Jumbo\", \"A36_Sherman_Jumbo\", 6, \"mediumTank\"]], \"hovertemplate\": \"color=l6_4<br>x=%{x}<br>y=%{y}<br>\\u0422\\u0430\\u043d\\u043a=%{customdata[0]}<br>\\u0422\\u0435\\u0433=%{customdata[1]}<br>\\u0423\\u0440\\u043e\\u0432\\u0435\\u043d\\u044c=%{customdata[2]}<br>\\u0422\\u0438\\u043f=%{customdata[3]}<extra></extra>\", \"legendgroup\": \"l6_4\", \"marker\": {\"color\": \"#FFA15A\", \"symbol\": \"circle\"}, \"mode\": \"markers\", \"name\": \"l6_4\", \"orientation\": \"v\", \"showlegend\": true, \"type\": \"scatter\", \"x\": [4.8503842197135, 5.563576138873862, 6.037310802208615, 6.345282065806382, 5.45667696581573, 5.739903354601715, 5.516650121388296], \"xaxis\": \"x\", \"y\": [-2.777136477852148, -2.334740542184665, -2.251116987633989, -0.48733181998554925, -1.6944899139433394, -1.6178383201669717, -1.2845089969262433], \"yaxis\": \"y\"}, {\"customdata\": [[\"M4A3E8 Thunderbolt VII\", \"A118_M4_Thunderbolt\", 6, \"mediumTank\"], [\"\\u0422-34-85\\u041c\", \"R108_T34_85M\", 6, \"mediumTank\"], [\"\\u0410-43\", \"R57_A43\", 6, \"mediumTank\"], [\"Sherman VC Firefly\", \"GB95_Ekins_Firefly_M4A4\", 6, \"mediumTank\"], [\"M4A3E8 Fury\", \"A104_M4A3E8A\", 6, \"mediumTank\"], [\"Bretagne Panther\", \"F113_Bretagne_Panther\", 6, \"mediumTank\"], [\"Pz.Kpfw. IV Schmalturm\", \"G77_PzIV_Schmalturm\", 6, \"mediumTank\"], [\"VK 30.01 (D)\", \"G87_VK3002DB_V1\", 6, \"mediumTank\"], [\"Cromwell B\", \"GB85_Cromwell_Berlin\", 6, \"mediumTank\"], [\"\\u041c4-\\u04102 \\u0428\\u0435\\u0440\\u043c\\u0430\\u043d \\u041b\\u043e\\u0437\\u044b\", \"R140_M4_Loza\", 6, \"mediumTank\"], [\"M4A1 FL 10\", \"F85_M4A1_FL10\", 6, \"mediumTank\"], [\"VK 30.02 (M)\", \"G96_VK3002M\", 6, \"mediumTank\"], [\"\\u0422-34-85 Rudy\", \"R117_T34_85_Rudy\", 6, \"mediumTank\"], [\"Type 58\", \"Ch20_Type58\", 6, \"mediumTank\"]], \"hovertemplate\": \"color=l6_5<br>x=%{x}<br>y=%{y}<br>\\u0422\\u0430\\u043d\\u043a=%{customdata[0]}<br>\\u0422\\u0435\\u0433=%{customdata[1]}<br>\\u0423\\u0440\\u043e\\u0432\\u0435\\u043d\\u044c=%{customdata[2]}<br>\\u0422\\u0438\\u043f=%{customdata[3]}<extra></extra>\", \"legendgroup\": \"l6_5\", \"marker\": {\"color\": \"#19d3f3\", \"symbol\": \"circle\"}, \"mode\": \"markers\", \"name\": \"l6_5\", \"orientation\": \"v\", \"showlegend\": true, \"type\": \"scatter\", \"x\": [0.24395662054415646, -1.008779510579509, -2.4506909463427577, -0.5707420752101925, -0.36056057862307556, 0.03934437786543482, 0.211227626637291, -1.557816642726058, -1.5169705818468824, -0.5424475402831136, -2.1827107579665888, -0.4315615449114979, -1.2934029194674914, -1.23780372109978], \"xaxis\": \"x\", \"y\": [0.774390865738506, -0.040308244072180435, -0.5765546044628016, -1.7829361360942098, 0.53217730803791, -0.8253773121918726, -0.12086959450319038, -0.6162109496339315, -1.9669101519320875, 0.6724056436793514, -1.8589612950718628, -0.26531102609254353, -0.254003334514459, -1.0759367807028712], \"yaxis\": \"y\"}, {\"customdata\": [[\"Strv m/42-57 Alt A.2\", \"S01_Strv_74_A2\", 6, \"mediumTank\"], [\"\\u0160koda T 40\", \"Cz01_Skoda_T40\", 6, \"mediumTank\"], [\"40TP Habicha\", \"Pl10_40TP_Habicha\", 6, \"mediumTank\"], [\"AC 4 Experimental\", \"GB35_Sentinel_AC_IV\", 6, \"mediumTank\"], [\"Pudel\", \"Pl03_PzV_Poland\", 6, \"mediumTank\"], [\"Strv 74\", \"S07_Strv_74\", 6, \"mediumTank\"], [\"\\u0160koda T 25\", \"Cz08_T_25\", 6, \"mediumTank\"], [\"T-34-85 Rudy\", \"Pl16_T34_85_Rudy\", 6, \"mediumTank\"], [\"Type 4 Chi-To\", \"J10_Chi_To\", 6, \"mediumTank\"], [\"P.43 bis\", \"It10_P43_bis\", 6, \"mediumTank\"]], \"hovertemplate\": \"color=l6_1<br>x=%{x}<br>y=%{y}<br>\\u0422\\u0430\\u043d\\u043a=%{customdata[0]}<br>\\u0422\\u0435\\u0433=%{customdata[1]}<br>\\u0423\\u0440\\u043e\\u0432\\u0435\\u043d\\u044c=%{customdata[2]}<br>\\u0422\\u0438\\u043f=%{customdata[3]}<extra></extra>\", \"legendgroup\": \"l6_1\", \"marker\": {\"color\": \"#FF6692\", \"symbol\": \"circle\"}, \"mode\": \"markers\", \"name\": \"l6_1\", \"orientation\": \"v\", \"showlegend\": true, \"type\": \"scatter\", \"x\": [-0.5968764086695397, -0.6642700946542778, 1.0720161693938948, 0.0037254231288949037, 0.68796995048724, -2.1632363609801697, -1.8045803141882624, -0.07158024555122716, 0.5819728560150228, 0.33719135910631803], \"xaxis\": \"x\", \"y\": [-3.2449686347278046, -2.5212735179381784, -2.4496229097483884, -1.62413121147074, -2.379991277551141, -3.9203585135450862, -2.6379488940883116, -2.803623474276038, -1.3471582769921706, -2.9942752373085115], \"yaxis\": \"y\"}, {\"customdata\": [[\"\\u0422-150\", \"R72_T150\", 6, \"heavyTank\"], [\"\\u041a\\u0412-2\", \"R77_KV2\", 6, \"heavyTank\"], [\"\\u041a\\u0412-1\\u0421\", \"R13_KV-1s\", 6, \"heavyTank\"], [\"\\u041a\\u0412-2 (\\u0420)\", \"R152_KV2_W\", 6, \"heavyTank\"]], \"hovertemplate\": \"color=l6_3<br>x=%{x}<br>y=%{y}<br>\\u0422\\u0430\\u043d\\u043a=%{customdata[0]}<br>\\u0422\\u0435\\u0433=%{customdata[1]}<br>\\u0423\\u0440\\u043e\\u0432\\u0435\\u043d\\u044c=%{customdata[2]}<br>\\u0422\\u0438\\u043f=%{customdata[3]}<extra></extra>\", \"legendgroup\": \"l6_3\", \"marker\": {\"color\": \"#B6E880\", \"symbol\": \"circle\"}, \"mode\": \"markers\", \"name\": \"l6_3\", \"orientation\": \"v\", \"showlegend\": true, \"type\": \"scatter\", \"x\": [6.208353190469111, 6.296763863212563, 6.166042650824443, 6.677878299455477], \"xaxis\": \"x\", \"y\": [0.6555556709054916, 0.5901132103961058, 0.4688757366257652, 1.451254149365673], \"yaxis\": \"y\"}, {\"customdata\": [[\"Achilles\", \"GB45_Achilles_IIC\", 6, \"AT-SPG\"], [\"M36 Jackson\", \"A31_M36_Slagger\", 6, \"AT-SPG\"], [\"Excalibur\", \"GB96_Excalibur\", 6, \"AT-SPG\"], [\"Churchill Gun Carrier\", \"GB40_Gun_Carrier_Churchill\", 6, \"AT-SPG\"], [\"Dicker Max\", \"G41_DickerMax\", 6, \"AT-SPG\"]], \"hovertemplate\": \"color=l6_7<br>x=%{x}<br>y=%{y}<br>\\u0422\\u0430\\u043d\\u043a=%{customdata[0]}<br>\\u0422\\u0435\\u0433=%{customdata[1]}<br>\\u0423\\u0440\\u043e\\u0432\\u0435\\u043d\\u044c=%{customdata[2]}<br>\\u0422\\u0438\\u043f=%{customdata[3]}<extra></extra>\", \"legendgroup\": \"l6_7\", \"marker\": {\"color\": \"#FF97FF\", \"symbol\": \"circle\"}, \"mode\": \"markers\", \"name\": \"l6_7\", \"orientation\": \"v\", \"showlegend\": true, \"type\": \"scatter\", \"x\": [-3.400342361462481, -1.552771617857479, -3.3586311542614067, -0.7634087888005431, -5.202170482557677], \"xaxis\": \"x\", \"y\": [2.0356370610922903, 2.6018005884298865, 2.2682138939493686, 2.893648220920086, 2.2936743602347103], \"yaxis\": \"y\"}, {\"customdata\": [[\"O-I\", \"J24_Mi_To_130_tons\", 6, \"heavyTank\"]], \"hovertemplate\": \"color=l6_11<br>x=%{x}<br>y=%{y}<br>\\u0422\\u0430\\u043d\\u043a=%{customdata[0]}<br>\\u0422\\u0435\\u0433=%{customdata[1]}<br>\\u0423\\u0440\\u043e\\u0432\\u0435\\u043d\\u044c=%{customdata[2]}<br>\\u0422\\u0438\\u043f=%{customdata[3]}<extra></extra>\", \"legendgroup\": \"l6_11\", \"marker\": {\"color\": \"#FECB52\", \"symbol\": \"circle\"}, \"mode\": \"markers\", \"name\": \"l6_11\", \"orientation\": \"v\", \"showlegend\": true, \"type\": \"scatter\", \"x\": [6.560287685731746], \"xaxis\": \"x\", \"y\": [2.026550562879564], \"yaxis\": \"y\"}, {\"customdata\": [[\"\\u0421\\u0423-100Y\", \"R49_SU100Y\", 6, \"AT-SPG\"], [\"\\u0421\\u0423-100\", \"R17_SU-100\", 6, \"AT-SPG\"], [\"WZ-131G FT\", \"Ch34_WZ131G_FT\", 6, \"AT-SPG\"], [\"T78\", \"A123_T78\", 6, \"AT-SPG\"], [\"Jagdpanzer IV\", \"G17_JagdPzIV\", 6, \"AT-SPG\"], [\"ARL V39\", \"F34_ARL_V39\", 6, \"AT-SPG\"], [\"Nashorn\", \"G40_Nashorn\", 6, \"AT-SPG\"]], \"hovertemplate\": \"color=l6_6<br>x=%{x}<br>y=%{y}<br>\\u0422\\u0430\\u043d\\u043a=%{customdata[0]}<br>\\u0422\\u0435\\u0433=%{customdata[1]}<br>\\u0423\\u0440\\u043e\\u0432\\u0435\\u043d\\u044c=%{customdata[2]}<br>\\u0422\\u0438\\u043f=%{customdata[3]}<extra></extra>\", \"legendgroup\": \"l6_6\", \"marker\": {\"color\": \"#636efa\", \"symbol\": \"circle\"}, \"mode\": \"markers\", \"name\": \"l6_6\", \"orientation\": \"v\", \"showlegend\": true, \"type\": \"scatter\", \"x\": [1.1348643929116728, -1.6504323737276978, -2.847244082320533, -4.068249675774708, -1.9243266901889513, -2.3676185330921697, -2.5884826980755147], \"xaxis\": \"x\", \"y\": [3.6850955920976003, 3.6547833036493027, 3.4155620293726807, 1.7344633903168172, 3.4140358009247262, 3.294094322294303, 3.7716646929285322], \"yaxis\": \"y\"}, {\"customdata\": [[\"Panhard AMD 178B\", \"F109_AMD_Panhard_178B\", 6, \"lightTank\"], [\"Ikv 65 Alt II\", \"S08_Ikv_65_Alt_2\", 6, \"AT-SPG\"]], \"hovertemplate\": \"color=l6_9<br>x=%{x}<br>y=%{y}<br>\\u0422\\u0430\\u043d\\u043a=%{customdata[0]}<br>\\u0422\\u0435\\u0433=%{customdata[1]}<br>\\u0423\\u0440\\u043e\\u0432\\u0435\\u043d\\u044c=%{customdata[2]}<br>\\u0422\\u0438\\u043f=%{customdata[3]}<extra></extra>\", \"legendgroup\": \"l6_9\", \"marker\": {\"color\": \"#EF553B\", \"symbol\": \"circle\"}, \"mode\": \"markers\", \"name\": \"l6_9\", \"orientation\": \"v\", \"showlegend\": true, \"type\": \"scatter\", \"x\": [-6.059323124862, -4.1917268253448325], \"xaxis\": \"x\", \"y\": [-1.9935448770918283, 3.0958498814971738], \"yaxis\": \"y\"}],\n",
       "                        {\"legend\": {\"title\": {\"text\": \"color\"}, \"tracegroupgap\": 0}, \"margin\": {\"t\": 60}, \"template\": {\"data\": {\"bar\": [{\"error_x\": {\"color\": \"#2a3f5f\"}, \"error_y\": {\"color\": \"#2a3f5f\"}, \"marker\": {\"line\": {\"color\": \"#E5ECF6\", \"width\": 0.5}}, \"type\": \"bar\"}], \"barpolar\": [{\"marker\": {\"line\": {\"color\": \"#E5ECF6\", \"width\": 0.5}}, \"type\": \"barpolar\"}], \"carpet\": [{\"aaxis\": {\"endlinecolor\": \"#2a3f5f\", \"gridcolor\": \"white\", \"linecolor\": \"white\", \"minorgridcolor\": \"white\", \"startlinecolor\": \"#2a3f5f\"}, \"baxis\": {\"endlinecolor\": \"#2a3f5f\", \"gridcolor\": \"white\", \"linecolor\": \"white\", \"minorgridcolor\": \"white\", \"startlinecolor\": \"#2a3f5f\"}, \"type\": \"carpet\"}], \"choropleth\": [{\"colorbar\": {\"outlinewidth\": 0, \"ticks\": \"\"}, \"type\": \"choropleth\"}], \"contour\": [{\"colorbar\": {\"outlinewidth\": 0, \"ticks\": \"\"}, \"colorscale\": [[0.0, \"#0d0887\"], [0.1111111111111111, \"#46039f\"], [0.2222222222222222, \"#7201a8\"], [0.3333333333333333, \"#9c179e\"], [0.4444444444444444, \"#bd3786\"], [0.5555555555555556, \"#d8576b\"], [0.6666666666666666, \"#ed7953\"], [0.7777777777777778, \"#fb9f3a\"], [0.8888888888888888, \"#fdca26\"], [1.0, \"#f0f921\"]], \"type\": \"contour\"}], \"contourcarpet\": [{\"colorbar\": {\"outlinewidth\": 0, \"ticks\": \"\"}, \"type\": \"contourcarpet\"}], \"heatmap\": [{\"colorbar\": {\"outlinewidth\": 0, \"ticks\": \"\"}, \"colorscale\": [[0.0, \"#0d0887\"], [0.1111111111111111, \"#46039f\"], [0.2222222222222222, \"#7201a8\"], [0.3333333333333333, \"#9c179e\"], [0.4444444444444444, \"#bd3786\"], [0.5555555555555556, \"#d8576b\"], [0.6666666666666666, \"#ed7953\"], [0.7777777777777778, \"#fb9f3a\"], [0.8888888888888888, \"#fdca26\"], [1.0, \"#f0f921\"]], \"type\": \"heatmap\"}], \"heatmapgl\": [{\"colorbar\": {\"outlinewidth\": 0, \"ticks\": \"\"}, \"colorscale\": [[0.0, \"#0d0887\"], [0.1111111111111111, \"#46039f\"], [0.2222222222222222, \"#7201a8\"], [0.3333333333333333, \"#9c179e\"], [0.4444444444444444, \"#bd3786\"], [0.5555555555555556, \"#d8576b\"], [0.6666666666666666, \"#ed7953\"], [0.7777777777777778, \"#fb9f3a\"], [0.8888888888888888, \"#fdca26\"], [1.0, \"#f0f921\"]], \"type\": \"heatmapgl\"}], \"histogram\": [{\"marker\": {\"colorbar\": {\"outlinewidth\": 0, \"ticks\": \"\"}}, \"type\": \"histogram\"}], \"histogram2d\": [{\"colorbar\": {\"outlinewidth\": 0, \"ticks\": \"\"}, \"colorscale\": [[0.0, \"#0d0887\"], [0.1111111111111111, \"#46039f\"], [0.2222222222222222, \"#7201a8\"], [0.3333333333333333, \"#9c179e\"], [0.4444444444444444, \"#bd3786\"], [0.5555555555555556, \"#d8576b\"], [0.6666666666666666, \"#ed7953\"], [0.7777777777777778, \"#fb9f3a\"], [0.8888888888888888, \"#fdca26\"], [1.0, \"#f0f921\"]], \"type\": \"histogram2d\"}], \"histogram2dcontour\": [{\"colorbar\": {\"outlinewidth\": 0, \"ticks\": \"\"}, \"colorscale\": [[0.0, \"#0d0887\"], [0.1111111111111111, \"#46039f\"], [0.2222222222222222, \"#7201a8\"], [0.3333333333333333, \"#9c179e\"], [0.4444444444444444, \"#bd3786\"], [0.5555555555555556, \"#d8576b\"], [0.6666666666666666, \"#ed7953\"], [0.7777777777777778, \"#fb9f3a\"], [0.8888888888888888, \"#fdca26\"], [1.0, \"#f0f921\"]], \"type\": \"histogram2dcontour\"}], \"mesh3d\": [{\"colorbar\": {\"outlinewidth\": 0, \"ticks\": \"\"}, \"type\": \"mesh3d\"}], \"parcoords\": [{\"line\": {\"colorbar\": {\"outlinewidth\": 0, \"ticks\": \"\"}}, \"type\": \"parcoords\"}], \"pie\": [{\"automargin\": true, \"type\": \"pie\"}], \"scatter\": [{\"marker\": {\"colorbar\": {\"outlinewidth\": 0, \"ticks\": \"\"}}, \"type\": \"scatter\"}], \"scatter3d\": [{\"line\": {\"colorbar\": {\"outlinewidth\": 0, \"ticks\": \"\"}}, \"marker\": {\"colorbar\": {\"outlinewidth\": 0, \"ticks\": \"\"}}, \"type\": \"scatter3d\"}], \"scattercarpet\": [{\"marker\": {\"colorbar\": {\"outlinewidth\": 0, \"ticks\": \"\"}}, \"type\": \"scattercarpet\"}], \"scattergeo\": [{\"marker\": {\"colorbar\": {\"outlinewidth\": 0, \"ticks\": \"\"}}, \"type\": \"scattergeo\"}], \"scattergl\": [{\"marker\": {\"colorbar\": {\"outlinewidth\": 0, \"ticks\": \"\"}}, \"type\": \"scattergl\"}], \"scattermapbox\": [{\"marker\": {\"colorbar\": {\"outlinewidth\": 0, \"ticks\": \"\"}}, \"type\": \"scattermapbox\"}], \"scatterpolar\": [{\"marker\": {\"colorbar\": {\"outlinewidth\": 0, \"ticks\": \"\"}}, \"type\": \"scatterpolar\"}], \"scatterpolargl\": [{\"marker\": {\"colorbar\": {\"outlinewidth\": 0, \"ticks\": \"\"}}, \"type\": \"scatterpolargl\"}], \"scatterternary\": [{\"marker\": {\"colorbar\": {\"outlinewidth\": 0, \"ticks\": \"\"}}, \"type\": \"scatterternary\"}], \"surface\": [{\"colorbar\": {\"outlinewidth\": 0, \"ticks\": \"\"}, \"colorscale\": [[0.0, \"#0d0887\"], [0.1111111111111111, \"#46039f\"], [0.2222222222222222, \"#7201a8\"], [0.3333333333333333, \"#9c179e\"], [0.4444444444444444, \"#bd3786\"], [0.5555555555555556, \"#d8576b\"], [0.6666666666666666, \"#ed7953\"], [0.7777777777777778, \"#fb9f3a\"], [0.8888888888888888, \"#fdca26\"], [1.0, \"#f0f921\"]], \"type\": \"surface\"}], \"table\": [{\"cells\": {\"fill\": {\"color\": \"#EBF0F8\"}, \"line\": {\"color\": \"white\"}}, \"header\": {\"fill\": {\"color\": \"#C8D4E3\"}, \"line\": {\"color\": \"white\"}}, \"type\": \"table\"}]}, \"layout\": {\"annotationdefaults\": {\"arrowcolor\": \"#2a3f5f\", \"arrowhead\": 0, \"arrowwidth\": 1}, \"coloraxis\": {\"colorbar\": {\"outlinewidth\": 0, \"ticks\": \"\"}}, \"colorscale\": {\"diverging\": [[0, \"#8e0152\"], [0.1, \"#c51b7d\"], [0.2, \"#de77ae\"], [0.3, \"#f1b6da\"], [0.4, \"#fde0ef\"], [0.5, \"#f7f7f7\"], [0.6, \"#e6f5d0\"], [0.7, \"#b8e186\"], [0.8, \"#7fbc41\"], [0.9, \"#4d9221\"], [1, \"#276419\"]], \"sequential\": [[0.0, \"#0d0887\"], [0.1111111111111111, \"#46039f\"], [0.2222222222222222, \"#7201a8\"], [0.3333333333333333, \"#9c179e\"], [0.4444444444444444, \"#bd3786\"], [0.5555555555555556, \"#d8576b\"], [0.6666666666666666, \"#ed7953\"], [0.7777777777777778, \"#fb9f3a\"], [0.8888888888888888, \"#fdca26\"], [1.0, \"#f0f921\"]], \"sequentialminus\": [[0.0, \"#0d0887\"], [0.1111111111111111, \"#46039f\"], [0.2222222222222222, \"#7201a8\"], [0.3333333333333333, \"#9c179e\"], [0.4444444444444444, \"#bd3786\"], [0.5555555555555556, \"#d8576b\"], [0.6666666666666666, \"#ed7953\"], [0.7777777777777778, \"#fb9f3a\"], [0.8888888888888888, \"#fdca26\"], [1.0, \"#f0f921\"]]}, \"colorway\": [\"#636efa\", \"#EF553B\", \"#00cc96\", \"#ab63fa\", \"#FFA15A\", \"#19d3f3\", \"#FF6692\", \"#B6E880\", \"#FF97FF\", \"#FECB52\"], \"font\": {\"color\": \"#2a3f5f\"}, \"geo\": {\"bgcolor\": \"white\", \"lakecolor\": \"white\", \"landcolor\": \"#E5ECF6\", \"showlakes\": true, \"showland\": true, \"subunitcolor\": \"white\"}, \"hoverlabel\": {\"align\": \"left\"}, \"hovermode\": \"closest\", \"mapbox\": {\"style\": \"light\"}, \"paper_bgcolor\": \"white\", \"plot_bgcolor\": \"#E5ECF6\", \"polar\": {\"angularaxis\": {\"gridcolor\": \"white\", \"linecolor\": \"white\", \"ticks\": \"\"}, \"bgcolor\": \"#E5ECF6\", \"radialaxis\": {\"gridcolor\": \"white\", \"linecolor\": \"white\", \"ticks\": \"\"}}, \"scene\": {\"xaxis\": {\"backgroundcolor\": \"#E5ECF6\", \"gridcolor\": \"white\", \"gridwidth\": 2, \"linecolor\": \"white\", \"showbackground\": true, \"ticks\": \"\", \"zerolinecolor\": \"white\"}, \"yaxis\": {\"backgroundcolor\": \"#E5ECF6\", \"gridcolor\": \"white\", \"gridwidth\": 2, \"linecolor\": \"white\", \"showbackground\": true, \"ticks\": \"\", \"zerolinecolor\": \"white\"}, \"zaxis\": {\"backgroundcolor\": \"#E5ECF6\", \"gridcolor\": \"white\", \"gridwidth\": 2, \"linecolor\": \"white\", \"showbackground\": true, \"ticks\": \"\", \"zerolinecolor\": \"white\"}}, \"shapedefaults\": {\"line\": {\"color\": \"#2a3f5f\"}}, \"ternary\": {\"aaxis\": {\"gridcolor\": \"white\", \"linecolor\": \"white\", \"ticks\": \"\"}, \"baxis\": {\"gridcolor\": \"white\", \"linecolor\": \"white\", \"ticks\": \"\"}, \"bgcolor\": \"#E5ECF6\", \"caxis\": {\"gridcolor\": \"white\", \"linecolor\": \"white\", \"ticks\": \"\"}}, \"title\": {\"x\": 0.05}, \"xaxis\": {\"automargin\": true, \"gridcolor\": \"white\", \"linecolor\": \"white\", \"ticks\": \"\", \"title\": {\"standoff\": 15}, \"zerolinecolor\": \"white\", \"zerolinewidth\": 2}, \"yaxis\": {\"automargin\": true, \"gridcolor\": \"white\", \"linecolor\": \"white\", \"ticks\": \"\", \"title\": {\"standoff\": 15}, \"zerolinecolor\": \"white\", \"zerolinewidth\": 2}}}, \"xaxis\": {\"anchor\": \"y\", \"domain\": [0.0, 1.0], \"title\": {\"text\": \"x\"}}, \"yaxis\": {\"anchor\": \"x\", \"domain\": [0.0, 1.0], \"title\": {\"text\": \"y\"}}},\n",
       "                        {\"responsive\": true}\n",
       "                    ).then(function(){\n",
       "                            \n",
       "var gd = document.getElementById('96775827-6b54-48f7-b731-3a2666cd1fab');\n",
       "var x = new MutationObserver(function (mutations, observer) {{\n",
       "        var display = window.getComputedStyle(gd).display;\n",
       "        if (!display || display === 'none') {{\n",
       "            console.log([gd, 'removed!']);\n",
       "            Plotly.purge(gd);\n",
       "            observer.disconnect();\n",
       "        }}\n",
       "}});\n",
       "\n",
       "// Listen for the removal of the full notebook cells\n",
       "var notebookContainer = gd.closest('#notebook-container');\n",
       "if (notebookContainer) {{\n",
       "    x.observe(notebookContainer, {childList: true});\n",
       "}}\n",
       "\n",
       "// Listen for the clearing of the current output cell\n",
       "var outputEl = gd.closest('.output');\n",
       "if (outputEl) {{\n",
       "    x.observe(outputEl, {childList: true});\n",
       "}}\n",
       "\n",
       "                        })\n",
       "                };\n",
       "                });\n",
       "            </script>\n",
       "        </div>"
      ]
     },
     "metadata": {},
     "output_type": "display_data"
    }
   ],
   "source": [
    "# Manual hyperparameters optimization\n",
    "plot_clusters(tanks, 12, 6)"
   ]
  },
  {
   "cell_type": "code",
   "execution_count": 111,
   "metadata": {
    "scrolled": false
   },
   "outputs": [
    {
     "data": {
      "text/html": [
       "<div>\n",
       "<style scoped>\n",
       "    .dataframe tbody tr th:only-of-type {\n",
       "        vertical-align: middle;\n",
       "    }\n",
       "\n",
       "    .dataframe tbody tr th {\n",
       "        vertical-align: top;\n",
       "    }\n",
       "\n",
       "    .dataframe thead th {\n",
       "        text-align: right;\n",
       "    }\n",
       "</style>\n",
       "<table border=\"1\" class=\"dataframe\">\n",
       "  <thead>\n",
       "    <tr style=\"text-align: right;\">\n",
       "      <th></th>\n",
       "      <th>tag</th>\n",
       "      <th>cluster</th>\n",
       "    </tr>\n",
       "  </thead>\n",
       "  <tbody>\n",
       "    <tr>\n",
       "      <th>0</th>\n",
       "      <td>R04_T-34</td>\n",
       "      <td>l5_0</td>\n",
       "    </tr>\n",
       "    <tr>\n",
       "      <th>1</th>\n",
       "      <td>R12_A-20</td>\n",
       "      <td>l5_7</td>\n",
       "    </tr>\n",
       "    <tr>\n",
       "      <th>2</th>\n",
       "      <td>GB51_Excelsior</td>\n",
       "      <td>l5_6</td>\n",
       "    </tr>\n",
       "    <tr>\n",
       "      <th>3</th>\n",
       "      <td>J08_Chi_Nu</td>\n",
       "      <td>l5_5</td>\n",
       "    </tr>\n",
       "    <tr>\n",
       "      <th>4</th>\n",
       "      <td>Pl12_25TP_KSUST_II</td>\n",
       "      <td>l5_5</td>\n",
       "    </tr>\n",
       "    <tr>\n",
       "      <th>5</th>\n",
       "      <td>G26_VK1602</td>\n",
       "      <td>l5_7</td>\n",
       "    </tr>\n",
       "    <tr>\n",
       "      <th>6</th>\n",
       "      <td>R38_KV-220</td>\n",
       "      <td>l5_2</td>\n",
       "    </tr>\n",
       "    <tr>\n",
       "      <th>7</th>\n",
       "      <td>G28_PzIII_IV</td>\n",
       "      <td>l5_0</td>\n",
       "    </tr>\n",
       "    <tr>\n",
       "      <th>8</th>\n",
       "      <td>A34_M24_Chaffee</td>\n",
       "      <td>l5_7</td>\n",
       "    </tr>\n",
       "    <tr>\n",
       "      <th>9</th>\n",
       "      <td>F112_M10_RBFM</td>\n",
       "      <td>l5_4</td>\n",
       "    </tr>\n",
       "    <tr>\n",
       "      <th>10</th>\n",
       "      <td>F11_Renault_G1R</td>\n",
       "      <td>l5_3</td>\n",
       "    </tr>\n",
       "    <tr>\n",
       "      <th>11</th>\n",
       "      <td>A44_M4A2E4</td>\n",
       "      <td>l5_0</td>\n",
       "    </tr>\n",
       "    <tr>\n",
       "      <th>12</th>\n",
       "      <td>A09_T1_hvy</td>\n",
       "      <td>l5_2</td>\n",
       "    </tr>\n",
       "    <tr>\n",
       "      <th>13</th>\n",
       "      <td>R33_Churchill_LL</td>\n",
       "      <td>l5_1</td>\n",
       "    </tr>\n",
       "    <tr>\n",
       "      <th>14</th>\n",
       "      <td>A23_M7_med</td>\n",
       "      <td>l5_7</td>\n",
       "    </tr>\n",
       "    <tr>\n",
       "      <th>15</th>\n",
       "      <td>R78_SU_85I</td>\n",
       "      <td>l5_4</td>\n",
       "    </tr>\n",
       "    <tr>\n",
       "      <th>16</th>\n",
       "      <td>GB37_Valliant</td>\n",
       "      <td>l5_6</td>\n",
       "    </tr>\n",
       "    <tr>\n",
       "      <th>17</th>\n",
       "      <td>GB44_Archer</td>\n",
       "      <td>l5_10</td>\n",
       "    </tr>\n",
       "    <tr>\n",
       "      <th>18</th>\n",
       "      <td>A58_T67</td>\n",
       "      <td>l5_4</td>\n",
       "    </tr>\n",
       "    <tr>\n",
       "      <th>19</th>\n",
       "      <td>GB08_Churchill_I</td>\n",
       "      <td>l5_1</td>\n",
       "    </tr>\n",
       "    <tr>\n",
       "      <th>20</th>\n",
       "      <td>A78_M4_Improved</td>\n",
       "      <td>l5_0</td>\n",
       "    </tr>\n",
       "    <tr>\n",
       "      <th>21</th>\n",
       "      <td>F33_S_35CA</td>\n",
       "      <td>l5_10</td>\n",
       "    </tr>\n",
       "    <tr>\n",
       "      <th>22</th>\n",
       "      <td>G81_Pz_IV_AusfH_GuP</td>\n",
       "      <td>l5_0</td>\n",
       "    </tr>\n",
       "    <tr>\n",
       "      <th>23</th>\n",
       "      <td>G116_Turan_III_prot</td>\n",
       "      <td>l5_0</td>\n",
       "    </tr>\n",
       "    <tr>\n",
       "      <th>24</th>\n",
       "      <td>A21_T14</td>\n",
       "      <td>l5_2</td>\n",
       "    </tr>\n",
       "    <tr>\n",
       "      <th>25</th>\n",
       "      <td>A05_M4_Sherman</td>\n",
       "      <td>l5_3</td>\n",
       "    </tr>\n",
       "    <tr>\n",
       "      <th>26</th>\n",
       "      <td>G05_StuG_40_AusfG</td>\n",
       "      <td>l5_11</td>\n",
       "    </tr>\n",
       "    <tr>\n",
       "      <th>27</th>\n",
       "      <td>R32_Matilda_II_LL</td>\n",
       "      <td>l5_6</td>\n",
       "    </tr>\n",
       "    <tr>\n",
       "      <th>28</th>\n",
       "      <td>F05_BDR_G1B</td>\n",
       "      <td>l5_2</td>\n",
       "    </tr>\n",
       "    <tr>\n",
       "      <th>29</th>\n",
       "      <td>S02_Strv_M42</td>\n",
       "      <td>l5_5</td>\n",
       "    </tr>\n",
       "    <tr>\n",
       "      <th>30</th>\n",
       "      <td>R41_T-50</td>\n",
       "      <td>l5_7</td>\n",
       "    </tr>\n",
       "    <tr>\n",
       "      <th>31</th>\n",
       "      <td>Ch21_T34</td>\n",
       "      <td>l5_0</td>\n",
       "    </tr>\n",
       "    <tr>\n",
       "      <th>32</th>\n",
       "      <td>G32_PzV_PzIV_ausf_Alfa</td>\n",
       "      <td>l5_0</td>\n",
       "    </tr>\n",
       "    <tr>\n",
       "      <th>33</th>\n",
       "      <td>GB107_Cavalier</td>\n",
       "      <td>l5_3</td>\n",
       "    </tr>\n",
       "    <tr>\n",
       "      <th>34</th>\n",
       "      <td>S14_Ikv_103</td>\n",
       "      <td>l5_9</td>\n",
       "    </tr>\n",
       "    <tr>\n",
       "      <th>35</th>\n",
       "      <td>R80_KV1</td>\n",
       "      <td>l5_8</td>\n",
       "    </tr>\n",
       "    <tr>\n",
       "      <th>36</th>\n",
       "      <td>It11_P43</td>\n",
       "      <td>l5_5</td>\n",
       "    </tr>\n",
       "    <tr>\n",
       "      <th>37</th>\n",
       "      <td>G70_PzIV_Hydro</td>\n",
       "      <td>l5_0</td>\n",
       "    </tr>\n",
       "    <tr>\n",
       "      <th>38</th>\n",
       "      <td>R154_T_34E_1943</td>\n",
       "      <td>l5_0</td>\n",
       "    </tr>\n",
       "    <tr>\n",
       "      <th>39</th>\n",
       "      <td>G76_Pz_Sfl_IVc</td>\n",
       "      <td>l5_4</td>\n",
       "    </tr>\n",
       "    <tr>\n",
       "      <th>40</th>\n",
       "      <td>R02_SU-85</td>\n",
       "      <td>l5_11</td>\n",
       "    </tr>\n",
       "    <tr>\n",
       "      <th>41</th>\n",
       "      <td>A62_Ram-II</td>\n",
       "      <td>l5_2</td>\n",
       "    </tr>\n",
       "    <tr>\n",
       "      <th>42</th>\n",
       "      <td>G81_Pz_IV_AusfH</td>\n",
       "      <td>l5_3</td>\n",
       "    </tr>\n",
       "    <tr>\n",
       "      <th>43</th>\n",
       "      <td>J23_Mi_To</td>\n",
       "      <td>l5_8</td>\n",
       "    </tr>\n",
       "    <tr>\n",
       "      <th>44</th>\n",
       "      <td>G32_PzV_PzIV</td>\n",
       "      <td>l5_0</td>\n",
       "    </tr>\n",
       "    <tr>\n",
       "      <th>45</th>\n",
       "      <td>G13_VK3001H</td>\n",
       "      <td>l5_3</td>\n",
       "    </tr>\n",
       "    <tr>\n",
       "      <th>46</th>\n",
       "      <td>R38_KV-220_beta</td>\n",
       "      <td>l5_2</td>\n",
       "    </tr>\n",
       "    <tr>\n",
       "      <th>47</th>\n",
       "      <td>GB68_Matilda_Black_Prince</td>\n",
       "      <td>l5_6</td>\n",
       "    </tr>\n",
       "    <tr>\n",
       "      <th>48</th>\n",
       "      <td>Pl17_DS_PZlnz</td>\n",
       "      <td>l5_5</td>\n",
       "    </tr>\n",
       "    <tr>\n",
       "      <th>49</th>\n",
       "      <td>GB73_AT2</td>\n",
       "      <td>l5_11</td>\n",
       "    </tr>\n",
       "    <tr>\n",
       "      <th>50</th>\n",
       "      <td>Ch33_60G_FT</td>\n",
       "      <td>l5_4</td>\n",
       "    </tr>\n",
       "    <tr>\n",
       "      <th>51</th>\n",
       "      <td>G46_T-25</td>\n",
       "      <td>l5_0</td>\n",
       "    </tr>\n",
       "    <tr>\n",
       "      <th>52</th>\n",
       "      <td>A30_M10_Wolverine</td>\n",
       "      <td>l5_11</td>\n",
       "    </tr>\n",
       "    <tr>\n",
       "      <th>53</th>\n",
       "      <td>GB50_Sherman_III</td>\n",
       "      <td>l5_3</td>\n",
       "    </tr>\n",
       "    <tr>\n",
       "      <th>54</th>\n",
       "      <td>Cz09_T_24</td>\n",
       "      <td>l5_5</td>\n",
       "    </tr>\n",
       "    <tr>\n",
       "      <th>55</th>\n",
       "      <td>F62_ELC_AMX</td>\n",
       "      <td>l5_7</td>\n",
       "    </tr>\n",
       "    <tr>\n",
       "      <th>56</th>\n",
       "      <td>G104_Stug_IV</td>\n",
       "      <td>l5_4</td>\n",
       "    </tr>\n",
       "    <tr>\n",
       "      <th>57</th>\n",
       "      <td>J12_Chi_Nu_Kai</td>\n",
       "      <td>l5_5</td>\n",
       "    </tr>\n",
       "    <tr>\n",
       "      <th>58</th>\n",
       "      <td>G107_PzKpfwIII_AusfK</td>\n",
       "      <td>l5_0</td>\n",
       "    </tr>\n",
       "    <tr>\n",
       "      <th>59</th>\n",
       "      <td>GB60_Covenanter</td>\n",
       "      <td>l5_3</td>\n",
       "    </tr>\n",
       "  </tbody>\n",
       "</table>\n",
       "</div>"
      ],
      "text/plain": [
       "                          tag cluster\n",
       "0                    R04_T-34    l5_0\n",
       "1                    R12_A-20    l5_7\n",
       "2              GB51_Excelsior    l5_6\n",
       "3                  J08_Chi_Nu    l5_5\n",
       "4          Pl12_25TP_KSUST_II    l5_5\n",
       "5                  G26_VK1602    l5_7\n",
       "6                  R38_KV-220    l5_2\n",
       "7                G28_PzIII_IV    l5_0\n",
       "8             A34_M24_Chaffee    l5_7\n",
       "9               F112_M10_RBFM    l5_4\n",
       "10            F11_Renault_G1R    l5_3\n",
       "11                 A44_M4A2E4    l5_0\n",
       "12                 A09_T1_hvy    l5_2\n",
       "13           R33_Churchill_LL    l5_1\n",
       "14                 A23_M7_med    l5_7\n",
       "15                 R78_SU_85I    l5_4\n",
       "16              GB37_Valliant    l5_6\n",
       "17                GB44_Archer   l5_10\n",
       "18                    A58_T67    l5_4\n",
       "19           GB08_Churchill_I    l5_1\n",
       "20            A78_M4_Improved    l5_0\n",
       "21                 F33_S_35CA   l5_10\n",
       "22        G81_Pz_IV_AusfH_GuP    l5_0\n",
       "23        G116_Turan_III_prot    l5_0\n",
       "24                    A21_T14    l5_2\n",
       "25             A05_M4_Sherman    l5_3\n",
       "26          G05_StuG_40_AusfG   l5_11\n",
       "27          R32_Matilda_II_LL    l5_6\n",
       "28                F05_BDR_G1B    l5_2\n",
       "29               S02_Strv_M42    l5_5\n",
       "30                   R41_T-50    l5_7\n",
       "31                   Ch21_T34    l5_0\n",
       "32     G32_PzV_PzIV_ausf_Alfa    l5_0\n",
       "33             GB107_Cavalier    l5_3\n",
       "34                S14_Ikv_103    l5_9\n",
       "35                    R80_KV1    l5_8\n",
       "36                   It11_P43    l5_5\n",
       "37             G70_PzIV_Hydro    l5_0\n",
       "38            R154_T_34E_1943    l5_0\n",
       "39             G76_Pz_Sfl_IVc    l5_4\n",
       "40                  R02_SU-85   l5_11\n",
       "41                 A62_Ram-II    l5_2\n",
       "42            G81_Pz_IV_AusfH    l5_3\n",
       "43                  J23_Mi_To    l5_8\n",
       "44               G32_PzV_PzIV    l5_0\n",
       "45                G13_VK3001H    l5_3\n",
       "46            R38_KV-220_beta    l5_2\n",
       "47  GB68_Matilda_Black_Prince    l5_6\n",
       "48              Pl17_DS_PZlnz    l5_5\n",
       "49                   GB73_AT2   l5_11\n",
       "50                Ch33_60G_FT    l5_4\n",
       "51                   G46_T-25    l5_0\n",
       "52          A30_M10_Wolverine   l5_11\n",
       "53           GB50_Sherman_III    l5_3\n",
       "54                  Cz09_T_24    l5_5\n",
       "55                F62_ELC_AMX    l5_7\n",
       "56               G104_Stug_IV    l5_4\n",
       "57             J12_Chi_Nu_Kai    l5_5\n",
       "58       G107_PzKpfwIII_AusfK    l5_0\n",
       "59            GB60_Covenanter    l5_3"
      ]
     },
     "execution_count": 111,
     "metadata": {},
     "output_type": "execute_result"
    }
   ],
   "source": [
    "cl = cluster(tanks, 12, 6)\n",
    "cl"
   ]
  },
  {
   "cell_type": "code",
   "execution_count": 113,
   "metadata": {},
   "outputs": [],
   "source": [
    "def setCluster(x, tag, cl):\n",
    "    if x.tag == tag:\n",
    "        x.cluster = cl\n",
    "    return x\n",
    "\n",
    "cl = cl.replace(\"l5_6\", \"l5_2\")\n",
    "cl = cl.replace(\"l5_1\", \"l5_2\")\n",
    "cl = cl.replace(\"l5_8\", \"l5_2\")\n",
    "cl = cl.apply(lambda x: setCluster(x, \"GB73_AT2\", \"l5_2\"), axis=1)\n",
    "\n",
    "cl = cl.replace(\"l5_10\", \"l5_4\")\n",
    "cl = cl.replace(\"l5_11\", \"l5_4\")\n",
    "cl = cl.apply(lambda x: setCluster(x, \"S14_Ikv_103\", \"l5_4\"), axis=1)"
   ]
  },
  {
   "cell_type": "code",
   "execution_count": 114,
   "metadata": {},
   "outputs": [
    {
     "data": {
      "text/plain": [
       "cluster\n",
       "l5_0    13\n",
       "l5_2    15\n",
       "l5_3     7\n",
       "l5_4    12\n",
       "l5_5     7\n",
       "l5_7     6\n",
       "Name: tag, dtype: int64"
      ]
     },
     "execution_count": 114,
     "metadata": {},
     "output_type": "execute_result"
    }
   ],
   "source": [
    "# Check balance\n",
    "cl.groupby(\"cluster\").tag.count()"
   ]
  },
  {
   "cell_type": "code",
   "execution_count": 115,
   "metadata": {},
   "outputs": [],
   "source": [
    "tanks_clusters.append(cl)"
   ]
  },
  {
   "cell_type": "code",
   "execution_count": null,
   "metadata": {},
   "outputs": [],
   "source": []
  }
 ],
 "metadata": {
  "interpreter": {
   "hash": "a8f61be024eba58adef938c9aa1e29e02cb3dece83a5348b1a2dafd16a070453"
  },
  "kernelspec": {
   "display_name": "Python 3",
   "language": "python",
   "name": "python3"
  },
  "language_info": {
   "codemirror_mode": {
    "name": "ipython",
    "version": 3
   },
   "file_extension": ".py",
   "mimetype": "text/x-python",
   "name": "python",
   "nbconvert_exporter": "python",
   "pygments_lexer": "ipython3",
   "version": "3.8.3"
  }
 },
 "nbformat": 4,
 "nbformat_minor": 2
}

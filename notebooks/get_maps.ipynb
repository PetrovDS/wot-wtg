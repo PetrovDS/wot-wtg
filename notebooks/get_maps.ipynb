{
 "cells": [
  {
   "cell_type": "code",
   "execution_count": 24,
   "source": [
    "from bs4 import BeautifulSoup\r\n",
    "import requests as req\r\n",
    "import pandas as pd\r\n",
    "import re\r\n"
   ],
   "outputs": [],
   "metadata": {}
  },
  {
   "cell_type": "markdown",
   "source": [
    "## Get map list from game res and map type from wotreplays.ru"
   ],
   "metadata": {}
  },
  {
   "cell_type": "code",
   "execution_count": 3,
   "source": [
    "with open(\"D:\\\\Games\\\\World_of_Tanks\\\\res\\\\text\\lc_messages\\\\arenas.mo\", \"rb\") as f:\r\n",
    "    arenas = f.read()\r\n"
   ],
   "outputs": [],
   "metadata": {}
  },
  {
   "cell_type": "code",
   "execution_count": 20,
   "source": [
    "work_names_start = arenas.find(b\"01_karelia\")\r\n",
    "work_names_end = arenas.find(b\"Project-Id-Version: World Of Tanks\") - 1\r\n",
    "\r\n",
    "desc_start = arenas.find(b\"Content-Transfer-Encoding: 8bit\\n\") + \\\r\n",
    "    len(\"Content-Transfer-Encoding: 8bit\\n\") + 1\r\n",
    "desc_end= len(arenas) - 1\r\n"
   ],
   "outputs": [],
   "metadata": {}
  },
  {
   "cell_type": "code",
   "execution_count": 21,
   "source": [
    "work_names = [i.decode(\"utf8\") for i in arenas[work_names_start:work_names_end].split(b\"\\x00\")]\r\n",
    "desc = [i.decode(\"utf8\") for i in arenas[desc_start:desc_end].split(b\"\\x00\")]\r\n"
   ],
   "outputs": [],
   "metadata": {}
  },
  {
   "cell_type": "code",
   "execution_count": 45,
   "source": [
    "maps = []\r\n",
    "for wn, d in zip(work_names, desc):\r\n",
    "    if re.match(r\"^\\d+_.*name$\", wn):\r\n",
    "        id_map = int(wn.split(\"_\")[0])\r\n",
    "        is_standart = len(BeautifulSoup(req.get(\r\n",
    "            f\"http://wotreplays.ru/site/index/battle_type/1/map/{id_map}\").text, \"html.parser\") \\\r\n",
    "            .find_all(class_=\"btn_l-grey\")[:-1]) != 0\r\n",
    "        maps.append({\r\n",
    "            \"id\": id_map,\r\n",
    "            \"work_name\": wn[:-5],\r\n",
    "            \"name\": d,\r\n",
    "            \"standart\": is_standart\r\n",
    "        })\r\n",
    "maps = pd.DataFrame(maps)"
   ],
   "outputs": [],
   "metadata": {}
  },
  {
   "cell_type": "code",
   "execution_count": 50,
   "source": [
    "maps.to_csv(\"../data/assets/maps.csv\", index=False)"
   ],
   "outputs": [],
   "metadata": {}
  },
  {
   "cell_type": "code",
   "execution_count": null,
   "source": [],
   "outputs": [],
   "metadata": {}
  }
 ],
 "metadata": {
  "orig_nbformat": 4,
  "language_info": {
   "name": "python",
   "version": "3.8.3",
   "mimetype": "text/x-python",
   "codemirror_mode": {
    "name": "ipython",
    "version": 3
   },
   "pygments_lexer": "ipython3",
   "nbconvert_exporter": "python",
   "file_extension": ".py"
  },
  "kernelspec": {
   "name": "python3",
   "display_name": "Python 3.8.3 64-bit ('base': conda)"
  },
  "interpreter": {
   "hash": "a8f61be024eba58adef938c9aa1e29e02cb3dece83a5348b1a2dafd16a070453"
  }
 },
 "nbformat": 4,
 "nbformat_minor": 2
}